{
  "nbformat": 4,
  "nbformat_minor": 0,
  "metadata": {
    "colab": {
      "name": "Turf War Demo",
      "provenance": [],
      "collapsed_sections": [],
      "authorship_tag": "ABX9TyP8fRYwFcG+PeKFLNc5FzeX",
      "include_colab_link": true
    },
    "kernelspec": {
      "name": "python3",
      "display_name": "Python 3"
    },
    "language_info": {
      "name": "python"
    }
  },
  "cells": [
    {
      "cell_type": "markdown",
      "metadata": {
        "id": "view-in-github",
        "colab_type": "text"
      },
      "source": [
        "<a href=\"https://colab.research.google.com/github/HausReport/MightyLogic/blob/master/Notebooks/Turf_War_Demo.ipynb\" target=\"_parent\"><img src=\"https://colab.research.google.com/assets/colab-badge.svg\" alt=\"Open In Colab\"/></a>"
      ]
    },
    {
      "cell_type": "markdown",
      "metadata": {
        "id": "UE1xfjxf97gk"
      },
      "source": [
        "# Hello!"
      ]
    },
    {
      "cell_type": "markdown",
      "metadata": {
        "id": "LDcnjMSD9sP7"
      },
      "source": [
        "If you're seeing this on GitHub, you can open the document on Google by clicking the \"Open in Collab\" button above.  Once this document is open in Google, you can see the interactive content by selecting `Runtime` on the menubar and then `Run All.`\n"
      ]
    },
    {
      "cell_type": "markdown",
      "metadata": {
        "id": "Gj1wyrteq_uS"
      },
      "source": [
        "# Set up environment\n"
      ]
    },
    {
      "cell_type": "code",
      "metadata": {
        "id": "MTNcvrsUHu_T",
        "colab": {
          "base_uri": "https://localhost:8080/"
        },
        "outputId": "acf982d3-9d2b-4fbf-b1bb-ca6fd777235f"
      },
      "source": [
        "import sys\n",
        "# need newer plotly/plotly_express than collab provides?\n",
        "#!{sys.executable} -m pip install --force-reinstall --upgrade \"plotly\"\n",
        "#!{sys.executable} -m pip install --force-reinstall --upgrade \"plotly_express\"\n",
        "\n",
        "#\n",
        "# Moving some of the guts to GitHub and refactoring \n",
        "#\n",
        "!{sys.executable} -m pip install --upgrade --force-reinstall \"git+https://github.com/HausReport/MightyLogic.git#egg=MightyLogic\"\n",
        "\n",
        "#\n",
        "# Imports\n",
        "#\n",
        "from random import randrange\n",
        "from scipy.signal import convolve2d\n",
        "from enum import Enum, auto\n",
        "from pprint import pprint\n",
        "import plotly.figure_factory as ff\n",
        "\n",
        "import numpy as np\n",
        "import pandas as pd\n",
        "import plotly.express as px\n",
        "import plotly.graph_objects as go\n",
        "import math\n",
        "\n",
        "#import sklearn\n",
        "from sklearn.preprocessing import PowerTransformer, QuantileTransformer\n",
        "import numpy as np\n",
        "from sklearn.preprocessing import StandardScaler, scale\n",
        "\n",
        "from MightyLogic.Currency import Currency as Currency\n",
        "from MightyLogic.Values import Values as Values\n",
        "from MightyLogic.TurfWar.Tiles.BuildingFactory import *\n",
        "from MightyLogic.TurfWar.TurfWarMap import TurfWarMap\n",
        "\n",
        "#Values.GOLD"
      ],
      "execution_count": 1,
      "outputs": [
        {
          "output_type": "stream",
          "text": [
            "Collecting MightyLogic\n",
            "  Cloning https://github.com/HausReport/MightyLogic.git to /tmp/pip-install-3oq18wel/mightylogic_692f3239a8c84d41a4d5e10e492d4464\n",
            "  Running command git clone -q https://github.com/HausReport/MightyLogic.git /tmp/pip-install-3oq18wel/mightylogic_692f3239a8c84d41a4d5e10e492d4464\n",
            "Building wheels for collected packages: MightyLogic\n",
            "  Building wheel for MightyLogic (setup.py) ... \u001b[?25l\u001b[?25hdone\n",
            "  Created wheel for MightyLogic: filename=MightyLogic-0.1-py3-none-any.whl size=8203 sha256=3b7940b30a5e599c126a353684df3fb387c0ba71cb516fa3aa9ad2e591cfde93\n",
            "  Stored in directory: /tmp/pip-ephem-wheel-cache-1wep27ab/wheels/84/7a/55/d74e49b550ce0fddb2379db726853920650df706dedea8daae\n",
            "Successfully built MightyLogic\n",
            "Installing collected packages: MightyLogic\n",
            "Successfully installed MightyLogic-0.1\n"
          ],
          "name": "stdout"
        }
      ]
    },
    {
      "cell_type": "markdown",
      "metadata": {
        "id": "NHzAplwa7OjH"
      },
      "source": [
        "# Turf War Demo"
      ]
    },
    {
      "cell_type": "code",
      "metadata": {
        "id": "8J7WUPJLJSFT"
      },
      "source": [
        "\n",
        "#\n",
        "# A Turf War Map\n",
        "#\n",
        "\n",
        "map2 =TurfWarMap()\n",
        "\n",
        "# Use convenience functions to build value array\n",
        "map2.addTile('A',1, mountains(3000,2000))\n",
        "map2.addTile('A',2, forest(3000,0,2000))\n",
        "map2.addTile('A',3, plains(3000, 2000))\n",
        "map2.addTile('A',4, mountains(1600,1000))\n",
        "map2.addTile('A',5, forest(3000,0,2000))\n",
        "map2.addTile('A',6, plains(3000, 2000))\n",
        "\n",
        "map2.addTile('B',1, factory(1650,500,5000))\n",
        "map2.addTile('B',2, mountains(5000,5000))\n",
        "map2.addTile('B',3, lighthouse(3500,300,7000))\n",
        "map2.addTile('B',4, plains(5000,5000))\n",
        "map2.addTile('B',5, mountains(5000,5000))\n",
        "map2.addTile('B',6, gold_mine(90000,500,5000))\n",
        "\n",
        "map2.addTile('C',1, forest(3000,0,2000))\n",
        "map2.addTile('C',2, plains(5000,5000))\n",
        "map2.addTile('C',3, mountains(5000,5000))\n",
        "map2.addTile('C',4, forest(5000,0,5000))\n",
        "map2.addTile('C',5, hells_gate(600,800,8500))\n",
        "map2.addTile('C',6, mountains(3000,2000))\n",
        "\n",
        "map2.addTile('D',1, mountains(3000,2000))\n",
        "map2.addTile('D',2, witch_hut(3500,600, 7000))\n",
        "map2.addTile('D',3, plains(5000,5000))\n",
        "map2.addTile('D',4, altar(600,800,8500))\n",
        "map2.addTile('D',5, forest(5000,0,5000))\n",
        "map2.addTile('D',6, lighthouse(2000, 400, 5000))\n",
        "\n",
        "map2.addTile('E',1, plains(3000, 2000))\n",
        "map2.addTile('E',2, mountains(3000,2000))\n",
        "map2.addTile('E',3, forest(3000,0,2000))\n",
        "map2.addTile('E',4, plains(3000, 2000))\n",
        "map2.addTile('E',5, mountains(3000,2000))\n",
        "map2.addTile('E',6, forest(3000,0,2000))\n",
        "\n",
        "\n",
        "# Payout array\n",
        "image = map2.getValues()\n",
        "res = map2.stagingScores()\n",
        "#pprint(image)"
      ],
      "execution_count": 2,
      "outputs": []
    },
    {
      "cell_type": "code",
      "metadata": {
        "id": "_9FUCcqyupZM"
      },
      "source": [
        "#\n",
        "# An approach that shows well-labeled heatmaps.\n",
        "#\n",
        "\n",
        "def get_heatmap(arr, title, round=True):\n",
        "  flip = np.flip( np.array(arr), axis=0)  # use numpy to flip array vertically\n",
        "  z = flip\n",
        "  if round:\n",
        "    z = z.round()\n",
        "\n",
        "  x = ['1', '2', '3', '4','5','6']\n",
        "  y = ['E','D','C','B','A']\n",
        "\n",
        "  #z_text = [\"%.0f\" % number for number in z] - doesn't work\n",
        "\n",
        "  if round:\n",
        "    z_text = flip.round( decimals=-1)\n",
        "  else:\n",
        "    z_text = flip.round( decimals=3)\n",
        "  # Possible to build up z_text to make it more friendly\n",
        "  # z_text = [['Win', 'Lose', 'Win'],\n",
        "  #          ['Lose', 'Lose', 'Win'],\n",
        "  #          ['Win', 'Win', 'Lose']]\n",
        "\n",
        "  fig = ff.create_annotated_heatmap(z, x=x, y=y, annotation_text=z_text, colorscale='Viridis')\n",
        "  fig.update_layout(title=title, autosize=False,\n",
        "                  width=500, height=500,\n",
        "                  margin=dict(l=65, r=50, b=65, t=90))\n",
        "  return fig #fig.show()\n",
        "\n"
      ],
      "execution_count": 3,
      "outputs": []
    },
    {
      "cell_type": "code",
      "metadata": {
        "colab": {
          "base_uri": "https://localhost:8080/",
          "height": 204
        },
        "id": "MrnaLh-530is",
        "outputId": "888f5828-94d2-4e73-cc97-8195d25423e4"
      },
      "source": [
        "#\n",
        "# The payout array can be accessed as a Pandas dataframe.\n",
        "#\n",
        "payout = map2.getDataFrame()\n",
        "payout"
      ],
      "execution_count": 4,
      "outputs": [
        {
          "output_type": "execute_result",
          "data": {
            "text/html": [
              "<div>\n",
              "<style scoped>\n",
              "    .dataframe tbody tr th:only-of-type {\n",
              "        vertical-align: middle;\n",
              "    }\n",
              "\n",
              "    .dataframe tbody tr th {\n",
              "        vertical-align: top;\n",
              "    }\n",
              "\n",
              "    .dataframe thead th {\n",
              "        text-align: right;\n",
              "    }\n",
              "</style>\n",
              "<table border=\"1\" class=\"dataframe\">\n",
              "  <thead>\n",
              "    <tr style=\"text-align: right;\">\n",
              "      <th></th>\n",
              "      <th>1</th>\n",
              "      <th>2</th>\n",
              "      <th>3</th>\n",
              "      <th>4</th>\n",
              "      <th>5</th>\n",
              "      <th>6</th>\n",
              "    </tr>\n",
              "  </thead>\n",
              "  <tbody>\n",
              "    <tr>\n",
              "      <th>A</th>\n",
              "      <td>30003.0</td>\n",
              "      <td>30003.0</td>\n",
              "      <td>30003.0</td>\n",
              "      <td>15001.6</td>\n",
              "      <td>30003.0</td>\n",
              "      <td>30003.0</td>\n",
              "    </tr>\n",
              "    <tr>\n",
              "      <th>B</th>\n",
              "      <td>82582.5</td>\n",
              "      <td>75005.0</td>\n",
              "      <td>109535.0</td>\n",
              "      <td>75005.0</td>\n",
              "      <td>75005.0</td>\n",
              "      <td>136500.0</td>\n",
              "    </tr>\n",
              "    <tr>\n",
              "      <th>C</th>\n",
              "      <td>30003.0</td>\n",
              "      <td>75005.0</td>\n",
              "      <td>75005.0</td>\n",
              "      <td>75005.0</td>\n",
              "      <td>139560.0</td>\n",
              "      <td>30003.0</td>\n",
              "    </tr>\n",
              "    <tr>\n",
              "      <th>D</th>\n",
              "      <td>30003.0</td>\n",
              "      <td>114035.0</td>\n",
              "      <td>75005.0</td>\n",
              "      <td>139560.0</td>\n",
              "      <td>75005.0</td>\n",
              "      <td>81020.0</td>\n",
              "    </tr>\n",
              "    <tr>\n",
              "      <th>E</th>\n",
              "      <td>30003.0</td>\n",
              "      <td>30003.0</td>\n",
              "      <td>30003.0</td>\n",
              "      <td>30003.0</td>\n",
              "      <td>30003.0</td>\n",
              "      <td>30003.0</td>\n",
              "    </tr>\n",
              "  </tbody>\n",
              "</table>\n",
              "</div>"
            ],
            "text/plain": [
              "         1         2         3         4         5         6\n",
              "A  30003.0   30003.0   30003.0   15001.6   30003.0   30003.0\n",
              "B  82582.5   75005.0  109535.0   75005.0   75005.0  136500.0\n",
              "C  30003.0   75005.0   75005.0   75005.0  139560.0   30003.0\n",
              "D  30003.0  114035.0   75005.0  139560.0   75005.0   81020.0\n",
              "E  30003.0   30003.0   30003.0   30003.0   30003.0   30003.0"
            ]
          },
          "metadata": {
            "tags": []
          },
          "execution_count": 4
        }
      ]
    },
    {
      "cell_type": "code",
      "metadata": {
        "colab": {
          "base_uri": "https://localhost:8080/",
          "height": 204
        },
        "id": "b2zrL3xnagB3",
        "outputId": "a39bce46-9ccd-44b6-d290-d7c3025b7760"
      },
      "source": [
        "#\n",
        "# The staging array can be accessed as a Pandas dataframe.\n",
        "#\n",
        "staging =map2.getStrategicDataFrame()\n",
        "staging"
      ],
      "execution_count": 5,
      "outputs": [
        {
          "output_type": "execute_result",
          "data": {
            "text/html": [
              "<div>\n",
              "<style scoped>\n",
              "    .dataframe tbody tr th:only-of-type {\n",
              "        vertical-align: middle;\n",
              "    }\n",
              "\n",
              "    .dataframe tbody tr th {\n",
              "        vertical-align: top;\n",
              "    }\n",
              "\n",
              "    .dataframe thead th {\n",
              "        text-align: right;\n",
              "    }\n",
              "</style>\n",
              "<table border=\"1\" class=\"dataframe\">\n",
              "  <thead>\n",
              "    <tr style=\"text-align: right;\">\n",
              "      <th></th>\n",
              "      <th>1</th>\n",
              "      <th>2</th>\n",
              "      <th>3</th>\n",
              "      <th>4</th>\n",
              "      <th>5</th>\n",
              "      <th>6</th>\n",
              "    </tr>\n",
              "  </thead>\n",
              "  <tbody>\n",
              "    <tr>\n",
              "      <th>A</th>\n",
              "      <td>79.767369</td>\n",
              "      <td>0.000000</td>\n",
              "      <td>51.275865</td>\n",
              "      <td>0.000000</td>\n",
              "      <td>12.373764</td>\n",
              "      <td>61.782278</td>\n",
              "    </tr>\n",
              "    <tr>\n",
              "      <th>B</th>\n",
              "      <td>0.000000</td>\n",
              "      <td>121.035331</td>\n",
              "      <td>0.000000</td>\n",
              "      <td>65.405625</td>\n",
              "      <td>99.132865</td>\n",
              "      <td>0.000000</td>\n",
              "    </tr>\n",
              "    <tr>\n",
              "      <th>C</th>\n",
              "      <td>79.767369</td>\n",
              "      <td>81.720436</td>\n",
              "      <td>70.403210</td>\n",
              "      <td>130.893111</td>\n",
              "      <td>0.000000</td>\n",
              "      <td>139.174832</td>\n",
              "    </tr>\n",
              "    <tr>\n",
              "      <th>D</th>\n",
              "      <td>108.361429</td>\n",
              "      <td>0.000000</td>\n",
              "      <td>131.633495</td>\n",
              "      <td>0.000000</td>\n",
              "      <td>121.853415</td>\n",
              "      <td>0.000000</td>\n",
              "    </tr>\n",
              "    <tr>\n",
              "      <th>E</th>\n",
              "      <td>0.000000</td>\n",
              "      <td>59.061723</td>\n",
              "      <td>0.000000</td>\n",
              "      <td>59.622059</td>\n",
              "      <td>12.373764</td>\n",
              "      <td>42.316601</td>\n",
              "    </tr>\n",
              "  </tbody>\n",
              "</table>\n",
              "</div>"
            ],
            "text/plain": [
              "            1           2           3           4           5           6\n",
              "A   79.767369    0.000000   51.275865    0.000000   12.373764   61.782278\n",
              "B    0.000000  121.035331    0.000000   65.405625   99.132865    0.000000\n",
              "C   79.767369   81.720436   70.403210  130.893111    0.000000  139.174832\n",
              "D  108.361429    0.000000  131.633495    0.000000  121.853415    0.000000\n",
              "E    0.000000   59.061723    0.000000   59.622059   12.373764   42.316601"
            ]
          },
          "metadata": {
            "tags": []
          },
          "execution_count": 5
        }
      ]
    },
    {
      "cell_type": "code",
      "metadata": {
        "colab": {
          "base_uri": "https://localhost:8080/",
          "height": 1000
        },
        "id": "_XqgHoPg3cDi",
        "outputId": "6d6eb3d3-2d2e-4ae0-b2a0-a3f0da812407"
      },
      "source": [
        "#\n",
        "# Heatmaps show the best tiles for payout round and non-payout rounds.\n",
        "#\n",
        "\n",
        "\n",
        "fig1 = get_heatmap(image,\"Payout Values for 3rd Rounds\")\n",
        "fig2 = get_heatmap(res,\"Strategic Values for Non-Payout Rounds\")\n",
        "\n",
        "fig1.show()\n",
        "fig2.show()"
      ],
      "execution_count": 6,
      "outputs": [
        {
          "output_type": "display_data",
          "data": {
            "text/html": [
              "<html>\n",
              "<head><meta charset=\"utf-8\" /></head>\n",
              "<body>\n",
              "    <div>\n",
              "            <script src=\"https://cdnjs.cloudflare.com/ajax/libs/mathjax/2.7.5/MathJax.js?config=TeX-AMS-MML_SVG\"></script><script type=\"text/javascript\">if (window.MathJax) {MathJax.Hub.Config({SVG: {font: \"STIX-Web\"}});}</script>\n",
              "                <script type=\"text/javascript\">window.PlotlyConfig = {MathJaxConfig: 'local'};</script>\n",
              "        <script src=\"https://cdn.plot.ly/plotly-latest.min.js\"></script>    \n",
              "            <div id=\"7e98f787-8347-438a-bcd6-717c06374dcc\" class=\"plotly-graph-div\" style=\"height:500px; width:500px;\"></div>\n",
              "            <script type=\"text/javascript\">\n",
              "                \n",
              "                    window.PLOTLYENV=window.PLOTLYENV || {};\n",
              "                    \n",
              "                if (document.getElementById(\"7e98f787-8347-438a-bcd6-717c06374dcc\")) {\n",
              "                    Plotly.newPlot(\n",
              "                        '7e98f787-8347-438a-bcd6-717c06374dcc',\n",
              "                        [{\"colorscale\": [[0.0, \"#440154\"], [0.1111111111111111, \"#482878\"], [0.2222222222222222, \"#3e4989\"], [0.3333333333333333, \"#31688e\"], [0.4444444444444444, \"#26828e\"], [0.5555555555555556, \"#1f9e89\"], [0.6666666666666666, \"#35b779\"], [0.7777777777777778, \"#6ece58\"], [0.8888888888888888, \"#b5de2b\"], [1.0, \"#fde725\"]], \"reversescale\": false, \"showscale\": false, \"type\": \"heatmap\", \"x\": [\"1\", \"2\", \"3\", \"4\", \"5\", \"6\"], \"y\": [\"E\", \"D\", \"C\", \"B\", \"A\"], \"z\": [[30003.0, 30003.0, 30003.0, 30003.0, 30003.0, 30003.0], [30003.0, 114035.0, 75005.0, 139560.0, 75005.0, 81020.0], [30003.0, 75005.0, 75005.0, 75005.0, 139560.0, 30003.0], [82582.0, 75005.0, 109535.0, 75005.0, 75005.0, 136500.0], [30003.0, 30003.0, 30003.0, 15002.0, 30003.0, 30003.0]]}],\n",
              "                        {\"annotations\": [{\"font\": {\"color\": \"#FFFFFF\"}, \"showarrow\": false, \"text\": \"30000.0\", \"x\": \"1\", \"xref\": \"x\", \"y\": \"E\", \"yref\": \"y\"}, {\"font\": {\"color\": \"#FFFFFF\"}, \"showarrow\": false, \"text\": \"30000.0\", \"x\": \"2\", \"xref\": \"x\", \"y\": \"E\", \"yref\": \"y\"}, {\"font\": {\"color\": \"#FFFFFF\"}, \"showarrow\": false, \"text\": \"30000.0\", \"x\": \"3\", \"xref\": \"x\", \"y\": \"E\", \"yref\": \"y\"}, {\"font\": {\"color\": \"#FFFFFF\"}, \"showarrow\": false, \"text\": \"30000.0\", \"x\": \"4\", \"xref\": \"x\", \"y\": \"E\", \"yref\": \"y\"}, {\"font\": {\"color\": \"#FFFFFF\"}, \"showarrow\": false, \"text\": \"30000.0\", \"x\": \"5\", \"xref\": \"x\", \"y\": \"E\", \"yref\": \"y\"}, {\"font\": {\"color\": \"#FFFFFF\"}, \"showarrow\": false, \"text\": \"30000.0\", \"x\": \"6\", \"xref\": \"x\", \"y\": \"E\", \"yref\": \"y\"}, {\"font\": {\"color\": \"#FFFFFF\"}, \"showarrow\": false, \"text\": \"30000.0\", \"x\": \"1\", \"xref\": \"x\", \"y\": \"D\", \"yref\": \"y\"}, {\"font\": {\"color\": \"#000000\"}, \"showarrow\": false, \"text\": \"114040.0\", \"x\": \"2\", \"xref\": \"x\", \"y\": \"D\", \"yref\": \"y\"}, {\"font\": {\"color\": \"#FFFFFF\"}, \"showarrow\": false, \"text\": \"75000.0\", \"x\": \"3\", \"xref\": \"x\", \"y\": \"D\", \"yref\": \"y\"}, {\"font\": {\"color\": \"#000000\"}, \"showarrow\": false, \"text\": \"139560.0\", \"x\": \"4\", \"xref\": \"x\", \"y\": \"D\", \"yref\": \"y\"}, {\"font\": {\"color\": \"#FFFFFF\"}, \"showarrow\": false, \"text\": \"75000.0\", \"x\": \"5\", \"xref\": \"x\", \"y\": \"D\", \"yref\": \"y\"}, {\"font\": {\"color\": \"#000000\"}, \"showarrow\": false, \"text\": \"81020.0\", \"x\": \"6\", \"xref\": \"x\", \"y\": \"D\", \"yref\": \"y\"}, {\"font\": {\"color\": \"#FFFFFF\"}, \"showarrow\": false, \"text\": \"30000.0\", \"x\": \"1\", \"xref\": \"x\", \"y\": \"C\", \"yref\": \"y\"}, {\"font\": {\"color\": \"#FFFFFF\"}, \"showarrow\": false, \"text\": \"75000.0\", \"x\": \"2\", \"xref\": \"x\", \"y\": \"C\", \"yref\": \"y\"}, {\"font\": {\"color\": \"#FFFFFF\"}, \"showarrow\": false, \"text\": \"75000.0\", \"x\": \"3\", \"xref\": \"x\", \"y\": \"C\", \"yref\": \"y\"}, {\"font\": {\"color\": \"#FFFFFF\"}, \"showarrow\": false, \"text\": \"75000.0\", \"x\": \"4\", \"xref\": \"x\", \"y\": \"C\", \"yref\": \"y\"}, {\"font\": {\"color\": \"#000000\"}, \"showarrow\": false, \"text\": \"139560.0\", \"x\": \"5\", \"xref\": \"x\", \"y\": \"C\", \"yref\": \"y\"}, {\"font\": {\"color\": \"#FFFFFF\"}, \"showarrow\": false, \"text\": \"30000.0\", \"x\": \"6\", \"xref\": \"x\", \"y\": \"C\", \"yref\": \"y\"}, {\"font\": {\"color\": \"#000000\"}, \"showarrow\": false, \"text\": \"82580.0\", \"x\": \"1\", \"xref\": \"x\", \"y\": \"B\", \"yref\": \"y\"}, {\"font\": {\"color\": \"#FFFFFF\"}, \"showarrow\": false, \"text\": \"75000.0\", \"x\": \"2\", \"xref\": \"x\", \"y\": \"B\", \"yref\": \"y\"}, {\"font\": {\"color\": \"#000000\"}, \"showarrow\": false, \"text\": \"109540.0\", \"x\": \"3\", \"xref\": \"x\", \"y\": \"B\", \"yref\": \"y\"}, {\"font\": {\"color\": \"#FFFFFF\"}, \"showarrow\": false, \"text\": \"75000.0\", \"x\": \"4\", \"xref\": \"x\", \"y\": \"B\", \"yref\": \"y\"}, {\"font\": {\"color\": \"#FFFFFF\"}, \"showarrow\": false, \"text\": \"75000.0\", \"x\": \"5\", \"xref\": \"x\", \"y\": \"B\", \"yref\": \"y\"}, {\"font\": {\"color\": \"#000000\"}, \"showarrow\": false, \"text\": \"136500.0\", \"x\": \"6\", \"xref\": \"x\", \"y\": \"B\", \"yref\": \"y\"}, {\"font\": {\"color\": \"#FFFFFF\"}, \"showarrow\": false, \"text\": \"30000.0\", \"x\": \"1\", \"xref\": \"x\", \"y\": \"A\", \"yref\": \"y\"}, {\"font\": {\"color\": \"#FFFFFF\"}, \"showarrow\": false, \"text\": \"30000.0\", \"x\": \"2\", \"xref\": \"x\", \"y\": \"A\", \"yref\": \"y\"}, {\"font\": {\"color\": \"#FFFFFF\"}, \"showarrow\": false, \"text\": \"30000.0\", \"x\": \"3\", \"xref\": \"x\", \"y\": \"A\", \"yref\": \"y\"}, {\"font\": {\"color\": \"#FFFFFF\"}, \"showarrow\": false, \"text\": \"15000.0\", \"x\": \"4\", \"xref\": \"x\", \"y\": \"A\", \"yref\": \"y\"}, {\"font\": {\"color\": \"#FFFFFF\"}, \"showarrow\": false, \"text\": \"30000.0\", \"x\": \"5\", \"xref\": \"x\", \"y\": \"A\", \"yref\": \"y\"}, {\"font\": {\"color\": \"#FFFFFF\"}, \"showarrow\": false, \"text\": \"30000.0\", \"x\": \"6\", \"xref\": \"x\", \"y\": \"A\", \"yref\": \"y\"}], \"autosize\": false, \"height\": 500, \"margin\": {\"b\": 65, \"l\": 65, \"r\": 50, \"t\": 90}, \"template\": {\"data\": {\"bar\": [{\"error_x\": {\"color\": \"#2a3f5f\"}, \"error_y\": {\"color\": \"#2a3f5f\"}, \"marker\": {\"line\": {\"color\": \"#E5ECF6\", \"width\": 0.5}}, \"type\": \"bar\"}], \"barpolar\": [{\"marker\": {\"line\": {\"color\": \"#E5ECF6\", \"width\": 0.5}}, \"type\": \"barpolar\"}], \"carpet\": [{\"aaxis\": {\"endlinecolor\": \"#2a3f5f\", \"gridcolor\": \"white\", \"linecolor\": \"white\", \"minorgridcolor\": \"white\", \"startlinecolor\": \"#2a3f5f\"}, \"baxis\": {\"endlinecolor\": \"#2a3f5f\", \"gridcolor\": \"white\", \"linecolor\": \"white\", \"minorgridcolor\": \"white\", \"startlinecolor\": \"#2a3f5f\"}, \"type\": \"carpet\"}], \"choropleth\": [{\"colorbar\": {\"outlinewidth\": 0, \"ticks\": \"\"}, \"type\": \"choropleth\"}], \"contour\": [{\"colorbar\": {\"outlinewidth\": 0, \"ticks\": \"\"}, \"colorscale\": [[0.0, \"#0d0887\"], [0.1111111111111111, \"#46039f\"], [0.2222222222222222, \"#7201a8\"], [0.3333333333333333, \"#9c179e\"], [0.4444444444444444, \"#bd3786\"], [0.5555555555555556, \"#d8576b\"], [0.6666666666666666, \"#ed7953\"], [0.7777777777777778, \"#fb9f3a\"], [0.8888888888888888, \"#fdca26\"], [1.0, \"#f0f921\"]], \"type\": \"contour\"}], \"contourcarpet\": [{\"colorbar\": {\"outlinewidth\": 0, \"ticks\": \"\"}, \"type\": \"contourcarpet\"}], \"heatmap\": [{\"colorbar\": {\"outlinewidth\": 0, \"ticks\": \"\"}, \"colorscale\": [[0.0, \"#0d0887\"], [0.1111111111111111, \"#46039f\"], [0.2222222222222222, \"#7201a8\"], [0.3333333333333333, \"#9c179e\"], [0.4444444444444444, \"#bd3786\"], [0.5555555555555556, \"#d8576b\"], [0.6666666666666666, \"#ed7953\"], [0.7777777777777778, \"#fb9f3a\"], [0.8888888888888888, \"#fdca26\"], [1.0, \"#f0f921\"]], \"type\": \"heatmap\"}], \"heatmapgl\": [{\"colorbar\": {\"outlinewidth\": 0, \"ticks\": \"\"}, \"colorscale\": [[0.0, \"#0d0887\"], [0.1111111111111111, \"#46039f\"], [0.2222222222222222, \"#7201a8\"], [0.3333333333333333, \"#9c179e\"], [0.4444444444444444, \"#bd3786\"], [0.5555555555555556, \"#d8576b\"], [0.6666666666666666, \"#ed7953\"], [0.7777777777777778, \"#fb9f3a\"], [0.8888888888888888, \"#fdca26\"], [1.0, \"#f0f921\"]], \"type\": \"heatmapgl\"}], \"histogram\": [{\"marker\": {\"colorbar\": {\"outlinewidth\": 0, \"ticks\": \"\"}}, \"type\": \"histogram\"}], \"histogram2d\": [{\"colorbar\": {\"outlinewidth\": 0, \"ticks\": \"\"}, \"colorscale\": [[0.0, \"#0d0887\"], [0.1111111111111111, \"#46039f\"], [0.2222222222222222, \"#7201a8\"], [0.3333333333333333, \"#9c179e\"], [0.4444444444444444, \"#bd3786\"], [0.5555555555555556, \"#d8576b\"], [0.6666666666666666, \"#ed7953\"], [0.7777777777777778, \"#fb9f3a\"], [0.8888888888888888, \"#fdca26\"], [1.0, \"#f0f921\"]], \"type\": \"histogram2d\"}], \"histogram2dcontour\": [{\"colorbar\": {\"outlinewidth\": 0, \"ticks\": \"\"}, \"colorscale\": [[0.0, \"#0d0887\"], [0.1111111111111111, \"#46039f\"], [0.2222222222222222, \"#7201a8\"], [0.3333333333333333, \"#9c179e\"], [0.4444444444444444, \"#bd3786\"], [0.5555555555555556, \"#d8576b\"], [0.6666666666666666, \"#ed7953\"], [0.7777777777777778, \"#fb9f3a\"], [0.8888888888888888, \"#fdca26\"], [1.0, \"#f0f921\"]], \"type\": \"histogram2dcontour\"}], \"mesh3d\": [{\"colorbar\": {\"outlinewidth\": 0, \"ticks\": \"\"}, \"type\": \"mesh3d\"}], \"parcoords\": [{\"line\": {\"colorbar\": {\"outlinewidth\": 0, \"ticks\": \"\"}}, \"type\": \"parcoords\"}], \"pie\": [{\"automargin\": true, \"type\": \"pie\"}], \"scatter\": [{\"marker\": {\"colorbar\": {\"outlinewidth\": 0, \"ticks\": \"\"}}, \"type\": \"scatter\"}], \"scatter3d\": [{\"line\": {\"colorbar\": {\"outlinewidth\": 0, \"ticks\": \"\"}}, \"marker\": {\"colorbar\": {\"outlinewidth\": 0, \"ticks\": \"\"}}, \"type\": \"scatter3d\"}], \"scattercarpet\": [{\"marker\": {\"colorbar\": {\"outlinewidth\": 0, \"ticks\": \"\"}}, \"type\": \"scattercarpet\"}], \"scattergeo\": [{\"marker\": {\"colorbar\": {\"outlinewidth\": 0, \"ticks\": \"\"}}, \"type\": \"scattergeo\"}], \"scattergl\": [{\"marker\": {\"colorbar\": {\"outlinewidth\": 0, \"ticks\": \"\"}}, \"type\": \"scattergl\"}], \"scattermapbox\": [{\"marker\": {\"colorbar\": {\"outlinewidth\": 0, \"ticks\": \"\"}}, \"type\": \"scattermapbox\"}], \"scatterpolar\": [{\"marker\": {\"colorbar\": {\"outlinewidth\": 0, \"ticks\": \"\"}}, \"type\": \"scatterpolar\"}], \"scatterpolargl\": [{\"marker\": {\"colorbar\": {\"outlinewidth\": 0, \"ticks\": \"\"}}, \"type\": \"scatterpolargl\"}], \"scatterternary\": [{\"marker\": {\"colorbar\": {\"outlinewidth\": 0, \"ticks\": \"\"}}, \"type\": \"scatterternary\"}], \"surface\": [{\"colorbar\": {\"outlinewidth\": 0, \"ticks\": \"\"}, \"colorscale\": [[0.0, \"#0d0887\"], [0.1111111111111111, \"#46039f\"], [0.2222222222222222, \"#7201a8\"], [0.3333333333333333, \"#9c179e\"], [0.4444444444444444, \"#bd3786\"], [0.5555555555555556, \"#d8576b\"], [0.6666666666666666, \"#ed7953\"], [0.7777777777777778, \"#fb9f3a\"], [0.8888888888888888, \"#fdca26\"], [1.0, \"#f0f921\"]], \"type\": \"surface\"}], \"table\": [{\"cells\": {\"fill\": {\"color\": \"#EBF0F8\"}, \"line\": {\"color\": \"white\"}}, \"header\": {\"fill\": {\"color\": \"#C8D4E3\"}, \"line\": {\"color\": \"white\"}}, \"type\": \"table\"}]}, \"layout\": {\"annotationdefaults\": {\"arrowcolor\": \"#2a3f5f\", \"arrowhead\": 0, \"arrowwidth\": 1}, \"coloraxis\": {\"colorbar\": {\"outlinewidth\": 0, \"ticks\": \"\"}}, \"colorscale\": {\"diverging\": [[0, \"#8e0152\"], [0.1, \"#c51b7d\"], [0.2, \"#de77ae\"], [0.3, \"#f1b6da\"], [0.4, \"#fde0ef\"], [0.5, \"#f7f7f7\"], [0.6, \"#e6f5d0\"], [0.7, \"#b8e186\"], [0.8, \"#7fbc41\"], [0.9, \"#4d9221\"], [1, \"#276419\"]], \"sequential\": [[0.0, \"#0d0887\"], [0.1111111111111111, \"#46039f\"], [0.2222222222222222, \"#7201a8\"], [0.3333333333333333, \"#9c179e\"], [0.4444444444444444, \"#bd3786\"], [0.5555555555555556, \"#d8576b\"], [0.6666666666666666, \"#ed7953\"], [0.7777777777777778, \"#fb9f3a\"], [0.8888888888888888, \"#fdca26\"], [1.0, \"#f0f921\"]], \"sequentialminus\": [[0.0, \"#0d0887\"], [0.1111111111111111, \"#46039f\"], [0.2222222222222222, \"#7201a8\"], [0.3333333333333333, \"#9c179e\"], [0.4444444444444444, \"#bd3786\"], [0.5555555555555556, \"#d8576b\"], [0.6666666666666666, \"#ed7953\"], [0.7777777777777778, \"#fb9f3a\"], [0.8888888888888888, \"#fdca26\"], [1.0, \"#f0f921\"]]}, \"colorway\": [\"#636efa\", \"#EF553B\", \"#00cc96\", \"#ab63fa\", \"#FFA15A\", \"#19d3f3\", \"#FF6692\", \"#B6E880\", \"#FF97FF\", \"#FECB52\"], \"font\": {\"color\": \"#2a3f5f\"}, \"geo\": {\"bgcolor\": \"white\", \"lakecolor\": \"white\", \"landcolor\": \"#E5ECF6\", \"showlakes\": true, \"showland\": true, \"subunitcolor\": \"white\"}, \"hoverlabel\": {\"align\": \"left\"}, \"hovermode\": \"closest\", \"mapbox\": {\"style\": \"light\"}, \"paper_bgcolor\": \"white\", \"plot_bgcolor\": \"#E5ECF6\", \"polar\": {\"angularaxis\": {\"gridcolor\": \"white\", \"linecolor\": \"white\", \"ticks\": \"\"}, \"bgcolor\": \"#E5ECF6\", \"radialaxis\": {\"gridcolor\": \"white\", \"linecolor\": \"white\", \"ticks\": \"\"}}, \"scene\": {\"xaxis\": {\"backgroundcolor\": \"#E5ECF6\", \"gridcolor\": \"white\", \"gridwidth\": 2, \"linecolor\": \"white\", \"showbackground\": true, \"ticks\": \"\", \"zerolinecolor\": \"white\"}, \"yaxis\": {\"backgroundcolor\": \"#E5ECF6\", \"gridcolor\": \"white\", \"gridwidth\": 2, \"linecolor\": \"white\", \"showbackground\": true, \"ticks\": \"\", \"zerolinecolor\": \"white\"}, \"zaxis\": {\"backgroundcolor\": \"#E5ECF6\", \"gridcolor\": \"white\", \"gridwidth\": 2, \"linecolor\": \"white\", \"showbackground\": true, \"ticks\": \"\", \"zerolinecolor\": \"white\"}}, \"shapedefaults\": {\"line\": {\"color\": \"#2a3f5f\"}}, \"ternary\": {\"aaxis\": {\"gridcolor\": \"white\", \"linecolor\": \"white\", \"ticks\": \"\"}, \"baxis\": {\"gridcolor\": \"white\", \"linecolor\": \"white\", \"ticks\": \"\"}, \"bgcolor\": \"#E5ECF6\", \"caxis\": {\"gridcolor\": \"white\", \"linecolor\": \"white\", \"ticks\": \"\"}}, \"title\": {\"x\": 0.05}, \"xaxis\": {\"automargin\": true, \"gridcolor\": \"white\", \"linecolor\": \"white\", \"ticks\": \"\", \"title\": {\"standoff\": 15}, \"zerolinecolor\": \"white\", \"zerolinewidth\": 2}, \"yaxis\": {\"automargin\": true, \"gridcolor\": \"white\", \"linecolor\": \"white\", \"ticks\": \"\", \"title\": {\"standoff\": 15}, \"zerolinecolor\": \"white\", \"zerolinewidth\": 2}}}, \"title\": {\"text\": \"Payout Values for 3rd Rounds\"}, \"width\": 500, \"xaxis\": {\"dtick\": 1, \"gridcolor\": \"rgb(0, 0, 0)\", \"side\": \"top\", \"ticks\": \"\"}, \"yaxis\": {\"dtick\": 1, \"ticks\": \"\", \"ticksuffix\": \"  \"}},\n",
              "                        {\"responsive\": true}\n",
              "                    ).then(function(){\n",
              "                            \n",
              "var gd = document.getElementById('7e98f787-8347-438a-bcd6-717c06374dcc');\n",
              "var x = new MutationObserver(function (mutations, observer) {{\n",
              "        var display = window.getComputedStyle(gd).display;\n",
              "        if (!display || display === 'none') {{\n",
              "            console.log([gd, 'removed!']);\n",
              "            Plotly.purge(gd);\n",
              "            observer.disconnect();\n",
              "        }}\n",
              "}});\n",
              "\n",
              "// Listen for the removal of the full notebook cells\n",
              "var notebookContainer = gd.closest('#notebook-container');\n",
              "if (notebookContainer) {{\n",
              "    x.observe(notebookContainer, {childList: true});\n",
              "}}\n",
              "\n",
              "// Listen for the clearing of the current output cell\n",
              "var outputEl = gd.closest('.output');\n",
              "if (outputEl) {{\n",
              "    x.observe(outputEl, {childList: true});\n",
              "}}\n",
              "\n",
              "                        })\n",
              "                };\n",
              "                \n",
              "            </script>\n",
              "        </div>\n",
              "</body>\n",
              "</html>"
            ]
          },
          "metadata": {
            "tags": []
          }
        },
        {
          "output_type": "display_data",
          "data": {
            "text/html": [
              "<html>\n",
              "<head><meta charset=\"utf-8\" /></head>\n",
              "<body>\n",
              "    <div>\n",
              "            <script src=\"https://cdnjs.cloudflare.com/ajax/libs/mathjax/2.7.5/MathJax.js?config=TeX-AMS-MML_SVG\"></script><script type=\"text/javascript\">if (window.MathJax) {MathJax.Hub.Config({SVG: {font: \"STIX-Web\"}});}</script>\n",
              "                <script type=\"text/javascript\">window.PlotlyConfig = {MathJaxConfig: 'local'};</script>\n",
              "        <script src=\"https://cdn.plot.ly/plotly-latest.min.js\"></script>    \n",
              "            <div id=\"38e77f09-9593-4ffd-8f89-efc7a0a15130\" class=\"plotly-graph-div\" style=\"height:500px; width:500px;\"></div>\n",
              "            <script type=\"text/javascript\">\n",
              "                \n",
              "                    window.PLOTLYENV=window.PLOTLYENV || {};\n",
              "                    \n",
              "                if (document.getElementById(\"38e77f09-9593-4ffd-8f89-efc7a0a15130\")) {\n",
              "                    Plotly.newPlot(\n",
              "                        '38e77f09-9593-4ffd-8f89-efc7a0a15130',\n",
              "                        [{\"colorscale\": [[0.0, \"#440154\"], [0.1111111111111111, \"#482878\"], [0.2222222222222222, \"#3e4989\"], [0.3333333333333333, \"#31688e\"], [0.4444444444444444, \"#26828e\"], [0.5555555555555556, \"#1f9e89\"], [0.6666666666666666, \"#35b779\"], [0.7777777777777778, \"#6ece58\"], [0.8888888888888888, \"#b5de2b\"], [1.0, \"#fde725\"]], \"reversescale\": false, \"showscale\": false, \"type\": \"heatmap\", \"x\": [\"1\", \"2\", \"3\", \"4\", \"5\", \"6\"], \"y\": [\"E\", \"D\", \"C\", \"B\", \"A\"], \"z\": [[0.0, 59.0, 0.0, 60.0, 12.0, 42.0], [108.0, 0.0, 132.0, 0.0, 122.0, 0.0], [80.0, 82.0, 70.0, 131.0, 0.0, 139.0], [0.0, 121.0, 0.0, 65.0, 99.0, 0.0], [80.0, 0.0, 51.0, 0.0, 12.0, 62.0]]}],\n",
              "                        {\"annotations\": [{\"font\": {\"color\": \"#FFFFFF\"}, \"showarrow\": false, \"text\": \"0.0\", \"x\": \"1\", \"xref\": \"x\", \"y\": \"E\", \"yref\": \"y\"}, {\"font\": {\"color\": \"#FFFFFF\"}, \"showarrow\": false, \"text\": \"60.0\", \"x\": \"2\", \"xref\": \"x\", \"y\": \"E\", \"yref\": \"y\"}, {\"font\": {\"color\": \"#FFFFFF\"}, \"showarrow\": false, \"text\": \"0.0\", \"x\": \"3\", \"xref\": \"x\", \"y\": \"E\", \"yref\": \"y\"}, {\"font\": {\"color\": \"#FFFFFF\"}, \"showarrow\": false, \"text\": \"60.0\", \"x\": \"4\", \"xref\": \"x\", \"y\": \"E\", \"yref\": \"y\"}, {\"font\": {\"color\": \"#FFFFFF\"}, \"showarrow\": false, \"text\": \"10.0\", \"x\": \"5\", \"xref\": \"x\", \"y\": \"E\", \"yref\": \"y\"}, {\"font\": {\"color\": \"#FFFFFF\"}, \"showarrow\": false, \"text\": \"40.0\", \"x\": \"6\", \"xref\": \"x\", \"y\": \"E\", \"yref\": \"y\"}, {\"font\": {\"color\": \"#000000\"}, \"showarrow\": false, \"text\": \"110.0\", \"x\": \"1\", \"xref\": \"x\", \"y\": \"D\", \"yref\": \"y\"}, {\"font\": {\"color\": \"#FFFFFF\"}, \"showarrow\": false, \"text\": \"0.0\", \"x\": \"2\", \"xref\": \"x\", \"y\": \"D\", \"yref\": \"y\"}, {\"font\": {\"color\": \"#000000\"}, \"showarrow\": false, \"text\": \"130.0\", \"x\": \"3\", \"xref\": \"x\", \"y\": \"D\", \"yref\": \"y\"}, {\"font\": {\"color\": \"#FFFFFF\"}, \"showarrow\": false, \"text\": \"0.0\", \"x\": \"4\", \"xref\": \"x\", \"y\": \"D\", \"yref\": \"y\"}, {\"font\": {\"color\": \"#000000\"}, \"showarrow\": false, \"text\": \"120.0\", \"x\": \"5\", \"xref\": \"x\", \"y\": \"D\", \"yref\": \"y\"}, {\"font\": {\"color\": \"#FFFFFF\"}, \"showarrow\": false, \"text\": \"0.0\", \"x\": \"6\", \"xref\": \"x\", \"y\": \"D\", \"yref\": \"y\"}, {\"font\": {\"color\": \"#000000\"}, \"showarrow\": false, \"text\": \"80.0\", \"x\": \"1\", \"xref\": \"x\", \"y\": \"C\", \"yref\": \"y\"}, {\"font\": {\"color\": \"#000000\"}, \"showarrow\": false, \"text\": \"80.0\", \"x\": \"2\", \"xref\": \"x\", \"y\": \"C\", \"yref\": \"y\"}, {\"font\": {\"color\": \"#000000\"}, \"showarrow\": false, \"text\": \"70.0\", \"x\": \"3\", \"xref\": \"x\", \"y\": \"C\", \"yref\": \"y\"}, {\"font\": {\"color\": \"#000000\"}, \"showarrow\": false, \"text\": \"130.0\", \"x\": \"4\", \"xref\": \"x\", \"y\": \"C\", \"yref\": \"y\"}, {\"font\": {\"color\": \"#FFFFFF\"}, \"showarrow\": false, \"text\": \"0.0\", \"x\": \"5\", \"xref\": \"x\", \"y\": \"C\", \"yref\": \"y\"}, {\"font\": {\"color\": \"#000000\"}, \"showarrow\": false, \"text\": \"140.0\", \"x\": \"6\", \"xref\": \"x\", \"y\": \"C\", \"yref\": \"y\"}, {\"font\": {\"color\": \"#FFFFFF\"}, \"showarrow\": false, \"text\": \"0.0\", \"x\": \"1\", \"xref\": \"x\", \"y\": \"B\", \"yref\": \"y\"}, {\"font\": {\"color\": \"#000000\"}, \"showarrow\": false, \"text\": \"120.0\", \"x\": \"2\", \"xref\": \"x\", \"y\": \"B\", \"yref\": \"y\"}, {\"font\": {\"color\": \"#FFFFFF\"}, \"showarrow\": false, \"text\": \"0.0\", \"x\": \"3\", \"xref\": \"x\", \"y\": \"B\", \"yref\": \"y\"}, {\"font\": {\"color\": \"#FFFFFF\"}, \"showarrow\": false, \"text\": \"70.0\", \"x\": \"4\", \"xref\": \"x\", \"y\": \"B\", \"yref\": \"y\"}, {\"font\": {\"color\": \"#000000\"}, \"showarrow\": false, \"text\": \"100.0\", \"x\": \"5\", \"xref\": \"x\", \"y\": \"B\", \"yref\": \"y\"}, {\"font\": {\"color\": \"#FFFFFF\"}, \"showarrow\": false, \"text\": \"0.0\", \"x\": \"6\", \"xref\": \"x\", \"y\": \"B\", \"yref\": \"y\"}, {\"font\": {\"color\": \"#000000\"}, \"showarrow\": false, \"text\": \"80.0\", \"x\": \"1\", \"xref\": \"x\", \"y\": \"A\", \"yref\": \"y\"}, {\"font\": {\"color\": \"#FFFFFF\"}, \"showarrow\": false, \"text\": \"0.0\", \"x\": \"2\", \"xref\": \"x\", \"y\": \"A\", \"yref\": \"y\"}, {\"font\": {\"color\": \"#FFFFFF\"}, \"showarrow\": false, \"text\": \"50.0\", \"x\": \"3\", \"xref\": \"x\", \"y\": \"A\", \"yref\": \"y\"}, {\"font\": {\"color\": \"#FFFFFF\"}, \"showarrow\": false, \"text\": \"0.0\", \"x\": \"4\", \"xref\": \"x\", \"y\": \"A\", \"yref\": \"y\"}, {\"font\": {\"color\": \"#FFFFFF\"}, \"showarrow\": false, \"text\": \"10.0\", \"x\": \"5\", \"xref\": \"x\", \"y\": \"A\", \"yref\": \"y\"}, {\"font\": {\"color\": \"#FFFFFF\"}, \"showarrow\": false, \"text\": \"60.0\", \"x\": \"6\", \"xref\": \"x\", \"y\": \"A\", \"yref\": \"y\"}], \"autosize\": false, \"height\": 500, \"margin\": {\"b\": 65, \"l\": 65, \"r\": 50, \"t\": 90}, \"template\": {\"data\": {\"bar\": [{\"error_x\": {\"color\": \"#2a3f5f\"}, \"error_y\": {\"color\": \"#2a3f5f\"}, \"marker\": {\"line\": {\"color\": \"#E5ECF6\", \"width\": 0.5}}, \"type\": \"bar\"}], \"barpolar\": [{\"marker\": {\"line\": {\"color\": \"#E5ECF6\", \"width\": 0.5}}, \"type\": \"barpolar\"}], \"carpet\": [{\"aaxis\": {\"endlinecolor\": \"#2a3f5f\", \"gridcolor\": \"white\", \"linecolor\": \"white\", \"minorgridcolor\": \"white\", \"startlinecolor\": \"#2a3f5f\"}, \"baxis\": {\"endlinecolor\": \"#2a3f5f\", \"gridcolor\": \"white\", \"linecolor\": \"white\", \"minorgridcolor\": \"white\", \"startlinecolor\": \"#2a3f5f\"}, \"type\": \"carpet\"}], \"choropleth\": [{\"colorbar\": {\"outlinewidth\": 0, \"ticks\": \"\"}, \"type\": \"choropleth\"}], \"contour\": [{\"colorbar\": {\"outlinewidth\": 0, \"ticks\": \"\"}, \"colorscale\": [[0.0, \"#0d0887\"], [0.1111111111111111, \"#46039f\"], [0.2222222222222222, \"#7201a8\"], [0.3333333333333333, \"#9c179e\"], [0.4444444444444444, \"#bd3786\"], [0.5555555555555556, \"#d8576b\"], [0.6666666666666666, \"#ed7953\"], [0.7777777777777778, \"#fb9f3a\"], [0.8888888888888888, \"#fdca26\"], [1.0, \"#f0f921\"]], \"type\": \"contour\"}], \"contourcarpet\": [{\"colorbar\": {\"outlinewidth\": 0, \"ticks\": \"\"}, \"type\": \"contourcarpet\"}], \"heatmap\": [{\"colorbar\": {\"outlinewidth\": 0, \"ticks\": \"\"}, \"colorscale\": [[0.0, \"#0d0887\"], [0.1111111111111111, \"#46039f\"], [0.2222222222222222, \"#7201a8\"], [0.3333333333333333, \"#9c179e\"], [0.4444444444444444, \"#bd3786\"], [0.5555555555555556, \"#d8576b\"], [0.6666666666666666, \"#ed7953\"], [0.7777777777777778, \"#fb9f3a\"], [0.8888888888888888, \"#fdca26\"], [1.0, \"#f0f921\"]], \"type\": \"heatmap\"}], \"heatmapgl\": [{\"colorbar\": {\"outlinewidth\": 0, \"ticks\": \"\"}, \"colorscale\": [[0.0, \"#0d0887\"], [0.1111111111111111, \"#46039f\"], [0.2222222222222222, \"#7201a8\"], [0.3333333333333333, \"#9c179e\"], [0.4444444444444444, \"#bd3786\"], [0.5555555555555556, \"#d8576b\"], [0.6666666666666666, \"#ed7953\"], [0.7777777777777778, \"#fb9f3a\"], [0.8888888888888888, \"#fdca26\"], [1.0, \"#f0f921\"]], \"type\": \"heatmapgl\"}], \"histogram\": [{\"marker\": {\"colorbar\": {\"outlinewidth\": 0, \"ticks\": \"\"}}, \"type\": \"histogram\"}], \"histogram2d\": [{\"colorbar\": {\"outlinewidth\": 0, \"ticks\": \"\"}, \"colorscale\": [[0.0, \"#0d0887\"], [0.1111111111111111, \"#46039f\"], [0.2222222222222222, \"#7201a8\"], [0.3333333333333333, \"#9c179e\"], [0.4444444444444444, \"#bd3786\"], [0.5555555555555556, \"#d8576b\"], [0.6666666666666666, \"#ed7953\"], [0.7777777777777778, \"#fb9f3a\"], [0.8888888888888888, \"#fdca26\"], [1.0, \"#f0f921\"]], \"type\": \"histogram2d\"}], \"histogram2dcontour\": [{\"colorbar\": {\"outlinewidth\": 0, \"ticks\": \"\"}, \"colorscale\": [[0.0, \"#0d0887\"], [0.1111111111111111, \"#46039f\"], [0.2222222222222222, \"#7201a8\"], [0.3333333333333333, \"#9c179e\"], [0.4444444444444444, \"#bd3786\"], [0.5555555555555556, \"#d8576b\"], [0.6666666666666666, \"#ed7953\"], [0.7777777777777778, \"#fb9f3a\"], [0.8888888888888888, \"#fdca26\"], [1.0, \"#f0f921\"]], \"type\": \"histogram2dcontour\"}], \"mesh3d\": [{\"colorbar\": {\"outlinewidth\": 0, \"ticks\": \"\"}, \"type\": \"mesh3d\"}], \"parcoords\": [{\"line\": {\"colorbar\": {\"outlinewidth\": 0, \"ticks\": \"\"}}, \"type\": \"parcoords\"}], \"pie\": [{\"automargin\": true, \"type\": \"pie\"}], \"scatter\": [{\"marker\": {\"colorbar\": {\"outlinewidth\": 0, \"ticks\": \"\"}}, \"type\": \"scatter\"}], \"scatter3d\": [{\"line\": {\"colorbar\": {\"outlinewidth\": 0, \"ticks\": \"\"}}, \"marker\": {\"colorbar\": {\"outlinewidth\": 0, \"ticks\": \"\"}}, \"type\": \"scatter3d\"}], \"scattercarpet\": [{\"marker\": {\"colorbar\": {\"outlinewidth\": 0, \"ticks\": \"\"}}, \"type\": \"scattercarpet\"}], \"scattergeo\": [{\"marker\": {\"colorbar\": {\"outlinewidth\": 0, \"ticks\": \"\"}}, \"type\": \"scattergeo\"}], \"scattergl\": [{\"marker\": {\"colorbar\": {\"outlinewidth\": 0, \"ticks\": \"\"}}, \"type\": \"scattergl\"}], \"scattermapbox\": [{\"marker\": {\"colorbar\": {\"outlinewidth\": 0, \"ticks\": \"\"}}, \"type\": \"scattermapbox\"}], \"scatterpolar\": [{\"marker\": {\"colorbar\": {\"outlinewidth\": 0, \"ticks\": \"\"}}, \"type\": \"scatterpolar\"}], \"scatterpolargl\": [{\"marker\": {\"colorbar\": {\"outlinewidth\": 0, \"ticks\": \"\"}}, \"type\": \"scatterpolargl\"}], \"scatterternary\": [{\"marker\": {\"colorbar\": {\"outlinewidth\": 0, \"ticks\": \"\"}}, \"type\": \"scatterternary\"}], \"surface\": [{\"colorbar\": {\"outlinewidth\": 0, \"ticks\": \"\"}, \"colorscale\": [[0.0, \"#0d0887\"], [0.1111111111111111, \"#46039f\"], [0.2222222222222222, \"#7201a8\"], [0.3333333333333333, \"#9c179e\"], [0.4444444444444444, \"#bd3786\"], [0.5555555555555556, \"#d8576b\"], [0.6666666666666666, \"#ed7953\"], [0.7777777777777778, \"#fb9f3a\"], [0.8888888888888888, \"#fdca26\"], [1.0, \"#f0f921\"]], \"type\": \"surface\"}], \"table\": [{\"cells\": {\"fill\": {\"color\": \"#EBF0F8\"}, \"line\": {\"color\": \"white\"}}, \"header\": {\"fill\": {\"color\": \"#C8D4E3\"}, \"line\": {\"color\": \"white\"}}, \"type\": \"table\"}]}, \"layout\": {\"annotationdefaults\": {\"arrowcolor\": \"#2a3f5f\", \"arrowhead\": 0, \"arrowwidth\": 1}, \"coloraxis\": {\"colorbar\": {\"outlinewidth\": 0, \"ticks\": \"\"}}, \"colorscale\": {\"diverging\": [[0, \"#8e0152\"], [0.1, \"#c51b7d\"], [0.2, \"#de77ae\"], [0.3, \"#f1b6da\"], [0.4, \"#fde0ef\"], [0.5, \"#f7f7f7\"], [0.6, \"#e6f5d0\"], [0.7, \"#b8e186\"], [0.8, \"#7fbc41\"], [0.9, \"#4d9221\"], [1, \"#276419\"]], \"sequential\": [[0.0, \"#0d0887\"], [0.1111111111111111, \"#46039f\"], [0.2222222222222222, \"#7201a8\"], [0.3333333333333333, \"#9c179e\"], [0.4444444444444444, \"#bd3786\"], [0.5555555555555556, \"#d8576b\"], [0.6666666666666666, \"#ed7953\"], [0.7777777777777778, \"#fb9f3a\"], [0.8888888888888888, \"#fdca26\"], [1.0, \"#f0f921\"]], \"sequentialminus\": [[0.0, \"#0d0887\"], [0.1111111111111111, \"#46039f\"], [0.2222222222222222, \"#7201a8\"], [0.3333333333333333, \"#9c179e\"], [0.4444444444444444, \"#bd3786\"], [0.5555555555555556, \"#d8576b\"], [0.6666666666666666, \"#ed7953\"], [0.7777777777777778, \"#fb9f3a\"], [0.8888888888888888, \"#fdca26\"], [1.0, \"#f0f921\"]]}, \"colorway\": [\"#636efa\", \"#EF553B\", \"#00cc96\", \"#ab63fa\", \"#FFA15A\", \"#19d3f3\", \"#FF6692\", \"#B6E880\", \"#FF97FF\", \"#FECB52\"], \"font\": {\"color\": \"#2a3f5f\"}, \"geo\": {\"bgcolor\": \"white\", \"lakecolor\": \"white\", \"landcolor\": \"#E5ECF6\", \"showlakes\": true, \"showland\": true, \"subunitcolor\": \"white\"}, \"hoverlabel\": {\"align\": \"left\"}, \"hovermode\": \"closest\", \"mapbox\": {\"style\": \"light\"}, \"paper_bgcolor\": \"white\", \"plot_bgcolor\": \"#E5ECF6\", \"polar\": {\"angularaxis\": {\"gridcolor\": \"white\", \"linecolor\": \"white\", \"ticks\": \"\"}, \"bgcolor\": \"#E5ECF6\", \"radialaxis\": {\"gridcolor\": \"white\", \"linecolor\": \"white\", \"ticks\": \"\"}}, \"scene\": {\"xaxis\": {\"backgroundcolor\": \"#E5ECF6\", \"gridcolor\": \"white\", \"gridwidth\": 2, \"linecolor\": \"white\", \"showbackground\": true, \"ticks\": \"\", \"zerolinecolor\": \"white\"}, \"yaxis\": {\"backgroundcolor\": \"#E5ECF6\", \"gridcolor\": \"white\", \"gridwidth\": 2, \"linecolor\": \"white\", \"showbackground\": true, \"ticks\": \"\", \"zerolinecolor\": \"white\"}, \"zaxis\": {\"backgroundcolor\": \"#E5ECF6\", \"gridcolor\": \"white\", \"gridwidth\": 2, \"linecolor\": \"white\", \"showbackground\": true, \"ticks\": \"\", \"zerolinecolor\": \"white\"}}, \"shapedefaults\": {\"line\": {\"color\": \"#2a3f5f\"}}, \"ternary\": {\"aaxis\": {\"gridcolor\": \"white\", \"linecolor\": \"white\", \"ticks\": \"\"}, \"baxis\": {\"gridcolor\": \"white\", \"linecolor\": \"white\", \"ticks\": \"\"}, \"bgcolor\": \"#E5ECF6\", \"caxis\": {\"gridcolor\": \"white\", \"linecolor\": \"white\", \"ticks\": \"\"}}, \"title\": {\"x\": 0.05}, \"xaxis\": {\"automargin\": true, \"gridcolor\": \"white\", \"linecolor\": \"white\", \"ticks\": \"\", \"title\": {\"standoff\": 15}, \"zerolinecolor\": \"white\", \"zerolinewidth\": 2}, \"yaxis\": {\"automargin\": true, \"gridcolor\": \"white\", \"linecolor\": \"white\", \"ticks\": \"\", \"title\": {\"standoff\": 15}, \"zerolinecolor\": \"white\", \"zerolinewidth\": 2}}}, \"title\": {\"text\": \"Strategic Values for Non-Payout Rounds\"}, \"width\": 500, \"xaxis\": {\"dtick\": 1, \"gridcolor\": \"rgb(0, 0, 0)\", \"side\": \"top\", \"ticks\": \"\"}, \"yaxis\": {\"dtick\": 1, \"ticks\": \"\", \"ticksuffix\": \"  \"}},\n",
              "                        {\"responsive\": true}\n",
              "                    ).then(function(){\n",
              "                            \n",
              "var gd = document.getElementById('38e77f09-9593-4ffd-8f89-efc7a0a15130');\n",
              "var x = new MutationObserver(function (mutations, observer) {{\n",
              "        var display = window.getComputedStyle(gd).display;\n",
              "        if (!display || display === 'none') {{\n",
              "            console.log([gd, 'removed!']);\n",
              "            Plotly.purge(gd);\n",
              "            observer.disconnect();\n",
              "        }}\n",
              "}});\n",
              "\n",
              "// Listen for the removal of the full notebook cells\n",
              "var notebookContainer = gd.closest('#notebook-container');\n",
              "if (notebookContainer) {{\n",
              "    x.observe(notebookContainer, {childList: true});\n",
              "}}\n",
              "\n",
              "// Listen for the clearing of the current output cell\n",
              "var outputEl = gd.closest('.output');\n",
              "if (outputEl) {{\n",
              "    x.observe(outputEl, {childList: true});\n",
              "}}\n",
              "\n",
              "                        })\n",
              "                };\n",
              "                \n",
              "            </script>\n",
              "        </div>\n",
              "</body>\n",
              "</html>"
            ]
          },
          "metadata": {
            "tags": []
          }
        }
      ]
    },
    {
      "cell_type": "code",
      "metadata": {
        "id": "VioQX1gYREor",
        "colab": {
          "base_uri": "https://localhost:8080/"
        },
        "outputId": "b0ae3145-ea4c-4753-9cac-0525f06cef52"
      },
      "source": [
        "#\n",
        "# Shows payout shares for holding a tile on round 3n \n",
        "#\n",
        "\n",
        "gm = map2.getTile('B',6) #b6 # c5 # gold_mine(90000,500,5000)\n",
        "print(gm.payouts())\n"
      ],
      "execution_count": 7,
      "outputs": [
        {
          "output_type": "stream",
          "text": [
            "Payouts for B:6 Gold Mine\n",
            "Place               Reward\n",
            "First               6,300 gold, 350 contribution\n",
            "2nd                 5,400 gold, 300 contribution\n",
            "3rd                 4,500 gold, 250 contribution\n",
            "4-6                 3,600 gold, 200 contribution\n",
            "7-11                2,700 gold, 150 contribution\n",
            "12-25               1,800 gold, 100 contribution\n",
            "26-44               900 gold, 50 contribution\n",
            "\n"
          ],
          "name": "stdout"
        }
      ]
    },
    {
      "cell_type": "code",
      "metadata": {
        "colab": {
          "base_uri": "https://localhost:8080/"
        },
        "id": "3B0MR2VzPn8Q",
        "outputId": "a5c6404e-4361-4f18-ba4c-9fb726a77946"
      },
      "source": [
        "#\n",
        "# List of buildings easy for players to read.\n",
        "#\n",
        "map2.printBuildingList()"
      ],
      "execution_count": 8,
      "outputs": [
        {
          "output_type": "stream",
          "text": [
            "Building          Points      For 1st Place                      Guild Gets\n",
            "===============================================================================\n",
            "C-5: Hell's Gate  139,560      42 epic souls, 595 contribution,  800 influence.\n",
            "D-4: Altar        139,560      42 epic souls, 595 contribution,  800 influence.\n",
            "B-6: Gold Mine    136,500         6,300 gold, 350 contribution,  500 influence.\n",
            "D-2: Witch Hut    114,035     245 rare souls, 490 contribution,  600 influence.\n",
            "B-3: Lighthouse   109,535     245 rare souls, 490 contribution,  300 influence.\n",
            "B-1: Factory       82,582      116 soul dust, 350 contribution,  500 influence.\n",
            "D-6: Lighthouse    81,020     140 rare souls, 350 contribution,  400 influence.\n"
          ],
          "name": "stdout"
        }
      ]
    },
    {
      "cell_type": "code",
      "metadata": {
        "colab": {
          "base_uri": "https://localhost:8080/"
        },
        "id": "6ff_dHUBF3Xq",
        "outputId": "0f41e03c-603c-4f91-f1a3-418ae8120448"
      },
      "source": [
        "#\n",
        "# Text report that highlights building returns \n",
        "#\n",
        "map2.setGuild(\"Nightterror\")\n",
        "map2.setStartDate(year=2021, month=7, day=17)\n",
        "map2.printReport()"
      ],
      "execution_count": 22,
      "outputs": [
        {
          "output_type": "stream",
          "text": [
            "Turf War Map Report\n",
            "Guild: Nightterror\n",
            "For the Week of: 17 July 2021\n",
            "Total Map Value: 1,837,876 common souls\n",
            "\n",
            "Building          Points      For 1st Place                      Guild Gets\n",
            "===============================================================================\n",
            "C-5: Hell's Gate  139,560      42 epic souls, 595 contribution,  800 influence.\n",
            "D-4: Altar        139,560      42 epic souls, 595 contribution,  800 influence.\n",
            "B-6: Gold Mine    136,500         6,300 gold, 350 contribution,  500 influence.\n",
            "D-2: Witch Hut    114,035     245 rare souls, 490 contribution,  600 influence.\n",
            "B-3: Lighthouse   109,535     245 rare souls, 490 contribution,  300 influence.\n",
            "B-1: Factory       82,582      116 soul dust, 350 contribution,  500 influence.\n",
            "D-6: Lighthouse    81,020     140 rare souls, 350 contribution,  400 influence.\n"
          ],
          "name": "stdout"
        }
      ]
    },
    {
      "cell_type": "code",
      "metadata": {
        "colab": {
          "base_uri": "https://localhost:8080/"
        },
        "id": "5sB28y8vGhe1",
        "outputId": "d3d61437-e0cf-45aa-de7d-1d4d26c32d19"
      },
      "source": [
        "#\n",
        "# Evaluate neighbors of a given tile\n",
        "#\n",
        "map2.printNeighborList('B',2)"
      ],
      "execution_count": 21,
      "outputs": [
        {
          "output_type": "stream",
          "text": [
            "Neighbors of tile B:2\n",
            "Building          Points      For 1st Place                      Guild Gets\n",
            "===============================================================================\n",
            "B-1: Factory       82,582      116 soul dust, 350 contribution,  500 influence.\n",
            "B-3: Lighthouse   109,535     245 rare souls, 490 contribution,  300 influence.\n",
            "A-2: Forest        30,003   210 common souls, 140 contribution,    0 influence.\n",
            "C-2: Plains        75,005   350 common souls, 350 contribution,    0 influence.\n"
          ],
          "name": "stdout"
        }
      ]
    },
    {
      "cell_type": "markdown",
      "metadata": {
        "id": "iUi9-EpfVsNC"
      },
      "source": [
        "# Discrete Solution to Find Next Move\n",
        "\n",
        "Played around with an analytical solution, but it was too problemmatic."
      ]
    },
    {
      "cell_type": "code",
      "metadata": {
        "id": "tCrL6l0zphdD"
      },
      "source": [
        ""
      ],
      "execution_count": 23,
      "outputs": []
    },
    {
      "cell_type": "code",
      "metadata": {
        "id": "jkLWyGDw87LG",
        "colab": {
          "base_uri": "https://localhost:8080/",
          "height": 204
        },
        "outputId": "73d4071d-b1d5-42d7-99a0-129de8191a14"
      },
      "source": [
        "#\n",
        "# High values are desirable payout locations, low are less desirable\n",
        "#\n",
        "\n",
        "pd.DataFrame(map2.getScaledPayout())"
      ],
      "execution_count": 28,
      "outputs": [
        {
          "output_type": "execute_result",
          "data": {
            "text/html": [
              "<div>\n",
              "<style scoped>\n",
              "    .dataframe tbody tr th:only-of-type {\n",
              "        vertical-align: middle;\n",
              "    }\n",
              "\n",
              "    .dataframe tbody tr th {\n",
              "        vertical-align: top;\n",
              "    }\n",
              "\n",
              "    .dataframe thead th {\n",
              "        text-align: right;\n",
              "    }\n",
              "</style>\n",
              "<table border=\"1\" class=\"dataframe\">\n",
              "  <thead>\n",
              "    <tr style=\"text-align: right;\">\n",
              "      <th></th>\n",
              "      <th>0</th>\n",
              "      <th>1</th>\n",
              "      <th>2</th>\n",
              "      <th>3</th>\n",
              "      <th>4</th>\n",
              "      <th>5</th>\n",
              "    </tr>\n",
              "  </thead>\n",
              "  <tbody>\n",
              "    <tr>\n",
              "      <th>0</th>\n",
              "      <td>0.404740</td>\n",
              "      <td>0.404740</td>\n",
              "      <td>0.404740</td>\n",
              "      <td>0.000000</td>\n",
              "      <td>0.404740</td>\n",
              "      <td>0.404740</td>\n",
              "    </tr>\n",
              "    <tr>\n",
              "      <th>1</th>\n",
              "      <td>1.823342</td>\n",
              "      <td>1.618900</td>\n",
              "      <td>2.550525</td>\n",
              "      <td>1.618900</td>\n",
              "      <td>1.618900</td>\n",
              "      <td>3.278044</td>\n",
              "    </tr>\n",
              "    <tr>\n",
              "      <th>2</th>\n",
              "      <td>0.404740</td>\n",
              "      <td>1.618900</td>\n",
              "      <td>1.618900</td>\n",
              "      <td>1.618900</td>\n",
              "      <td>3.360603</td>\n",
              "      <td>0.404740</td>\n",
              "    </tr>\n",
              "    <tr>\n",
              "      <th>3</th>\n",
              "      <td>0.404740</td>\n",
              "      <td>2.671935</td>\n",
              "      <td>1.618900</td>\n",
              "      <td>3.360603</td>\n",
              "      <td>1.618900</td>\n",
              "      <td>1.781186</td>\n",
              "    </tr>\n",
              "    <tr>\n",
              "      <th>4</th>\n",
              "      <td>0.404740</td>\n",
              "      <td>0.404740</td>\n",
              "      <td>0.404740</td>\n",
              "      <td>0.404740</td>\n",
              "      <td>0.404740</td>\n",
              "      <td>0.404740</td>\n",
              "    </tr>\n",
              "  </tbody>\n",
              "</table>\n",
              "</div>"
            ],
            "text/plain": [
              "          0         1         2         3         4         5\n",
              "0  0.404740  0.404740  0.404740  0.000000  0.404740  0.404740\n",
              "1  1.823342  1.618900  2.550525  1.618900  1.618900  3.278044\n",
              "2  0.404740  1.618900  1.618900  1.618900  3.360603  0.404740\n",
              "3  0.404740  2.671935  1.618900  3.360603  1.618900  1.781186\n",
              "4  0.404740  0.404740  0.404740  0.404740  0.404740  0.404740"
            ]
          },
          "metadata": {
            "tags": []
          },
          "execution_count": 28
        }
      ]
    },
    {
      "cell_type": "code",
      "metadata": {
        "colab": {
          "base_uri": "https://localhost:8080/",
          "height": 204
        },
        "id": "KqckByIRpPzx",
        "outputId": "18edf0cf-cf2f-4650-820f-0b39127b130b"
      },
      "source": [
        "#\n",
        "# High values are desirable staging locations, low are less desirable\n",
        "#\n",
        "pd.DataFrame(map2.getScaledStaging())"
      ],
      "execution_count": 29,
      "outputs": [
        {
          "output_type": "execute_result",
          "data": {
            "text/html": [
              "<div>\n",
              "<style scoped>\n",
              "    .dataframe tbody tr th:only-of-type {\n",
              "        vertical-align: middle;\n",
              "    }\n",
              "\n",
              "    .dataframe tbody tr th {\n",
              "        vertical-align: top;\n",
              "    }\n",
              "\n",
              "    .dataframe thead th {\n",
              "        text-align: right;\n",
              "    }\n",
              "</style>\n",
              "<table border=\"1\" class=\"dataframe\">\n",
              "  <thead>\n",
              "    <tr style=\"text-align: right;\">\n",
              "      <th></th>\n",
              "      <th>0</th>\n",
              "      <th>1</th>\n",
              "      <th>2</th>\n",
              "      <th>3</th>\n",
              "      <th>4</th>\n",
              "      <th>5</th>\n",
              "    </tr>\n",
              "  </thead>\n",
              "  <tbody>\n",
              "    <tr>\n",
              "      <th>0</th>\n",
              "      <td>0.545404</td>\n",
              "      <td>0.000000</td>\n",
              "      <td>0.350595</td>\n",
              "      <td>0.000000</td>\n",
              "      <td>0.084605</td>\n",
              "      <td>0.422432</td>\n",
              "    </tr>\n",
              "    <tr>\n",
              "      <th>1</th>\n",
              "      <td>0.000000</td>\n",
              "      <td>0.827571</td>\n",
              "      <td>0.000000</td>\n",
              "      <td>0.447207</td>\n",
              "      <td>0.677814</td>\n",
              "      <td>0.000000</td>\n",
              "    </tr>\n",
              "    <tr>\n",
              "      <th>2</th>\n",
              "      <td>0.545404</td>\n",
              "      <td>0.558758</td>\n",
              "      <td>0.481377</td>\n",
              "      <td>0.894973</td>\n",
              "      <td>0.000000</td>\n",
              "      <td>0.951599</td>\n",
              "    </tr>\n",
              "    <tr>\n",
              "      <th>3</th>\n",
              "      <td>0.740914</td>\n",
              "      <td>0.000000</td>\n",
              "      <td>0.900035</td>\n",
              "      <td>0.000000</td>\n",
              "      <td>0.833165</td>\n",
              "      <td>0.000000</td>\n",
              "    </tr>\n",
              "    <tr>\n",
              "      <th>4</th>\n",
              "      <td>0.000000</td>\n",
              "      <td>0.403831</td>\n",
              "      <td>0.000000</td>\n",
              "      <td>0.407662</td>\n",
              "      <td>0.084605</td>\n",
              "      <td>0.289337</td>\n",
              "    </tr>\n",
              "  </tbody>\n",
              "</table>\n",
              "</div>"
            ],
            "text/plain": [
              "          0         1         2         3         4         5\n",
              "0  0.545404  0.000000  0.350595  0.000000  0.084605  0.422432\n",
              "1  0.000000  0.827571  0.000000  0.447207  0.677814  0.000000\n",
              "2  0.545404  0.558758  0.481377  0.894973  0.000000  0.951599\n",
              "3  0.740914  0.000000  0.900035  0.000000  0.833165  0.000000\n",
              "4  0.000000  0.403831  0.000000  0.407662  0.084605  0.289337"
            ]
          },
          "metadata": {
            "tags": []
          },
          "execution_count": 29
        }
      ]
    },
    {
      "cell_type": "code",
      "metadata": {
        "id": "yZXuoNjx9F-2",
        "colab": {
          "base_uri": "https://localhost:8080/",
          "height": 204
        },
        "outputId": "9d1f0920-71ce-4dd3-c22c-21284c129b4c"
      },
      "source": [
        "#\n",
        "# Lowest values are desirable staging locations, highest are desirable payout locations\n",
        "#\n",
        "adjusted_move = map2.getAdjustedMoves()\n",
        "pd.DataFrame(adjusted_move)"
      ],
      "execution_count": 26,
      "outputs": [
        {
          "output_type": "execute_result",
          "data": {
            "text/html": [
              "<div>\n",
              "<style scoped>\n",
              "    .dataframe tbody tr th:only-of-type {\n",
              "        vertical-align: middle;\n",
              "    }\n",
              "\n",
              "    .dataframe tbody tr th {\n",
              "        vertical-align: top;\n",
              "    }\n",
              "\n",
              "    .dataframe thead th {\n",
              "        text-align: right;\n",
              "    }\n",
              "</style>\n",
              "<table border=\"1\" class=\"dataframe\">\n",
              "  <thead>\n",
              "    <tr style=\"text-align: right;\">\n",
              "      <th></th>\n",
              "      <th>0</th>\n",
              "      <th>1</th>\n",
              "      <th>2</th>\n",
              "      <th>3</th>\n",
              "      <th>4</th>\n",
              "      <th>5</th>\n",
              "    </tr>\n",
              "  </thead>\n",
              "  <tbody>\n",
              "    <tr>\n",
              "      <th>0</th>\n",
              "      <td>0.406195</td>\n",
              "      <td>0.951599</td>\n",
              "      <td>0.601003</td>\n",
              "      <td>0.546859</td>\n",
              "      <td>0.866994</td>\n",
              "      <td>0.529166</td>\n",
              "    </tr>\n",
              "    <tr>\n",
              "      <th>1</th>\n",
              "      <td>2.370201</td>\n",
              "      <td>1.338188</td>\n",
              "      <td>3.097383</td>\n",
              "      <td>1.718552</td>\n",
              "      <td>1.487945</td>\n",
              "      <td>3.824903</td>\n",
              "    </tr>\n",
              "    <tr>\n",
              "      <th>2</th>\n",
              "      <td>0.406195</td>\n",
              "      <td>1.607001</td>\n",
              "      <td>1.684382</td>\n",
              "      <td>1.270786</td>\n",
              "      <td>3.907462</td>\n",
              "      <td>0.000000</td>\n",
              "    </tr>\n",
              "    <tr>\n",
              "      <th>3</th>\n",
              "      <td>0.210685</td>\n",
              "      <td>3.218794</td>\n",
              "      <td>1.265724</td>\n",
              "      <td>3.907462</td>\n",
              "      <td>1.332594</td>\n",
              "      <td>2.328045</td>\n",
              "    </tr>\n",
              "    <tr>\n",
              "      <th>4</th>\n",
              "      <td>0.951599</td>\n",
              "      <td>0.547768</td>\n",
              "      <td>0.951599</td>\n",
              "      <td>0.543937</td>\n",
              "      <td>0.866994</td>\n",
              "      <td>0.662262</td>\n",
              "    </tr>\n",
              "  </tbody>\n",
              "</table>\n",
              "</div>"
            ],
            "text/plain": [
              "          0         1         2         3         4         5\n",
              "0  0.406195  0.951599  0.601003  0.546859  0.866994  0.529166\n",
              "1  2.370201  1.338188  3.097383  1.718552  1.487945  3.824903\n",
              "2  0.406195  1.607001  1.684382  1.270786  3.907462  0.000000\n",
              "3  0.210685  3.218794  1.265724  3.907462  1.332594  2.328045\n",
              "4  0.951599  0.547768  0.951599  0.543937  0.866994  0.662262"
            ]
          },
          "metadata": {
            "tags": []
          },
          "execution_count": 26
        }
      ]
    },
    {
      "cell_type": "code",
      "metadata": {
        "colab": {
          "base_uri": "https://localhost:8080/",
          "height": 517
        },
        "id": "F4jl182vdhS7",
        "outputId": "c742ef8a-3db1-4605-da0f-c2dcb17224ca"
      },
      "source": [
        "moves = adjusted_move\n",
        "get_heatmap(moves,\"Movement Array\", round=False).show()"
      ],
      "execution_count": 14,
      "outputs": [
        {
          "output_type": "display_data",
          "data": {
            "text/html": [
              "<html>\n",
              "<head><meta charset=\"utf-8\" /></head>\n",
              "<body>\n",
              "    <div>\n",
              "            <script src=\"https://cdnjs.cloudflare.com/ajax/libs/mathjax/2.7.5/MathJax.js?config=TeX-AMS-MML_SVG\"></script><script type=\"text/javascript\">if (window.MathJax) {MathJax.Hub.Config({SVG: {font: \"STIX-Web\"}});}</script>\n",
              "                <script type=\"text/javascript\">window.PlotlyConfig = {MathJaxConfig: 'local'};</script>\n",
              "        <script src=\"https://cdn.plot.ly/plotly-latest.min.js\"></script>    \n",
              "            <div id=\"c22b610e-014f-410e-a071-15e628e472a4\" class=\"plotly-graph-div\" style=\"height:500px; width:500px;\"></div>\n",
              "            <script type=\"text/javascript\">\n",
              "                \n",
              "                    window.PLOTLYENV=window.PLOTLYENV || {};\n",
              "                    \n",
              "                if (document.getElementById(\"c22b610e-014f-410e-a071-15e628e472a4\")) {\n",
              "                    Plotly.newPlot(\n",
              "                        'c22b610e-014f-410e-a071-15e628e472a4',\n",
              "                        [{\"colorscale\": [[0.0, \"#440154\"], [0.1111111111111111, \"#482878\"], [0.2222222222222222, \"#3e4989\"], [0.3333333333333333, \"#31688e\"], [0.4444444444444444, \"#26828e\"], [0.5555555555555556, \"#1f9e89\"], [0.6666666666666666, \"#35b779\"], [0.7777777777777778, \"#6ece58\"], [0.8888888888888888, \"#b5de2b\"], [1.0, \"#fde725\"]], \"reversescale\": false, \"showscale\": false, \"type\": \"heatmap\", \"x\": [\"1\", \"2\", \"3\", \"4\", \"5\", \"6\"], \"y\": [\"E\", \"D\", \"C\", \"B\", \"A\"], \"z\": [[0.9515985618095018, 0.5477680013304127, 0.9515985618095018, 0.5439367386589462, 0.8669937804636316, 0.6622616438123672], [0.2106845738983567, 3.218793935699076, 1.2657237801127539, 3.907462084958065, 1.3325944225636155, 2.328044515609535], [0.40619453806596595, 1.6070009699024115, 1.6843817415157765, 1.2707861061007648, 3.907462084958065, 0.0], [2.3702009889970834, 1.338188013054697, 3.0973832923429367, 1.7185523874207451, 1.4879446551411233, 3.8249028474758906], [0.40619453806596595, 0.9515985618095018, 0.6010032828278189, 0.5468586450888827, 0.8669937804636316, 0.5291663891622544]]}],\n",
              "                        {\"annotations\": [{\"font\": {\"color\": \"#FFFFFF\"}, \"showarrow\": false, \"text\": \"0.952\", \"x\": \"1\", \"xref\": \"x\", \"y\": \"E\", \"yref\": \"y\"}, {\"font\": {\"color\": \"#FFFFFF\"}, \"showarrow\": false, \"text\": \"0.548\", \"x\": \"2\", \"xref\": \"x\", \"y\": \"E\", \"yref\": \"y\"}, {\"font\": {\"color\": \"#FFFFFF\"}, \"showarrow\": false, \"text\": \"0.952\", \"x\": \"3\", \"xref\": \"x\", \"y\": \"E\", \"yref\": \"y\"}, {\"font\": {\"color\": \"#FFFFFF\"}, \"showarrow\": false, \"text\": \"0.544\", \"x\": \"4\", \"xref\": \"x\", \"y\": \"E\", \"yref\": \"y\"}, {\"font\": {\"color\": \"#FFFFFF\"}, \"showarrow\": false, \"text\": \"0.867\", \"x\": \"5\", \"xref\": \"x\", \"y\": \"E\", \"yref\": \"y\"}, {\"font\": {\"color\": \"#FFFFFF\"}, \"showarrow\": false, \"text\": \"0.662\", \"x\": \"6\", \"xref\": \"x\", \"y\": \"E\", \"yref\": \"y\"}, {\"font\": {\"color\": \"#FFFFFF\"}, \"showarrow\": false, \"text\": \"0.211\", \"x\": \"1\", \"xref\": \"x\", \"y\": \"D\", \"yref\": \"y\"}, {\"font\": {\"color\": \"#000000\"}, \"showarrow\": false, \"text\": \"3.219\", \"x\": \"2\", \"xref\": \"x\", \"y\": \"D\", \"yref\": \"y\"}, {\"font\": {\"color\": \"#FFFFFF\"}, \"showarrow\": false, \"text\": \"1.266\", \"x\": \"3\", \"xref\": \"x\", \"y\": \"D\", \"yref\": \"y\"}, {\"font\": {\"color\": \"#000000\"}, \"showarrow\": false, \"text\": \"3.907\", \"x\": \"4\", \"xref\": \"x\", \"y\": \"D\", \"yref\": \"y\"}, {\"font\": {\"color\": \"#FFFFFF\"}, \"showarrow\": false, \"text\": \"1.333\", \"x\": \"5\", \"xref\": \"x\", \"y\": \"D\", \"yref\": \"y\"}, {\"font\": {\"color\": \"#000000\"}, \"showarrow\": false, \"text\": \"2.328\", \"x\": \"6\", \"xref\": \"x\", \"y\": \"D\", \"yref\": \"y\"}, {\"font\": {\"color\": \"#FFFFFF\"}, \"showarrow\": false, \"text\": \"0.406\", \"x\": \"1\", \"xref\": \"x\", \"y\": \"C\", \"yref\": \"y\"}, {\"font\": {\"color\": \"#FFFFFF\"}, \"showarrow\": false, \"text\": \"1.607\", \"x\": \"2\", \"xref\": \"x\", \"y\": \"C\", \"yref\": \"y\"}, {\"font\": {\"color\": \"#FFFFFF\"}, \"showarrow\": false, \"text\": \"1.684\", \"x\": \"3\", \"xref\": \"x\", \"y\": \"C\", \"yref\": \"y\"}, {\"font\": {\"color\": \"#FFFFFF\"}, \"showarrow\": false, \"text\": \"1.271\", \"x\": \"4\", \"xref\": \"x\", \"y\": \"C\", \"yref\": \"y\"}, {\"font\": {\"color\": \"#000000\"}, \"showarrow\": false, \"text\": \"3.907\", \"x\": \"5\", \"xref\": \"x\", \"y\": \"C\", \"yref\": \"y\"}, {\"font\": {\"color\": \"#FFFFFF\"}, \"showarrow\": false, \"text\": \"0.0\", \"x\": \"6\", \"xref\": \"x\", \"y\": \"C\", \"yref\": \"y\"}, {\"font\": {\"color\": \"#000000\"}, \"showarrow\": false, \"text\": \"2.37\", \"x\": \"1\", \"xref\": \"x\", \"y\": \"B\", \"yref\": \"y\"}, {\"font\": {\"color\": \"#FFFFFF\"}, \"showarrow\": false, \"text\": \"1.338\", \"x\": \"2\", \"xref\": \"x\", \"y\": \"B\", \"yref\": \"y\"}, {\"font\": {\"color\": \"#000000\"}, \"showarrow\": false, \"text\": \"3.097\", \"x\": \"3\", \"xref\": \"x\", \"y\": \"B\", \"yref\": \"y\"}, {\"font\": {\"color\": \"#FFFFFF\"}, \"showarrow\": false, \"text\": \"1.719\", \"x\": \"4\", \"xref\": \"x\", \"y\": \"B\", \"yref\": \"y\"}, {\"font\": {\"color\": \"#FFFFFF\"}, \"showarrow\": false, \"text\": \"1.488\", \"x\": \"5\", \"xref\": \"x\", \"y\": \"B\", \"yref\": \"y\"}, {\"font\": {\"color\": \"#000000\"}, \"showarrow\": false, \"text\": \"3.825\", \"x\": \"6\", \"xref\": \"x\", \"y\": \"B\", \"yref\": \"y\"}, {\"font\": {\"color\": \"#FFFFFF\"}, \"showarrow\": false, \"text\": \"0.406\", \"x\": \"1\", \"xref\": \"x\", \"y\": \"A\", \"yref\": \"y\"}, {\"font\": {\"color\": \"#FFFFFF\"}, \"showarrow\": false, \"text\": \"0.952\", \"x\": \"2\", \"xref\": \"x\", \"y\": \"A\", \"yref\": \"y\"}, {\"font\": {\"color\": \"#FFFFFF\"}, \"showarrow\": false, \"text\": \"0.601\", \"x\": \"3\", \"xref\": \"x\", \"y\": \"A\", \"yref\": \"y\"}, {\"font\": {\"color\": \"#FFFFFF\"}, \"showarrow\": false, \"text\": \"0.547\", \"x\": \"4\", \"xref\": \"x\", \"y\": \"A\", \"yref\": \"y\"}, {\"font\": {\"color\": \"#FFFFFF\"}, \"showarrow\": false, \"text\": \"0.867\", \"x\": \"5\", \"xref\": \"x\", \"y\": \"A\", \"yref\": \"y\"}, {\"font\": {\"color\": \"#FFFFFF\"}, \"showarrow\": false, \"text\": \"0.529\", \"x\": \"6\", \"xref\": \"x\", \"y\": \"A\", \"yref\": \"y\"}], \"autosize\": false, \"height\": 500, \"margin\": {\"b\": 65, \"l\": 65, \"r\": 50, \"t\": 90}, \"template\": {\"data\": {\"bar\": [{\"error_x\": {\"color\": \"#2a3f5f\"}, \"error_y\": {\"color\": \"#2a3f5f\"}, \"marker\": {\"line\": {\"color\": \"#E5ECF6\", \"width\": 0.5}}, \"type\": \"bar\"}], \"barpolar\": [{\"marker\": {\"line\": {\"color\": \"#E5ECF6\", \"width\": 0.5}}, \"type\": \"barpolar\"}], \"carpet\": [{\"aaxis\": {\"endlinecolor\": \"#2a3f5f\", \"gridcolor\": \"white\", \"linecolor\": \"white\", \"minorgridcolor\": \"white\", \"startlinecolor\": \"#2a3f5f\"}, \"baxis\": {\"endlinecolor\": \"#2a3f5f\", \"gridcolor\": \"white\", \"linecolor\": \"white\", \"minorgridcolor\": \"white\", \"startlinecolor\": \"#2a3f5f\"}, \"type\": \"carpet\"}], \"choropleth\": [{\"colorbar\": {\"outlinewidth\": 0, \"ticks\": \"\"}, \"type\": \"choropleth\"}], \"contour\": [{\"colorbar\": {\"outlinewidth\": 0, \"ticks\": \"\"}, \"colorscale\": [[0.0, \"#0d0887\"], [0.1111111111111111, \"#46039f\"], [0.2222222222222222, \"#7201a8\"], [0.3333333333333333, \"#9c179e\"], [0.4444444444444444, \"#bd3786\"], [0.5555555555555556, \"#d8576b\"], [0.6666666666666666, \"#ed7953\"], [0.7777777777777778, \"#fb9f3a\"], [0.8888888888888888, \"#fdca26\"], [1.0, \"#f0f921\"]], \"type\": \"contour\"}], \"contourcarpet\": [{\"colorbar\": {\"outlinewidth\": 0, \"ticks\": \"\"}, \"type\": \"contourcarpet\"}], \"heatmap\": [{\"colorbar\": {\"outlinewidth\": 0, \"ticks\": \"\"}, \"colorscale\": [[0.0, \"#0d0887\"], [0.1111111111111111, \"#46039f\"], [0.2222222222222222, \"#7201a8\"], [0.3333333333333333, \"#9c179e\"], [0.4444444444444444, \"#bd3786\"], [0.5555555555555556, \"#d8576b\"], [0.6666666666666666, \"#ed7953\"], [0.7777777777777778, \"#fb9f3a\"], [0.8888888888888888, \"#fdca26\"], [1.0, \"#f0f921\"]], \"type\": \"heatmap\"}], \"heatmapgl\": [{\"colorbar\": {\"outlinewidth\": 0, \"ticks\": \"\"}, \"colorscale\": [[0.0, \"#0d0887\"], [0.1111111111111111, \"#46039f\"], [0.2222222222222222, \"#7201a8\"], [0.3333333333333333, \"#9c179e\"], [0.4444444444444444, \"#bd3786\"], [0.5555555555555556, \"#d8576b\"], [0.6666666666666666, \"#ed7953\"], [0.7777777777777778, \"#fb9f3a\"], [0.8888888888888888, \"#fdca26\"], [1.0, \"#f0f921\"]], \"type\": \"heatmapgl\"}], \"histogram\": [{\"marker\": {\"colorbar\": {\"outlinewidth\": 0, \"ticks\": \"\"}}, \"type\": \"histogram\"}], \"histogram2d\": [{\"colorbar\": {\"outlinewidth\": 0, \"ticks\": \"\"}, \"colorscale\": [[0.0, \"#0d0887\"], [0.1111111111111111, \"#46039f\"], [0.2222222222222222, \"#7201a8\"], [0.3333333333333333, \"#9c179e\"], [0.4444444444444444, \"#bd3786\"], [0.5555555555555556, \"#d8576b\"], [0.6666666666666666, \"#ed7953\"], [0.7777777777777778, \"#fb9f3a\"], [0.8888888888888888, \"#fdca26\"], [1.0, \"#f0f921\"]], \"type\": \"histogram2d\"}], \"histogram2dcontour\": [{\"colorbar\": {\"outlinewidth\": 0, \"ticks\": \"\"}, \"colorscale\": [[0.0, \"#0d0887\"], [0.1111111111111111, \"#46039f\"], [0.2222222222222222, \"#7201a8\"], [0.3333333333333333, \"#9c179e\"], [0.4444444444444444, \"#bd3786\"], [0.5555555555555556, \"#d8576b\"], [0.6666666666666666, \"#ed7953\"], [0.7777777777777778, \"#fb9f3a\"], [0.8888888888888888, \"#fdca26\"], [1.0, \"#f0f921\"]], \"type\": \"histogram2dcontour\"}], \"mesh3d\": [{\"colorbar\": {\"outlinewidth\": 0, \"ticks\": \"\"}, \"type\": \"mesh3d\"}], \"parcoords\": [{\"line\": {\"colorbar\": {\"outlinewidth\": 0, \"ticks\": \"\"}}, \"type\": \"parcoords\"}], \"pie\": [{\"automargin\": true, \"type\": \"pie\"}], \"scatter\": [{\"marker\": {\"colorbar\": {\"outlinewidth\": 0, \"ticks\": \"\"}}, \"type\": \"scatter\"}], \"scatter3d\": [{\"line\": {\"colorbar\": {\"outlinewidth\": 0, \"ticks\": \"\"}}, \"marker\": {\"colorbar\": {\"outlinewidth\": 0, \"ticks\": \"\"}}, \"type\": \"scatter3d\"}], \"scattercarpet\": [{\"marker\": {\"colorbar\": {\"outlinewidth\": 0, \"ticks\": \"\"}}, \"type\": \"scattercarpet\"}], \"scattergeo\": [{\"marker\": {\"colorbar\": {\"outlinewidth\": 0, \"ticks\": \"\"}}, \"type\": \"scattergeo\"}], \"scattergl\": [{\"marker\": {\"colorbar\": {\"outlinewidth\": 0, \"ticks\": \"\"}}, \"type\": \"scattergl\"}], \"scattermapbox\": [{\"marker\": {\"colorbar\": {\"outlinewidth\": 0, \"ticks\": \"\"}}, \"type\": \"scattermapbox\"}], \"scatterpolar\": [{\"marker\": {\"colorbar\": {\"outlinewidth\": 0, \"ticks\": \"\"}}, \"type\": \"scatterpolar\"}], \"scatterpolargl\": [{\"marker\": {\"colorbar\": {\"outlinewidth\": 0, \"ticks\": \"\"}}, \"type\": \"scatterpolargl\"}], \"scatterternary\": [{\"marker\": {\"colorbar\": {\"outlinewidth\": 0, \"ticks\": \"\"}}, \"type\": \"scatterternary\"}], \"surface\": [{\"colorbar\": {\"outlinewidth\": 0, \"ticks\": \"\"}, \"colorscale\": [[0.0, \"#0d0887\"], [0.1111111111111111, \"#46039f\"], [0.2222222222222222, \"#7201a8\"], [0.3333333333333333, \"#9c179e\"], [0.4444444444444444, \"#bd3786\"], [0.5555555555555556, \"#d8576b\"], [0.6666666666666666, \"#ed7953\"], [0.7777777777777778, \"#fb9f3a\"], [0.8888888888888888, \"#fdca26\"], [1.0, \"#f0f921\"]], \"type\": \"surface\"}], \"table\": [{\"cells\": {\"fill\": {\"color\": \"#EBF0F8\"}, \"line\": {\"color\": \"white\"}}, \"header\": {\"fill\": {\"color\": \"#C8D4E3\"}, \"line\": {\"color\": \"white\"}}, \"type\": \"table\"}]}, \"layout\": {\"annotationdefaults\": {\"arrowcolor\": \"#2a3f5f\", \"arrowhead\": 0, \"arrowwidth\": 1}, \"coloraxis\": {\"colorbar\": {\"outlinewidth\": 0, \"ticks\": \"\"}}, \"colorscale\": {\"diverging\": [[0, \"#8e0152\"], [0.1, \"#c51b7d\"], [0.2, \"#de77ae\"], [0.3, \"#f1b6da\"], [0.4, \"#fde0ef\"], [0.5, \"#f7f7f7\"], [0.6, \"#e6f5d0\"], [0.7, \"#b8e186\"], [0.8, \"#7fbc41\"], [0.9, \"#4d9221\"], [1, \"#276419\"]], \"sequential\": [[0.0, \"#0d0887\"], [0.1111111111111111, \"#46039f\"], [0.2222222222222222, \"#7201a8\"], [0.3333333333333333, \"#9c179e\"], [0.4444444444444444, \"#bd3786\"], [0.5555555555555556, \"#d8576b\"], [0.6666666666666666, \"#ed7953\"], [0.7777777777777778, \"#fb9f3a\"], [0.8888888888888888, \"#fdca26\"], [1.0, \"#f0f921\"]], \"sequentialminus\": [[0.0, \"#0d0887\"], [0.1111111111111111, \"#46039f\"], [0.2222222222222222, \"#7201a8\"], [0.3333333333333333, \"#9c179e\"], [0.4444444444444444, \"#bd3786\"], [0.5555555555555556, \"#d8576b\"], [0.6666666666666666, \"#ed7953\"], [0.7777777777777778, \"#fb9f3a\"], [0.8888888888888888, \"#fdca26\"], [1.0, \"#f0f921\"]]}, \"colorway\": [\"#636efa\", \"#EF553B\", \"#00cc96\", \"#ab63fa\", \"#FFA15A\", \"#19d3f3\", \"#FF6692\", \"#B6E880\", \"#FF97FF\", \"#FECB52\"], \"font\": {\"color\": \"#2a3f5f\"}, \"geo\": {\"bgcolor\": \"white\", \"lakecolor\": \"white\", \"landcolor\": \"#E5ECF6\", \"showlakes\": true, \"showland\": true, \"subunitcolor\": \"white\"}, \"hoverlabel\": {\"align\": \"left\"}, \"hovermode\": \"closest\", \"mapbox\": {\"style\": \"light\"}, \"paper_bgcolor\": \"white\", \"plot_bgcolor\": \"#E5ECF6\", \"polar\": {\"angularaxis\": {\"gridcolor\": \"white\", \"linecolor\": \"white\", \"ticks\": \"\"}, \"bgcolor\": \"#E5ECF6\", \"radialaxis\": {\"gridcolor\": \"white\", \"linecolor\": \"white\", \"ticks\": \"\"}}, \"scene\": {\"xaxis\": {\"backgroundcolor\": \"#E5ECF6\", \"gridcolor\": \"white\", \"gridwidth\": 2, \"linecolor\": \"white\", \"showbackground\": true, \"ticks\": \"\", \"zerolinecolor\": \"white\"}, \"yaxis\": {\"backgroundcolor\": \"#E5ECF6\", \"gridcolor\": \"white\", \"gridwidth\": 2, \"linecolor\": \"white\", \"showbackground\": true, \"ticks\": \"\", \"zerolinecolor\": \"white\"}, \"zaxis\": {\"backgroundcolor\": \"#E5ECF6\", \"gridcolor\": \"white\", \"gridwidth\": 2, \"linecolor\": \"white\", \"showbackground\": true, \"ticks\": \"\", \"zerolinecolor\": \"white\"}}, \"shapedefaults\": {\"line\": {\"color\": \"#2a3f5f\"}}, \"ternary\": {\"aaxis\": {\"gridcolor\": \"white\", \"linecolor\": \"white\", \"ticks\": \"\"}, \"baxis\": {\"gridcolor\": \"white\", \"linecolor\": \"white\", \"ticks\": \"\"}, \"bgcolor\": \"#E5ECF6\", \"caxis\": {\"gridcolor\": \"white\", \"linecolor\": \"white\", \"ticks\": \"\"}}, \"title\": {\"x\": 0.05}, \"xaxis\": {\"automargin\": true, \"gridcolor\": \"white\", \"linecolor\": \"white\", \"ticks\": \"\", \"title\": {\"standoff\": 15}, \"zerolinecolor\": \"white\", \"zerolinewidth\": 2}, \"yaxis\": {\"automargin\": true, \"gridcolor\": \"white\", \"linecolor\": \"white\", \"ticks\": \"\", \"title\": {\"standoff\": 15}, \"zerolinecolor\": \"white\", \"zerolinewidth\": 2}}}, \"title\": {\"text\": \"Movement Array\"}, \"width\": 500, \"xaxis\": {\"dtick\": 1, \"gridcolor\": \"rgb(0, 0, 0)\", \"side\": \"top\", \"ticks\": \"\"}, \"yaxis\": {\"dtick\": 1, \"ticks\": \"\", \"ticksuffix\": \"  \"}},\n",
              "                        {\"responsive\": true}\n",
              "                    ).then(function(){\n",
              "                            \n",
              "var gd = document.getElementById('c22b610e-014f-410e-a071-15e628e472a4');\n",
              "var x = new MutationObserver(function (mutations, observer) {{\n",
              "        var display = window.getComputedStyle(gd).display;\n",
              "        if (!display || display === 'none') {{\n",
              "            console.log([gd, 'removed!']);\n",
              "            Plotly.purge(gd);\n",
              "            observer.disconnect();\n",
              "        }}\n",
              "}});\n",
              "\n",
              "// Listen for the removal of the full notebook cells\n",
              "var notebookContainer = gd.closest('#notebook-container');\n",
              "if (notebookContainer) {{\n",
              "    x.observe(notebookContainer, {childList: true});\n",
              "}}\n",
              "\n",
              "// Listen for the clearing of the current output cell\n",
              "var outputEl = gd.closest('.output');\n",
              "if (outputEl) {{\n",
              "    x.observe(outputEl, {childList: true});\n",
              "}}\n",
              "\n",
              "                        })\n",
              "                };\n",
              "                \n",
              "            </script>\n",
              "        </div>\n",
              "</body>\n",
              "</html>"
            ]
          },
          "metadata": {
            "tags": []
          }
        }
      ]
    },
    {
      "cell_type": "code",
      "metadata": {
        "id": "AxII3C3R5jC8",
        "colab": {
          "base_uri": "https://localhost:8080/",
          "height": 517
        },
        "outputId": "b778103c-9523-4efe-ff37-d7878fff3f7f"
      },
      "source": [
        "#\n",
        "# 3D Presentation of the movement surface\n",
        "#\n",
        "flip = np.flip( moves, axis=1) \n",
        "fig = go.Figure(data=[go.Surface(z=flip)])\n",
        "fig.update_layout(title='Movement Array in 3D', autosize=False,\n",
        "                  width=500, height=500,\n",
        "                  margin=dict(l=65, r=50, b=65, t=90))\n",
        "fig.show()"
      ],
      "execution_count": 15,
      "outputs": [
        {
          "output_type": "display_data",
          "data": {
            "text/html": [
              "<html>\n",
              "<head><meta charset=\"utf-8\" /></head>\n",
              "<body>\n",
              "    <div>\n",
              "            <script src=\"https://cdnjs.cloudflare.com/ajax/libs/mathjax/2.7.5/MathJax.js?config=TeX-AMS-MML_SVG\"></script><script type=\"text/javascript\">if (window.MathJax) {MathJax.Hub.Config({SVG: {font: \"STIX-Web\"}});}</script>\n",
              "                <script type=\"text/javascript\">window.PlotlyConfig = {MathJaxConfig: 'local'};</script>\n",
              "        <script src=\"https://cdn.plot.ly/plotly-latest.min.js\"></script>    \n",
              "            <div id=\"4fcb91db-b958-4066-a5c0-3440892e38df\" class=\"plotly-graph-div\" style=\"height:500px; width:500px;\"></div>\n",
              "            <script type=\"text/javascript\">\n",
              "                \n",
              "                    window.PLOTLYENV=window.PLOTLYENV || {};\n",
              "                    \n",
              "                if (document.getElementById(\"4fcb91db-b958-4066-a5c0-3440892e38df\")) {\n",
              "                    Plotly.newPlot(\n",
              "                        '4fcb91db-b958-4066-a5c0-3440892e38df',\n",
              "                        [{\"type\": \"surface\", \"z\": [[0.5291663891622544, 0.8669937804636316, 0.5468586450888827, 0.6010032828278189, 0.9515985618095018, 0.40619453806596595], [3.8249028474758906, 1.4879446551411233, 1.7185523874207451, 3.0973832923429367, 1.338188013054697, 2.3702009889970834], [0.0, 3.907462084958065, 1.2707861061007648, 1.6843817415157765, 1.6070009699024115, 0.40619453806596595], [2.328044515609535, 1.3325944225636155, 3.907462084958065, 1.2657237801127539, 3.218793935699076, 0.2106845738983567], [0.6622616438123672, 0.8669937804636316, 0.5439367386589462, 0.9515985618095018, 0.5477680013304127, 0.9515985618095018]]}],\n",
              "                        {\"autosize\": false, \"height\": 500, \"margin\": {\"b\": 65, \"l\": 65, \"r\": 50, \"t\": 90}, \"template\": {\"data\": {\"bar\": [{\"error_x\": {\"color\": \"#2a3f5f\"}, \"error_y\": {\"color\": \"#2a3f5f\"}, \"marker\": {\"line\": {\"color\": \"#E5ECF6\", \"width\": 0.5}}, \"type\": \"bar\"}], \"barpolar\": [{\"marker\": {\"line\": {\"color\": \"#E5ECF6\", \"width\": 0.5}}, \"type\": \"barpolar\"}], \"carpet\": [{\"aaxis\": {\"endlinecolor\": \"#2a3f5f\", \"gridcolor\": \"white\", \"linecolor\": \"white\", \"minorgridcolor\": \"white\", \"startlinecolor\": \"#2a3f5f\"}, \"baxis\": {\"endlinecolor\": \"#2a3f5f\", \"gridcolor\": \"white\", \"linecolor\": \"white\", \"minorgridcolor\": \"white\", \"startlinecolor\": \"#2a3f5f\"}, \"type\": \"carpet\"}], \"choropleth\": [{\"colorbar\": {\"outlinewidth\": 0, \"ticks\": \"\"}, \"type\": \"choropleth\"}], \"contour\": [{\"colorbar\": {\"outlinewidth\": 0, \"ticks\": \"\"}, \"colorscale\": [[0.0, \"#0d0887\"], [0.1111111111111111, \"#46039f\"], [0.2222222222222222, \"#7201a8\"], [0.3333333333333333, \"#9c179e\"], [0.4444444444444444, \"#bd3786\"], [0.5555555555555556, \"#d8576b\"], [0.6666666666666666, \"#ed7953\"], [0.7777777777777778, \"#fb9f3a\"], [0.8888888888888888, \"#fdca26\"], [1.0, \"#f0f921\"]], \"type\": \"contour\"}], \"contourcarpet\": [{\"colorbar\": {\"outlinewidth\": 0, \"ticks\": \"\"}, \"type\": \"contourcarpet\"}], \"heatmap\": [{\"colorbar\": {\"outlinewidth\": 0, \"ticks\": \"\"}, \"colorscale\": [[0.0, \"#0d0887\"], [0.1111111111111111, \"#46039f\"], [0.2222222222222222, \"#7201a8\"], [0.3333333333333333, \"#9c179e\"], [0.4444444444444444, \"#bd3786\"], [0.5555555555555556, \"#d8576b\"], [0.6666666666666666, \"#ed7953\"], [0.7777777777777778, \"#fb9f3a\"], [0.8888888888888888, \"#fdca26\"], [1.0, \"#f0f921\"]], \"type\": \"heatmap\"}], \"heatmapgl\": [{\"colorbar\": {\"outlinewidth\": 0, \"ticks\": \"\"}, \"colorscale\": [[0.0, \"#0d0887\"], [0.1111111111111111, \"#46039f\"], [0.2222222222222222, \"#7201a8\"], [0.3333333333333333, \"#9c179e\"], [0.4444444444444444, \"#bd3786\"], [0.5555555555555556, \"#d8576b\"], [0.6666666666666666, \"#ed7953\"], [0.7777777777777778, \"#fb9f3a\"], [0.8888888888888888, \"#fdca26\"], [1.0, \"#f0f921\"]], \"type\": \"heatmapgl\"}], \"histogram\": [{\"marker\": {\"colorbar\": {\"outlinewidth\": 0, \"ticks\": \"\"}}, \"type\": \"histogram\"}], \"histogram2d\": [{\"colorbar\": {\"outlinewidth\": 0, \"ticks\": \"\"}, \"colorscale\": [[0.0, \"#0d0887\"], [0.1111111111111111, \"#46039f\"], [0.2222222222222222, \"#7201a8\"], [0.3333333333333333, \"#9c179e\"], [0.4444444444444444, \"#bd3786\"], [0.5555555555555556, \"#d8576b\"], [0.6666666666666666, \"#ed7953\"], [0.7777777777777778, \"#fb9f3a\"], [0.8888888888888888, \"#fdca26\"], [1.0, \"#f0f921\"]], \"type\": \"histogram2d\"}], \"histogram2dcontour\": [{\"colorbar\": {\"outlinewidth\": 0, \"ticks\": \"\"}, \"colorscale\": [[0.0, \"#0d0887\"], [0.1111111111111111, \"#46039f\"], [0.2222222222222222, \"#7201a8\"], [0.3333333333333333, \"#9c179e\"], [0.4444444444444444, \"#bd3786\"], [0.5555555555555556, \"#d8576b\"], [0.6666666666666666, \"#ed7953\"], [0.7777777777777778, \"#fb9f3a\"], [0.8888888888888888, \"#fdca26\"], [1.0, \"#f0f921\"]], \"type\": \"histogram2dcontour\"}], \"mesh3d\": [{\"colorbar\": {\"outlinewidth\": 0, \"ticks\": \"\"}, \"type\": \"mesh3d\"}], \"parcoords\": [{\"line\": {\"colorbar\": {\"outlinewidth\": 0, \"ticks\": \"\"}}, \"type\": \"parcoords\"}], \"pie\": [{\"automargin\": true, \"type\": \"pie\"}], \"scatter\": [{\"marker\": {\"colorbar\": {\"outlinewidth\": 0, \"ticks\": \"\"}}, \"type\": \"scatter\"}], \"scatter3d\": [{\"line\": {\"colorbar\": {\"outlinewidth\": 0, \"ticks\": \"\"}}, \"marker\": {\"colorbar\": {\"outlinewidth\": 0, \"ticks\": \"\"}}, \"type\": \"scatter3d\"}], \"scattercarpet\": [{\"marker\": {\"colorbar\": {\"outlinewidth\": 0, \"ticks\": \"\"}}, \"type\": \"scattercarpet\"}], \"scattergeo\": [{\"marker\": {\"colorbar\": {\"outlinewidth\": 0, \"ticks\": \"\"}}, \"type\": \"scattergeo\"}], \"scattergl\": [{\"marker\": {\"colorbar\": {\"outlinewidth\": 0, \"ticks\": \"\"}}, \"type\": \"scattergl\"}], \"scattermapbox\": [{\"marker\": {\"colorbar\": {\"outlinewidth\": 0, \"ticks\": \"\"}}, \"type\": \"scattermapbox\"}], \"scatterpolar\": [{\"marker\": {\"colorbar\": {\"outlinewidth\": 0, \"ticks\": \"\"}}, \"type\": \"scatterpolar\"}], \"scatterpolargl\": [{\"marker\": {\"colorbar\": {\"outlinewidth\": 0, \"ticks\": \"\"}}, \"type\": \"scatterpolargl\"}], \"scatterternary\": [{\"marker\": {\"colorbar\": {\"outlinewidth\": 0, \"ticks\": \"\"}}, \"type\": \"scatterternary\"}], \"surface\": [{\"colorbar\": {\"outlinewidth\": 0, \"ticks\": \"\"}, \"colorscale\": [[0.0, \"#0d0887\"], [0.1111111111111111, \"#46039f\"], [0.2222222222222222, \"#7201a8\"], [0.3333333333333333, \"#9c179e\"], [0.4444444444444444, \"#bd3786\"], [0.5555555555555556, \"#d8576b\"], [0.6666666666666666, \"#ed7953\"], [0.7777777777777778, \"#fb9f3a\"], [0.8888888888888888, \"#fdca26\"], [1.0, \"#f0f921\"]], \"type\": \"surface\"}], \"table\": [{\"cells\": {\"fill\": {\"color\": \"#EBF0F8\"}, \"line\": {\"color\": \"white\"}}, \"header\": {\"fill\": {\"color\": \"#C8D4E3\"}, \"line\": {\"color\": \"white\"}}, \"type\": \"table\"}]}, \"layout\": {\"annotationdefaults\": {\"arrowcolor\": \"#2a3f5f\", \"arrowhead\": 0, \"arrowwidth\": 1}, \"coloraxis\": {\"colorbar\": {\"outlinewidth\": 0, \"ticks\": \"\"}}, \"colorscale\": {\"diverging\": [[0, \"#8e0152\"], [0.1, \"#c51b7d\"], [0.2, \"#de77ae\"], [0.3, \"#f1b6da\"], [0.4, \"#fde0ef\"], [0.5, \"#f7f7f7\"], [0.6, \"#e6f5d0\"], [0.7, \"#b8e186\"], [0.8, \"#7fbc41\"], [0.9, \"#4d9221\"], [1, \"#276419\"]], \"sequential\": [[0.0, \"#0d0887\"], [0.1111111111111111, \"#46039f\"], [0.2222222222222222, \"#7201a8\"], [0.3333333333333333, \"#9c179e\"], [0.4444444444444444, \"#bd3786\"], [0.5555555555555556, \"#d8576b\"], [0.6666666666666666, \"#ed7953\"], [0.7777777777777778, \"#fb9f3a\"], [0.8888888888888888, \"#fdca26\"], [1.0, \"#f0f921\"]], \"sequentialminus\": [[0.0, \"#0d0887\"], [0.1111111111111111, \"#46039f\"], [0.2222222222222222, \"#7201a8\"], [0.3333333333333333, \"#9c179e\"], [0.4444444444444444, \"#bd3786\"], [0.5555555555555556, \"#d8576b\"], [0.6666666666666666, \"#ed7953\"], [0.7777777777777778, \"#fb9f3a\"], [0.8888888888888888, \"#fdca26\"], [1.0, \"#f0f921\"]]}, \"colorway\": [\"#636efa\", \"#EF553B\", \"#00cc96\", \"#ab63fa\", \"#FFA15A\", \"#19d3f3\", \"#FF6692\", \"#B6E880\", \"#FF97FF\", \"#FECB52\"], \"font\": {\"color\": \"#2a3f5f\"}, \"geo\": {\"bgcolor\": \"white\", \"lakecolor\": \"white\", \"landcolor\": \"#E5ECF6\", \"showlakes\": true, \"showland\": true, \"subunitcolor\": \"white\"}, \"hoverlabel\": {\"align\": \"left\"}, \"hovermode\": \"closest\", \"mapbox\": {\"style\": \"light\"}, \"paper_bgcolor\": \"white\", \"plot_bgcolor\": \"#E5ECF6\", \"polar\": {\"angularaxis\": {\"gridcolor\": \"white\", \"linecolor\": \"white\", \"ticks\": \"\"}, \"bgcolor\": \"#E5ECF6\", \"radialaxis\": {\"gridcolor\": \"white\", \"linecolor\": \"white\", \"ticks\": \"\"}}, \"scene\": {\"xaxis\": {\"backgroundcolor\": \"#E5ECF6\", \"gridcolor\": \"white\", \"gridwidth\": 2, \"linecolor\": \"white\", \"showbackground\": true, \"ticks\": \"\", \"zerolinecolor\": \"white\"}, \"yaxis\": {\"backgroundcolor\": \"#E5ECF6\", \"gridcolor\": \"white\", \"gridwidth\": 2, \"linecolor\": \"white\", \"showbackground\": true, \"ticks\": \"\", \"zerolinecolor\": \"white\"}, \"zaxis\": {\"backgroundcolor\": \"#E5ECF6\", \"gridcolor\": \"white\", \"gridwidth\": 2, \"linecolor\": \"white\", \"showbackground\": true, \"ticks\": \"\", \"zerolinecolor\": \"white\"}}, \"shapedefaults\": {\"line\": {\"color\": \"#2a3f5f\"}}, \"ternary\": {\"aaxis\": {\"gridcolor\": \"white\", \"linecolor\": \"white\", \"ticks\": \"\"}, \"baxis\": {\"gridcolor\": \"white\", \"linecolor\": \"white\", \"ticks\": \"\"}, \"bgcolor\": \"#E5ECF6\", \"caxis\": {\"gridcolor\": \"white\", \"linecolor\": \"white\", \"ticks\": \"\"}}, \"title\": {\"x\": 0.05}, \"xaxis\": {\"automargin\": true, \"gridcolor\": \"white\", \"linecolor\": \"white\", \"ticks\": \"\", \"title\": {\"standoff\": 15}, \"zerolinecolor\": \"white\", \"zerolinewidth\": 2}, \"yaxis\": {\"automargin\": true, \"gridcolor\": \"white\", \"linecolor\": \"white\", \"ticks\": \"\", \"title\": {\"standoff\": 15}, \"zerolinecolor\": \"white\", \"zerolinewidth\": 2}}}, \"title\": {\"text\": \"Movement Array in 3D\"}, \"width\": 500},\n",
              "                        {\"responsive\": true}\n",
              "                    ).then(function(){\n",
              "                            \n",
              "var gd = document.getElementById('4fcb91db-b958-4066-a5c0-3440892e38df');\n",
              "var x = new MutationObserver(function (mutations, observer) {{\n",
              "        var display = window.getComputedStyle(gd).display;\n",
              "        if (!display || display === 'none') {{\n",
              "            console.log([gd, 'removed!']);\n",
              "            Plotly.purge(gd);\n",
              "            observer.disconnect();\n",
              "        }}\n",
              "}});\n",
              "\n",
              "// Listen for the removal of the full notebook cells\n",
              "var notebookContainer = gd.closest('#notebook-container');\n",
              "if (notebookContainer) {{\n",
              "    x.observe(notebookContainer, {childList: true});\n",
              "}}\n",
              "\n",
              "// Listen for the clearing of the current output cell\n",
              "var outputEl = gd.closest('.output');\n",
              "if (outputEl) {{\n",
              "    x.observe(outputEl, {childList: true});\n",
              "}}\n",
              "\n",
              "                        })\n",
              "                };\n",
              "                \n",
              "            </script>\n",
              "        </div>\n",
              "</body>\n",
              "</html>"
            ]
          },
          "metadata": {
            "tags": []
          }
        }
      ]
    },
    {
      "cell_type": "code",
      "metadata": {
        "id": "ItzljkFzKfDx"
      },
      "source": [
        "\n",
        "flip = moves\n",
        "epsilon = 0.05\n",
        "rows = range(5)\n",
        "cols = range(6)\n",
        "retx = [[0 for i in cols] for j in rows]\n",
        "rety = [[0 for i in cols] for j in rows]\n",
        "\n",
        "for row in rows:\n",
        "  for col in cols:\n",
        "    up = row +1\n",
        "    down = row -1\n",
        "    left = col -1\n",
        "    right = col +1\n",
        "\n",
        "    me = flip[row][col]\n",
        "    max = me\n",
        "    z_up = -1000000\n",
        "    z_dn = -1000000\n",
        "    z_left = -1000000\n",
        "    z_right = -1000000\n",
        "\n",
        "    if up in rows:\n",
        "      tmp = flip[up][col]\n",
        "      z_up = tmp\n",
        "      if tmp> max:\n",
        "        max = tmp\n",
        "    if down in rows:\n",
        "      tmp = flip[down][col]\n",
        "      z_dn = tmp\n",
        "      if tmp> max:\n",
        "        max = tmp        \n",
        "    if left in cols:\n",
        "      tmp = flip[row][left]\n",
        "      z_left = tmp\n",
        "      if tmp> max:\n",
        "        max = tmp     \n",
        "    if right in cols:\n",
        "      tmp = flip[row][right]\n",
        "      z_right= tmp\n",
        "      if tmp> max:\n",
        "        max = tmp     \n",
        "\n",
        "    drow = 4-row\n",
        "    if max == me:\n",
        "      retx[drow][col] = 0\n",
        "      rety[drow][col] = 0\n",
        "    elif max == z_left:\n",
        "      retx[drow][col] = -1\n",
        "      rety[drow][col] = 0      \n",
        "    elif max == z_right:\n",
        "      retx[drow][col] = 1\n",
        "      rety[drow][col] = 0    \n",
        "    elif max == z_up:\n",
        "      retx[drow][col] = 0\n",
        "      rety[drow][col] = -1    \n",
        "    elif max == z_dn:\n",
        "      retx[drow][col] = 0\n",
        "      rety[drow][col] = 1  \n",
        "\n",
        "# pd.DataFrame(retx)\n",
        "# pd.DataFrame(rety)"
      ],
      "execution_count": 16,
      "outputs": []
    },
    {
      "cell_type": "code",
      "metadata": {
        "id": "c9iviT0GFRAc",
        "colab": {
          "base_uri": "https://localhost:8080/",
          "height": 542
        },
        "outputId": "d230e6ef-263d-4948-b265-458dff3ff814"
      },
      "source": [
        "  #fig = ff.create_streamline(x, y, u,v, arrow_scale=.1, name='streamline')\n",
        "  x,y = np.meshgrid(np.arange(0, 6, 1), np.arange(0, 5, 1))\n",
        "  fig = ff.create_quiver(x,y, retx, rety, scale=1, name=\"Recommended Move\",\n",
        "                      line=dict(width=2,\n",
        "                                color='red'),\n",
        "                      )\n",
        "   #) #, x_start=0, x_end=6)\n",
        "\n",
        "\n",
        "  cnames = []\n",
        "  rtl = ['E','D','C','B','A']\n",
        "  ctli = [1,2,3,4,5,6]\n",
        "  for c in ctli:\n",
        "    for r in rtl:\n",
        "      cnames.append(f\"{r}{c}\")\n",
        "      #print(f\"{r}{c}\")\n",
        "\n",
        "  # add dots at integers\n",
        "  fig.add_trace(go.Scatter(x=[0,0,0,0,0,1,1,1,1,1,2,2,2,2,2,3,3,3,3,3,4,4,4,4,4,5,5,5,5,5], y=[0,1,2,3,4,0,1,2,3,4,0,1,2,3,4,0,1,2,3,4,0,1,2,3,4,0,1,2,3,4],\n",
        "                          mode='markers+text',\n",
        "                          textposition=\"top right\",\n",
        "                          text = cnames,\n",
        "                          textfont=dict(\n",
        "                            family=\"sans serif\",\n",
        "                            size=18,\n",
        "                            color=\"red\"\n",
        "                          ),\n",
        "                          marker_size=14,\n",
        "                          name='Tiles'))\n",
        "  #x axis\n",
        "  fig.update_xaxes(visible=False)\n",
        "\n",
        "  #y axis    \n",
        "  z = payout.to_numpy()\n",
        "  z = np.flip( z, axis=0)\n",
        "  fig.update_yaxes(visible=False)\n",
        "  fig.add_trace(    go.Contour(\n",
        "        z=z,\n",
        "        x=[0,1,2,3,4,5], # horizontal axis\n",
        "        y=[0, 1, 2,3,4], # vertical axis\n",
        "        colorscale=\"delta\"\n",
        "        #showlegend=False\n",
        "        #color_continuous_scale=px.colors.sequential.Viridis\n",
        "    ))\n",
        "  \n",
        "  #fig.update_layout dict(show_legend=False))\n",
        "  fig.update_layout(dict(paper_bgcolor='White',\n",
        "                      plot_bgcolor='White', showlegend=False))\n",
        "  fig.update_layout(coloraxis_showscale=False)\n",
        "\n",
        "  #fig.add_shape(type=\"rect\",\n",
        "  #  xref=\"x\", yref=\"y\",\n",
        "  #  x0=-0.5, y0=-0.5,\n",
        "  #  x1=0.5, y1=0.5,\n",
        "  #  line=dict(\n",
        "  #      color=\"RoyalBlue\",\n",
        "  #      width=3,\n",
        "  #  ),\n",
        "  #  #fillcolor=\"LightSkyBlue\",\n",
        "  # #)\n",
        "  # move colorbar\n",
        "  fig.update_layout(coloraxis_colorbar=dict(yanchor=\"top\", y=1, x=0,\n",
        "                                          ticks=\"outside\",\n",
        "                                          ticksuffix=\" bills\"))\n",
        "  fig.update_layout(title='Relative Payout and Recommended Moves')\n",
        "  fig.show()"
      ],
      "execution_count": 19,
      "outputs": [
        {
          "output_type": "display_data",
          "data": {
            "text/html": [
              "<html>\n",
              "<head><meta charset=\"utf-8\" /></head>\n",
              "<body>\n",
              "    <div>\n",
              "            <script src=\"https://cdnjs.cloudflare.com/ajax/libs/mathjax/2.7.5/MathJax.js?config=TeX-AMS-MML_SVG\"></script><script type=\"text/javascript\">if (window.MathJax) {MathJax.Hub.Config({SVG: {font: \"STIX-Web\"}});}</script>\n",
              "                <script type=\"text/javascript\">window.PlotlyConfig = {MathJaxConfig: 'local'};</script>\n",
              "        <script src=\"https://cdn.plot.ly/plotly-latest.min.js\"></script>    \n",
              "            <div id=\"45da6724-1453-4ec6-a93c-c8828891eec0\" class=\"plotly-graph-div\" style=\"height:525px; width:100%;\"></div>\n",
              "            <script type=\"text/javascript\">\n",
              "                \n",
              "                    window.PLOTLYENV=window.PLOTLYENV || {};\n",
              "                    \n",
              "                if (document.getElementById(\"45da6724-1453-4ec6-a93c-c8828891eec0\")) {\n",
              "                    Plotly.newPlot(\n",
              "                        '45da6724-1453-4ec6-a93c-c8828891eec0',\n",
              "                        [{\"line\": {\"color\": \"red\", \"width\": 2}, \"mode\": \"lines\", \"name\": \"Recommended Move\", \"type\": \"scatter\", \"x\": [0, 0, null, 1, 1, null, 2, 2, null, 3, 3, null, 4, 4, null, 5, 5, null, 0, 1, null, 1, 1, null, 2, 3, null, 3, 3, null, 4, 3, null, 5, 5, null, 0, 0, null, 1, 1, null, 2, 2, null, 3, 4, null, 4, 4, null, 5, 4, null, 0, 0, null, 1, 2, null, 2, 2, null, 3, 2, null, 4, 4, null, 5, 5, null, 0, 0, null, 1, 1, null, 2, 2, null, 3, 3, null, 4, 4, null, 5, 5, null, 0.0, 0, 0.0, null, 1.1026060429977007, 1, 0.8973939570022994, null, 2.1026060429977007, 2, 1.8973939570022993, null, 3.1026060429977007, 3, 2.8973939570022993, null, 4.1026060429977, 4, 3.8973939570022993, null, 5.1026060429977, 5, 4.8973939570023, null, 0.7180922137642275, 1, 0.7180922137642275, null, 1.0, 1, 1.0, null, 2.7180922137642276, 3, 2.7180922137642276, null, 3.0, 3, 3.0, null, 3.2819077862357724, 3, 3.2819077862357724, null, 5.0, 5, 5.0, null, 0.10260604299770061, 0, -0.10260604299770064, null, 0.8973939570022994, 1, 1.1026060429977007, null, 2.1026060429977007, 2, 1.8973939570022993, null, 3.7180922137642276, 4, 3.7180922137642276, null, 4.0, 4, 4.0, null, 4.281907786235773, 4, 4.281907786235773, null, 0.0, 0, 0.0, null, 1.7180922137642276, 2, 1.7180922137642276, null, 2.0, 2, 2.0, null, 2.2819077862357724, 2, 2.2819077862357724, null, 3.8973939570022993, 4, 4.1026060429977, null, 5.0, 5, 5.0, null, -0.10260604299770064, 0, 0.10260604299770061, null, 0.8973939570022994, 1, 1.1026060429977007, null, 1.8973939570022993, 2, 2.1026060429977007, null, 2.8973939570022993, 3, 3.1026060429977007, null, 3.8973939570022993, 4, 4.1026060429977, null, 4.8973939570023, 5, 5.1026060429977, null], \"y\": [0, 0, null, 0, 1, null, 0, 1, null, 0, 1, null, 0, 1, null, 0, 1, null, 1, 1, null, 1, 1, null, 1, 1, null, 1, 1, null, 1, 1, null, 1, 1, null, 2, 3, null, 2, 1, null, 2, 3, null, 2, 2, null, 2, 2, null, 2, 2, null, 3, 3, null, 3, 3, null, 3, 3, null, 3, 3, null, 3, 2, null, 3, 3, null, 4, 3, null, 4, 3, null, 4, 3, null, 4, 3, null, 4, 3, null, 4, 3, null, 0.0, 0, 0.0, null, 0.7180922137642275, 1, 0.7180922137642275, null, 0.7180922137642275, 1, 0.7180922137642275, null, 0.7180922137642275, 1, 0.7180922137642275, null, 0.7180922137642275, 1, 0.7180922137642275, null, 0.7180922137642275, 1, 0.7180922137642275, null, 0.8973939570022994, 1, 1.1026060429977007, null, 1.0, 1, 1.0, null, 0.8973939570022994, 1, 1.1026060429977007, null, 1.0, 1, 1.0, null, 1.1026060429977007, 1, 0.8973939570022993, null, 1.0, 1, 1.0, null, 2.7180922137642276, 3, 2.7180922137642276, null, 1.2819077862357724, 1, 1.2819077862357724, null, 2.7180922137642276, 3, 2.7180922137642276, null, 1.8973939570022993, 2, 2.1026060429977007, null, 2.0, 2, 2.0, null, 2.1026060429977007, 2, 1.8973939570022993, null, 3.0, 3, 3.0, null, 2.8973939570022993, 3, 3.1026060429977007, null, 3.0, 3, 3.0, null, 3.1026060429977007, 3, 2.8973939570022993, null, 2.2819077862357724, 2, 2.2819077862357724, null, 3.0, 3, 3.0, null, 3.2819077862357724, 3, 3.2819077862357724, null, 3.2819077862357724, 3, 3.2819077862357724, null, 3.2819077862357724, 3, 3.2819077862357724, null, 3.2819077862357724, 3, 3.2819077862357724, null, 3.2819077862357724, 3, 3.2819077862357724, null, 3.2819077862357724, 3, 3.2819077862357724, null]}, {\"marker\": {\"size\": 14}, \"mode\": \"markers+text\", \"name\": \"Tiles\", \"text\": [\"E1\", \"D1\", \"C1\", \"B1\", \"A1\", \"E2\", \"D2\", \"C2\", \"B2\", \"A2\", \"E3\", \"D3\", \"C3\", \"B3\", \"A3\", \"E4\", \"D4\", \"C4\", \"B4\", \"A4\", \"E5\", \"D5\", \"C5\", \"B5\", \"A5\", \"E6\", \"D6\", \"C6\", \"B6\", \"A6\"], \"textfont\": {\"color\": \"red\", \"family\": \"sans serif\", \"size\": 18}, \"textposition\": \"top right\", \"type\": \"scatter\", \"x\": [0, 0, 0, 0, 0, 1, 1, 1, 1, 1, 2, 2, 2, 2, 2, 3, 3, 3, 3, 3, 4, 4, 4, 4, 4, 5, 5, 5, 5, 5], \"y\": [0, 1, 2, 3, 4, 0, 1, 2, 3, 4, 0, 1, 2, 3, 4, 0, 1, 2, 3, 4, 0, 1, 2, 3, 4, 0, 1, 2, 3, 4]}, {\"colorscale\": [[0.0, \"rgb(16, 31, 63)\"], [0.09090909090909091, \"rgb(38, 62, 144)\"], [0.18181818181818182, \"rgb(30, 110, 161)\"], [0.2727272727272727, \"rgb(60, 154, 171)\"], [0.36363636363636365, \"rgb(140, 193, 186)\"], [0.45454545454545453, \"rgb(217, 229, 218)\"], [0.5454545454545454, \"rgb(239, 226, 156)\"], [0.6363636363636364, \"rgb(195, 182, 59)\"], [0.7272727272727273, \"rgb(115, 152, 5)\"], [0.8181818181818182, \"rgb(34, 120, 36)\"], [0.9090909090909091, \"rgb(18, 78, 43)\"], [1.0, \"rgb(23, 35, 18)\"]], \"type\": \"contour\", \"x\": [0, 1, 2, 3, 4, 5], \"y\": [0, 1, 2, 3, 4], \"z\": [[30003.0, 30003.0, 30003.0, 30003.0, 30003.0, 30003.0], [30003.0, 114035.0, 75005.0, 139560.0, 75005.0, 81020.0], [30003.0, 75005.0, 75005.0, 75005.0, 139560.0, 30003.0], [82582.5, 75005.0, 109535.0, 75005.0, 75005.0, 136500.0], [30003.0, 30003.0, 30003.0, 15001.6, 30003.0, 30003.0]]}],\n",
              "                        {\"coloraxis\": {\"colorbar\": {\"ticks\": \"outside\", \"ticksuffix\": \" bills\", \"x\": 0, \"y\": 1, \"yanchor\": \"top\"}, \"showscale\": false}, \"hovermode\": \"closest\", \"paper_bgcolor\": \"White\", \"plot_bgcolor\": \"White\", \"showlegend\": false, \"template\": {\"data\": {\"bar\": [{\"error_x\": {\"color\": \"#2a3f5f\"}, \"error_y\": {\"color\": \"#2a3f5f\"}, \"marker\": {\"line\": {\"color\": \"#E5ECF6\", \"width\": 0.5}}, \"type\": \"bar\"}], \"barpolar\": [{\"marker\": {\"line\": {\"color\": \"#E5ECF6\", \"width\": 0.5}}, \"type\": \"barpolar\"}], \"carpet\": [{\"aaxis\": {\"endlinecolor\": \"#2a3f5f\", \"gridcolor\": \"white\", \"linecolor\": \"white\", \"minorgridcolor\": \"white\", \"startlinecolor\": \"#2a3f5f\"}, \"baxis\": {\"endlinecolor\": \"#2a3f5f\", \"gridcolor\": \"white\", \"linecolor\": \"white\", \"minorgridcolor\": \"white\", \"startlinecolor\": \"#2a3f5f\"}, \"type\": \"carpet\"}], \"choropleth\": [{\"colorbar\": {\"outlinewidth\": 0, \"ticks\": \"\"}, \"type\": \"choropleth\"}], \"contour\": [{\"colorbar\": {\"outlinewidth\": 0, \"ticks\": \"\"}, \"colorscale\": [[0.0, \"#0d0887\"], [0.1111111111111111, \"#46039f\"], [0.2222222222222222, \"#7201a8\"], [0.3333333333333333, \"#9c179e\"], [0.4444444444444444, \"#bd3786\"], [0.5555555555555556, \"#d8576b\"], [0.6666666666666666, \"#ed7953\"], [0.7777777777777778, \"#fb9f3a\"], [0.8888888888888888, \"#fdca26\"], [1.0, \"#f0f921\"]], \"type\": \"contour\"}], \"contourcarpet\": [{\"colorbar\": {\"outlinewidth\": 0, \"ticks\": \"\"}, \"type\": \"contourcarpet\"}], \"heatmap\": [{\"colorbar\": {\"outlinewidth\": 0, \"ticks\": \"\"}, \"colorscale\": [[0.0, \"#0d0887\"], [0.1111111111111111, \"#46039f\"], [0.2222222222222222, \"#7201a8\"], [0.3333333333333333, \"#9c179e\"], [0.4444444444444444, \"#bd3786\"], [0.5555555555555556, \"#d8576b\"], [0.6666666666666666, \"#ed7953\"], [0.7777777777777778, \"#fb9f3a\"], [0.8888888888888888, \"#fdca26\"], [1.0, \"#f0f921\"]], \"type\": \"heatmap\"}], \"heatmapgl\": [{\"colorbar\": {\"outlinewidth\": 0, \"ticks\": \"\"}, \"colorscale\": [[0.0, \"#0d0887\"], [0.1111111111111111, \"#46039f\"], [0.2222222222222222, \"#7201a8\"], [0.3333333333333333, \"#9c179e\"], [0.4444444444444444, \"#bd3786\"], [0.5555555555555556, \"#d8576b\"], [0.6666666666666666, \"#ed7953\"], [0.7777777777777778, \"#fb9f3a\"], [0.8888888888888888, \"#fdca26\"], [1.0, \"#f0f921\"]], \"type\": \"heatmapgl\"}], \"histogram\": [{\"marker\": {\"colorbar\": {\"outlinewidth\": 0, \"ticks\": \"\"}}, \"type\": \"histogram\"}], \"histogram2d\": [{\"colorbar\": {\"outlinewidth\": 0, \"ticks\": \"\"}, \"colorscale\": [[0.0, \"#0d0887\"], [0.1111111111111111, \"#46039f\"], [0.2222222222222222, \"#7201a8\"], [0.3333333333333333, \"#9c179e\"], [0.4444444444444444, \"#bd3786\"], [0.5555555555555556, \"#d8576b\"], [0.6666666666666666, \"#ed7953\"], [0.7777777777777778, \"#fb9f3a\"], [0.8888888888888888, \"#fdca26\"], [1.0, \"#f0f921\"]], \"type\": \"histogram2d\"}], \"histogram2dcontour\": [{\"colorbar\": {\"outlinewidth\": 0, \"ticks\": \"\"}, \"colorscale\": [[0.0, \"#0d0887\"], [0.1111111111111111, \"#46039f\"], [0.2222222222222222, \"#7201a8\"], [0.3333333333333333, \"#9c179e\"], [0.4444444444444444, \"#bd3786\"], [0.5555555555555556, \"#d8576b\"], [0.6666666666666666, \"#ed7953\"], [0.7777777777777778, \"#fb9f3a\"], [0.8888888888888888, \"#fdca26\"], [1.0, \"#f0f921\"]], \"type\": \"histogram2dcontour\"}], \"mesh3d\": [{\"colorbar\": {\"outlinewidth\": 0, \"ticks\": \"\"}, \"type\": \"mesh3d\"}], \"parcoords\": [{\"line\": {\"colorbar\": {\"outlinewidth\": 0, \"ticks\": \"\"}}, \"type\": \"parcoords\"}], \"pie\": [{\"automargin\": true, \"type\": \"pie\"}], \"scatter\": [{\"marker\": {\"colorbar\": {\"outlinewidth\": 0, \"ticks\": \"\"}}, \"type\": \"scatter\"}], \"scatter3d\": [{\"line\": {\"colorbar\": {\"outlinewidth\": 0, \"ticks\": \"\"}}, \"marker\": {\"colorbar\": {\"outlinewidth\": 0, \"ticks\": \"\"}}, \"type\": \"scatter3d\"}], \"scattercarpet\": [{\"marker\": {\"colorbar\": {\"outlinewidth\": 0, \"ticks\": \"\"}}, \"type\": \"scattercarpet\"}], \"scattergeo\": [{\"marker\": {\"colorbar\": {\"outlinewidth\": 0, \"ticks\": \"\"}}, \"type\": \"scattergeo\"}], \"scattergl\": [{\"marker\": {\"colorbar\": {\"outlinewidth\": 0, \"ticks\": \"\"}}, \"type\": \"scattergl\"}], \"scattermapbox\": [{\"marker\": {\"colorbar\": {\"outlinewidth\": 0, \"ticks\": \"\"}}, \"type\": \"scattermapbox\"}], \"scatterpolar\": [{\"marker\": {\"colorbar\": {\"outlinewidth\": 0, \"ticks\": \"\"}}, \"type\": \"scatterpolar\"}], \"scatterpolargl\": [{\"marker\": {\"colorbar\": {\"outlinewidth\": 0, \"ticks\": \"\"}}, \"type\": \"scatterpolargl\"}], \"scatterternary\": [{\"marker\": {\"colorbar\": {\"outlinewidth\": 0, \"ticks\": \"\"}}, \"type\": \"scatterternary\"}], \"surface\": [{\"colorbar\": {\"outlinewidth\": 0, \"ticks\": \"\"}, \"colorscale\": [[0.0, \"#0d0887\"], [0.1111111111111111, \"#46039f\"], [0.2222222222222222, \"#7201a8\"], [0.3333333333333333, \"#9c179e\"], [0.4444444444444444, \"#bd3786\"], [0.5555555555555556, \"#d8576b\"], [0.6666666666666666, \"#ed7953\"], [0.7777777777777778, \"#fb9f3a\"], [0.8888888888888888, \"#fdca26\"], [1.0, \"#f0f921\"]], \"type\": \"surface\"}], \"table\": [{\"cells\": {\"fill\": {\"color\": \"#EBF0F8\"}, \"line\": {\"color\": \"white\"}}, \"header\": {\"fill\": {\"color\": \"#C8D4E3\"}, \"line\": {\"color\": \"white\"}}, \"type\": \"table\"}]}, \"layout\": {\"annotationdefaults\": {\"arrowcolor\": \"#2a3f5f\", \"arrowhead\": 0, \"arrowwidth\": 1}, \"coloraxis\": {\"colorbar\": {\"outlinewidth\": 0, \"ticks\": \"\"}}, \"colorscale\": {\"diverging\": [[0, \"#8e0152\"], [0.1, \"#c51b7d\"], [0.2, \"#de77ae\"], [0.3, \"#f1b6da\"], [0.4, \"#fde0ef\"], [0.5, \"#f7f7f7\"], [0.6, \"#e6f5d0\"], [0.7, \"#b8e186\"], [0.8, \"#7fbc41\"], [0.9, \"#4d9221\"], [1, \"#276419\"]], \"sequential\": [[0.0, \"#0d0887\"], [0.1111111111111111, \"#46039f\"], [0.2222222222222222, \"#7201a8\"], [0.3333333333333333, \"#9c179e\"], [0.4444444444444444, \"#bd3786\"], [0.5555555555555556, \"#d8576b\"], [0.6666666666666666, \"#ed7953\"], [0.7777777777777778, \"#fb9f3a\"], [0.8888888888888888, \"#fdca26\"], [1.0, \"#f0f921\"]], \"sequentialminus\": [[0.0, \"#0d0887\"], [0.1111111111111111, \"#46039f\"], [0.2222222222222222, \"#7201a8\"], [0.3333333333333333, \"#9c179e\"], [0.4444444444444444, \"#bd3786\"], [0.5555555555555556, \"#d8576b\"], [0.6666666666666666, \"#ed7953\"], [0.7777777777777778, \"#fb9f3a\"], [0.8888888888888888, \"#fdca26\"], [1.0, \"#f0f921\"]]}, \"colorway\": [\"#636efa\", \"#EF553B\", \"#00cc96\", \"#ab63fa\", \"#FFA15A\", \"#19d3f3\", \"#FF6692\", \"#B6E880\", \"#FF97FF\", \"#FECB52\"], \"font\": {\"color\": \"#2a3f5f\"}, \"geo\": {\"bgcolor\": \"white\", \"lakecolor\": \"white\", \"landcolor\": \"#E5ECF6\", \"showlakes\": true, \"showland\": true, \"subunitcolor\": \"white\"}, \"hoverlabel\": {\"align\": \"left\"}, \"hovermode\": \"closest\", \"mapbox\": {\"style\": \"light\"}, \"paper_bgcolor\": \"white\", \"plot_bgcolor\": \"#E5ECF6\", \"polar\": {\"angularaxis\": {\"gridcolor\": \"white\", \"linecolor\": \"white\", \"ticks\": \"\"}, \"bgcolor\": \"#E5ECF6\", \"radialaxis\": {\"gridcolor\": \"white\", \"linecolor\": \"white\", \"ticks\": \"\"}}, \"scene\": {\"xaxis\": {\"backgroundcolor\": \"#E5ECF6\", \"gridcolor\": \"white\", \"gridwidth\": 2, \"linecolor\": \"white\", \"showbackground\": true, \"ticks\": \"\", \"zerolinecolor\": \"white\"}, \"yaxis\": {\"backgroundcolor\": \"#E5ECF6\", \"gridcolor\": \"white\", \"gridwidth\": 2, \"linecolor\": \"white\", \"showbackground\": true, \"ticks\": \"\", \"zerolinecolor\": \"white\"}, \"zaxis\": {\"backgroundcolor\": \"#E5ECF6\", \"gridcolor\": \"white\", \"gridwidth\": 2, \"linecolor\": \"white\", \"showbackground\": true, \"ticks\": \"\", \"zerolinecolor\": \"white\"}}, \"shapedefaults\": {\"line\": {\"color\": \"#2a3f5f\"}}, \"ternary\": {\"aaxis\": {\"gridcolor\": \"white\", \"linecolor\": \"white\", \"ticks\": \"\"}, \"baxis\": {\"gridcolor\": \"white\", \"linecolor\": \"white\", \"ticks\": \"\"}, \"bgcolor\": \"#E5ECF6\", \"caxis\": {\"gridcolor\": \"white\", \"linecolor\": \"white\", \"ticks\": \"\"}}, \"title\": {\"x\": 0.05}, \"xaxis\": {\"automargin\": true, \"gridcolor\": \"white\", \"linecolor\": \"white\", \"ticks\": \"\", \"title\": {\"standoff\": 15}, \"zerolinecolor\": \"white\", \"zerolinewidth\": 2}, \"yaxis\": {\"automargin\": true, \"gridcolor\": \"white\", \"linecolor\": \"white\", \"ticks\": \"\", \"title\": {\"standoff\": 15}, \"zerolinecolor\": \"white\", \"zerolinewidth\": 2}}}, \"title\": {\"text\": \"Relative Payout and Recommended Moves\"}, \"xaxis\": {\"visible\": false}, \"yaxis\": {\"visible\": false}},\n",
              "                        {\"responsive\": true}\n",
              "                    ).then(function(){\n",
              "                            \n",
              "var gd = document.getElementById('45da6724-1453-4ec6-a93c-c8828891eec0');\n",
              "var x = new MutationObserver(function (mutations, observer) {{\n",
              "        var display = window.getComputedStyle(gd).display;\n",
              "        if (!display || display === 'none') {{\n",
              "            console.log([gd, 'removed!']);\n",
              "            Plotly.purge(gd);\n",
              "            observer.disconnect();\n",
              "        }}\n",
              "}});\n",
              "\n",
              "// Listen for the removal of the full notebook cells\n",
              "var notebookContainer = gd.closest('#notebook-container');\n",
              "if (notebookContainer) {{\n",
              "    x.observe(notebookContainer, {childList: true});\n",
              "}}\n",
              "\n",
              "// Listen for the clearing of the current output cell\n",
              "var outputEl = gd.closest('.output');\n",
              "if (outputEl) {{\n",
              "    x.observe(outputEl, {childList: true});\n",
              "}}\n",
              "\n",
              "                        })\n",
              "                };\n",
              "                \n",
              "            </script>\n",
              "        </div>\n",
              "</body>\n",
              "</html>"
            ]
          },
          "metadata": {
            "tags": []
          }
        }
      ]
    },
    {
      "cell_type": "code",
      "metadata": {
        "colab": {
          "base_uri": "https://localhost:8080/"
        },
        "id": "GlPhz_wC9cZg",
        "outputId": "4eb08211-e06e-498f-c7b1-90b31c54c50c"
      },
      "source": [
        "import re\n",
        "s = 'a1a5c6e3'\n",
        "res = re.findall('(\\d+|[A-Za-z]+)', s)\n",
        "print(res)\n",
        "\n",
        "def parse_tile(inp):\n",
        "  pass"
      ],
      "execution_count": 20,
      "outputs": [
        {
          "output_type": "stream",
          "text": [
            "['a', '1', 'a', '5', 'c', '6', 'e', '3']\n"
          ],
          "name": "stdout"
        }
      ]
    },
    {
      "cell_type": "markdown",
      "metadata": {
        "id": "9opH-xCZgGeg"
      },
      "source": [
        "# Notes"
      ]
    },
    {
      "cell_type": "markdown",
      "metadata": {
        "id": "VCxGEMEn7qPu"
      },
      "source": [
        "\n",
        "1.   Annotated heatmap: https://plotly.com/python/annotated-heatmap/\n",
        "2.   A-Star search on grid in python at https://github.com/BaijayantaRoy/Medium-Article/blob/master/A_Star.ipynb\n",
        "\n"
      ]
    }
  ]
}