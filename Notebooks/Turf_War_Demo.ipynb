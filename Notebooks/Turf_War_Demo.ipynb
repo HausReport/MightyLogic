{
  "nbformat": 4,
  "nbformat_minor": 0,
  "metadata": {
    "colab": {
      "name": "Turf War Demo",
      "provenance": [],
      "collapsed_sections": [],
      "authorship_tag": "ABX9TyMfdG9F8Fu0yBh7Uz0BC869",
      "include_colab_link": true
    },
    "kernelspec": {
      "name": "python3",
      "display_name": "Python 3"
    },
    "language_info": {
      "name": "python"
    }
  },
  "cells": [
    {
      "cell_type": "markdown",
      "metadata": {
        "id": "view-in-github",
        "colab_type": "text"
      },
      "source": [
        "<a href=\"https://colab.research.google.com/github/HausReport/MightyLogic/blob/master/Notebooks/Turf_War_Demo.ipynb\" target=\"_parent\"><img src=\"https://colab.research.google.com/assets/colab-badge.svg\" alt=\"Open In Colab\"/></a>"
      ]
    },
    {
      "cell_type": "markdown",
      "metadata": {
        "id": "UE1xfjxf97gk"
      },
      "source": [
        "# Hello!"
      ]
    },
    {
      "cell_type": "markdown",
      "metadata": {
        "id": "LDcnjMSD9sP7"
      },
      "source": [
        "If you're seeing this on GitHub, you can open the document on Google by clicking the \"Open in Collab\" button above.  Once this document is open in Google, you can see the interactive content by selecting `Runtime` on the menubar and then `Run All.`\n"
      ]
    },
    {
      "cell_type": "markdown",
      "metadata": {
        "id": "Gj1wyrteq_uS"
      },
      "source": [
        "# Set up environment\n"
      ]
    },
    {
      "cell_type": "code",
      "metadata": {
        "id": "MTNcvrsUHu_T",
        "colab": {
          "base_uri": "https://localhost:8080/"
        },
        "outputId": "a04c7d49-c67d-43cf-b095-a46bf3dbc30c"
      },
      "source": [
        "import sys\n",
        "# need newer plotly/plotly_express than collab provides?\n",
        "#!{sys.executable} -m pip install --force-reinstall --upgrade \"plotly\"\n",
        "#!{sys.executable} -m pip install --force-reinstall --upgrade \"plotly_express\"\n",
        "\n",
        "#\n",
        "# Moving some of the guts to GitHub and refactoring \n",
        "#\n",
        "!{sys.executable} -m pip install --upgrade --force-reinstall \"git+https://github.com/HausReport/MightyLogic.git#egg=MightyLogic\"\n",
        "\n",
        "#\n",
        "# Imports\n",
        "#\n",
        "from random import randrange\n",
        "from scipy.signal import convolve2d\n",
        "from enum import Enum, auto\n",
        "from pprint import pprint\n",
        "import plotly.figure_factory as ff\n",
        "import datetime\n",
        "\n",
        "import numpy as np\n",
        "import pandas as pd\n",
        "import plotly.express as px\n",
        "import plotly.graph_objects as go\n",
        "import math\n",
        "\n",
        "#import sklearn\n",
        "from sklearn.preprocessing import PowerTransformer, QuantileTransformer\n",
        "import numpy as np\n",
        "from sklearn.preprocessing import StandardScaler, scale\n",
        "\n",
        "from MightyLogic.Currency import Currency as Currency\n",
        "from MightyLogic.Values import Values as Values\n",
        "from MightyLogic.TurfWar.Tiles.BuildingFactory import *\n",
        "from MightyLogic.TurfWar.TurfWarMap import TurfWarMap\n",
        "from MightyLogic.TurfWar.Tiles.TileList import TileList\n",
        "#Values.GOLD"
      ],
      "execution_count": 1,
      "outputs": [
        {
          "output_type": "stream",
          "text": [
            "Collecting MightyLogic\n",
            "  Cloning https://github.com/HausReport/MightyLogic.git to /tmp/pip-install-ydzei3n9/mightylogic_6e2f10c85d6640cda09a121a5567497f\n",
            "  Running command git clone -q https://github.com/HausReport/MightyLogic.git /tmp/pip-install-ydzei3n9/mightylogic_6e2f10c85d6640cda09a121a5567497f\n",
            "Collecting pytest\n",
            "  Downloading pytest-6.2.4-py3-none-any.whl (280 kB)\n",
            "\u001b[K     |████████████████████████████████| 280 kB 36.1 MB/s \n",
            "\u001b[?25hCollecting packaging\n",
            "  Downloading packaging-21.0-py3-none-any.whl (40 kB)\n",
            "\u001b[K     |████████████████████████████████| 40 kB 6.0 MB/s \n",
            "\u001b[?25hCollecting iniconfig\n",
            "  Downloading iniconfig-1.1.1-py2.py3-none-any.whl (5.0 kB)\n",
            "Collecting toml\n",
            "  Downloading toml-0.10.2-py2.py3-none-any.whl (16 kB)\n",
            "Collecting attrs>=19.2.0\n",
            "  Downloading attrs-21.2.0-py2.py3-none-any.whl (53 kB)\n",
            "\u001b[K     |████████████████████████████████| 53 kB 2.3 MB/s \n",
            "\u001b[?25hCollecting importlib-metadata>=0.12\n",
            "  Downloading importlib_metadata-4.6.1-py3-none-any.whl (17 kB)\n",
            "Collecting py>=1.8.2\n",
            "  Downloading py-1.10.0-py2.py3-none-any.whl (97 kB)\n",
            "\u001b[K     |████████████████████████████████| 97 kB 7.0 MB/s \n",
            "\u001b[?25hCollecting pluggy<1.0.0a1,>=0.12\n",
            "  Downloading pluggy-0.13.1-py2.py3-none-any.whl (18 kB)\n",
            "Collecting typing-extensions>=3.6.4\n",
            "  Downloading typing_extensions-3.10.0.0-py3-none-any.whl (26 kB)\n",
            "Collecting zipp>=0.5\n",
            "  Downloading zipp-3.5.0-py3-none-any.whl (5.7 kB)\n",
            "Collecting pyparsing>=2.0.2\n",
            "  Downloading pyparsing-2.4.7-py2.py3-none-any.whl (67 kB)\n",
            "\u001b[K     |████████████████████████████████| 67 kB 6.2 MB/s \n",
            "\u001b[?25hBuilding wheels for collected packages: MightyLogic\n",
            "  Building wheel for MightyLogic (setup.py) ... \u001b[?25l\u001b[?25hdone\n",
            "  Created wheel for MightyLogic: filename=MightyLogic-0.2-py3-none-any.whl size=23589 sha256=36ae95ad2eb4a411c37bd85fabff6740405da785eab1a7148004e82707854d3c\n",
            "  Stored in directory: /tmp/pip-ephem-wheel-cache-6xwgny_5/wheels/84/7a/55/d74e49b550ce0fddb2379db726853920650df706dedea8daae\n",
            "Successfully built MightyLogic\n",
            "Installing collected packages: zipp, typing-extensions, pyparsing, importlib-metadata, toml, py, pluggy, packaging, iniconfig, attrs, pytest, MightyLogic\n",
            "  Attempting uninstall: zipp\n",
            "    Found existing installation: zipp 3.5.0\n",
            "    Uninstalling zipp-3.5.0:\n",
            "      Successfully uninstalled zipp-3.5.0\n",
            "  Attempting uninstall: typing-extensions\n",
            "    Found existing installation: typing-extensions 3.7.4.3\n",
            "    Uninstalling typing-extensions-3.7.4.3:\n",
            "      Successfully uninstalled typing-extensions-3.7.4.3\n",
            "  Attempting uninstall: pyparsing\n",
            "    Found existing installation: pyparsing 2.4.7\n",
            "    Uninstalling pyparsing-2.4.7:\n",
            "      Successfully uninstalled pyparsing-2.4.7\n",
            "  Attempting uninstall: importlib-metadata\n",
            "    Found existing installation: importlib-metadata 4.6.1\n",
            "    Uninstalling importlib-metadata-4.6.1:\n",
            "      Successfully uninstalled importlib-metadata-4.6.1\n",
            "  Attempting uninstall: toml\n",
            "    Found existing installation: toml 0.10.2\n",
            "    Uninstalling toml-0.10.2:\n",
            "      Successfully uninstalled toml-0.10.2\n",
            "  Attempting uninstall: py\n",
            "    Found existing installation: py 1.10.0\n",
            "    Uninstalling py-1.10.0:\n",
            "      Successfully uninstalled py-1.10.0\n",
            "  Attempting uninstall: pluggy\n",
            "    Found existing installation: pluggy 0.7.1\n",
            "    Uninstalling pluggy-0.7.1:\n",
            "      Successfully uninstalled pluggy-0.7.1\n",
            "  Attempting uninstall: packaging\n",
            "    Found existing installation: packaging 21.0\n",
            "    Uninstalling packaging-21.0:\n",
            "      Successfully uninstalled packaging-21.0\n",
            "  Attempting uninstall: iniconfig\n",
            "    Found existing installation: iniconfig 1.1.1\n",
            "    Uninstalling iniconfig-1.1.1:\n",
            "      Successfully uninstalled iniconfig-1.1.1\n",
            "  Attempting uninstall: attrs\n",
            "    Found existing installation: attrs 21.2.0\n",
            "    Uninstalling attrs-21.2.0:\n",
            "      Successfully uninstalled attrs-21.2.0\n",
            "  Attempting uninstall: pytest\n",
            "    Found existing installation: pytest 3.6.4\n",
            "    Uninstalling pytest-3.6.4:\n",
            "      Successfully uninstalled pytest-3.6.4\n",
            "\u001b[31mERROR: pip's dependency resolver does not currently take into account all the packages that are installed. This behaviour is the source of the following dependency conflicts.\n",
            "tensorflow 2.5.0 requires typing-extensions~=3.7.4, but you have typing-extensions 3.10.0.0 which is incompatible.\n",
            "datascience 0.10.6 requires folium==0.2.1, but you have folium 0.8.3 which is incompatible.\n",
            "albumentations 0.1.12 requires imgaug<0.2.7,>=0.2.5, but you have imgaug 0.2.9 which is incompatible.\u001b[0m\n",
            "Successfully installed MightyLogic-0.2 attrs-21.2.0 importlib-metadata-4.6.1 iniconfig-1.1.1 packaging-21.0 pluggy-0.13.1 py-1.10.0 pyparsing-2.4.7 pytest-6.2.4 toml-0.10.2 typing-extensions-3.10.0.0 zipp-3.5.0\n"
          ],
          "name": "stdout"
        }
      ]
    },
    {
      "cell_type": "markdown",
      "metadata": {
        "id": "NHzAplwa7OjH"
      },
      "source": [
        "# Turf War Demo"
      ]
    },
    {
      "cell_type": "code",
      "metadata": {
        "id": "8J7WUPJLJSFT"
      },
      "source": [
        "\n",
        "#\n",
        "# A Turf War Map\n",
        "#\n",
        "\n",
        "map2 =TurfWarMap()\n",
        "map2.setGuild(\"Nightterror\")\n",
        "map2.setStartDate(year=2021, month=7, day=26)\n",
        "\n",
        "\n",
        "# Use convenience functions to build value array\n",
        "map2.addTile('A',1, mountains(1600,1000))\n",
        "map2.addTile('A',2, forest(1600,0,1000))\n",
        "map2.addTile('A',3, plains(1600, 1000))\n",
        "map2.addTile('A',4, mountains(1600,1000))\n",
        "map2.addTile('A',5, forest(1600,0,1000))\n",
        "map2.addTile('A',6, plains(1600,1000))\n",
        "\n",
        "map2.addTile('B',1, plains(1600,1000))\n",
        "map2.addTile('B',2, witch_hut(1700,300,3500))\n",
        "map2.addTile('B',3, forest(2500,0,2500))\n",
        "map2.addTile('B',4, altar(300,400,4250))\n",
        "map2.addTile('B',5, mountains(2500,2500))\n",
        "map2.addTile('B',6, forest(1600,0,1000))\n",
        "\n",
        "map2.addTile('C',1, forest(1600,0,1000))\n",
        "map2.addTile('C',2, plains(2500,2500))\n",
        "map2.addTile('C',3, stronghold(300,400,4250))\n",
        "map2.addTile('C',4, forest(2500,0,2500))\n",
        "map2.addTile('C',5, hells_gate(300,400,4250))\n",
        "map2.addTile('C',6, mountains(1600,1000))\n",
        "\n",
        "map2.addTile('D',1, gold_mine(45000,250,2500))\n",
        "map2.addTile('D',2, forest(2500,0,2500))\n",
        "map2.addTile('D',3, plains(2500,2500))\n",
        "map2.addTile('D',4, mountains(2500,2500))\n",
        "map2.addTile('D',5, forest(2500,0,2500))\n",
        "map2.addTile('D',6, factory(900, 250, 2500))\n",
        "\n",
        "map2.addTile('E',1, plains(1600,1000))\n",
        "map2.addTile('E',2, mountains(1600,1000))\n",
        "map2.addTile('E',3, forest(1600,0,1000))\n",
        "map2.addTile('E',4, plains(1600,1000))\n",
        "map2.addTile('E',5, mountains(1600,1000))\n",
        "map2.addTile('E',6, forest(1600,0,1000))\n",
        "\n",
        "\n",
        "# Payout array\n",
        "image = map2.getValues()\n",
        "res = map2.stagingScores()\n",
        "#pprint(image)"
      ],
      "execution_count": 2,
      "outputs": []
    },
    {
      "cell_type": "code",
      "metadata": {
        "id": "_9FUCcqyupZM"
      },
      "source": [
        "#\n",
        "# An approach that shows well-labeled heatmaps.\n",
        "#\n",
        "\n",
        "def get_heatmap(arr, title, round=True):\n",
        "  flip = np.flip( np.array(arr), axis=0)  # use numpy to flip array vertically\n",
        "  z = flip\n",
        "  if round:\n",
        "    z = z.round()\n",
        "\n",
        "  x = ['1', '2', '3', '4','5','6']\n",
        "  y = ['E','D','C','B','A']\n",
        "\n",
        "  #z_text = [\"%.0f\" % number for number in z] - doesn't work\n",
        "\n",
        "  if round:\n",
        "    z_text = flip.round( decimals=-1)\n",
        "  else:\n",
        "    z_text = flip.round( decimals=3)\n",
        "  # Possible to build up z_text to make it more friendly\n",
        "  # z_text = [['Win', 'Lose', 'Win'],\n",
        "  #          ['Lose', 'Lose', 'Win'],\n",
        "  #          ['Win', 'Win', 'Lose']]\n",
        "\n",
        "  fig = ff.create_annotated_heatmap(z, x=x, y=y, annotation_text=z_text, colorscale='Viridis')\n",
        "  fig.update_layout(title=title, autosize=False,\n",
        "                  width=500, height=500,\n",
        "                  margin=dict(l=65, r=50, b=65, t=90))\n",
        "  return fig #fig.show()\n",
        "\n"
      ],
      "execution_count": 3,
      "outputs": []
    },
    {
      "cell_type": "code",
      "metadata": {
        "colab": {
          "base_uri": "https://localhost:8080/",
          "height": 204
        },
        "id": "MrnaLh-530is",
        "outputId": "91dcaaf2-4601-4aad-9187-b90aab50de9e"
      },
      "source": [
        "#\n",
        "# The payout array can be accessed as a Pandas dataframe.\n",
        "#\n",
        "payout = map2.getDataFrame()\n",
        "payout"
      ],
      "execution_count": 4,
      "outputs": [
        {
          "output_type": "execute_result",
          "data": {
            "text/html": [
              "<div>\n",
              "<style scoped>\n",
              "    .dataframe tbody tr th:only-of-type {\n",
              "        vertical-align: middle;\n",
              "    }\n",
              "\n",
              "    .dataframe tbody tr th {\n",
              "        vertical-align: top;\n",
              "    }\n",
              "\n",
              "    .dataframe thead th {\n",
              "        text-align: right;\n",
              "    }\n",
              "</style>\n",
              "<table border=\"1\" class=\"dataframe\">\n",
              "  <thead>\n",
              "    <tr style=\"text-align: right;\">\n",
              "      <th></th>\n",
              "      <th>1</th>\n",
              "      <th>2</th>\n",
              "      <th>3</th>\n",
              "      <th>4</th>\n",
              "      <th>5</th>\n",
              "      <th>6</th>\n",
              "    </tr>\n",
              "  </thead>\n",
              "  <tbody>\n",
              "    <tr>\n",
              "      <th>A</th>\n",
              "      <td>15001.6</td>\n",
              "      <td>15001.6</td>\n",
              "      <td>15001.6</td>\n",
              "      <td>15001.6</td>\n",
              "      <td>15001.6</td>\n",
              "      <td>15001.6</td>\n",
              "    </tr>\n",
              "    <tr>\n",
              "      <th>B</th>\n",
              "      <td>15001.6</td>\n",
              "      <td>57017.0</td>\n",
              "      <td>37502.5</td>\n",
              "      <td>69780.0</td>\n",
              "      <td>37502.5</td>\n",
              "      <td>15001.6</td>\n",
              "    </tr>\n",
              "    <tr>\n",
              "      <th>C</th>\n",
              "      <td>15001.6</td>\n",
              "      <td>37502.5</td>\n",
              "      <td>69780.0</td>\n",
              "      <td>37502.5</td>\n",
              "      <td>69780.0</td>\n",
              "      <td>15001.6</td>\n",
              "    </tr>\n",
              "    <tr>\n",
              "      <th>D</th>\n",
              "      <td>68250.0</td>\n",
              "      <td>37502.5</td>\n",
              "      <td>37502.5</td>\n",
              "      <td>37502.5</td>\n",
              "      <td>37502.5</td>\n",
              "      <td>41295.0</td>\n",
              "    </tr>\n",
              "    <tr>\n",
              "      <th>E</th>\n",
              "      <td>15001.6</td>\n",
              "      <td>15001.6</td>\n",
              "      <td>15001.6</td>\n",
              "      <td>15001.6</td>\n",
              "      <td>15001.6</td>\n",
              "      <td>15001.6</td>\n",
              "    </tr>\n",
              "  </tbody>\n",
              "</table>\n",
              "</div>"
            ],
            "text/plain": [
              "         1        2        3        4        5        6\n",
              "A  15001.6  15001.6  15001.6  15001.6  15001.6  15001.6\n",
              "B  15001.6  57017.0  37502.5  69780.0  37502.5  15001.6\n",
              "C  15001.6  37502.5  69780.0  37502.5  69780.0  15001.6\n",
              "D  68250.0  37502.5  37502.5  37502.5  37502.5  41295.0\n",
              "E  15001.6  15001.6  15001.6  15001.6  15001.6  15001.6"
            ]
          },
          "metadata": {
            "tags": []
          },
          "execution_count": 4
        }
      ]
    },
    {
      "cell_type": "code",
      "metadata": {
        "colab": {
          "base_uri": "https://localhost:8080/",
          "height": 204
        },
        "id": "b2zrL3xnagB3",
        "outputId": "19c4213c-1f16-4e5c-9c53-1214325ee23e"
      },
      "source": [
        "#\n",
        "# The staging array can be accessed as a Pandas dataframe.\n",
        "#\n",
        "staging =map2.getStrategicDataFrame()\n",
        "staging"
      ],
      "execution_count": 5,
      "outputs": [
        {
          "output_type": "execute_result",
          "data": {
            "text/html": [
              "<div>\n",
              "<style scoped>\n",
              "    .dataframe tbody tr th:only-of-type {\n",
              "        vertical-align: middle;\n",
              "    }\n",
              "\n",
              "    .dataframe tbody tr th {\n",
              "        vertical-align: top;\n",
              "    }\n",
              "\n",
              "    .dataframe thead th {\n",
              "        text-align: right;\n",
              "    }\n",
              "</style>\n",
              "<table border=\"1\" class=\"dataframe\">\n",
              "  <thead>\n",
              "    <tr style=\"text-align: right;\">\n",
              "      <th></th>\n",
              "      <th>1</th>\n",
              "      <th>2</th>\n",
              "      <th>3</th>\n",
              "      <th>4</th>\n",
              "      <th>5</th>\n",
              "      <th>6</th>\n",
              "    </tr>\n",
              "  </thead>\n",
              "  <tbody>\n",
              "    <tr>\n",
              "      <th>A</th>\n",
              "      <td>30003.2</td>\n",
              "      <td>87020.2</td>\n",
              "      <td>67505.7</td>\n",
              "      <td>99783.2</td>\n",
              "      <td>67505.7</td>\n",
              "      <td>30003.2</td>\n",
              "    </tr>\n",
              "    <tr>\n",
              "      <th>B</th>\n",
              "      <td>87020.2</td>\n",
              "      <td>0.0</td>\n",
              "      <td>211578.6</td>\n",
              "      <td>0.0</td>\n",
              "      <td>169563.2</td>\n",
              "      <td>67505.7</td>\n",
              "    </tr>\n",
              "    <tr>\n",
              "      <th>C</th>\n",
              "      <td>120754.1</td>\n",
              "      <td>179301.1</td>\n",
              "      <td>0.0</td>\n",
              "      <td>246842.5</td>\n",
              "      <td>0.0</td>\n",
              "      <td>126076.6</td>\n",
              "    </tr>\n",
              "    <tr>\n",
              "      <th>D</th>\n",
              "      <td>0.0</td>\n",
              "      <td>158256.6</td>\n",
              "      <td>159786.6</td>\n",
              "      <td>127509.1</td>\n",
              "      <td>163579.1</td>\n",
              "      <td>0.0</td>\n",
              "    </tr>\n",
              "    <tr>\n",
              "      <th>E</th>\n",
              "      <td>83251.6</td>\n",
              "      <td>67505.7</td>\n",
              "      <td>67505.7</td>\n",
              "      <td>67505.7</td>\n",
              "      <td>67505.7</td>\n",
              "      <td>56296.6</td>\n",
              "    </tr>\n",
              "  </tbody>\n",
              "</table>\n",
              "</div>"
            ],
            "text/plain": [
              "          1         2         3         4         5         6\n",
              "A   30003.2   87020.2   67505.7   99783.2   67505.7   30003.2\n",
              "B   87020.2       0.0  211578.6       0.0  169563.2   67505.7\n",
              "C  120754.1  179301.1       0.0  246842.5       0.0  126076.6\n",
              "D       0.0  158256.6  159786.6  127509.1  163579.1       0.0\n",
              "E   83251.6   67505.7   67505.7   67505.7   67505.7   56296.6"
            ]
          },
          "metadata": {
            "tags": []
          },
          "execution_count": 5
        }
      ]
    },
    {
      "cell_type": "code",
      "metadata": {
        "colab": {
          "base_uri": "https://localhost:8080/",
          "height": 1000
        },
        "id": "_XqgHoPg3cDi",
        "outputId": "870e3f1c-ddfe-44c2-fed5-b994a10412f2"
      },
      "source": [
        "#\n",
        "# Heatmaps show the best tiles for payout round and non-payout rounds.\n",
        "#\n",
        "\n",
        "\n",
        "fig1 = get_heatmap(image,\"Payout Values for 3rd Rounds\")\n",
        "fig2 = get_heatmap(res,\"Strategic Values for Non-Payout Rounds\")\n",
        "\n",
        "fig1.show()\n",
        "fig2.show()"
      ],
      "execution_count": 6,
      "outputs": [
        {
          "output_type": "display_data",
          "data": {
            "text/html": [
              "<html>\n",
              "<head><meta charset=\"utf-8\" /></head>\n",
              "<body>\n",
              "    <div>\n",
              "            <script src=\"https://cdnjs.cloudflare.com/ajax/libs/mathjax/2.7.5/MathJax.js?config=TeX-AMS-MML_SVG\"></script><script type=\"text/javascript\">if (window.MathJax) {MathJax.Hub.Config({SVG: {font: \"STIX-Web\"}});}</script>\n",
              "                <script type=\"text/javascript\">window.PlotlyConfig = {MathJaxConfig: 'local'};</script>\n",
              "        <script src=\"https://cdn.plot.ly/plotly-latest.min.js\"></script>    \n",
              "            <div id=\"39007314-86b2-49ca-af1a-69127c65c44d\" class=\"plotly-graph-div\" style=\"height:500px; width:500px;\"></div>\n",
              "            <script type=\"text/javascript\">\n",
              "                \n",
              "                    window.PLOTLYENV=window.PLOTLYENV || {};\n",
              "                    \n",
              "                if (document.getElementById(\"39007314-86b2-49ca-af1a-69127c65c44d\")) {\n",
              "                    Plotly.newPlot(\n",
              "                        '39007314-86b2-49ca-af1a-69127c65c44d',\n",
              "                        [{\"colorscale\": [[0.0, \"#440154\"], [0.1111111111111111, \"#482878\"], [0.2222222222222222, \"#3e4989\"], [0.3333333333333333, \"#31688e\"], [0.4444444444444444, \"#26828e\"], [0.5555555555555556, \"#1f9e89\"], [0.6666666666666666, \"#35b779\"], [0.7777777777777778, \"#6ece58\"], [0.8888888888888888, \"#b5de2b\"], [1.0, \"#fde725\"]], \"reversescale\": false, \"showscale\": false, \"type\": \"heatmap\", \"x\": [\"1\", \"2\", \"3\", \"4\", \"5\", \"6\"], \"y\": [\"E\", \"D\", \"C\", \"B\", \"A\"], \"z\": [[15002.0, 15002.0, 15002.0, 15002.0, 15002.0, 15002.0], [68250.0, 37502.0, 37502.0, 37502.0, 37502.0, 41295.0], [15002.0, 37502.0, 69780.0, 37502.0, 69780.0, 15002.0], [15002.0, 57017.0, 37502.0, 69780.0, 37502.0, 15002.0], [15002.0, 15002.0, 15002.0, 15002.0, 15002.0, 15002.0]]}],\n",
              "                        {\"annotations\": [{\"font\": {\"color\": \"#FFFFFF\"}, \"showarrow\": false, \"text\": \"15000.0\", \"x\": \"1\", \"xref\": \"x\", \"y\": \"E\", \"yref\": \"y\"}, {\"font\": {\"color\": \"#FFFFFF\"}, \"showarrow\": false, \"text\": \"15000.0\", \"x\": \"2\", \"xref\": \"x\", \"y\": \"E\", \"yref\": \"y\"}, {\"font\": {\"color\": \"#FFFFFF\"}, \"showarrow\": false, \"text\": \"15000.0\", \"x\": \"3\", \"xref\": \"x\", \"y\": \"E\", \"yref\": \"y\"}, {\"font\": {\"color\": \"#FFFFFF\"}, \"showarrow\": false, \"text\": \"15000.0\", \"x\": \"4\", \"xref\": \"x\", \"y\": \"E\", \"yref\": \"y\"}, {\"font\": {\"color\": \"#FFFFFF\"}, \"showarrow\": false, \"text\": \"15000.0\", \"x\": \"5\", \"xref\": \"x\", \"y\": \"E\", \"yref\": \"y\"}, {\"font\": {\"color\": \"#FFFFFF\"}, \"showarrow\": false, \"text\": \"15000.0\", \"x\": \"6\", \"xref\": \"x\", \"y\": \"E\", \"yref\": \"y\"}, {\"font\": {\"color\": \"#000000\"}, \"showarrow\": false, \"text\": \"68250.0\", \"x\": \"1\", \"xref\": \"x\", \"y\": \"D\", \"yref\": \"y\"}, {\"font\": {\"color\": \"#FFFFFF\"}, \"showarrow\": false, \"text\": \"37500.0\", \"x\": \"2\", \"xref\": \"x\", \"y\": \"D\", \"yref\": \"y\"}, {\"font\": {\"color\": \"#FFFFFF\"}, \"showarrow\": false, \"text\": \"37500.0\", \"x\": \"3\", \"xref\": \"x\", \"y\": \"D\", \"yref\": \"y\"}, {\"font\": {\"color\": \"#FFFFFF\"}, \"showarrow\": false, \"text\": \"37500.0\", \"x\": \"4\", \"xref\": \"x\", \"y\": \"D\", \"yref\": \"y\"}, {\"font\": {\"color\": \"#FFFFFF\"}, \"showarrow\": false, \"text\": \"37500.0\", \"x\": \"5\", \"xref\": \"x\", \"y\": \"D\", \"yref\": \"y\"}, {\"font\": {\"color\": \"#FFFFFF\"}, \"showarrow\": false, \"text\": \"41300.0\", \"x\": \"6\", \"xref\": \"x\", \"y\": \"D\", \"yref\": \"y\"}, {\"font\": {\"color\": \"#FFFFFF\"}, \"showarrow\": false, \"text\": \"15000.0\", \"x\": \"1\", \"xref\": \"x\", \"y\": \"C\", \"yref\": \"y\"}, {\"font\": {\"color\": \"#FFFFFF\"}, \"showarrow\": false, \"text\": \"37500.0\", \"x\": \"2\", \"xref\": \"x\", \"y\": \"C\", \"yref\": \"y\"}, {\"font\": {\"color\": \"#000000\"}, \"showarrow\": false, \"text\": \"69780.0\", \"x\": \"3\", \"xref\": \"x\", \"y\": \"C\", \"yref\": \"y\"}, {\"font\": {\"color\": \"#FFFFFF\"}, \"showarrow\": false, \"text\": \"37500.0\", \"x\": \"4\", \"xref\": \"x\", \"y\": \"C\", \"yref\": \"y\"}, {\"font\": {\"color\": \"#000000\"}, \"showarrow\": false, \"text\": \"69780.0\", \"x\": \"5\", \"xref\": \"x\", \"y\": \"C\", \"yref\": \"y\"}, {\"font\": {\"color\": \"#FFFFFF\"}, \"showarrow\": false, \"text\": \"15000.0\", \"x\": \"6\", \"xref\": \"x\", \"y\": \"C\", \"yref\": \"y\"}, {\"font\": {\"color\": \"#FFFFFF\"}, \"showarrow\": false, \"text\": \"15000.0\", \"x\": \"1\", \"xref\": \"x\", \"y\": \"B\", \"yref\": \"y\"}, {\"font\": {\"color\": \"#000000\"}, \"showarrow\": false, \"text\": \"57020.0\", \"x\": \"2\", \"xref\": \"x\", \"y\": \"B\", \"yref\": \"y\"}, {\"font\": {\"color\": \"#FFFFFF\"}, \"showarrow\": false, \"text\": \"37500.0\", \"x\": \"3\", \"xref\": \"x\", \"y\": \"B\", \"yref\": \"y\"}, {\"font\": {\"color\": \"#000000\"}, \"showarrow\": false, \"text\": \"69780.0\", \"x\": \"4\", \"xref\": \"x\", \"y\": \"B\", \"yref\": \"y\"}, {\"font\": {\"color\": \"#FFFFFF\"}, \"showarrow\": false, \"text\": \"37500.0\", \"x\": \"5\", \"xref\": \"x\", \"y\": \"B\", \"yref\": \"y\"}, {\"font\": {\"color\": \"#FFFFFF\"}, \"showarrow\": false, \"text\": \"15000.0\", \"x\": \"6\", \"xref\": \"x\", \"y\": \"B\", \"yref\": \"y\"}, {\"font\": {\"color\": \"#FFFFFF\"}, \"showarrow\": false, \"text\": \"15000.0\", \"x\": \"1\", \"xref\": \"x\", \"y\": \"A\", \"yref\": \"y\"}, {\"font\": {\"color\": \"#FFFFFF\"}, \"showarrow\": false, \"text\": \"15000.0\", \"x\": \"2\", \"xref\": \"x\", \"y\": \"A\", \"yref\": \"y\"}, {\"font\": {\"color\": \"#FFFFFF\"}, \"showarrow\": false, \"text\": \"15000.0\", \"x\": \"3\", \"xref\": \"x\", \"y\": \"A\", \"yref\": \"y\"}, {\"font\": {\"color\": \"#FFFFFF\"}, \"showarrow\": false, \"text\": \"15000.0\", \"x\": \"4\", \"xref\": \"x\", \"y\": \"A\", \"yref\": \"y\"}, {\"font\": {\"color\": \"#FFFFFF\"}, \"showarrow\": false, \"text\": \"15000.0\", \"x\": \"5\", \"xref\": \"x\", \"y\": \"A\", \"yref\": \"y\"}, {\"font\": {\"color\": \"#FFFFFF\"}, \"showarrow\": false, \"text\": \"15000.0\", \"x\": \"6\", \"xref\": \"x\", \"y\": \"A\", \"yref\": \"y\"}], \"autosize\": false, \"height\": 500, \"margin\": {\"b\": 65, \"l\": 65, \"r\": 50, \"t\": 90}, \"template\": {\"data\": {\"bar\": [{\"error_x\": {\"color\": \"#2a3f5f\"}, \"error_y\": {\"color\": \"#2a3f5f\"}, \"marker\": {\"line\": {\"color\": \"#E5ECF6\", \"width\": 0.5}}, \"type\": \"bar\"}], \"barpolar\": [{\"marker\": {\"line\": {\"color\": \"#E5ECF6\", \"width\": 0.5}}, \"type\": \"barpolar\"}], \"carpet\": [{\"aaxis\": {\"endlinecolor\": \"#2a3f5f\", \"gridcolor\": \"white\", \"linecolor\": \"white\", \"minorgridcolor\": \"white\", \"startlinecolor\": \"#2a3f5f\"}, \"baxis\": {\"endlinecolor\": \"#2a3f5f\", \"gridcolor\": \"white\", \"linecolor\": \"white\", \"minorgridcolor\": \"white\", \"startlinecolor\": \"#2a3f5f\"}, \"type\": \"carpet\"}], \"choropleth\": [{\"colorbar\": {\"outlinewidth\": 0, \"ticks\": \"\"}, \"type\": \"choropleth\"}], \"contour\": [{\"colorbar\": {\"outlinewidth\": 0, \"ticks\": \"\"}, \"colorscale\": [[0.0, \"#0d0887\"], [0.1111111111111111, \"#46039f\"], [0.2222222222222222, \"#7201a8\"], [0.3333333333333333, \"#9c179e\"], [0.4444444444444444, \"#bd3786\"], [0.5555555555555556, \"#d8576b\"], [0.6666666666666666, \"#ed7953\"], [0.7777777777777778, \"#fb9f3a\"], [0.8888888888888888, \"#fdca26\"], [1.0, \"#f0f921\"]], \"type\": \"contour\"}], \"contourcarpet\": [{\"colorbar\": {\"outlinewidth\": 0, \"ticks\": \"\"}, \"type\": \"contourcarpet\"}], \"heatmap\": [{\"colorbar\": {\"outlinewidth\": 0, \"ticks\": \"\"}, \"colorscale\": [[0.0, \"#0d0887\"], [0.1111111111111111, \"#46039f\"], [0.2222222222222222, \"#7201a8\"], [0.3333333333333333, \"#9c179e\"], [0.4444444444444444, \"#bd3786\"], [0.5555555555555556, \"#d8576b\"], [0.6666666666666666, \"#ed7953\"], [0.7777777777777778, \"#fb9f3a\"], [0.8888888888888888, \"#fdca26\"], [1.0, \"#f0f921\"]], \"type\": \"heatmap\"}], \"heatmapgl\": [{\"colorbar\": {\"outlinewidth\": 0, \"ticks\": \"\"}, \"colorscale\": [[0.0, \"#0d0887\"], [0.1111111111111111, \"#46039f\"], [0.2222222222222222, \"#7201a8\"], [0.3333333333333333, \"#9c179e\"], [0.4444444444444444, \"#bd3786\"], [0.5555555555555556, \"#d8576b\"], [0.6666666666666666, \"#ed7953\"], [0.7777777777777778, \"#fb9f3a\"], [0.8888888888888888, \"#fdca26\"], [1.0, \"#f0f921\"]], \"type\": \"heatmapgl\"}], \"histogram\": [{\"marker\": {\"colorbar\": {\"outlinewidth\": 0, \"ticks\": \"\"}}, \"type\": \"histogram\"}], \"histogram2d\": [{\"colorbar\": {\"outlinewidth\": 0, \"ticks\": \"\"}, \"colorscale\": [[0.0, \"#0d0887\"], [0.1111111111111111, \"#46039f\"], [0.2222222222222222, \"#7201a8\"], [0.3333333333333333, \"#9c179e\"], [0.4444444444444444, \"#bd3786\"], [0.5555555555555556, \"#d8576b\"], [0.6666666666666666, \"#ed7953\"], [0.7777777777777778, \"#fb9f3a\"], [0.8888888888888888, \"#fdca26\"], [1.0, \"#f0f921\"]], \"type\": \"histogram2d\"}], \"histogram2dcontour\": [{\"colorbar\": {\"outlinewidth\": 0, \"ticks\": \"\"}, \"colorscale\": [[0.0, \"#0d0887\"], [0.1111111111111111, \"#46039f\"], [0.2222222222222222, \"#7201a8\"], [0.3333333333333333, \"#9c179e\"], [0.4444444444444444, \"#bd3786\"], [0.5555555555555556, \"#d8576b\"], [0.6666666666666666, \"#ed7953\"], [0.7777777777777778, \"#fb9f3a\"], [0.8888888888888888, \"#fdca26\"], [1.0, \"#f0f921\"]], \"type\": \"histogram2dcontour\"}], \"mesh3d\": [{\"colorbar\": {\"outlinewidth\": 0, \"ticks\": \"\"}, \"type\": \"mesh3d\"}], \"parcoords\": [{\"line\": {\"colorbar\": {\"outlinewidth\": 0, \"ticks\": \"\"}}, \"type\": \"parcoords\"}], \"pie\": [{\"automargin\": true, \"type\": \"pie\"}], \"scatter\": [{\"marker\": {\"colorbar\": {\"outlinewidth\": 0, \"ticks\": \"\"}}, \"type\": \"scatter\"}], \"scatter3d\": [{\"line\": {\"colorbar\": {\"outlinewidth\": 0, \"ticks\": \"\"}}, \"marker\": {\"colorbar\": {\"outlinewidth\": 0, \"ticks\": \"\"}}, \"type\": \"scatter3d\"}], \"scattercarpet\": [{\"marker\": {\"colorbar\": {\"outlinewidth\": 0, \"ticks\": \"\"}}, \"type\": \"scattercarpet\"}], \"scattergeo\": [{\"marker\": {\"colorbar\": {\"outlinewidth\": 0, \"ticks\": \"\"}}, \"type\": \"scattergeo\"}], \"scattergl\": [{\"marker\": {\"colorbar\": {\"outlinewidth\": 0, \"ticks\": \"\"}}, \"type\": \"scattergl\"}], \"scattermapbox\": [{\"marker\": {\"colorbar\": {\"outlinewidth\": 0, \"ticks\": \"\"}}, \"type\": \"scattermapbox\"}], \"scatterpolar\": [{\"marker\": {\"colorbar\": {\"outlinewidth\": 0, \"ticks\": \"\"}}, \"type\": \"scatterpolar\"}], \"scatterpolargl\": [{\"marker\": {\"colorbar\": {\"outlinewidth\": 0, \"ticks\": \"\"}}, \"type\": \"scatterpolargl\"}], \"scatterternary\": [{\"marker\": {\"colorbar\": {\"outlinewidth\": 0, \"ticks\": \"\"}}, \"type\": \"scatterternary\"}], \"surface\": [{\"colorbar\": {\"outlinewidth\": 0, \"ticks\": \"\"}, \"colorscale\": [[0.0, \"#0d0887\"], [0.1111111111111111, \"#46039f\"], [0.2222222222222222, \"#7201a8\"], [0.3333333333333333, \"#9c179e\"], [0.4444444444444444, \"#bd3786\"], [0.5555555555555556, \"#d8576b\"], [0.6666666666666666, \"#ed7953\"], [0.7777777777777778, \"#fb9f3a\"], [0.8888888888888888, \"#fdca26\"], [1.0, \"#f0f921\"]], \"type\": \"surface\"}], \"table\": [{\"cells\": {\"fill\": {\"color\": \"#EBF0F8\"}, \"line\": {\"color\": \"white\"}}, \"header\": {\"fill\": {\"color\": \"#C8D4E3\"}, \"line\": {\"color\": \"white\"}}, \"type\": \"table\"}]}, \"layout\": {\"annotationdefaults\": {\"arrowcolor\": \"#2a3f5f\", \"arrowhead\": 0, \"arrowwidth\": 1}, \"coloraxis\": {\"colorbar\": {\"outlinewidth\": 0, \"ticks\": \"\"}}, \"colorscale\": {\"diverging\": [[0, \"#8e0152\"], [0.1, \"#c51b7d\"], [0.2, \"#de77ae\"], [0.3, \"#f1b6da\"], [0.4, \"#fde0ef\"], [0.5, \"#f7f7f7\"], [0.6, \"#e6f5d0\"], [0.7, \"#b8e186\"], [0.8, \"#7fbc41\"], [0.9, \"#4d9221\"], [1, \"#276419\"]], \"sequential\": [[0.0, \"#0d0887\"], [0.1111111111111111, \"#46039f\"], [0.2222222222222222, \"#7201a8\"], [0.3333333333333333, \"#9c179e\"], [0.4444444444444444, \"#bd3786\"], [0.5555555555555556, \"#d8576b\"], [0.6666666666666666, \"#ed7953\"], [0.7777777777777778, \"#fb9f3a\"], [0.8888888888888888, \"#fdca26\"], [1.0, \"#f0f921\"]], \"sequentialminus\": [[0.0, \"#0d0887\"], [0.1111111111111111, \"#46039f\"], [0.2222222222222222, \"#7201a8\"], [0.3333333333333333, \"#9c179e\"], [0.4444444444444444, \"#bd3786\"], [0.5555555555555556, \"#d8576b\"], [0.6666666666666666, \"#ed7953\"], [0.7777777777777778, \"#fb9f3a\"], [0.8888888888888888, \"#fdca26\"], [1.0, \"#f0f921\"]]}, \"colorway\": [\"#636efa\", \"#EF553B\", \"#00cc96\", \"#ab63fa\", \"#FFA15A\", \"#19d3f3\", \"#FF6692\", \"#B6E880\", \"#FF97FF\", \"#FECB52\"], \"font\": {\"color\": \"#2a3f5f\"}, \"geo\": {\"bgcolor\": \"white\", \"lakecolor\": \"white\", \"landcolor\": \"#E5ECF6\", \"showlakes\": true, \"showland\": true, \"subunitcolor\": \"white\"}, \"hoverlabel\": {\"align\": \"left\"}, \"hovermode\": \"closest\", \"mapbox\": {\"style\": \"light\"}, \"paper_bgcolor\": \"white\", \"plot_bgcolor\": \"#E5ECF6\", \"polar\": {\"angularaxis\": {\"gridcolor\": \"white\", \"linecolor\": \"white\", \"ticks\": \"\"}, \"bgcolor\": \"#E5ECF6\", \"radialaxis\": {\"gridcolor\": \"white\", \"linecolor\": \"white\", \"ticks\": \"\"}}, \"scene\": {\"xaxis\": {\"backgroundcolor\": \"#E5ECF6\", \"gridcolor\": \"white\", \"gridwidth\": 2, \"linecolor\": \"white\", \"showbackground\": true, \"ticks\": \"\", \"zerolinecolor\": \"white\"}, \"yaxis\": {\"backgroundcolor\": \"#E5ECF6\", \"gridcolor\": \"white\", \"gridwidth\": 2, \"linecolor\": \"white\", \"showbackground\": true, \"ticks\": \"\", \"zerolinecolor\": \"white\"}, \"zaxis\": {\"backgroundcolor\": \"#E5ECF6\", \"gridcolor\": \"white\", \"gridwidth\": 2, \"linecolor\": \"white\", \"showbackground\": true, \"ticks\": \"\", \"zerolinecolor\": \"white\"}}, \"shapedefaults\": {\"line\": {\"color\": \"#2a3f5f\"}}, \"ternary\": {\"aaxis\": {\"gridcolor\": \"white\", \"linecolor\": \"white\", \"ticks\": \"\"}, \"baxis\": {\"gridcolor\": \"white\", \"linecolor\": \"white\", \"ticks\": \"\"}, \"bgcolor\": \"#E5ECF6\", \"caxis\": {\"gridcolor\": \"white\", \"linecolor\": \"white\", \"ticks\": \"\"}}, \"title\": {\"x\": 0.05}, \"xaxis\": {\"automargin\": true, \"gridcolor\": \"white\", \"linecolor\": \"white\", \"ticks\": \"\", \"title\": {\"standoff\": 15}, \"zerolinecolor\": \"white\", \"zerolinewidth\": 2}, \"yaxis\": {\"automargin\": true, \"gridcolor\": \"white\", \"linecolor\": \"white\", \"ticks\": \"\", \"title\": {\"standoff\": 15}, \"zerolinecolor\": \"white\", \"zerolinewidth\": 2}}}, \"title\": {\"text\": \"Payout Values for 3rd Rounds\"}, \"width\": 500, \"xaxis\": {\"dtick\": 1, \"gridcolor\": \"rgb(0, 0, 0)\", \"side\": \"top\", \"ticks\": \"\"}, \"yaxis\": {\"dtick\": 1, \"ticks\": \"\", \"ticksuffix\": \"  \"}},\n",
              "                        {\"responsive\": true}\n",
              "                    ).then(function(){\n",
              "                            \n",
              "var gd = document.getElementById('39007314-86b2-49ca-af1a-69127c65c44d');\n",
              "var x = new MutationObserver(function (mutations, observer) {{\n",
              "        var display = window.getComputedStyle(gd).display;\n",
              "        if (!display || display === 'none') {{\n",
              "            console.log([gd, 'removed!']);\n",
              "            Plotly.purge(gd);\n",
              "            observer.disconnect();\n",
              "        }}\n",
              "}});\n",
              "\n",
              "// Listen for the removal of the full notebook cells\n",
              "var notebookContainer = gd.closest('#notebook-container');\n",
              "if (notebookContainer) {{\n",
              "    x.observe(notebookContainer, {childList: true});\n",
              "}}\n",
              "\n",
              "// Listen for the clearing of the current output cell\n",
              "var outputEl = gd.closest('.output');\n",
              "if (outputEl) {{\n",
              "    x.observe(outputEl, {childList: true});\n",
              "}}\n",
              "\n",
              "                        })\n",
              "                };\n",
              "                \n",
              "            </script>\n",
              "        </div>\n",
              "</body>\n",
              "</html>"
            ]
          },
          "metadata": {
            "tags": []
          }
        },
        {
          "output_type": "display_data",
          "data": {
            "text/html": [
              "<html>\n",
              "<head><meta charset=\"utf-8\" /></head>\n",
              "<body>\n",
              "    <div>\n",
              "            <script src=\"https://cdnjs.cloudflare.com/ajax/libs/mathjax/2.7.5/MathJax.js?config=TeX-AMS-MML_SVG\"></script><script type=\"text/javascript\">if (window.MathJax) {MathJax.Hub.Config({SVG: {font: \"STIX-Web\"}});}</script>\n",
              "                <script type=\"text/javascript\">window.PlotlyConfig = {MathJaxConfig: 'local'};</script>\n",
              "        <script src=\"https://cdn.plot.ly/plotly-latest.min.js\"></script>    \n",
              "            <div id=\"9d92e253-67da-4d42-887d-4dd8db96e05e\" class=\"plotly-graph-div\" style=\"height:500px; width:500px;\"></div>\n",
              "            <script type=\"text/javascript\">\n",
              "                \n",
              "                    window.PLOTLYENV=window.PLOTLYENV || {};\n",
              "                    \n",
              "                if (document.getElementById(\"9d92e253-67da-4d42-887d-4dd8db96e05e\")) {\n",
              "                    Plotly.newPlot(\n",
              "                        '9d92e253-67da-4d42-887d-4dd8db96e05e',\n",
              "                        [{\"colorscale\": [[0.0, \"#440154\"], [0.1111111111111111, \"#482878\"], [0.2222222222222222, \"#3e4989\"], [0.3333333333333333, \"#31688e\"], [0.4444444444444444, \"#26828e\"], [0.5555555555555556, \"#1f9e89\"], [0.6666666666666666, \"#35b779\"], [0.7777777777777778, \"#6ece58\"], [0.8888888888888888, \"#b5de2b\"], [1.0, \"#fde725\"]], \"reversescale\": false, \"showscale\": false, \"type\": \"heatmap\", \"x\": [\"1\", \"2\", \"3\", \"4\", \"5\", \"6\"], \"y\": [\"E\", \"D\", \"C\", \"B\", \"A\"], \"z\": [[83252.0, 67506.0, 67506.0, 67506.0, 67506.0, 56297.0], [0.0, 158257.0, 159787.0, 127509.0, 163579.0, 0.0], [120754.0, 179301.0, 0.0, 246842.0, 0.0, 126077.0], [87020.0, 0.0, 211579.0, 0.0, 169563.0, 67506.0], [30003.0, 87020.0, 67506.0, 99783.0, 67506.0, 30003.0]]}],\n",
              "                        {\"annotations\": [{\"font\": {\"color\": \"#FFFFFF\"}, \"showarrow\": false, \"text\": \"83250.0\", \"x\": \"1\", \"xref\": \"x\", \"y\": \"E\", \"yref\": \"y\"}, {\"font\": {\"color\": \"#FFFFFF\"}, \"showarrow\": false, \"text\": \"67510.0\", \"x\": \"2\", \"xref\": \"x\", \"y\": \"E\", \"yref\": \"y\"}, {\"font\": {\"color\": \"#FFFFFF\"}, \"showarrow\": false, \"text\": \"67510.0\", \"x\": \"3\", \"xref\": \"x\", \"y\": \"E\", \"yref\": \"y\"}, {\"font\": {\"color\": \"#FFFFFF\"}, \"showarrow\": false, \"text\": \"67510.0\", \"x\": \"4\", \"xref\": \"x\", \"y\": \"E\", \"yref\": \"y\"}, {\"font\": {\"color\": \"#FFFFFF\"}, \"showarrow\": false, \"text\": \"67510.0\", \"x\": \"5\", \"xref\": \"x\", \"y\": \"E\", \"yref\": \"y\"}, {\"font\": {\"color\": \"#FFFFFF\"}, \"showarrow\": false, \"text\": \"56300.0\", \"x\": \"6\", \"xref\": \"x\", \"y\": \"E\", \"yref\": \"y\"}, {\"font\": {\"color\": \"#FFFFFF\"}, \"showarrow\": false, \"text\": \"0.0\", \"x\": \"1\", \"xref\": \"x\", \"y\": \"D\", \"yref\": \"y\"}, {\"font\": {\"color\": \"#000000\"}, \"showarrow\": false, \"text\": \"158260.0\", \"x\": \"2\", \"xref\": \"x\", \"y\": \"D\", \"yref\": \"y\"}, {\"font\": {\"color\": \"#000000\"}, \"showarrow\": false, \"text\": \"159790.0\", \"x\": \"3\", \"xref\": \"x\", \"y\": \"D\", \"yref\": \"y\"}, {\"font\": {\"color\": \"#000000\"}, \"showarrow\": false, \"text\": \"127510.0\", \"x\": \"4\", \"xref\": \"x\", \"y\": \"D\", \"yref\": \"y\"}, {\"font\": {\"color\": \"#000000\"}, \"showarrow\": false, \"text\": \"163580.0\", \"x\": \"5\", \"xref\": \"x\", \"y\": \"D\", \"yref\": \"y\"}, {\"font\": {\"color\": \"#FFFFFF\"}, \"showarrow\": false, \"text\": \"0.0\", \"x\": \"6\", \"xref\": \"x\", \"y\": \"D\", \"yref\": \"y\"}, {\"font\": {\"color\": \"#FFFFFF\"}, \"showarrow\": false, \"text\": \"120750.0\", \"x\": \"1\", \"xref\": \"x\", \"y\": \"C\", \"yref\": \"y\"}, {\"font\": {\"color\": \"#000000\"}, \"showarrow\": false, \"text\": \"179300.0\", \"x\": \"2\", \"xref\": \"x\", \"y\": \"C\", \"yref\": \"y\"}, {\"font\": {\"color\": \"#FFFFFF\"}, \"showarrow\": false, \"text\": \"0.0\", \"x\": \"3\", \"xref\": \"x\", \"y\": \"C\", \"yref\": \"y\"}, {\"font\": {\"color\": \"#000000\"}, \"showarrow\": false, \"text\": \"246840.0\", \"x\": \"4\", \"xref\": \"x\", \"y\": \"C\", \"yref\": \"y\"}, {\"font\": {\"color\": \"#FFFFFF\"}, \"showarrow\": false, \"text\": \"0.0\", \"x\": \"5\", \"xref\": \"x\", \"y\": \"C\", \"yref\": \"y\"}, {\"font\": {\"color\": \"#000000\"}, \"showarrow\": false, \"text\": \"126080.0\", \"x\": \"6\", \"xref\": \"x\", \"y\": \"C\", \"yref\": \"y\"}, {\"font\": {\"color\": \"#FFFFFF\"}, \"showarrow\": false, \"text\": \"87020.0\", \"x\": \"1\", \"xref\": \"x\", \"y\": \"B\", \"yref\": \"y\"}, {\"font\": {\"color\": \"#FFFFFF\"}, \"showarrow\": false, \"text\": \"0.0\", \"x\": \"2\", \"xref\": \"x\", \"y\": \"B\", \"yref\": \"y\"}, {\"font\": {\"color\": \"#000000\"}, \"showarrow\": false, \"text\": \"211580.0\", \"x\": \"3\", \"xref\": \"x\", \"y\": \"B\", \"yref\": \"y\"}, {\"font\": {\"color\": \"#FFFFFF\"}, \"showarrow\": false, \"text\": \"0.0\", \"x\": \"4\", \"xref\": \"x\", \"y\": \"B\", \"yref\": \"y\"}, {\"font\": {\"color\": \"#000000\"}, \"showarrow\": false, \"text\": \"169560.0\", \"x\": \"5\", \"xref\": \"x\", \"y\": \"B\", \"yref\": \"y\"}, {\"font\": {\"color\": \"#FFFFFF\"}, \"showarrow\": false, \"text\": \"67510.0\", \"x\": \"6\", \"xref\": \"x\", \"y\": \"B\", \"yref\": \"y\"}, {\"font\": {\"color\": \"#FFFFFF\"}, \"showarrow\": false, \"text\": \"30000.0\", \"x\": \"1\", \"xref\": \"x\", \"y\": \"A\", \"yref\": \"y\"}, {\"font\": {\"color\": \"#FFFFFF\"}, \"showarrow\": false, \"text\": \"87020.0\", \"x\": \"2\", \"xref\": \"x\", \"y\": \"A\", \"yref\": \"y\"}, {\"font\": {\"color\": \"#FFFFFF\"}, \"showarrow\": false, \"text\": \"67510.0\", \"x\": \"3\", \"xref\": \"x\", \"y\": \"A\", \"yref\": \"y\"}, {\"font\": {\"color\": \"#FFFFFF\"}, \"showarrow\": false, \"text\": \"99780.0\", \"x\": \"4\", \"xref\": \"x\", \"y\": \"A\", \"yref\": \"y\"}, {\"font\": {\"color\": \"#FFFFFF\"}, \"showarrow\": false, \"text\": \"67510.0\", \"x\": \"5\", \"xref\": \"x\", \"y\": \"A\", \"yref\": \"y\"}, {\"font\": {\"color\": \"#FFFFFF\"}, \"showarrow\": false, \"text\": \"30000.0\", \"x\": \"6\", \"xref\": \"x\", \"y\": \"A\", \"yref\": \"y\"}], \"autosize\": false, \"height\": 500, \"margin\": {\"b\": 65, \"l\": 65, \"r\": 50, \"t\": 90}, \"template\": {\"data\": {\"bar\": [{\"error_x\": {\"color\": \"#2a3f5f\"}, \"error_y\": {\"color\": \"#2a3f5f\"}, \"marker\": {\"line\": {\"color\": \"#E5ECF6\", \"width\": 0.5}}, \"type\": \"bar\"}], \"barpolar\": [{\"marker\": {\"line\": {\"color\": \"#E5ECF6\", \"width\": 0.5}}, \"type\": \"barpolar\"}], \"carpet\": [{\"aaxis\": {\"endlinecolor\": \"#2a3f5f\", \"gridcolor\": \"white\", \"linecolor\": \"white\", \"minorgridcolor\": \"white\", \"startlinecolor\": \"#2a3f5f\"}, \"baxis\": {\"endlinecolor\": \"#2a3f5f\", \"gridcolor\": \"white\", \"linecolor\": \"white\", \"minorgridcolor\": \"white\", \"startlinecolor\": \"#2a3f5f\"}, \"type\": \"carpet\"}], \"choropleth\": [{\"colorbar\": {\"outlinewidth\": 0, \"ticks\": \"\"}, \"type\": \"choropleth\"}], \"contour\": [{\"colorbar\": {\"outlinewidth\": 0, \"ticks\": \"\"}, \"colorscale\": [[0.0, \"#0d0887\"], [0.1111111111111111, \"#46039f\"], [0.2222222222222222, \"#7201a8\"], [0.3333333333333333, \"#9c179e\"], [0.4444444444444444, \"#bd3786\"], [0.5555555555555556, \"#d8576b\"], [0.6666666666666666, \"#ed7953\"], [0.7777777777777778, \"#fb9f3a\"], [0.8888888888888888, \"#fdca26\"], [1.0, \"#f0f921\"]], \"type\": \"contour\"}], \"contourcarpet\": [{\"colorbar\": {\"outlinewidth\": 0, \"ticks\": \"\"}, \"type\": \"contourcarpet\"}], \"heatmap\": [{\"colorbar\": {\"outlinewidth\": 0, \"ticks\": \"\"}, \"colorscale\": [[0.0, \"#0d0887\"], [0.1111111111111111, \"#46039f\"], [0.2222222222222222, \"#7201a8\"], [0.3333333333333333, \"#9c179e\"], [0.4444444444444444, \"#bd3786\"], [0.5555555555555556, \"#d8576b\"], [0.6666666666666666, \"#ed7953\"], [0.7777777777777778, \"#fb9f3a\"], [0.8888888888888888, \"#fdca26\"], [1.0, \"#f0f921\"]], \"type\": \"heatmap\"}], \"heatmapgl\": [{\"colorbar\": {\"outlinewidth\": 0, \"ticks\": \"\"}, \"colorscale\": [[0.0, \"#0d0887\"], [0.1111111111111111, \"#46039f\"], [0.2222222222222222, \"#7201a8\"], [0.3333333333333333, \"#9c179e\"], [0.4444444444444444, \"#bd3786\"], [0.5555555555555556, \"#d8576b\"], [0.6666666666666666, \"#ed7953\"], [0.7777777777777778, \"#fb9f3a\"], [0.8888888888888888, \"#fdca26\"], [1.0, \"#f0f921\"]], \"type\": \"heatmapgl\"}], \"histogram\": [{\"marker\": {\"colorbar\": {\"outlinewidth\": 0, \"ticks\": \"\"}}, \"type\": \"histogram\"}], \"histogram2d\": [{\"colorbar\": {\"outlinewidth\": 0, \"ticks\": \"\"}, \"colorscale\": [[0.0, \"#0d0887\"], [0.1111111111111111, \"#46039f\"], [0.2222222222222222, \"#7201a8\"], [0.3333333333333333, \"#9c179e\"], [0.4444444444444444, \"#bd3786\"], [0.5555555555555556, \"#d8576b\"], [0.6666666666666666, \"#ed7953\"], [0.7777777777777778, \"#fb9f3a\"], [0.8888888888888888, \"#fdca26\"], [1.0, \"#f0f921\"]], \"type\": \"histogram2d\"}], \"histogram2dcontour\": [{\"colorbar\": {\"outlinewidth\": 0, \"ticks\": \"\"}, \"colorscale\": [[0.0, \"#0d0887\"], [0.1111111111111111, \"#46039f\"], [0.2222222222222222, \"#7201a8\"], [0.3333333333333333, \"#9c179e\"], [0.4444444444444444, \"#bd3786\"], [0.5555555555555556, \"#d8576b\"], [0.6666666666666666, \"#ed7953\"], [0.7777777777777778, \"#fb9f3a\"], [0.8888888888888888, \"#fdca26\"], [1.0, \"#f0f921\"]], \"type\": \"histogram2dcontour\"}], \"mesh3d\": [{\"colorbar\": {\"outlinewidth\": 0, \"ticks\": \"\"}, \"type\": \"mesh3d\"}], \"parcoords\": [{\"line\": {\"colorbar\": {\"outlinewidth\": 0, \"ticks\": \"\"}}, \"type\": \"parcoords\"}], \"pie\": [{\"automargin\": true, \"type\": \"pie\"}], \"scatter\": [{\"marker\": {\"colorbar\": {\"outlinewidth\": 0, \"ticks\": \"\"}}, \"type\": \"scatter\"}], \"scatter3d\": [{\"line\": {\"colorbar\": {\"outlinewidth\": 0, \"ticks\": \"\"}}, \"marker\": {\"colorbar\": {\"outlinewidth\": 0, \"ticks\": \"\"}}, \"type\": \"scatter3d\"}], \"scattercarpet\": [{\"marker\": {\"colorbar\": {\"outlinewidth\": 0, \"ticks\": \"\"}}, \"type\": \"scattercarpet\"}], \"scattergeo\": [{\"marker\": {\"colorbar\": {\"outlinewidth\": 0, \"ticks\": \"\"}}, \"type\": \"scattergeo\"}], \"scattergl\": [{\"marker\": {\"colorbar\": {\"outlinewidth\": 0, \"ticks\": \"\"}}, \"type\": \"scattergl\"}], \"scattermapbox\": [{\"marker\": {\"colorbar\": {\"outlinewidth\": 0, \"ticks\": \"\"}}, \"type\": \"scattermapbox\"}], \"scatterpolar\": [{\"marker\": {\"colorbar\": {\"outlinewidth\": 0, \"ticks\": \"\"}}, \"type\": \"scatterpolar\"}], \"scatterpolargl\": [{\"marker\": {\"colorbar\": {\"outlinewidth\": 0, \"ticks\": \"\"}}, \"type\": \"scatterpolargl\"}], \"scatterternary\": [{\"marker\": {\"colorbar\": {\"outlinewidth\": 0, \"ticks\": \"\"}}, \"type\": \"scatterternary\"}], \"surface\": [{\"colorbar\": {\"outlinewidth\": 0, \"ticks\": \"\"}, \"colorscale\": [[0.0, \"#0d0887\"], [0.1111111111111111, \"#46039f\"], [0.2222222222222222, \"#7201a8\"], [0.3333333333333333, \"#9c179e\"], [0.4444444444444444, \"#bd3786\"], [0.5555555555555556, \"#d8576b\"], [0.6666666666666666, \"#ed7953\"], [0.7777777777777778, \"#fb9f3a\"], [0.8888888888888888, \"#fdca26\"], [1.0, \"#f0f921\"]], \"type\": \"surface\"}], \"table\": [{\"cells\": {\"fill\": {\"color\": \"#EBF0F8\"}, \"line\": {\"color\": \"white\"}}, \"header\": {\"fill\": {\"color\": \"#C8D4E3\"}, \"line\": {\"color\": \"white\"}}, \"type\": \"table\"}]}, \"layout\": {\"annotationdefaults\": {\"arrowcolor\": \"#2a3f5f\", \"arrowhead\": 0, \"arrowwidth\": 1}, \"coloraxis\": {\"colorbar\": {\"outlinewidth\": 0, \"ticks\": \"\"}}, \"colorscale\": {\"diverging\": [[0, \"#8e0152\"], [0.1, \"#c51b7d\"], [0.2, \"#de77ae\"], [0.3, \"#f1b6da\"], [0.4, \"#fde0ef\"], [0.5, \"#f7f7f7\"], [0.6, \"#e6f5d0\"], [0.7, \"#b8e186\"], [0.8, \"#7fbc41\"], [0.9, \"#4d9221\"], [1, \"#276419\"]], \"sequential\": [[0.0, \"#0d0887\"], [0.1111111111111111, \"#46039f\"], [0.2222222222222222, \"#7201a8\"], [0.3333333333333333, \"#9c179e\"], [0.4444444444444444, \"#bd3786\"], [0.5555555555555556, \"#d8576b\"], [0.6666666666666666, \"#ed7953\"], [0.7777777777777778, \"#fb9f3a\"], [0.8888888888888888, \"#fdca26\"], [1.0, \"#f0f921\"]], \"sequentialminus\": [[0.0, \"#0d0887\"], [0.1111111111111111, \"#46039f\"], [0.2222222222222222, \"#7201a8\"], [0.3333333333333333, \"#9c179e\"], [0.4444444444444444, \"#bd3786\"], [0.5555555555555556, \"#d8576b\"], [0.6666666666666666, \"#ed7953\"], [0.7777777777777778, \"#fb9f3a\"], [0.8888888888888888, \"#fdca26\"], [1.0, \"#f0f921\"]]}, \"colorway\": [\"#636efa\", \"#EF553B\", \"#00cc96\", \"#ab63fa\", \"#FFA15A\", \"#19d3f3\", \"#FF6692\", \"#B6E880\", \"#FF97FF\", \"#FECB52\"], \"font\": {\"color\": \"#2a3f5f\"}, \"geo\": {\"bgcolor\": \"white\", \"lakecolor\": \"white\", \"landcolor\": \"#E5ECF6\", \"showlakes\": true, \"showland\": true, \"subunitcolor\": \"white\"}, \"hoverlabel\": {\"align\": \"left\"}, \"hovermode\": \"closest\", \"mapbox\": {\"style\": \"light\"}, \"paper_bgcolor\": \"white\", \"plot_bgcolor\": \"#E5ECF6\", \"polar\": {\"angularaxis\": {\"gridcolor\": \"white\", \"linecolor\": \"white\", \"ticks\": \"\"}, \"bgcolor\": \"#E5ECF6\", \"radialaxis\": {\"gridcolor\": \"white\", \"linecolor\": \"white\", \"ticks\": \"\"}}, \"scene\": {\"xaxis\": {\"backgroundcolor\": \"#E5ECF6\", \"gridcolor\": \"white\", \"gridwidth\": 2, \"linecolor\": \"white\", \"showbackground\": true, \"ticks\": \"\", \"zerolinecolor\": \"white\"}, \"yaxis\": {\"backgroundcolor\": \"#E5ECF6\", \"gridcolor\": \"white\", \"gridwidth\": 2, \"linecolor\": \"white\", \"showbackground\": true, \"ticks\": \"\", \"zerolinecolor\": \"white\"}, \"zaxis\": {\"backgroundcolor\": \"#E5ECF6\", \"gridcolor\": \"white\", \"gridwidth\": 2, \"linecolor\": \"white\", \"showbackground\": true, \"ticks\": \"\", \"zerolinecolor\": \"white\"}}, \"shapedefaults\": {\"line\": {\"color\": \"#2a3f5f\"}}, \"ternary\": {\"aaxis\": {\"gridcolor\": \"white\", \"linecolor\": \"white\", \"ticks\": \"\"}, \"baxis\": {\"gridcolor\": \"white\", \"linecolor\": \"white\", \"ticks\": \"\"}, \"bgcolor\": \"#E5ECF6\", \"caxis\": {\"gridcolor\": \"white\", \"linecolor\": \"white\", \"ticks\": \"\"}}, \"title\": {\"x\": 0.05}, \"xaxis\": {\"automargin\": true, \"gridcolor\": \"white\", \"linecolor\": \"white\", \"ticks\": \"\", \"title\": {\"standoff\": 15}, \"zerolinecolor\": \"white\", \"zerolinewidth\": 2}, \"yaxis\": {\"automargin\": true, \"gridcolor\": \"white\", \"linecolor\": \"white\", \"ticks\": \"\", \"title\": {\"standoff\": 15}, \"zerolinecolor\": \"white\", \"zerolinewidth\": 2}}}, \"title\": {\"text\": \"Strategic Values for Non-Payout Rounds\"}, \"width\": 500, \"xaxis\": {\"dtick\": 1, \"gridcolor\": \"rgb(0, 0, 0)\", \"side\": \"top\", \"ticks\": \"\"}, \"yaxis\": {\"dtick\": 1, \"ticks\": \"\", \"ticksuffix\": \"  \"}},\n",
              "                        {\"responsive\": true}\n",
              "                    ).then(function(){\n",
              "                            \n",
              "var gd = document.getElementById('9d92e253-67da-4d42-887d-4dd8db96e05e');\n",
              "var x = new MutationObserver(function (mutations, observer) {{\n",
              "        var display = window.getComputedStyle(gd).display;\n",
              "        if (!display || display === 'none') {{\n",
              "            console.log([gd, 'removed!']);\n",
              "            Plotly.purge(gd);\n",
              "            observer.disconnect();\n",
              "        }}\n",
              "}});\n",
              "\n",
              "// Listen for the removal of the full notebook cells\n",
              "var notebookContainer = gd.closest('#notebook-container');\n",
              "if (notebookContainer) {{\n",
              "    x.observe(notebookContainer, {childList: true});\n",
              "}}\n",
              "\n",
              "// Listen for the clearing of the current output cell\n",
              "var outputEl = gd.closest('.output');\n",
              "if (outputEl) {{\n",
              "    x.observe(outputEl, {childList: true});\n",
              "}}\n",
              "\n",
              "                        })\n",
              "                };\n",
              "                \n",
              "            </script>\n",
              "        </div>\n",
              "</body>\n",
              "</html>"
            ]
          },
          "metadata": {
            "tags": []
          }
        }
      ]
    },
    {
      "cell_type": "code",
      "metadata": {
        "id": "VioQX1gYREor",
        "colab": {
          "base_uri": "https://localhost:8080/"
        },
        "outputId": "c0875e11-6059-4de3-900a-5238b585e83e"
      },
      "source": [
        "#\n",
        "# Shows payout shares for holding a tile on round 3n \n",
        "#\n",
        "\n",
        "gm = map2.getTile('B',6) #b6 # c5 # gold_mine(90000,500,5000)\n",
        "print(gm.payouts())\n"
      ],
      "execution_count": 7,
      "outputs": [
        {
          "output_type": "stream",
          "text": [
            "Payouts for B:6 Forest\n",
            "Place               Reward\n",
            "First               112 common souls, 70 contribution\n",
            "2nd                 96 common souls, 60 contribution\n",
            "3rd                 80 common souls, 50 contribution\n",
            "4-6                 64 common souls, 40 contribution\n",
            "7-11                48 common souls, 30 contribution\n",
            "12-25               32 common souls, 20 contribution\n",
            "26-44               16 common souls, 10 contribution\n",
            "0 guild influence\n"
          ],
          "name": "stdout"
        }
      ]
    },
    {
      "cell_type": "code",
      "metadata": {
        "colab": {
          "base_uri": "https://localhost:8080/"
        },
        "id": "3B0MR2VzPn8Q",
        "outputId": "4106cf4a-382b-4bf1-fd0d-fa2e60609111"
      },
      "source": [
        "#\n",
        "# List of buildings easy for players to read.\n",
        "#\n",
        "map2.printBuildingList()"
      ],
      "execution_count": 8,
      "outputs": [
        {
          "output_type": "stream",
          "text": [
            "Building          Points      For 1st Place                      Guild Gets\n",
            "===============================================================================\n",
            "B-4: Altar         69,780      21 epic souls, 298 contribution,  400 influence.\n",
            "C-3: Stronghold    69,780      21 epic souls, 298 contribution,  400 influence.\n",
            "C-5: Hell's Gate   69,780      21 epic souls, 298 contribution,  400 influence.\n",
            "D-1: Gold Mine     68,250         3,150 gold, 175 contribution,  250 influence.\n",
            "B-2: Witch Hut     57,017     119 rare souls, 245 contribution,  300 influence.\n",
            "D-6: Factory       41,295       63 soul dust, 175 contribution,  250 influence.\n"
          ],
          "name": "stdout"
        }
      ]
    },
    {
      "cell_type": "code",
      "metadata": {
        "colab": {
          "base_uri": "https://localhost:8080/"
        },
        "id": "6ff_dHUBF3Xq",
        "outputId": "47e40a6f-7e87-4702-d439-d091c17a8614"
      },
      "source": [
        "#\n",
        "# Text report that highlights building returns \n",
        "#\n",
        "\n",
        "map2.printReport()"
      ],
      "execution_count": 9,
      "outputs": [
        {
          "output_type": "stream",
          "text": [
            "Turf War Map Report\n",
            "Guild: Nightterror\n",
            "For the Week of: 26 July 2021\n",
            "Total Map Value: 915,948 common souls\n",
            "\n",
            "Building          Points      For 1st Place                      Guild Gets\n",
            "===============================================================================\n",
            "B-4: Altar         69,780      21 epic souls, 298 contribution,  400 influence.\n",
            "C-3: Stronghold    69,780      21 epic souls, 298 contribution,  400 influence.\n",
            "C-5: Hell's Gate   69,780      21 epic souls, 298 contribution,  400 influence.\n",
            "D-1: Gold Mine     68,250         3,150 gold, 175 contribution,  250 influence.\n",
            "B-2: Witch Hut     57,017     119 rare souls, 245 contribution,  300 influence.\n",
            "D-6: Factory       41,295       63 soul dust, 175 contribution,  250 influence.\n"
          ],
          "name": "stdout"
        }
      ]
    },
    {
      "cell_type": "code",
      "metadata": {
        "colab": {
          "base_uri": "https://localhost:8080/"
        },
        "id": "5sB28y8vGhe1",
        "outputId": "e3a0f46c-561a-4b69-a4d3-dad2ce825197"
      },
      "source": [
        "#\n",
        "# Evaluate neighbors of a given tile\n",
        "#\n",
        "map2.printNeighborList('B',2)"
      ],
      "execution_count": 10,
      "outputs": [
        {
          "output_type": "stream",
          "text": [
            "Neighbors of tile B:2\n",
            "Building          Points      For 1st Place                      Guild Gets\n",
            "===============================================================================\n",
            "B-1: Plains        15,002    112 common souls, 70 contribution,    0 influence.\n",
            "B-3: Forest        37,502   175 common souls, 175 contribution,    0 influence.\n",
            "A-2: Forest        15,002    112 common souls, 70 contribution,    0 influence.\n",
            "C-2: Plains        37,502   175 common souls, 175 contribution,    0 influence.\n"
          ],
          "name": "stdout"
        }
      ]
    },
    {
      "cell_type": "markdown",
      "metadata": {
        "id": "iUi9-EpfVsNC"
      },
      "source": [
        "# Strategy & Payout Arrays"
      ]
    },
    {
      "cell_type": "code",
      "metadata": {
        "id": "jkLWyGDw87LG"
      },
      "source": [
        "#\n",
        "# High values are desirable payout locations, low are less desirable\n",
        "#\n",
        "\n",
        "#pd.DataFrame(map2.getScaledPayout())"
      ],
      "execution_count": 11,
      "outputs": []
    },
    {
      "cell_type": "code",
      "metadata": {
        "id": "KqckByIRpPzx"
      },
      "source": [
        "#\n",
        "# High values are desirable staging locations, low are less desirable\n",
        "#\n",
        "\n",
        "#pd.DataFrame(map2.getScaledStaging())"
      ],
      "execution_count": 12,
      "outputs": []
    },
    {
      "cell_type": "code",
      "metadata": {
        "id": "yZXuoNjx9F-2",
        "colab": {
          "base_uri": "https://localhost:8080/",
          "height": 204
        },
        "outputId": "f0d0cf48-cebe-4bb8-e2e3-d4d04fd28529"
      },
      "source": [
        "#\n",
        "# Lowest values are least desirable staging locations, higher are better staging locations, highest are desirable payout locations\n",
        "#\n",
        "adjusted_move = map2.getAdjustedMoves()\n",
        "pd.DataFrame(adjusted_move)"
      ],
      "execution_count": 13,
      "outputs": [
        {
          "output_type": "execute_result",
          "data": {
            "text/html": [
              "<div>\n",
              "<style scoped>\n",
              "    .dataframe tbody tr th:only-of-type {\n",
              "        vertical-align: middle;\n",
              "    }\n",
              "\n",
              "    .dataframe tbody tr th {\n",
              "        vertical-align: top;\n",
              "    }\n",
              "\n",
              "    .dataframe thead th {\n",
              "        text-align: right;\n",
              "    }\n",
              "</style>\n",
              "<table border=\"1\" class=\"dataframe\">\n",
              "  <thead>\n",
              "    <tr style=\"text-align: right;\">\n",
              "      <th></th>\n",
              "      <th>0</th>\n",
              "      <th>1</th>\n",
              "      <th>2</th>\n",
              "      <th>3</th>\n",
              "      <th>4</th>\n",
              "      <th>5</th>\n",
              "    </tr>\n",
              "  </thead>\n",
              "  <tbody>\n",
              "    <tr>\n",
              "      <th>0</th>\n",
              "      <td>0.000000</td>\n",
              "      <td>0.285825</td>\n",
              "      <td>0.187999</td>\n",
              "      <td>0.349805</td>\n",
              "      <td>0.187999</td>\n",
              "      <td>0.000000</td>\n",
              "    </tr>\n",
              "    <tr>\n",
              "      <th>1</th>\n",
              "      <td>0.285825</td>\n",
              "      <td>2.032991</td>\n",
              "      <td>1.018889</td>\n",
              "      <td>2.696240</td>\n",
              "      <td>1.018889</td>\n",
              "      <td>0.187999</td>\n",
              "    </tr>\n",
              "    <tr>\n",
              "      <th>2</th>\n",
              "      <td>0.454932</td>\n",
              "      <td>1.018889</td>\n",
              "      <td>2.696240</td>\n",
              "      <td>1.087009</td>\n",
              "      <td>2.696240</td>\n",
              "      <td>0.481613</td>\n",
              "    </tr>\n",
              "    <tr>\n",
              "      <th>3</th>\n",
              "      <td>2.616731</td>\n",
              "      <td>1.018889</td>\n",
              "      <td>1.018889</td>\n",
              "      <td>1.018889</td>\n",
              "      <td>1.018889</td>\n",
              "      <td>1.215972</td>\n",
              "    </tr>\n",
              "    <tr>\n",
              "      <th>4</th>\n",
              "      <td>0.266933</td>\n",
              "      <td>0.187999</td>\n",
              "      <td>0.187999</td>\n",
              "      <td>0.187999</td>\n",
              "      <td>0.187999</td>\n",
              "      <td>0.131808</td>\n",
              "    </tr>\n",
              "  </tbody>\n",
              "</table>\n",
              "</div>"
            ],
            "text/plain": [
              "          0         1         2         3         4         5\n",
              "0  0.000000  0.285825  0.187999  0.349805  0.187999  0.000000\n",
              "1  0.285825  2.032991  1.018889  2.696240  1.018889  0.187999\n",
              "2  0.454932  1.018889  2.696240  1.087009  2.696240  0.481613\n",
              "3  2.616731  1.018889  1.018889  1.018889  1.018889  1.215972\n",
              "4  0.266933  0.187999  0.187999  0.187999  0.187999  0.131808"
            ]
          },
          "metadata": {
            "tags": []
          },
          "execution_count": 13
        }
      ]
    },
    {
      "cell_type": "code",
      "metadata": {
        "colab": {
          "base_uri": "https://localhost:8080/",
          "height": 517
        },
        "id": "F4jl182vdhS7",
        "outputId": "52f3a9e3-de09-4734-dbb8-294f832afc24"
      },
      "source": [
        "moves = adjusted_move\n",
        "get_heatmap(moves,\"Movement Array\", round=False).show()"
      ],
      "execution_count": 14,
      "outputs": [
        {
          "output_type": "display_data",
          "data": {
            "text/html": [
              "<html>\n",
              "<head><meta charset=\"utf-8\" /></head>\n",
              "<body>\n",
              "    <div>\n",
              "            <script src=\"https://cdnjs.cloudflare.com/ajax/libs/mathjax/2.7.5/MathJax.js?config=TeX-AMS-MML_SVG\"></script><script type=\"text/javascript\">if (window.MathJax) {MathJax.Hub.Config({SVG: {font: \"STIX-Web\"}});}</script>\n",
              "                <script type=\"text/javascript\">window.PlotlyConfig = {MathJaxConfig: 'local'};</script>\n",
              "        <script src=\"https://cdn.plot.ly/plotly-latest.min.js\"></script>    \n",
              "            <div id=\"21058dfc-acd0-4556-9409-6e2358642142\" class=\"plotly-graph-div\" style=\"height:500px; width:500px;\"></div>\n",
              "            <script type=\"text/javascript\">\n",
              "                \n",
              "                    window.PLOTLYENV=window.PLOTLYENV || {};\n",
              "                    \n",
              "                if (document.getElementById(\"21058dfc-acd0-4556-9409-6e2358642142\")) {\n",
              "                    Plotly.newPlot(\n",
              "                        '21058dfc-acd0-4556-9409-6e2358642142',\n",
              "                        [{\"colorscale\": [[0.0, \"#440154\"], [0.1111111111111111, \"#482878\"], [0.2222222222222222, \"#3e4989\"], [0.3333333333333333, \"#31688e\"], [0.4444444444444444, \"#26828e\"], [0.5555555555555556, \"#1f9e89\"], [0.6666666666666666, \"#35b779\"], [0.7777777777777778, \"#6ece58\"], [0.8888888888888888, \"#b5de2b\"], [1.0, \"#fde725\"]], \"reversescale\": false, \"showscale\": false, \"type\": \"heatmap\", \"x\": [\"1\", \"2\", \"3\", \"4\", \"5\", \"6\"], \"y\": [\"E\", \"D\", \"C\", \"B\", \"A\"], \"z\": [[0.26693262704472837, 0.18799890411251652, 0.18799890411251652, 0.18799890411251652, 0.18799890411251652, 0.13180802307558276], [2.616731061736373, 1.0188892424958016, 1.0188892424958016, 1.0188892424958016, 1.0188892424958016, 1.2159724232249622], [0.45493153115724494, 1.0188892424958016, 2.6962398993146497, 1.0870088865682341, 2.6962398993146497, 0.4816130635121244], [0.28582450545385923, 2.032990687542395, 1.0188892424958016, 2.6962398993146497, 1.0188892424958016, 0.18799890411251652], [0.0, 0.28582450545385923, 0.18799890411251652, 0.3498050404365417, 0.18799890411251652, 0.0]]}],\n",
              "                        {\"annotations\": [{\"font\": {\"color\": \"#FFFFFF\"}, \"showarrow\": false, \"text\": \"0.267\", \"x\": \"1\", \"xref\": \"x\", \"y\": \"E\", \"yref\": \"y\"}, {\"font\": {\"color\": \"#FFFFFF\"}, \"showarrow\": false, \"text\": \"0.188\", \"x\": \"2\", \"xref\": \"x\", \"y\": \"E\", \"yref\": \"y\"}, {\"font\": {\"color\": \"#FFFFFF\"}, \"showarrow\": false, \"text\": \"0.188\", \"x\": \"3\", \"xref\": \"x\", \"y\": \"E\", \"yref\": \"y\"}, {\"font\": {\"color\": \"#FFFFFF\"}, \"showarrow\": false, \"text\": \"0.188\", \"x\": \"4\", \"xref\": \"x\", \"y\": \"E\", \"yref\": \"y\"}, {\"font\": {\"color\": \"#FFFFFF\"}, \"showarrow\": false, \"text\": \"0.188\", \"x\": \"5\", \"xref\": \"x\", \"y\": \"E\", \"yref\": \"y\"}, {\"font\": {\"color\": \"#FFFFFF\"}, \"showarrow\": false, \"text\": \"0.132\", \"x\": \"6\", \"xref\": \"x\", \"y\": \"E\", \"yref\": \"y\"}, {\"font\": {\"color\": \"#000000\"}, \"showarrow\": false, \"text\": \"2.617\", \"x\": \"1\", \"xref\": \"x\", \"y\": \"D\", \"yref\": \"y\"}, {\"font\": {\"color\": \"#FFFFFF\"}, \"showarrow\": false, \"text\": \"1.019\", \"x\": \"2\", \"xref\": \"x\", \"y\": \"D\", \"yref\": \"y\"}, {\"font\": {\"color\": \"#FFFFFF\"}, \"showarrow\": false, \"text\": \"1.019\", \"x\": \"3\", \"xref\": \"x\", \"y\": \"D\", \"yref\": \"y\"}, {\"font\": {\"color\": \"#FFFFFF\"}, \"showarrow\": false, \"text\": \"1.019\", \"x\": \"4\", \"xref\": \"x\", \"y\": \"D\", \"yref\": \"y\"}, {\"font\": {\"color\": \"#FFFFFF\"}, \"showarrow\": false, \"text\": \"1.019\", \"x\": \"5\", \"xref\": \"x\", \"y\": \"D\", \"yref\": \"y\"}, {\"font\": {\"color\": \"#FFFFFF\"}, \"showarrow\": false, \"text\": \"1.216\", \"x\": \"6\", \"xref\": \"x\", \"y\": \"D\", \"yref\": \"y\"}, {\"font\": {\"color\": \"#FFFFFF\"}, \"showarrow\": false, \"text\": \"0.455\", \"x\": \"1\", \"xref\": \"x\", \"y\": \"C\", \"yref\": \"y\"}, {\"font\": {\"color\": \"#FFFFFF\"}, \"showarrow\": false, \"text\": \"1.019\", \"x\": \"2\", \"xref\": \"x\", \"y\": \"C\", \"yref\": \"y\"}, {\"font\": {\"color\": \"#000000\"}, \"showarrow\": false, \"text\": \"2.696\", \"x\": \"3\", \"xref\": \"x\", \"y\": \"C\", \"yref\": \"y\"}, {\"font\": {\"color\": \"#FFFFFF\"}, \"showarrow\": false, \"text\": \"1.087\", \"x\": \"4\", \"xref\": \"x\", \"y\": \"C\", \"yref\": \"y\"}, {\"font\": {\"color\": \"#000000\"}, \"showarrow\": false, \"text\": \"2.696\", \"x\": \"5\", \"xref\": \"x\", \"y\": \"C\", \"yref\": \"y\"}, {\"font\": {\"color\": \"#FFFFFF\"}, \"showarrow\": false, \"text\": \"0.482\", \"x\": \"6\", \"xref\": \"x\", \"y\": \"C\", \"yref\": \"y\"}, {\"font\": {\"color\": \"#FFFFFF\"}, \"showarrow\": false, \"text\": \"0.286\", \"x\": \"1\", \"xref\": \"x\", \"y\": \"B\", \"yref\": \"y\"}, {\"font\": {\"color\": \"#000000\"}, \"showarrow\": false, \"text\": \"2.033\", \"x\": \"2\", \"xref\": \"x\", \"y\": \"B\", \"yref\": \"y\"}, {\"font\": {\"color\": \"#FFFFFF\"}, \"showarrow\": false, \"text\": \"1.019\", \"x\": \"3\", \"xref\": \"x\", \"y\": \"B\", \"yref\": \"y\"}, {\"font\": {\"color\": \"#000000\"}, \"showarrow\": false, \"text\": \"2.696\", \"x\": \"4\", \"xref\": \"x\", \"y\": \"B\", \"yref\": \"y\"}, {\"font\": {\"color\": \"#FFFFFF\"}, \"showarrow\": false, \"text\": \"1.019\", \"x\": \"5\", \"xref\": \"x\", \"y\": \"B\", \"yref\": \"y\"}, {\"font\": {\"color\": \"#FFFFFF\"}, \"showarrow\": false, \"text\": \"0.188\", \"x\": \"6\", \"xref\": \"x\", \"y\": \"B\", \"yref\": \"y\"}, {\"font\": {\"color\": \"#FFFFFF\"}, \"showarrow\": false, \"text\": \"0.0\", \"x\": \"1\", \"xref\": \"x\", \"y\": \"A\", \"yref\": \"y\"}, {\"font\": {\"color\": \"#FFFFFF\"}, \"showarrow\": false, \"text\": \"0.286\", \"x\": \"2\", \"xref\": \"x\", \"y\": \"A\", \"yref\": \"y\"}, {\"font\": {\"color\": \"#FFFFFF\"}, \"showarrow\": false, \"text\": \"0.188\", \"x\": \"3\", \"xref\": \"x\", \"y\": \"A\", \"yref\": \"y\"}, {\"font\": {\"color\": \"#FFFFFF\"}, \"showarrow\": false, \"text\": \"0.35\", \"x\": \"4\", \"xref\": \"x\", \"y\": \"A\", \"yref\": \"y\"}, {\"font\": {\"color\": \"#FFFFFF\"}, \"showarrow\": false, \"text\": \"0.188\", \"x\": \"5\", \"xref\": \"x\", \"y\": \"A\", \"yref\": \"y\"}, {\"font\": {\"color\": \"#FFFFFF\"}, \"showarrow\": false, \"text\": \"0.0\", \"x\": \"6\", \"xref\": \"x\", \"y\": \"A\", \"yref\": \"y\"}], \"autosize\": false, \"height\": 500, \"margin\": {\"b\": 65, \"l\": 65, \"r\": 50, \"t\": 90}, \"template\": {\"data\": {\"bar\": [{\"error_x\": {\"color\": \"#2a3f5f\"}, \"error_y\": {\"color\": \"#2a3f5f\"}, \"marker\": {\"line\": {\"color\": \"#E5ECF6\", \"width\": 0.5}}, \"type\": \"bar\"}], \"barpolar\": [{\"marker\": {\"line\": {\"color\": \"#E5ECF6\", \"width\": 0.5}}, \"type\": \"barpolar\"}], \"carpet\": [{\"aaxis\": {\"endlinecolor\": \"#2a3f5f\", \"gridcolor\": \"white\", \"linecolor\": \"white\", \"minorgridcolor\": \"white\", \"startlinecolor\": \"#2a3f5f\"}, \"baxis\": {\"endlinecolor\": \"#2a3f5f\", \"gridcolor\": \"white\", \"linecolor\": \"white\", \"minorgridcolor\": \"white\", \"startlinecolor\": \"#2a3f5f\"}, \"type\": \"carpet\"}], \"choropleth\": [{\"colorbar\": {\"outlinewidth\": 0, \"ticks\": \"\"}, \"type\": \"choropleth\"}], \"contour\": [{\"colorbar\": {\"outlinewidth\": 0, \"ticks\": \"\"}, \"colorscale\": [[0.0, \"#0d0887\"], [0.1111111111111111, \"#46039f\"], [0.2222222222222222, \"#7201a8\"], [0.3333333333333333, \"#9c179e\"], [0.4444444444444444, \"#bd3786\"], [0.5555555555555556, \"#d8576b\"], [0.6666666666666666, \"#ed7953\"], [0.7777777777777778, \"#fb9f3a\"], [0.8888888888888888, \"#fdca26\"], [1.0, \"#f0f921\"]], \"type\": \"contour\"}], \"contourcarpet\": [{\"colorbar\": {\"outlinewidth\": 0, \"ticks\": \"\"}, \"type\": \"contourcarpet\"}], \"heatmap\": [{\"colorbar\": {\"outlinewidth\": 0, \"ticks\": \"\"}, \"colorscale\": [[0.0, \"#0d0887\"], [0.1111111111111111, \"#46039f\"], [0.2222222222222222, \"#7201a8\"], [0.3333333333333333, \"#9c179e\"], [0.4444444444444444, \"#bd3786\"], [0.5555555555555556, \"#d8576b\"], [0.6666666666666666, \"#ed7953\"], [0.7777777777777778, \"#fb9f3a\"], [0.8888888888888888, \"#fdca26\"], [1.0, \"#f0f921\"]], \"type\": \"heatmap\"}], \"heatmapgl\": [{\"colorbar\": {\"outlinewidth\": 0, \"ticks\": \"\"}, \"colorscale\": [[0.0, \"#0d0887\"], [0.1111111111111111, \"#46039f\"], [0.2222222222222222, \"#7201a8\"], [0.3333333333333333, \"#9c179e\"], [0.4444444444444444, \"#bd3786\"], [0.5555555555555556, \"#d8576b\"], [0.6666666666666666, \"#ed7953\"], [0.7777777777777778, \"#fb9f3a\"], [0.8888888888888888, \"#fdca26\"], [1.0, \"#f0f921\"]], \"type\": \"heatmapgl\"}], \"histogram\": [{\"marker\": {\"colorbar\": {\"outlinewidth\": 0, \"ticks\": \"\"}}, \"type\": \"histogram\"}], \"histogram2d\": [{\"colorbar\": {\"outlinewidth\": 0, \"ticks\": \"\"}, \"colorscale\": [[0.0, \"#0d0887\"], [0.1111111111111111, \"#46039f\"], [0.2222222222222222, \"#7201a8\"], [0.3333333333333333, \"#9c179e\"], [0.4444444444444444, \"#bd3786\"], [0.5555555555555556, \"#d8576b\"], [0.6666666666666666, \"#ed7953\"], [0.7777777777777778, \"#fb9f3a\"], [0.8888888888888888, \"#fdca26\"], [1.0, \"#f0f921\"]], \"type\": \"histogram2d\"}], \"histogram2dcontour\": [{\"colorbar\": {\"outlinewidth\": 0, \"ticks\": \"\"}, \"colorscale\": [[0.0, \"#0d0887\"], [0.1111111111111111, \"#46039f\"], [0.2222222222222222, \"#7201a8\"], [0.3333333333333333, \"#9c179e\"], [0.4444444444444444, \"#bd3786\"], [0.5555555555555556, \"#d8576b\"], [0.6666666666666666, \"#ed7953\"], [0.7777777777777778, \"#fb9f3a\"], [0.8888888888888888, \"#fdca26\"], [1.0, \"#f0f921\"]], \"type\": \"histogram2dcontour\"}], \"mesh3d\": [{\"colorbar\": {\"outlinewidth\": 0, \"ticks\": \"\"}, \"type\": \"mesh3d\"}], \"parcoords\": [{\"line\": {\"colorbar\": {\"outlinewidth\": 0, \"ticks\": \"\"}}, \"type\": \"parcoords\"}], \"pie\": [{\"automargin\": true, \"type\": \"pie\"}], \"scatter\": [{\"marker\": {\"colorbar\": {\"outlinewidth\": 0, \"ticks\": \"\"}}, \"type\": \"scatter\"}], \"scatter3d\": [{\"line\": {\"colorbar\": {\"outlinewidth\": 0, \"ticks\": \"\"}}, \"marker\": {\"colorbar\": {\"outlinewidth\": 0, \"ticks\": \"\"}}, \"type\": \"scatter3d\"}], \"scattercarpet\": [{\"marker\": {\"colorbar\": {\"outlinewidth\": 0, \"ticks\": \"\"}}, \"type\": \"scattercarpet\"}], \"scattergeo\": [{\"marker\": {\"colorbar\": {\"outlinewidth\": 0, \"ticks\": \"\"}}, \"type\": \"scattergeo\"}], \"scattergl\": [{\"marker\": {\"colorbar\": {\"outlinewidth\": 0, \"ticks\": \"\"}}, \"type\": \"scattergl\"}], \"scattermapbox\": [{\"marker\": {\"colorbar\": {\"outlinewidth\": 0, \"ticks\": \"\"}}, \"type\": \"scattermapbox\"}], \"scatterpolar\": [{\"marker\": {\"colorbar\": {\"outlinewidth\": 0, \"ticks\": \"\"}}, \"type\": \"scatterpolar\"}], \"scatterpolargl\": [{\"marker\": {\"colorbar\": {\"outlinewidth\": 0, \"ticks\": \"\"}}, \"type\": \"scatterpolargl\"}], \"scatterternary\": [{\"marker\": {\"colorbar\": {\"outlinewidth\": 0, \"ticks\": \"\"}}, \"type\": \"scatterternary\"}], \"surface\": [{\"colorbar\": {\"outlinewidth\": 0, \"ticks\": \"\"}, \"colorscale\": [[0.0, \"#0d0887\"], [0.1111111111111111, \"#46039f\"], [0.2222222222222222, \"#7201a8\"], [0.3333333333333333, \"#9c179e\"], [0.4444444444444444, \"#bd3786\"], [0.5555555555555556, \"#d8576b\"], [0.6666666666666666, \"#ed7953\"], [0.7777777777777778, \"#fb9f3a\"], [0.8888888888888888, \"#fdca26\"], [1.0, \"#f0f921\"]], \"type\": \"surface\"}], \"table\": [{\"cells\": {\"fill\": {\"color\": \"#EBF0F8\"}, \"line\": {\"color\": \"white\"}}, \"header\": {\"fill\": {\"color\": \"#C8D4E3\"}, \"line\": {\"color\": \"white\"}}, \"type\": \"table\"}]}, \"layout\": {\"annotationdefaults\": {\"arrowcolor\": \"#2a3f5f\", \"arrowhead\": 0, \"arrowwidth\": 1}, \"coloraxis\": {\"colorbar\": {\"outlinewidth\": 0, \"ticks\": \"\"}}, \"colorscale\": {\"diverging\": [[0, \"#8e0152\"], [0.1, \"#c51b7d\"], [0.2, \"#de77ae\"], [0.3, \"#f1b6da\"], [0.4, \"#fde0ef\"], [0.5, \"#f7f7f7\"], [0.6, \"#e6f5d0\"], [0.7, \"#b8e186\"], [0.8, \"#7fbc41\"], [0.9, \"#4d9221\"], [1, \"#276419\"]], \"sequential\": [[0.0, \"#0d0887\"], [0.1111111111111111, \"#46039f\"], [0.2222222222222222, \"#7201a8\"], [0.3333333333333333, \"#9c179e\"], [0.4444444444444444, \"#bd3786\"], [0.5555555555555556, \"#d8576b\"], [0.6666666666666666, \"#ed7953\"], [0.7777777777777778, \"#fb9f3a\"], [0.8888888888888888, \"#fdca26\"], [1.0, \"#f0f921\"]], \"sequentialminus\": [[0.0, \"#0d0887\"], [0.1111111111111111, \"#46039f\"], [0.2222222222222222, \"#7201a8\"], [0.3333333333333333, \"#9c179e\"], [0.4444444444444444, \"#bd3786\"], [0.5555555555555556, \"#d8576b\"], [0.6666666666666666, \"#ed7953\"], [0.7777777777777778, \"#fb9f3a\"], [0.8888888888888888, \"#fdca26\"], [1.0, \"#f0f921\"]]}, \"colorway\": [\"#636efa\", \"#EF553B\", \"#00cc96\", \"#ab63fa\", \"#FFA15A\", \"#19d3f3\", \"#FF6692\", \"#B6E880\", \"#FF97FF\", \"#FECB52\"], \"font\": {\"color\": \"#2a3f5f\"}, \"geo\": {\"bgcolor\": \"white\", \"lakecolor\": \"white\", \"landcolor\": \"#E5ECF6\", \"showlakes\": true, \"showland\": true, \"subunitcolor\": \"white\"}, \"hoverlabel\": {\"align\": \"left\"}, \"hovermode\": \"closest\", \"mapbox\": {\"style\": \"light\"}, \"paper_bgcolor\": \"white\", \"plot_bgcolor\": \"#E5ECF6\", \"polar\": {\"angularaxis\": {\"gridcolor\": \"white\", \"linecolor\": \"white\", \"ticks\": \"\"}, \"bgcolor\": \"#E5ECF6\", \"radialaxis\": {\"gridcolor\": \"white\", \"linecolor\": \"white\", \"ticks\": \"\"}}, \"scene\": {\"xaxis\": {\"backgroundcolor\": \"#E5ECF6\", \"gridcolor\": \"white\", \"gridwidth\": 2, \"linecolor\": \"white\", \"showbackground\": true, \"ticks\": \"\", \"zerolinecolor\": \"white\"}, \"yaxis\": {\"backgroundcolor\": \"#E5ECF6\", \"gridcolor\": \"white\", \"gridwidth\": 2, \"linecolor\": \"white\", \"showbackground\": true, \"ticks\": \"\", \"zerolinecolor\": \"white\"}, \"zaxis\": {\"backgroundcolor\": \"#E5ECF6\", \"gridcolor\": \"white\", \"gridwidth\": 2, \"linecolor\": \"white\", \"showbackground\": true, \"ticks\": \"\", \"zerolinecolor\": \"white\"}}, \"shapedefaults\": {\"line\": {\"color\": \"#2a3f5f\"}}, \"ternary\": {\"aaxis\": {\"gridcolor\": \"white\", \"linecolor\": \"white\", \"ticks\": \"\"}, \"baxis\": {\"gridcolor\": \"white\", \"linecolor\": \"white\", \"ticks\": \"\"}, \"bgcolor\": \"#E5ECF6\", \"caxis\": {\"gridcolor\": \"white\", \"linecolor\": \"white\", \"ticks\": \"\"}}, \"title\": {\"x\": 0.05}, \"xaxis\": {\"automargin\": true, \"gridcolor\": \"white\", \"linecolor\": \"white\", \"ticks\": \"\", \"title\": {\"standoff\": 15}, \"zerolinecolor\": \"white\", \"zerolinewidth\": 2}, \"yaxis\": {\"automargin\": true, \"gridcolor\": \"white\", \"linecolor\": \"white\", \"ticks\": \"\", \"title\": {\"standoff\": 15}, \"zerolinecolor\": \"white\", \"zerolinewidth\": 2}}}, \"title\": {\"text\": \"Movement Array\"}, \"width\": 500, \"xaxis\": {\"dtick\": 1, \"gridcolor\": \"rgb(0, 0, 0)\", \"side\": \"top\", \"ticks\": \"\"}, \"yaxis\": {\"dtick\": 1, \"ticks\": \"\", \"ticksuffix\": \"  \"}},\n",
              "                        {\"responsive\": true}\n",
              "                    ).then(function(){\n",
              "                            \n",
              "var gd = document.getElementById('21058dfc-acd0-4556-9409-6e2358642142');\n",
              "var x = new MutationObserver(function (mutations, observer) {{\n",
              "        var display = window.getComputedStyle(gd).display;\n",
              "        if (!display || display === 'none') {{\n",
              "            console.log([gd, 'removed!']);\n",
              "            Plotly.purge(gd);\n",
              "            observer.disconnect();\n",
              "        }}\n",
              "}});\n",
              "\n",
              "// Listen for the removal of the full notebook cells\n",
              "var notebookContainer = gd.closest('#notebook-container');\n",
              "if (notebookContainer) {{\n",
              "    x.observe(notebookContainer, {childList: true});\n",
              "}}\n",
              "\n",
              "// Listen for the clearing of the current output cell\n",
              "var outputEl = gd.closest('.output');\n",
              "if (outputEl) {{\n",
              "    x.observe(outputEl, {childList: true});\n",
              "}}\n",
              "\n",
              "                        })\n",
              "                };\n",
              "                \n",
              "            </script>\n",
              "        </div>\n",
              "</body>\n",
              "</html>"
            ]
          },
          "metadata": {
            "tags": []
          }
        }
      ]
    },
    {
      "cell_type": "code",
      "metadata": {
        "id": "AxII3C3R5jC8",
        "colab": {
          "base_uri": "https://localhost:8080/",
          "height": 517
        },
        "outputId": "9db81087-e429-44a7-c526-4448bd7ecbaf"
      },
      "source": [
        "#\n",
        "# 3D Presentation of the movement surface\n",
        "#\n",
        "flip = np.flip( moves, axis=1) \n",
        "fig = go.Figure(data=[go.Surface(z=flip)])\n",
        "fig.update_layout(title='Movement Array in 3D', autosize=False,\n",
        "                  width=500, height=500,\n",
        "                  margin=dict(l=65, r=50, b=65, t=90))\n",
        "fig.show()"
      ],
      "execution_count": 15,
      "outputs": [
        {
          "output_type": "display_data",
          "data": {
            "text/html": [
              "<html>\n",
              "<head><meta charset=\"utf-8\" /></head>\n",
              "<body>\n",
              "    <div>\n",
              "            <script src=\"https://cdnjs.cloudflare.com/ajax/libs/mathjax/2.7.5/MathJax.js?config=TeX-AMS-MML_SVG\"></script><script type=\"text/javascript\">if (window.MathJax) {MathJax.Hub.Config({SVG: {font: \"STIX-Web\"}});}</script>\n",
              "                <script type=\"text/javascript\">window.PlotlyConfig = {MathJaxConfig: 'local'};</script>\n",
              "        <script src=\"https://cdn.plot.ly/plotly-latest.min.js\"></script>    \n",
              "            <div id=\"8b27e2c0-b67d-4dad-b7d9-9dd9f39a6d19\" class=\"plotly-graph-div\" style=\"height:500px; width:500px;\"></div>\n",
              "            <script type=\"text/javascript\">\n",
              "                \n",
              "                    window.PLOTLYENV=window.PLOTLYENV || {};\n",
              "                    \n",
              "                if (document.getElementById(\"8b27e2c0-b67d-4dad-b7d9-9dd9f39a6d19\")) {\n",
              "                    Plotly.newPlot(\n",
              "                        '8b27e2c0-b67d-4dad-b7d9-9dd9f39a6d19',\n",
              "                        [{\"type\": \"surface\", \"z\": [[0.0, 0.18799890411251652, 0.3498050404365417, 0.18799890411251652, 0.28582450545385923, 0.0], [0.18799890411251652, 1.0188892424958016, 2.6962398993146497, 1.0188892424958016, 2.032990687542395, 0.28582450545385923], [0.4816130635121244, 2.6962398993146497, 1.0870088865682341, 2.6962398993146497, 1.0188892424958016, 0.45493153115724494], [1.2159724232249622, 1.0188892424958016, 1.0188892424958016, 1.0188892424958016, 1.0188892424958016, 2.616731061736373], [0.13180802307558276, 0.18799890411251652, 0.18799890411251652, 0.18799890411251652, 0.18799890411251652, 0.26693262704472837]]}],\n",
              "                        {\"autosize\": false, \"height\": 500, \"margin\": {\"b\": 65, \"l\": 65, \"r\": 50, \"t\": 90}, \"template\": {\"data\": {\"bar\": [{\"error_x\": {\"color\": \"#2a3f5f\"}, \"error_y\": {\"color\": \"#2a3f5f\"}, \"marker\": {\"line\": {\"color\": \"#E5ECF6\", \"width\": 0.5}}, \"type\": \"bar\"}], \"barpolar\": [{\"marker\": {\"line\": {\"color\": \"#E5ECF6\", \"width\": 0.5}}, \"type\": \"barpolar\"}], \"carpet\": [{\"aaxis\": {\"endlinecolor\": \"#2a3f5f\", \"gridcolor\": \"white\", \"linecolor\": \"white\", \"minorgridcolor\": \"white\", \"startlinecolor\": \"#2a3f5f\"}, \"baxis\": {\"endlinecolor\": \"#2a3f5f\", \"gridcolor\": \"white\", \"linecolor\": \"white\", \"minorgridcolor\": \"white\", \"startlinecolor\": \"#2a3f5f\"}, \"type\": \"carpet\"}], \"choropleth\": [{\"colorbar\": {\"outlinewidth\": 0, \"ticks\": \"\"}, \"type\": \"choropleth\"}], \"contour\": [{\"colorbar\": {\"outlinewidth\": 0, \"ticks\": \"\"}, \"colorscale\": [[0.0, \"#0d0887\"], [0.1111111111111111, \"#46039f\"], [0.2222222222222222, \"#7201a8\"], [0.3333333333333333, \"#9c179e\"], [0.4444444444444444, \"#bd3786\"], [0.5555555555555556, \"#d8576b\"], [0.6666666666666666, \"#ed7953\"], [0.7777777777777778, \"#fb9f3a\"], [0.8888888888888888, \"#fdca26\"], [1.0, \"#f0f921\"]], \"type\": \"contour\"}], \"contourcarpet\": [{\"colorbar\": {\"outlinewidth\": 0, \"ticks\": \"\"}, \"type\": \"contourcarpet\"}], \"heatmap\": [{\"colorbar\": {\"outlinewidth\": 0, \"ticks\": \"\"}, \"colorscale\": [[0.0, \"#0d0887\"], [0.1111111111111111, \"#46039f\"], [0.2222222222222222, \"#7201a8\"], [0.3333333333333333, \"#9c179e\"], [0.4444444444444444, \"#bd3786\"], [0.5555555555555556, \"#d8576b\"], [0.6666666666666666, \"#ed7953\"], [0.7777777777777778, \"#fb9f3a\"], [0.8888888888888888, \"#fdca26\"], [1.0, \"#f0f921\"]], \"type\": \"heatmap\"}], \"heatmapgl\": [{\"colorbar\": {\"outlinewidth\": 0, \"ticks\": \"\"}, \"colorscale\": [[0.0, \"#0d0887\"], [0.1111111111111111, \"#46039f\"], [0.2222222222222222, \"#7201a8\"], [0.3333333333333333, \"#9c179e\"], [0.4444444444444444, \"#bd3786\"], [0.5555555555555556, \"#d8576b\"], [0.6666666666666666, \"#ed7953\"], [0.7777777777777778, \"#fb9f3a\"], [0.8888888888888888, \"#fdca26\"], [1.0, \"#f0f921\"]], \"type\": \"heatmapgl\"}], \"histogram\": [{\"marker\": {\"colorbar\": {\"outlinewidth\": 0, \"ticks\": \"\"}}, \"type\": \"histogram\"}], \"histogram2d\": [{\"colorbar\": {\"outlinewidth\": 0, \"ticks\": \"\"}, \"colorscale\": [[0.0, \"#0d0887\"], [0.1111111111111111, \"#46039f\"], [0.2222222222222222, \"#7201a8\"], [0.3333333333333333, \"#9c179e\"], [0.4444444444444444, \"#bd3786\"], [0.5555555555555556, \"#d8576b\"], [0.6666666666666666, \"#ed7953\"], [0.7777777777777778, \"#fb9f3a\"], [0.8888888888888888, \"#fdca26\"], [1.0, \"#f0f921\"]], \"type\": \"histogram2d\"}], \"histogram2dcontour\": [{\"colorbar\": {\"outlinewidth\": 0, \"ticks\": \"\"}, \"colorscale\": [[0.0, \"#0d0887\"], [0.1111111111111111, \"#46039f\"], [0.2222222222222222, \"#7201a8\"], [0.3333333333333333, \"#9c179e\"], [0.4444444444444444, \"#bd3786\"], [0.5555555555555556, \"#d8576b\"], [0.6666666666666666, \"#ed7953\"], [0.7777777777777778, \"#fb9f3a\"], [0.8888888888888888, \"#fdca26\"], [1.0, \"#f0f921\"]], \"type\": \"histogram2dcontour\"}], \"mesh3d\": [{\"colorbar\": {\"outlinewidth\": 0, \"ticks\": \"\"}, \"type\": \"mesh3d\"}], \"parcoords\": [{\"line\": {\"colorbar\": {\"outlinewidth\": 0, \"ticks\": \"\"}}, \"type\": \"parcoords\"}], \"pie\": [{\"automargin\": true, \"type\": \"pie\"}], \"scatter\": [{\"marker\": {\"colorbar\": {\"outlinewidth\": 0, \"ticks\": \"\"}}, \"type\": \"scatter\"}], \"scatter3d\": [{\"line\": {\"colorbar\": {\"outlinewidth\": 0, \"ticks\": \"\"}}, \"marker\": {\"colorbar\": {\"outlinewidth\": 0, \"ticks\": \"\"}}, \"type\": \"scatter3d\"}], \"scattercarpet\": [{\"marker\": {\"colorbar\": {\"outlinewidth\": 0, \"ticks\": \"\"}}, \"type\": \"scattercarpet\"}], \"scattergeo\": [{\"marker\": {\"colorbar\": {\"outlinewidth\": 0, \"ticks\": \"\"}}, \"type\": \"scattergeo\"}], \"scattergl\": [{\"marker\": {\"colorbar\": {\"outlinewidth\": 0, \"ticks\": \"\"}}, \"type\": \"scattergl\"}], \"scattermapbox\": [{\"marker\": {\"colorbar\": {\"outlinewidth\": 0, \"ticks\": \"\"}}, \"type\": \"scattermapbox\"}], \"scatterpolar\": [{\"marker\": {\"colorbar\": {\"outlinewidth\": 0, \"ticks\": \"\"}}, \"type\": \"scatterpolar\"}], \"scatterpolargl\": [{\"marker\": {\"colorbar\": {\"outlinewidth\": 0, \"ticks\": \"\"}}, \"type\": \"scatterpolargl\"}], \"scatterternary\": [{\"marker\": {\"colorbar\": {\"outlinewidth\": 0, \"ticks\": \"\"}}, \"type\": \"scatterternary\"}], \"surface\": [{\"colorbar\": {\"outlinewidth\": 0, \"ticks\": \"\"}, \"colorscale\": [[0.0, \"#0d0887\"], [0.1111111111111111, \"#46039f\"], [0.2222222222222222, \"#7201a8\"], [0.3333333333333333, \"#9c179e\"], [0.4444444444444444, \"#bd3786\"], [0.5555555555555556, \"#d8576b\"], [0.6666666666666666, \"#ed7953\"], [0.7777777777777778, \"#fb9f3a\"], [0.8888888888888888, \"#fdca26\"], [1.0, \"#f0f921\"]], \"type\": \"surface\"}], \"table\": [{\"cells\": {\"fill\": {\"color\": \"#EBF0F8\"}, \"line\": {\"color\": \"white\"}}, \"header\": {\"fill\": {\"color\": \"#C8D4E3\"}, \"line\": {\"color\": \"white\"}}, \"type\": \"table\"}]}, \"layout\": {\"annotationdefaults\": {\"arrowcolor\": \"#2a3f5f\", \"arrowhead\": 0, \"arrowwidth\": 1}, \"coloraxis\": {\"colorbar\": {\"outlinewidth\": 0, \"ticks\": \"\"}}, \"colorscale\": {\"diverging\": [[0, \"#8e0152\"], [0.1, \"#c51b7d\"], [0.2, \"#de77ae\"], [0.3, \"#f1b6da\"], [0.4, \"#fde0ef\"], [0.5, \"#f7f7f7\"], [0.6, \"#e6f5d0\"], [0.7, \"#b8e186\"], [0.8, \"#7fbc41\"], [0.9, \"#4d9221\"], [1, \"#276419\"]], \"sequential\": [[0.0, \"#0d0887\"], [0.1111111111111111, \"#46039f\"], [0.2222222222222222, \"#7201a8\"], [0.3333333333333333, \"#9c179e\"], [0.4444444444444444, \"#bd3786\"], [0.5555555555555556, \"#d8576b\"], [0.6666666666666666, \"#ed7953\"], [0.7777777777777778, \"#fb9f3a\"], [0.8888888888888888, \"#fdca26\"], [1.0, \"#f0f921\"]], \"sequentialminus\": [[0.0, \"#0d0887\"], [0.1111111111111111, \"#46039f\"], [0.2222222222222222, \"#7201a8\"], [0.3333333333333333, \"#9c179e\"], [0.4444444444444444, \"#bd3786\"], [0.5555555555555556, \"#d8576b\"], [0.6666666666666666, \"#ed7953\"], [0.7777777777777778, \"#fb9f3a\"], [0.8888888888888888, \"#fdca26\"], [1.0, \"#f0f921\"]]}, \"colorway\": [\"#636efa\", \"#EF553B\", \"#00cc96\", \"#ab63fa\", \"#FFA15A\", \"#19d3f3\", \"#FF6692\", \"#B6E880\", \"#FF97FF\", \"#FECB52\"], \"font\": {\"color\": \"#2a3f5f\"}, \"geo\": {\"bgcolor\": \"white\", \"lakecolor\": \"white\", \"landcolor\": \"#E5ECF6\", \"showlakes\": true, \"showland\": true, \"subunitcolor\": \"white\"}, \"hoverlabel\": {\"align\": \"left\"}, \"hovermode\": \"closest\", \"mapbox\": {\"style\": \"light\"}, \"paper_bgcolor\": \"white\", \"plot_bgcolor\": \"#E5ECF6\", \"polar\": {\"angularaxis\": {\"gridcolor\": \"white\", \"linecolor\": \"white\", \"ticks\": \"\"}, \"bgcolor\": \"#E5ECF6\", \"radialaxis\": {\"gridcolor\": \"white\", \"linecolor\": \"white\", \"ticks\": \"\"}}, \"scene\": {\"xaxis\": {\"backgroundcolor\": \"#E5ECF6\", \"gridcolor\": \"white\", \"gridwidth\": 2, \"linecolor\": \"white\", \"showbackground\": true, \"ticks\": \"\", \"zerolinecolor\": \"white\"}, \"yaxis\": {\"backgroundcolor\": \"#E5ECF6\", \"gridcolor\": \"white\", \"gridwidth\": 2, \"linecolor\": \"white\", \"showbackground\": true, \"ticks\": \"\", \"zerolinecolor\": \"white\"}, \"zaxis\": {\"backgroundcolor\": \"#E5ECF6\", \"gridcolor\": \"white\", \"gridwidth\": 2, \"linecolor\": \"white\", \"showbackground\": true, \"ticks\": \"\", \"zerolinecolor\": \"white\"}}, \"shapedefaults\": {\"line\": {\"color\": \"#2a3f5f\"}}, \"ternary\": {\"aaxis\": {\"gridcolor\": \"white\", \"linecolor\": \"white\", \"ticks\": \"\"}, \"baxis\": {\"gridcolor\": \"white\", \"linecolor\": \"white\", \"ticks\": \"\"}, \"bgcolor\": \"#E5ECF6\", \"caxis\": {\"gridcolor\": \"white\", \"linecolor\": \"white\", \"ticks\": \"\"}}, \"title\": {\"x\": 0.05}, \"xaxis\": {\"automargin\": true, \"gridcolor\": \"white\", \"linecolor\": \"white\", \"ticks\": \"\", \"title\": {\"standoff\": 15}, \"zerolinecolor\": \"white\", \"zerolinewidth\": 2}, \"yaxis\": {\"automargin\": true, \"gridcolor\": \"white\", \"linecolor\": \"white\", \"ticks\": \"\", \"title\": {\"standoff\": 15}, \"zerolinecolor\": \"white\", \"zerolinewidth\": 2}}}, \"title\": {\"text\": \"Movement Array in 3D\"}, \"width\": 500},\n",
              "                        {\"responsive\": true}\n",
              "                    ).then(function(){\n",
              "                            \n",
              "var gd = document.getElementById('8b27e2c0-b67d-4dad-b7d9-9dd9f39a6d19');\n",
              "var x = new MutationObserver(function (mutations, observer) {{\n",
              "        var display = window.getComputedStyle(gd).display;\n",
              "        if (!display || display === 'none') {{\n",
              "            console.log([gd, 'removed!']);\n",
              "            Plotly.purge(gd);\n",
              "            observer.disconnect();\n",
              "        }}\n",
              "}});\n",
              "\n",
              "// Listen for the removal of the full notebook cells\n",
              "var notebookContainer = gd.closest('#notebook-container');\n",
              "if (notebookContainer) {{\n",
              "    x.observe(notebookContainer, {childList: true});\n",
              "}}\n",
              "\n",
              "// Listen for the clearing of the current output cell\n",
              "var outputEl = gd.closest('.output');\n",
              "if (outputEl) {{\n",
              "    x.observe(outputEl, {childList: true});\n",
              "}}\n",
              "\n",
              "                        })\n",
              "                };\n",
              "                \n",
              "            </script>\n",
              "        </div>\n",
              "</body>\n",
              "</html>"
            ]
          },
          "metadata": {
            "tags": []
          }
        }
      ]
    },
    {
      "cell_type": "code",
      "metadata": {
        "id": "ItzljkFzKfDx"
      },
      "source": [
        "retx, rety = map2.getRecommendedMovesArrays()"
      ],
      "execution_count": 16,
      "outputs": []
    },
    {
      "cell_type": "code",
      "metadata": {
        "id": "iRDl7TlyuE7-"
      },
      "source": [
        "def getTileTrace():\n",
        "\n",
        "  # Generate tile name array\n",
        "  cnames = []\n",
        "  rtl = ['E','D','C','B','A']\n",
        "  ctli = [1,2,3,4,5,6]\n",
        "  for c in ctli:\n",
        "    for r in rtl:\n",
        "      cnames.append(f\"{r}{c}\")\n",
        "      \n",
        "  return go.Scatter(x=[0,0,0,0,0,1,1,1,1,1,2,2,2,2,2,3,3,3,3,3,4,4,4,4,4,5,5,5,5,5], y=[0,1,2,3,4,0,1,2,3,4,0,1,2,3,4,0,1,2,3,4,0,1,2,3,4,0,1,2,3,4],\n",
        "                          mode='markers+text',\n",
        "                          textposition=\"top right\",\n",
        "                          text = cnames,\n",
        "                          textfont=dict(\n",
        "                            family=\"sans serif\",\n",
        "                            size=18,\n",
        "                            color=\"red\"\n",
        "                          ),\n",
        "                          marker_size=14,\n",
        "                          name='Tiles')\n",
        "  \n",
        "def getContourTrace(data):\n",
        "  z = np.flip( data, axis=0)\n",
        "  return(go.Contour(\n",
        "        z=z,\n",
        "        x=[0,1,2,3,4,5], # horizontal axis\n",
        "        y=[0,1,2,3,4],   # vertical axis\n",
        "        colorscale=\"delta\"\n",
        "        #showlegend=False\n",
        "        #color_continuous_scale=px.colors.sequential.Viridis\n",
        "    ))\n",
        "\n",
        "def squaresTrace():\n",
        "  pass\n",
        "  #fig.add_shape(type=\"rect\",\n",
        "  #  xref=\"x\", yref=\"y\",\n",
        "  #  x0=-0.5, y0=-0.5,\n",
        "  #  x1=0.5, y1=0.5,\n",
        "  #  line=dict(\n",
        "  #      color=\"RoyalBlue\",\n",
        "  #      width=3,\n",
        "  #  ),\n",
        "  #  #fillcolor=\"LightSkyBlue\",\n",
        "  # #)"
      ],
      "execution_count": 17,
      "outputs": []
    },
    {
      "cell_type": "code",
      "metadata": {
        "colab": {
          "base_uri": "https://localhost:8080/",
          "height": 542
        },
        "id": "_XAR9c-Pu7wN",
        "outputId": "5a17d91a-2033-4946-ed11-01f4ef745b27"
      },
      "source": [
        "#\n",
        "# Show staging values as a contour plot\n",
        "#\n",
        "fig = go.Figure()\n",
        "fig.add_trace( getContourTrace(map2.getStrategicDataFrame().to_numpy()) )\n",
        "fig.add_trace( getTileTrace())\n",
        "fig.update_layout(title='Strategic Value of Staging Tiles')\n",
        "fig.update_xaxes(visible=False)\n",
        "fig.update_yaxes(visible=False)\n",
        "fig.update_layout(dict(paper_bgcolor='White',plot_bgcolor='White', showlegend=False))\n",
        "fig.show()"
      ],
      "execution_count": 18,
      "outputs": [
        {
          "output_type": "display_data",
          "data": {
            "text/html": [
              "<html>\n",
              "<head><meta charset=\"utf-8\" /></head>\n",
              "<body>\n",
              "    <div>\n",
              "            <script src=\"https://cdnjs.cloudflare.com/ajax/libs/mathjax/2.7.5/MathJax.js?config=TeX-AMS-MML_SVG\"></script><script type=\"text/javascript\">if (window.MathJax) {MathJax.Hub.Config({SVG: {font: \"STIX-Web\"}});}</script>\n",
              "                <script type=\"text/javascript\">window.PlotlyConfig = {MathJaxConfig: 'local'};</script>\n",
              "        <script src=\"https://cdn.plot.ly/plotly-latest.min.js\"></script>    \n",
              "            <div id=\"db7219c3-8564-44fe-ac05-67cb9b9c1fff\" class=\"plotly-graph-div\" style=\"height:525px; width:100%;\"></div>\n",
              "            <script type=\"text/javascript\">\n",
              "                \n",
              "                    window.PLOTLYENV=window.PLOTLYENV || {};\n",
              "                    \n",
              "                if (document.getElementById(\"db7219c3-8564-44fe-ac05-67cb9b9c1fff\")) {\n",
              "                    Plotly.newPlot(\n",
              "                        'db7219c3-8564-44fe-ac05-67cb9b9c1fff',\n",
              "                        [{\"colorscale\": [[0.0, \"rgb(16, 31, 63)\"], [0.09090909090909091, \"rgb(38, 62, 144)\"], [0.18181818181818182, \"rgb(30, 110, 161)\"], [0.2727272727272727, \"rgb(60, 154, 171)\"], [0.36363636363636365, \"rgb(140, 193, 186)\"], [0.45454545454545453, \"rgb(217, 229, 218)\"], [0.5454545454545454, \"rgb(239, 226, 156)\"], [0.6363636363636364, \"rgb(195, 182, 59)\"], [0.7272727272727273, \"rgb(115, 152, 5)\"], [0.8181818181818182, \"rgb(34, 120, 36)\"], [0.9090909090909091, \"rgb(18, 78, 43)\"], [1.0, \"rgb(23, 35, 18)\"]], \"type\": \"contour\", \"x\": [0, 1, 2, 3, 4, 5], \"y\": [0, 1, 2, 3, 4], \"z\": [[83251.6, 67505.7, 67505.7, 67505.7, 67505.7, 56296.6], [0.0, 158256.6, 159786.6, 127509.1, 163579.1, 0.0], [120754.1, 179301.1, 0.0, 246842.5, 0.0, 126076.6], [87020.20000000001, 0.0, 211578.6, 0.0, 169563.2, 67505.7], [30003.2, 87020.20000000001, 67505.7, 99783.20000000001, 67505.7, 30003.2]]}, {\"marker\": {\"size\": 14}, \"mode\": \"markers+text\", \"name\": \"Tiles\", \"text\": [\"E1\", \"D1\", \"C1\", \"B1\", \"A1\", \"E2\", \"D2\", \"C2\", \"B2\", \"A2\", \"E3\", \"D3\", \"C3\", \"B3\", \"A3\", \"E4\", \"D4\", \"C4\", \"B4\", \"A4\", \"E5\", \"D5\", \"C5\", \"B5\", \"A5\", \"E6\", \"D6\", \"C6\", \"B6\", \"A6\"], \"textfont\": {\"color\": \"red\", \"family\": \"sans serif\", \"size\": 18}, \"textposition\": \"top right\", \"type\": \"scatter\", \"x\": [0, 0, 0, 0, 0, 1, 1, 1, 1, 1, 2, 2, 2, 2, 2, 3, 3, 3, 3, 3, 4, 4, 4, 4, 4, 5, 5, 5, 5, 5], \"y\": [0, 1, 2, 3, 4, 0, 1, 2, 3, 4, 0, 1, 2, 3, 4, 0, 1, 2, 3, 4, 0, 1, 2, 3, 4, 0, 1, 2, 3, 4]}],\n",
              "                        {\"paper_bgcolor\": \"White\", \"plot_bgcolor\": \"White\", \"showlegend\": false, \"template\": {\"data\": {\"bar\": [{\"error_x\": {\"color\": \"#2a3f5f\"}, \"error_y\": {\"color\": \"#2a3f5f\"}, \"marker\": {\"line\": {\"color\": \"#E5ECF6\", \"width\": 0.5}}, \"type\": \"bar\"}], \"barpolar\": [{\"marker\": {\"line\": {\"color\": \"#E5ECF6\", \"width\": 0.5}}, \"type\": \"barpolar\"}], \"carpet\": [{\"aaxis\": {\"endlinecolor\": \"#2a3f5f\", \"gridcolor\": \"white\", \"linecolor\": \"white\", \"minorgridcolor\": \"white\", \"startlinecolor\": \"#2a3f5f\"}, \"baxis\": {\"endlinecolor\": \"#2a3f5f\", \"gridcolor\": \"white\", \"linecolor\": \"white\", \"minorgridcolor\": \"white\", \"startlinecolor\": \"#2a3f5f\"}, \"type\": \"carpet\"}], \"choropleth\": [{\"colorbar\": {\"outlinewidth\": 0, \"ticks\": \"\"}, \"type\": \"choropleth\"}], \"contour\": [{\"colorbar\": {\"outlinewidth\": 0, \"ticks\": \"\"}, \"colorscale\": [[0.0, \"#0d0887\"], [0.1111111111111111, \"#46039f\"], [0.2222222222222222, \"#7201a8\"], [0.3333333333333333, \"#9c179e\"], [0.4444444444444444, \"#bd3786\"], [0.5555555555555556, \"#d8576b\"], [0.6666666666666666, \"#ed7953\"], [0.7777777777777778, \"#fb9f3a\"], [0.8888888888888888, \"#fdca26\"], [1.0, \"#f0f921\"]], \"type\": \"contour\"}], \"contourcarpet\": [{\"colorbar\": {\"outlinewidth\": 0, \"ticks\": \"\"}, \"type\": \"contourcarpet\"}], \"heatmap\": [{\"colorbar\": {\"outlinewidth\": 0, \"ticks\": \"\"}, \"colorscale\": [[0.0, \"#0d0887\"], [0.1111111111111111, \"#46039f\"], [0.2222222222222222, \"#7201a8\"], [0.3333333333333333, \"#9c179e\"], [0.4444444444444444, \"#bd3786\"], [0.5555555555555556, \"#d8576b\"], [0.6666666666666666, \"#ed7953\"], [0.7777777777777778, \"#fb9f3a\"], [0.8888888888888888, \"#fdca26\"], [1.0, \"#f0f921\"]], \"type\": \"heatmap\"}], \"heatmapgl\": [{\"colorbar\": {\"outlinewidth\": 0, \"ticks\": \"\"}, \"colorscale\": [[0.0, \"#0d0887\"], [0.1111111111111111, \"#46039f\"], [0.2222222222222222, \"#7201a8\"], [0.3333333333333333, \"#9c179e\"], [0.4444444444444444, \"#bd3786\"], [0.5555555555555556, \"#d8576b\"], [0.6666666666666666, \"#ed7953\"], [0.7777777777777778, \"#fb9f3a\"], [0.8888888888888888, \"#fdca26\"], [1.0, \"#f0f921\"]], \"type\": \"heatmapgl\"}], \"histogram\": [{\"marker\": {\"colorbar\": {\"outlinewidth\": 0, \"ticks\": \"\"}}, \"type\": \"histogram\"}], \"histogram2d\": [{\"colorbar\": {\"outlinewidth\": 0, \"ticks\": \"\"}, \"colorscale\": [[0.0, \"#0d0887\"], [0.1111111111111111, \"#46039f\"], [0.2222222222222222, \"#7201a8\"], [0.3333333333333333, \"#9c179e\"], [0.4444444444444444, \"#bd3786\"], [0.5555555555555556, \"#d8576b\"], [0.6666666666666666, \"#ed7953\"], [0.7777777777777778, \"#fb9f3a\"], [0.8888888888888888, \"#fdca26\"], [1.0, \"#f0f921\"]], \"type\": \"histogram2d\"}], \"histogram2dcontour\": [{\"colorbar\": {\"outlinewidth\": 0, \"ticks\": \"\"}, \"colorscale\": [[0.0, \"#0d0887\"], [0.1111111111111111, \"#46039f\"], [0.2222222222222222, \"#7201a8\"], [0.3333333333333333, \"#9c179e\"], [0.4444444444444444, \"#bd3786\"], [0.5555555555555556, \"#d8576b\"], [0.6666666666666666, \"#ed7953\"], [0.7777777777777778, \"#fb9f3a\"], [0.8888888888888888, \"#fdca26\"], [1.0, \"#f0f921\"]], \"type\": \"histogram2dcontour\"}], \"mesh3d\": [{\"colorbar\": {\"outlinewidth\": 0, \"ticks\": \"\"}, \"type\": \"mesh3d\"}], \"parcoords\": [{\"line\": {\"colorbar\": {\"outlinewidth\": 0, \"ticks\": \"\"}}, \"type\": \"parcoords\"}], \"pie\": [{\"automargin\": true, \"type\": \"pie\"}], \"scatter\": [{\"marker\": {\"colorbar\": {\"outlinewidth\": 0, \"ticks\": \"\"}}, \"type\": \"scatter\"}], \"scatter3d\": [{\"line\": {\"colorbar\": {\"outlinewidth\": 0, \"ticks\": \"\"}}, \"marker\": {\"colorbar\": {\"outlinewidth\": 0, \"ticks\": \"\"}}, \"type\": \"scatter3d\"}], \"scattercarpet\": [{\"marker\": {\"colorbar\": {\"outlinewidth\": 0, \"ticks\": \"\"}}, \"type\": \"scattercarpet\"}], \"scattergeo\": [{\"marker\": {\"colorbar\": {\"outlinewidth\": 0, \"ticks\": \"\"}}, \"type\": \"scattergeo\"}], \"scattergl\": [{\"marker\": {\"colorbar\": {\"outlinewidth\": 0, \"ticks\": \"\"}}, \"type\": \"scattergl\"}], \"scattermapbox\": [{\"marker\": {\"colorbar\": {\"outlinewidth\": 0, \"ticks\": \"\"}}, \"type\": \"scattermapbox\"}], \"scatterpolar\": [{\"marker\": {\"colorbar\": {\"outlinewidth\": 0, \"ticks\": \"\"}}, \"type\": \"scatterpolar\"}], \"scatterpolargl\": [{\"marker\": {\"colorbar\": {\"outlinewidth\": 0, \"ticks\": \"\"}}, \"type\": \"scatterpolargl\"}], \"scatterternary\": [{\"marker\": {\"colorbar\": {\"outlinewidth\": 0, \"ticks\": \"\"}}, \"type\": \"scatterternary\"}], \"surface\": [{\"colorbar\": {\"outlinewidth\": 0, \"ticks\": \"\"}, \"colorscale\": [[0.0, \"#0d0887\"], [0.1111111111111111, \"#46039f\"], [0.2222222222222222, \"#7201a8\"], [0.3333333333333333, \"#9c179e\"], [0.4444444444444444, \"#bd3786\"], [0.5555555555555556, \"#d8576b\"], [0.6666666666666666, \"#ed7953\"], [0.7777777777777778, \"#fb9f3a\"], [0.8888888888888888, \"#fdca26\"], [1.0, \"#f0f921\"]], \"type\": \"surface\"}], \"table\": [{\"cells\": {\"fill\": {\"color\": \"#EBF0F8\"}, \"line\": {\"color\": \"white\"}}, \"header\": {\"fill\": {\"color\": \"#C8D4E3\"}, \"line\": {\"color\": \"white\"}}, \"type\": \"table\"}]}, \"layout\": {\"annotationdefaults\": {\"arrowcolor\": \"#2a3f5f\", \"arrowhead\": 0, \"arrowwidth\": 1}, \"coloraxis\": {\"colorbar\": {\"outlinewidth\": 0, \"ticks\": \"\"}}, \"colorscale\": {\"diverging\": [[0, \"#8e0152\"], [0.1, \"#c51b7d\"], [0.2, \"#de77ae\"], [0.3, \"#f1b6da\"], [0.4, \"#fde0ef\"], [0.5, \"#f7f7f7\"], [0.6, \"#e6f5d0\"], [0.7, \"#b8e186\"], [0.8, \"#7fbc41\"], [0.9, \"#4d9221\"], [1, \"#276419\"]], \"sequential\": [[0.0, \"#0d0887\"], [0.1111111111111111, \"#46039f\"], [0.2222222222222222, \"#7201a8\"], [0.3333333333333333, \"#9c179e\"], [0.4444444444444444, \"#bd3786\"], [0.5555555555555556, \"#d8576b\"], [0.6666666666666666, \"#ed7953\"], [0.7777777777777778, \"#fb9f3a\"], [0.8888888888888888, \"#fdca26\"], [1.0, \"#f0f921\"]], \"sequentialminus\": [[0.0, \"#0d0887\"], [0.1111111111111111, \"#46039f\"], [0.2222222222222222, \"#7201a8\"], [0.3333333333333333, \"#9c179e\"], [0.4444444444444444, \"#bd3786\"], [0.5555555555555556, \"#d8576b\"], [0.6666666666666666, \"#ed7953\"], [0.7777777777777778, \"#fb9f3a\"], [0.8888888888888888, \"#fdca26\"], [1.0, \"#f0f921\"]]}, \"colorway\": [\"#636efa\", \"#EF553B\", \"#00cc96\", \"#ab63fa\", \"#FFA15A\", \"#19d3f3\", \"#FF6692\", \"#B6E880\", \"#FF97FF\", \"#FECB52\"], \"font\": {\"color\": \"#2a3f5f\"}, \"geo\": {\"bgcolor\": \"white\", \"lakecolor\": \"white\", \"landcolor\": \"#E5ECF6\", \"showlakes\": true, \"showland\": true, \"subunitcolor\": \"white\"}, \"hoverlabel\": {\"align\": \"left\"}, \"hovermode\": \"closest\", \"mapbox\": {\"style\": \"light\"}, \"paper_bgcolor\": \"white\", \"plot_bgcolor\": \"#E5ECF6\", \"polar\": {\"angularaxis\": {\"gridcolor\": \"white\", \"linecolor\": \"white\", \"ticks\": \"\"}, \"bgcolor\": \"#E5ECF6\", \"radialaxis\": {\"gridcolor\": \"white\", \"linecolor\": \"white\", \"ticks\": \"\"}}, \"scene\": {\"xaxis\": {\"backgroundcolor\": \"#E5ECF6\", \"gridcolor\": \"white\", \"gridwidth\": 2, \"linecolor\": \"white\", \"showbackground\": true, \"ticks\": \"\", \"zerolinecolor\": \"white\"}, \"yaxis\": {\"backgroundcolor\": \"#E5ECF6\", \"gridcolor\": \"white\", \"gridwidth\": 2, \"linecolor\": \"white\", \"showbackground\": true, \"ticks\": \"\", \"zerolinecolor\": \"white\"}, \"zaxis\": {\"backgroundcolor\": \"#E5ECF6\", \"gridcolor\": \"white\", \"gridwidth\": 2, \"linecolor\": \"white\", \"showbackground\": true, \"ticks\": \"\", \"zerolinecolor\": \"white\"}}, \"shapedefaults\": {\"line\": {\"color\": \"#2a3f5f\"}}, \"ternary\": {\"aaxis\": {\"gridcolor\": \"white\", \"linecolor\": \"white\", \"ticks\": \"\"}, \"baxis\": {\"gridcolor\": \"white\", \"linecolor\": \"white\", \"ticks\": \"\"}, \"bgcolor\": \"#E5ECF6\", \"caxis\": {\"gridcolor\": \"white\", \"linecolor\": \"white\", \"ticks\": \"\"}}, \"title\": {\"x\": 0.05}, \"xaxis\": {\"automargin\": true, \"gridcolor\": \"white\", \"linecolor\": \"white\", \"ticks\": \"\", \"title\": {\"standoff\": 15}, \"zerolinecolor\": \"white\", \"zerolinewidth\": 2}, \"yaxis\": {\"automargin\": true, \"gridcolor\": \"white\", \"linecolor\": \"white\", \"ticks\": \"\", \"title\": {\"standoff\": 15}, \"zerolinecolor\": \"white\", \"zerolinewidth\": 2}}}, \"title\": {\"text\": \"Strategic Value of Staging Tiles\"}, \"xaxis\": {\"visible\": false}, \"yaxis\": {\"visible\": false}},\n",
              "                        {\"responsive\": true}\n",
              "                    ).then(function(){\n",
              "                            \n",
              "var gd = document.getElementById('db7219c3-8564-44fe-ac05-67cb9b9c1fff');\n",
              "var x = new MutationObserver(function (mutations, observer) {{\n",
              "        var display = window.getComputedStyle(gd).display;\n",
              "        if (!display || display === 'none') {{\n",
              "            console.log([gd, 'removed!']);\n",
              "            Plotly.purge(gd);\n",
              "            observer.disconnect();\n",
              "        }}\n",
              "}});\n",
              "\n",
              "// Listen for the removal of the full notebook cells\n",
              "var notebookContainer = gd.closest('#notebook-container');\n",
              "if (notebookContainer) {{\n",
              "    x.observe(notebookContainer, {childList: true});\n",
              "}}\n",
              "\n",
              "// Listen for the clearing of the current output cell\n",
              "var outputEl = gd.closest('.output');\n",
              "if (outputEl) {{\n",
              "    x.observe(outputEl, {childList: true});\n",
              "}}\n",
              "\n",
              "                        })\n",
              "                };\n",
              "                \n",
              "            </script>\n",
              "        </div>\n",
              "</body>\n",
              "</html>"
            ]
          },
          "metadata": {
            "tags": []
          }
        }
      ]
    },
    {
      "cell_type": "code",
      "metadata": {
        "id": "c9iviT0GFRAc",
        "colab": {
          "base_uri": "https://localhost:8080/",
          "height": 542
        },
        "outputId": "8e11edf7-8228-4a0b-c9b8-0b2f58a430c8"
      },
      "source": [
        "  #fig = ff.create_streamline(x, y, u,v, arrow_scale=.1, name='streamline')\n",
        "  x,y = np.meshgrid(np.arange(0, 6, 1), np.arange(0, 5, 1))\n",
        "  fig = ff.create_quiver(x,y,                       #positions \n",
        "                         retx, rety,                #vectors\n",
        "                         scale=1,                   #vector scale\n",
        "                         name=\"Recommended Move\",   #legend title\n",
        "                         line=dict(width=2,\n",
        "                                color='red'),\n",
        "                        )\n",
        "\n",
        "  # add dots at integers\n",
        "  fig.add_trace( getTileTrace())\n",
        "\n",
        "  # add contour plot   \n",
        "  z = payout.to_numpy()\n",
        "  fig.add_trace( getContourTrace(z) )\n",
        "  \n",
        "  # cosmetics\n",
        "  #  - axes are confusing & extraneous\n",
        "  fig.update_xaxes(visible=False)\n",
        "  fig.update_yaxes(visible=False)\n",
        "\n",
        "  #  - KISS   \n",
        "  showLegend = False #dots & arrows  # 3 legends are colliding\n",
        "  fig.update_layout(dict(paper_bgcolor='White',plot_bgcolor='White', showlegend=showLegend))\n",
        "\n",
        "  #fig.update_layout dict(show_legend=False))\n",
        "  #fig.update_layout(coloraxis_showscale=False)\n",
        "\n",
        "  # move colorbar\n",
        "  #fig.update_layout(coloraxis_colorbar=dict(yanchor=\"top\", y=1, x=0,\n",
        "  #                                        ticks=\"outside\",\n",
        "  #                                        ticksuffix=\" bills\"))\n",
        "\n",
        "  # - graph title\n",
        "  fig.update_layout(title='Relative Payout and Recommended Moves')\n",
        "  fig.show()"
      ],
      "execution_count": 19,
      "outputs": [
        {
          "output_type": "display_data",
          "data": {
            "text/html": [
              "<html>\n",
              "<head><meta charset=\"utf-8\" /></head>\n",
              "<body>\n",
              "    <div>\n",
              "            <script src=\"https://cdnjs.cloudflare.com/ajax/libs/mathjax/2.7.5/MathJax.js?config=TeX-AMS-MML_SVG\"></script><script type=\"text/javascript\">if (window.MathJax) {MathJax.Hub.Config({SVG: {font: \"STIX-Web\"}});}</script>\n",
              "                <script type=\"text/javascript\">window.PlotlyConfig = {MathJaxConfig: 'local'};</script>\n",
              "        <script src=\"https://cdn.plot.ly/plotly-latest.min.js\"></script>    \n",
              "            <div id=\"5eae3752-3700-4206-89d8-e47c8061117c\" class=\"plotly-graph-div\" style=\"height:525px; width:100%;\"></div>\n",
              "            <script type=\"text/javascript\">\n",
              "                \n",
              "                    window.PLOTLYENV=window.PLOTLYENV || {};\n",
              "                    \n",
              "                if (document.getElementById(\"5eae3752-3700-4206-89d8-e47c8061117c\")) {\n",
              "                    Plotly.newPlot(\n",
              "                        '5eae3752-3700-4206-89d8-e47c8061117c',\n",
              "                        [{\"line\": {\"color\": \"red\", \"width\": 2}, \"mode\": \"lines\", \"name\": \"Recommended Move\", \"type\": \"scatter\", \"x\": [0, 0, null, 1, 1, null, 2, 2, null, 3, 3, null, 4, 4, null, 5, 5, null, 0, 0, null, 1, 0, null, 2, 2, null, 3, 3, null, 4, 4, null, 5, 5, null, 0, 0, null, 1, 2, null, 2, 2, null, 3, 2, null, 4, 4, null, 5, 4, null, 0, 1, null, 1, 1, null, 2, 3, null, 3, 3, null, 4, 3, null, 5, 4, null, 0, 1, null, 1, 1, null, 2, 2, null, 3, 3, null, 4, 4, null, 5, 4, null, 0.10260604299770061, 0, -0.10260604299770064, null, 1.1026060429977007, 1, 0.8973939570022994, null, 2.1026060429977007, 2, 1.8973939570022993, null, 3.1026060429977007, 3, 2.8973939570022993, null, 4.1026060429977, 4, 3.8973939570022993, null, 5.1026060429977, 5, 4.8973939570023, null, 0.0, 0, 0.0, null, 0.2819077862357725, 0, 0.2819077862357725, null, 2.1026060429977007, 2, 1.8973939570022993, null, 3.1026060429977007, 3, 2.8973939570022993, null, 4.1026060429977, 4, 3.8973939570022993, null, 5.0, 5, 5.0, null, -0.10260604299770064, 0, 0.10260604299770061, null, 1.7180922137642276, 2, 1.7180922137642276, null, 2.0, 2, 2.0, null, 2.2819077862357724, 2, 2.2819077862357724, null, 4.0, 4, 4.0, null, 4.281907786235773, 4, 4.281907786235773, null, 0.7180922137642275, 1, 0.7180922137642275, null, 1.0, 1, 1.0, null, 2.7180922137642276, 3, 2.7180922137642276, null, 3.0, 3, 3.0, null, 3.2819077862357724, 3, 3.2819077862357724, null, 4.281907786235773, 4, 4.281907786235773, null, 0.7180922137642275, 1, 0.7180922137642275, null, 0.8973939570022994, 1, 1.1026060429977007, null, 1.8973939570022993, 2, 2.1026060429977007, null, 2.8973939570022993, 3, 3.1026060429977007, null, 3.8973939570022993, 4, 4.1026060429977, null, 4.281907786235773, 4, 4.281907786235773, null], \"y\": [0, 1, null, 0, 1, null, 0, 1, null, 0, 1, null, 0, 1, null, 0, 1, null, 1, 1, null, 1, 1, null, 1, 2, null, 1, 2, null, 1, 2, null, 1, 1, null, 2, 1, null, 2, 2, null, 2, 2, null, 2, 2, null, 2, 2, null, 2, 2, null, 3, 3, null, 3, 3, null, 3, 3, null, 3, 3, null, 3, 3, null, 3, 3, null, 4, 4, null, 4, 3, null, 4, 3, null, 4, 3, null, 4, 3, null, 4, 4, null, 0.7180922137642275, 1, 0.7180922137642275, null, 0.7180922137642275, 1, 0.7180922137642275, null, 0.7180922137642275, 1, 0.7180922137642275, null, 0.7180922137642275, 1, 0.7180922137642275, null, 0.7180922137642275, 1, 0.7180922137642275, null, 0.7180922137642275, 1, 0.7180922137642275, null, 1.0, 1, 1.0, null, 1.1026060429977007, 1, 0.8973939570022993, null, 1.7180922137642276, 2, 1.7180922137642276, null, 1.7180922137642276, 2, 1.7180922137642276, null, 1.7180922137642276, 2, 1.7180922137642276, null, 1.0, 1, 1.0, null, 1.2819077862357724, 1, 1.2819077862357724, null, 1.8973939570022993, 2, 2.1026060429977007, null, 2.0, 2, 2.0, null, 2.1026060429977007, 2, 1.8973939570022993, null, 2.0, 2, 2.0, null, 2.1026060429977007, 2, 1.8973939570022993, null, 2.8973939570022993, 3, 3.1026060429977007, null, 3.0, 3, 3.0, null, 2.8973939570022993, 3, 3.1026060429977007, null, 3.0, 3, 3.0, null, 3.1026060429977007, 3, 2.8973939570022993, null, 3.1026060429977007, 3, 2.8973939570022993, null, 3.8973939570022993, 4, 4.1026060429977, null, 3.2819077862357724, 3, 3.2819077862357724, null, 3.2819077862357724, 3, 3.2819077862357724, null, 3.2819077862357724, 3, 3.2819077862357724, null, 3.2819077862357724, 3, 3.2819077862357724, null, 4.1026060429977, 4, 3.8973939570022993, null]}, {\"marker\": {\"size\": 14}, \"mode\": \"markers+text\", \"name\": \"Tiles\", \"text\": [\"E1\", \"D1\", \"C1\", \"B1\", \"A1\", \"E2\", \"D2\", \"C2\", \"B2\", \"A2\", \"E3\", \"D3\", \"C3\", \"B3\", \"A3\", \"E4\", \"D4\", \"C4\", \"B4\", \"A4\", \"E5\", \"D5\", \"C5\", \"B5\", \"A5\", \"E6\", \"D6\", \"C6\", \"B6\", \"A6\"], \"textfont\": {\"color\": \"red\", \"family\": \"sans serif\", \"size\": 18}, \"textposition\": \"top right\", \"type\": \"scatter\", \"x\": [0, 0, 0, 0, 0, 1, 1, 1, 1, 1, 2, 2, 2, 2, 2, 3, 3, 3, 3, 3, 4, 4, 4, 4, 4, 5, 5, 5, 5, 5], \"y\": [0, 1, 2, 3, 4, 0, 1, 2, 3, 4, 0, 1, 2, 3, 4, 0, 1, 2, 3, 4, 0, 1, 2, 3, 4, 0, 1, 2, 3, 4]}, {\"colorscale\": [[0.0, \"rgb(16, 31, 63)\"], [0.09090909090909091, \"rgb(38, 62, 144)\"], [0.18181818181818182, \"rgb(30, 110, 161)\"], [0.2727272727272727, \"rgb(60, 154, 171)\"], [0.36363636363636365, \"rgb(140, 193, 186)\"], [0.45454545454545453, \"rgb(217, 229, 218)\"], [0.5454545454545454, \"rgb(239, 226, 156)\"], [0.6363636363636364, \"rgb(195, 182, 59)\"], [0.7272727272727273, \"rgb(115, 152, 5)\"], [0.8181818181818182, \"rgb(34, 120, 36)\"], [0.9090909090909091, \"rgb(18, 78, 43)\"], [1.0, \"rgb(23, 35, 18)\"]], \"type\": \"contour\", \"x\": [0, 1, 2, 3, 4, 5], \"y\": [0, 1, 2, 3, 4], \"z\": [[15001.6, 15001.6, 15001.6, 15001.6, 15001.6, 15001.6], [68250.0, 37502.5, 37502.5, 37502.5, 37502.5, 41295.0], [15001.6, 37502.5, 69780.0, 37502.5, 69780.0, 15001.6], [15001.6, 57017.0, 37502.5, 69780.0, 37502.5, 15001.6], [15001.6, 15001.6, 15001.6, 15001.6, 15001.6, 15001.6]]}],\n",
              "                        {\"hovermode\": \"closest\", \"paper_bgcolor\": \"White\", \"plot_bgcolor\": \"White\", \"showlegend\": false, \"template\": {\"data\": {\"bar\": [{\"error_x\": {\"color\": \"#2a3f5f\"}, \"error_y\": {\"color\": \"#2a3f5f\"}, \"marker\": {\"line\": {\"color\": \"#E5ECF6\", \"width\": 0.5}}, \"type\": \"bar\"}], \"barpolar\": [{\"marker\": {\"line\": {\"color\": \"#E5ECF6\", \"width\": 0.5}}, \"type\": \"barpolar\"}], \"carpet\": [{\"aaxis\": {\"endlinecolor\": \"#2a3f5f\", \"gridcolor\": \"white\", \"linecolor\": \"white\", \"minorgridcolor\": \"white\", \"startlinecolor\": \"#2a3f5f\"}, \"baxis\": {\"endlinecolor\": \"#2a3f5f\", \"gridcolor\": \"white\", \"linecolor\": \"white\", \"minorgridcolor\": \"white\", \"startlinecolor\": \"#2a3f5f\"}, \"type\": \"carpet\"}], \"choropleth\": [{\"colorbar\": {\"outlinewidth\": 0, \"ticks\": \"\"}, \"type\": \"choropleth\"}], \"contour\": [{\"colorbar\": {\"outlinewidth\": 0, \"ticks\": \"\"}, \"colorscale\": [[0.0, \"#0d0887\"], [0.1111111111111111, \"#46039f\"], [0.2222222222222222, \"#7201a8\"], [0.3333333333333333, \"#9c179e\"], [0.4444444444444444, \"#bd3786\"], [0.5555555555555556, \"#d8576b\"], [0.6666666666666666, \"#ed7953\"], [0.7777777777777778, \"#fb9f3a\"], [0.8888888888888888, \"#fdca26\"], [1.0, \"#f0f921\"]], \"type\": \"contour\"}], \"contourcarpet\": [{\"colorbar\": {\"outlinewidth\": 0, \"ticks\": \"\"}, \"type\": \"contourcarpet\"}], \"heatmap\": [{\"colorbar\": {\"outlinewidth\": 0, \"ticks\": \"\"}, \"colorscale\": [[0.0, \"#0d0887\"], [0.1111111111111111, \"#46039f\"], [0.2222222222222222, \"#7201a8\"], [0.3333333333333333, \"#9c179e\"], [0.4444444444444444, \"#bd3786\"], [0.5555555555555556, \"#d8576b\"], [0.6666666666666666, \"#ed7953\"], [0.7777777777777778, \"#fb9f3a\"], [0.8888888888888888, \"#fdca26\"], [1.0, \"#f0f921\"]], \"type\": \"heatmap\"}], \"heatmapgl\": [{\"colorbar\": {\"outlinewidth\": 0, \"ticks\": \"\"}, \"colorscale\": [[0.0, \"#0d0887\"], [0.1111111111111111, \"#46039f\"], [0.2222222222222222, \"#7201a8\"], [0.3333333333333333, \"#9c179e\"], [0.4444444444444444, \"#bd3786\"], [0.5555555555555556, \"#d8576b\"], [0.6666666666666666, \"#ed7953\"], [0.7777777777777778, \"#fb9f3a\"], [0.8888888888888888, \"#fdca26\"], [1.0, \"#f0f921\"]], \"type\": \"heatmapgl\"}], \"histogram\": [{\"marker\": {\"colorbar\": {\"outlinewidth\": 0, \"ticks\": \"\"}}, \"type\": \"histogram\"}], \"histogram2d\": [{\"colorbar\": {\"outlinewidth\": 0, \"ticks\": \"\"}, \"colorscale\": [[0.0, \"#0d0887\"], [0.1111111111111111, \"#46039f\"], [0.2222222222222222, \"#7201a8\"], [0.3333333333333333, \"#9c179e\"], [0.4444444444444444, \"#bd3786\"], [0.5555555555555556, \"#d8576b\"], [0.6666666666666666, \"#ed7953\"], [0.7777777777777778, \"#fb9f3a\"], [0.8888888888888888, \"#fdca26\"], [1.0, \"#f0f921\"]], \"type\": \"histogram2d\"}], \"histogram2dcontour\": [{\"colorbar\": {\"outlinewidth\": 0, \"ticks\": \"\"}, \"colorscale\": [[0.0, \"#0d0887\"], [0.1111111111111111, \"#46039f\"], [0.2222222222222222, \"#7201a8\"], [0.3333333333333333, \"#9c179e\"], [0.4444444444444444, \"#bd3786\"], [0.5555555555555556, \"#d8576b\"], [0.6666666666666666, \"#ed7953\"], [0.7777777777777778, \"#fb9f3a\"], [0.8888888888888888, \"#fdca26\"], [1.0, \"#f0f921\"]], \"type\": \"histogram2dcontour\"}], \"mesh3d\": [{\"colorbar\": {\"outlinewidth\": 0, \"ticks\": \"\"}, \"type\": \"mesh3d\"}], \"parcoords\": [{\"line\": {\"colorbar\": {\"outlinewidth\": 0, \"ticks\": \"\"}}, \"type\": \"parcoords\"}], \"pie\": [{\"automargin\": true, \"type\": \"pie\"}], \"scatter\": [{\"marker\": {\"colorbar\": {\"outlinewidth\": 0, \"ticks\": \"\"}}, \"type\": \"scatter\"}], \"scatter3d\": [{\"line\": {\"colorbar\": {\"outlinewidth\": 0, \"ticks\": \"\"}}, \"marker\": {\"colorbar\": {\"outlinewidth\": 0, \"ticks\": \"\"}}, \"type\": \"scatter3d\"}], \"scattercarpet\": [{\"marker\": {\"colorbar\": {\"outlinewidth\": 0, \"ticks\": \"\"}}, \"type\": \"scattercarpet\"}], \"scattergeo\": [{\"marker\": {\"colorbar\": {\"outlinewidth\": 0, \"ticks\": \"\"}}, \"type\": \"scattergeo\"}], \"scattergl\": [{\"marker\": {\"colorbar\": {\"outlinewidth\": 0, \"ticks\": \"\"}}, \"type\": \"scattergl\"}], \"scattermapbox\": [{\"marker\": {\"colorbar\": {\"outlinewidth\": 0, \"ticks\": \"\"}}, \"type\": \"scattermapbox\"}], \"scatterpolar\": [{\"marker\": {\"colorbar\": {\"outlinewidth\": 0, \"ticks\": \"\"}}, \"type\": \"scatterpolar\"}], \"scatterpolargl\": [{\"marker\": {\"colorbar\": {\"outlinewidth\": 0, \"ticks\": \"\"}}, \"type\": \"scatterpolargl\"}], \"scatterternary\": [{\"marker\": {\"colorbar\": {\"outlinewidth\": 0, \"ticks\": \"\"}}, \"type\": \"scatterternary\"}], \"surface\": [{\"colorbar\": {\"outlinewidth\": 0, \"ticks\": \"\"}, \"colorscale\": [[0.0, \"#0d0887\"], [0.1111111111111111, \"#46039f\"], [0.2222222222222222, \"#7201a8\"], [0.3333333333333333, \"#9c179e\"], [0.4444444444444444, \"#bd3786\"], [0.5555555555555556, \"#d8576b\"], [0.6666666666666666, \"#ed7953\"], [0.7777777777777778, \"#fb9f3a\"], [0.8888888888888888, \"#fdca26\"], [1.0, \"#f0f921\"]], \"type\": \"surface\"}], \"table\": [{\"cells\": {\"fill\": {\"color\": \"#EBF0F8\"}, \"line\": {\"color\": \"white\"}}, \"header\": {\"fill\": {\"color\": \"#C8D4E3\"}, \"line\": {\"color\": \"white\"}}, \"type\": \"table\"}]}, \"layout\": {\"annotationdefaults\": {\"arrowcolor\": \"#2a3f5f\", \"arrowhead\": 0, \"arrowwidth\": 1}, \"coloraxis\": {\"colorbar\": {\"outlinewidth\": 0, \"ticks\": \"\"}}, \"colorscale\": {\"diverging\": [[0, \"#8e0152\"], [0.1, \"#c51b7d\"], [0.2, \"#de77ae\"], [0.3, \"#f1b6da\"], [0.4, \"#fde0ef\"], [0.5, \"#f7f7f7\"], [0.6, \"#e6f5d0\"], [0.7, \"#b8e186\"], [0.8, \"#7fbc41\"], [0.9, \"#4d9221\"], [1, \"#276419\"]], \"sequential\": [[0.0, \"#0d0887\"], [0.1111111111111111, \"#46039f\"], [0.2222222222222222, \"#7201a8\"], [0.3333333333333333, \"#9c179e\"], [0.4444444444444444, \"#bd3786\"], [0.5555555555555556, \"#d8576b\"], [0.6666666666666666, \"#ed7953\"], [0.7777777777777778, \"#fb9f3a\"], [0.8888888888888888, \"#fdca26\"], [1.0, \"#f0f921\"]], \"sequentialminus\": [[0.0, \"#0d0887\"], [0.1111111111111111, \"#46039f\"], [0.2222222222222222, \"#7201a8\"], [0.3333333333333333, \"#9c179e\"], [0.4444444444444444, \"#bd3786\"], [0.5555555555555556, \"#d8576b\"], [0.6666666666666666, \"#ed7953\"], [0.7777777777777778, \"#fb9f3a\"], [0.8888888888888888, \"#fdca26\"], [1.0, \"#f0f921\"]]}, \"colorway\": [\"#636efa\", \"#EF553B\", \"#00cc96\", \"#ab63fa\", \"#FFA15A\", \"#19d3f3\", \"#FF6692\", \"#B6E880\", \"#FF97FF\", \"#FECB52\"], \"font\": {\"color\": \"#2a3f5f\"}, \"geo\": {\"bgcolor\": \"white\", \"lakecolor\": \"white\", \"landcolor\": \"#E5ECF6\", \"showlakes\": true, \"showland\": true, \"subunitcolor\": \"white\"}, \"hoverlabel\": {\"align\": \"left\"}, \"hovermode\": \"closest\", \"mapbox\": {\"style\": \"light\"}, \"paper_bgcolor\": \"white\", \"plot_bgcolor\": \"#E5ECF6\", \"polar\": {\"angularaxis\": {\"gridcolor\": \"white\", \"linecolor\": \"white\", \"ticks\": \"\"}, \"bgcolor\": \"#E5ECF6\", \"radialaxis\": {\"gridcolor\": \"white\", \"linecolor\": \"white\", \"ticks\": \"\"}}, \"scene\": {\"xaxis\": {\"backgroundcolor\": \"#E5ECF6\", \"gridcolor\": \"white\", \"gridwidth\": 2, \"linecolor\": \"white\", \"showbackground\": true, \"ticks\": \"\", \"zerolinecolor\": \"white\"}, \"yaxis\": {\"backgroundcolor\": \"#E5ECF6\", \"gridcolor\": \"white\", \"gridwidth\": 2, \"linecolor\": \"white\", \"showbackground\": true, \"ticks\": \"\", \"zerolinecolor\": \"white\"}, \"zaxis\": {\"backgroundcolor\": \"#E5ECF6\", \"gridcolor\": \"white\", \"gridwidth\": 2, \"linecolor\": \"white\", \"showbackground\": true, \"ticks\": \"\", \"zerolinecolor\": \"white\"}}, \"shapedefaults\": {\"line\": {\"color\": \"#2a3f5f\"}}, \"ternary\": {\"aaxis\": {\"gridcolor\": \"white\", \"linecolor\": \"white\", \"ticks\": \"\"}, \"baxis\": {\"gridcolor\": \"white\", \"linecolor\": \"white\", \"ticks\": \"\"}, \"bgcolor\": \"#E5ECF6\", \"caxis\": {\"gridcolor\": \"white\", \"linecolor\": \"white\", \"ticks\": \"\"}}, \"title\": {\"x\": 0.05}, \"xaxis\": {\"automargin\": true, \"gridcolor\": \"white\", \"linecolor\": \"white\", \"ticks\": \"\", \"title\": {\"standoff\": 15}, \"zerolinecolor\": \"white\", \"zerolinewidth\": 2}, \"yaxis\": {\"automargin\": true, \"gridcolor\": \"white\", \"linecolor\": \"white\", \"ticks\": \"\", \"title\": {\"standoff\": 15}, \"zerolinecolor\": \"white\", \"zerolinewidth\": 2}}}, \"title\": {\"text\": \"Relative Payout and Recommended Moves\"}, \"xaxis\": {\"visible\": false}, \"yaxis\": {\"visible\": false}},\n",
              "                        {\"responsive\": true}\n",
              "                    ).then(function(){\n",
              "                            \n",
              "var gd = document.getElementById('5eae3752-3700-4206-89d8-e47c8061117c');\n",
              "var x = new MutationObserver(function (mutations, observer) {{\n",
              "        var display = window.getComputedStyle(gd).display;\n",
              "        if (!display || display === 'none') {{\n",
              "            console.log([gd, 'removed!']);\n",
              "            Plotly.purge(gd);\n",
              "            observer.disconnect();\n",
              "        }}\n",
              "}});\n",
              "\n",
              "// Listen for the removal of the full notebook cells\n",
              "var notebookContainer = gd.closest('#notebook-container');\n",
              "if (notebookContainer) {{\n",
              "    x.observe(notebookContainer, {childList: true});\n",
              "}}\n",
              "\n",
              "// Listen for the clearing of the current output cell\n",
              "var outputEl = gd.closest('.output');\n",
              "if (outputEl) {{\n",
              "    x.observe(outputEl, {childList: true});\n",
              "}}\n",
              "\n",
              "                        })\n",
              "                };\n",
              "                \n",
              "            </script>\n",
              "        </div>\n",
              "</body>\n",
              "</html>"
            ]
          },
          "metadata": {
            "tags": []
          }
        }
      ]
    },
    {
      "cell_type": "markdown",
      "metadata": {
        "id": "oivXJ8eRVg6S"
      },
      "source": [
        "# Multi-Tile Targets"
      ]
    },
    {
      "cell_type": "code",
      "metadata": {
        "colab": {
          "base_uri": "https://localhost:8080/"
        },
        "id": "GlPhz_wC9cZg",
        "outputId": "1dc34fc4-a6ee-4be8-ed8e-f2a2ef4758aa"
      },
      "source": [
        "import re\n",
        "s = 'a1a5c6e3'\n",
        "res = re.findall('(\\d+|[A-Za-z]+)', s)\n",
        "print(res)\n",
        "\n",
        "def parse_tile(inp):\n",
        "  pass"
      ],
      "execution_count": 20,
      "outputs": [
        {
          "output_type": "stream",
          "text": [
            "['a', '1', 'a', '5', 'c', '6', 'e', '3']\n"
          ],
          "name": "stdout"
        }
      ]
    },
    {
      "cell_type": "code",
      "metadata": {
        "colab": {
          "base_uri": "https://localhost:8080/",
          "height": 517
        },
        "id": "q2_NBuKCVgCr",
        "outputId": "7db985a8-f004-4a80-ec6b-37b00e9e87ec"
      },
      "source": [
        "image = map2.getValues()\n",
        "\n",
        "\n",
        "#pprint(image)\n",
        "filter_kernel =  [[0, 0, 0],\n",
        "                  [0, 1, 1],\n",
        "                  [0, 1, 0]]\n",
        "\n",
        "def getComboValues(filter_kernel):\n",
        "  filter_kernel = np.flipud(np.fliplr(filter_kernel))\n",
        "  res = convolve2d(image,\n",
        "                 filter_kernel,\n",
        "                 mode='same',\n",
        "                 boundary='fill',\n",
        "                 fillvalue=0)\n",
        "  return res\n",
        "\n",
        "#pprint(res)\n",
        "#fig1 = get_heatmap(image,\"Payout Values for 3rd Rounds\")\n",
        "#fig1.show()\n",
        "\n",
        "filter_kernel0 =  [[0, 0, 0],\n",
        "                  [0, 1, 1],\n",
        "                  [0, 1, 0]]\n",
        "drcombos = getComboValues(filter_kernel)\n",
        "\n",
        "filter_kernel1 =  [[0, 1, 0],\n",
        "                  [0, 1, 1],\n",
        "                  [0, 0, 0]]\n",
        "urcombos = getComboValues(filter_kernel)\n",
        "\n",
        "filter_kernel2 =  [[0, 0, 0],\n",
        "                  [1, 1, 0],\n",
        "                  [0, 1, 0]]\n",
        "dlcombos = getComboValues(filter_kernel)\n",
        "\n",
        "filter_kernel3 =  [[0, 1, 0],\n",
        "                  [1, 1, 0],\n",
        "                  [0, 0, 0]]\n",
        "ulcombos = getComboValues(filter_kernel)\n",
        "\n",
        "filter_kernel4 =  [[0, 0, 0],\n",
        "                  [1, 1, 1],\n",
        "                  [0, 0, 0]]\n",
        "hcombos = getComboValues(filter_kernel)\n",
        "\n",
        "filter_kernel5 =  [[0, 1, 0],\n",
        "                  [0, 1, 0],\n",
        "                  [0, 1, 0]]\n",
        "vcombos = getComboValues(filter_kernel)\n",
        "\n",
        "filter_kernels = [filter_kernel0,filter_kernel1,filter_kernel2,filter_kernel3,filter_kernel4,filter_kernel5]\n",
        "#get_heatmap(drcombos,\"down-right combos  \", round=False)\n",
        "get_heatmap(urcombos,\"up-right combos  \", round=False)\n",
        "get_heatmap(hcombos,\"horiz combos  \", round=False)\n",
        "get_heatmap(vcombos,\"vert combos  \", round=False)\n",
        "\n",
        "#drlcombos.show()"
      ],
      "execution_count": 21,
      "outputs": [
        {
          "output_type": "display_data",
          "data": {
            "text/html": [
              "<html>\n",
              "<head><meta charset=\"utf-8\" /></head>\n",
              "<body>\n",
              "    <div>\n",
              "            <script src=\"https://cdnjs.cloudflare.com/ajax/libs/mathjax/2.7.5/MathJax.js?config=TeX-AMS-MML_SVG\"></script><script type=\"text/javascript\">if (window.MathJax) {MathJax.Hub.Config({SVG: {font: \"STIX-Web\"}});}</script>\n",
              "                <script type=\"text/javascript\">window.PlotlyConfig = {MathJaxConfig: 'local'};</script>\n",
              "        <script src=\"https://cdn.plot.ly/plotly-latest.min.js\"></script>    \n",
              "            <div id=\"21fdae95-4212-4426-a280-5f99077a439d\" class=\"plotly-graph-div\" style=\"height:500px; width:500px;\"></div>\n",
              "            <script type=\"text/javascript\">\n",
              "                \n",
              "                    window.PLOTLYENV=window.PLOTLYENV || {};\n",
              "                    \n",
              "                if (document.getElementById(\"21fdae95-4212-4426-a280-5f99077a439d\")) {\n",
              "                    Plotly.newPlot(\n",
              "                        '21fdae95-4212-4426-a280-5f99077a439d',\n",
              "                        [{\"colorscale\": [[0.0, \"#440154\"], [0.1111111111111111, \"#482878\"], [0.2222222222222222, \"#3e4989\"], [0.3333333333333333, \"#31688e\"], [0.4444444444444444, \"#26828e\"], [0.5555555555555556, \"#1f9e89\"], [0.6666666666666666, \"#35b779\"], [0.7777777777777778, \"#6ece58\"], [0.8888888888888888, \"#b5de2b\"], [1.0, \"#fde725\"]], \"reversescale\": false, \"showscale\": false, \"type\": \"heatmap\", \"x\": [\"1\", \"2\", \"3\", \"4\", \"5\", \"6\"], \"y\": [\"E\", \"D\", \"C\", \"B\", \"A\"], \"z\": [[30003.2, 30003.2, 30003.2, 30003.2, 30003.2, 15001.6], [120754.1, 90006.6, 90006.6, 90006.6, 93799.1, 56296.6], [120754.1, 144785.0, 144785.0, 144785.0, 122284.1, 56296.6], [87020.20000000001, 132022.0, 177062.5, 144785.0, 122284.1, 30003.2], [45004.8, 87020.20000000001, 67505.7, 99783.20000000001, 67505.7, 30003.2]]}],\n",
              "                        {\"annotations\": [{\"font\": {\"color\": \"#FFFFFF\"}, \"showarrow\": false, \"text\": \"30003.2\", \"x\": \"1\", \"xref\": \"x\", \"y\": \"E\", \"yref\": \"y\"}, {\"font\": {\"color\": \"#FFFFFF\"}, \"showarrow\": false, \"text\": \"30003.2\", \"x\": \"2\", \"xref\": \"x\", \"y\": \"E\", \"yref\": \"y\"}, {\"font\": {\"color\": \"#FFFFFF\"}, \"showarrow\": false, \"text\": \"30003.2\", \"x\": \"3\", \"xref\": \"x\", \"y\": \"E\", \"yref\": \"y\"}, {\"font\": {\"color\": \"#FFFFFF\"}, \"showarrow\": false, \"text\": \"30003.2\", \"x\": \"4\", \"xref\": \"x\", \"y\": \"E\", \"yref\": \"y\"}, {\"font\": {\"color\": \"#FFFFFF\"}, \"showarrow\": false, \"text\": \"30003.2\", \"x\": \"5\", \"xref\": \"x\", \"y\": \"E\", \"yref\": \"y\"}, {\"font\": {\"color\": \"#FFFFFF\"}, \"showarrow\": false, \"text\": \"15001.6\", \"x\": \"6\", \"xref\": \"x\", \"y\": \"E\", \"yref\": \"y\"}, {\"font\": {\"color\": \"#000000\"}, \"showarrow\": false, \"text\": \"120754.1\", \"x\": \"1\", \"xref\": \"x\", \"y\": \"D\", \"yref\": \"y\"}, {\"font\": {\"color\": \"#FFFFFF\"}, \"showarrow\": false, \"text\": \"90006.6\", \"x\": \"2\", \"xref\": \"x\", \"y\": \"D\", \"yref\": \"y\"}, {\"font\": {\"color\": \"#FFFFFF\"}, \"showarrow\": false, \"text\": \"90006.6\", \"x\": \"3\", \"xref\": \"x\", \"y\": \"D\", \"yref\": \"y\"}, {\"font\": {\"color\": \"#FFFFFF\"}, \"showarrow\": false, \"text\": \"90006.6\", \"x\": \"4\", \"xref\": \"x\", \"y\": \"D\", \"yref\": \"y\"}, {\"font\": {\"color\": \"#FFFFFF\"}, \"showarrow\": false, \"text\": \"93799.1\", \"x\": \"5\", \"xref\": \"x\", \"y\": \"D\", \"yref\": \"y\"}, {\"font\": {\"color\": \"#FFFFFF\"}, \"showarrow\": false, \"text\": \"56296.6\", \"x\": \"6\", \"xref\": \"x\", \"y\": \"D\", \"yref\": \"y\"}, {\"font\": {\"color\": \"#000000\"}, \"showarrow\": false, \"text\": \"120754.1\", \"x\": \"1\", \"xref\": \"x\", \"y\": \"C\", \"yref\": \"y\"}, {\"font\": {\"color\": \"#000000\"}, \"showarrow\": false, \"text\": \"144785.0\", \"x\": \"2\", \"xref\": \"x\", \"y\": \"C\", \"yref\": \"y\"}, {\"font\": {\"color\": \"#000000\"}, \"showarrow\": false, \"text\": \"144785.0\", \"x\": \"3\", \"xref\": \"x\", \"y\": \"C\", \"yref\": \"y\"}, {\"font\": {\"color\": \"#000000\"}, \"showarrow\": false, \"text\": \"144785.0\", \"x\": \"4\", \"xref\": \"x\", \"y\": \"C\", \"yref\": \"y\"}, {\"font\": {\"color\": \"#000000\"}, \"showarrow\": false, \"text\": \"122284.1\", \"x\": \"5\", \"xref\": \"x\", \"y\": \"C\", \"yref\": \"y\"}, {\"font\": {\"color\": \"#FFFFFF\"}, \"showarrow\": false, \"text\": \"56296.6\", \"x\": \"6\", \"xref\": \"x\", \"y\": \"C\", \"yref\": \"y\"}, {\"font\": {\"color\": \"#FFFFFF\"}, \"showarrow\": false, \"text\": \"87020.2\", \"x\": \"1\", \"xref\": \"x\", \"y\": \"B\", \"yref\": \"y\"}, {\"font\": {\"color\": \"#000000\"}, \"showarrow\": false, \"text\": \"132022.0\", \"x\": \"2\", \"xref\": \"x\", \"y\": \"B\", \"yref\": \"y\"}, {\"font\": {\"color\": \"#000000\"}, \"showarrow\": false, \"text\": \"177062.5\", \"x\": \"3\", \"xref\": \"x\", \"y\": \"B\", \"yref\": \"y\"}, {\"font\": {\"color\": \"#000000\"}, \"showarrow\": false, \"text\": \"144785.0\", \"x\": \"4\", \"xref\": \"x\", \"y\": \"B\", \"yref\": \"y\"}, {\"font\": {\"color\": \"#000000\"}, \"showarrow\": false, \"text\": \"122284.1\", \"x\": \"5\", \"xref\": \"x\", \"y\": \"B\", \"yref\": \"y\"}, {\"font\": {\"color\": \"#FFFFFF\"}, \"showarrow\": false, \"text\": \"30003.2\", \"x\": \"6\", \"xref\": \"x\", \"y\": \"B\", \"yref\": \"y\"}, {\"font\": {\"color\": \"#FFFFFF\"}, \"showarrow\": false, \"text\": \"45004.8\", \"x\": \"1\", \"xref\": \"x\", \"y\": \"A\", \"yref\": \"y\"}, {\"font\": {\"color\": \"#FFFFFF\"}, \"showarrow\": false, \"text\": \"87020.2\", \"x\": \"2\", \"xref\": \"x\", \"y\": \"A\", \"yref\": \"y\"}, {\"font\": {\"color\": \"#FFFFFF\"}, \"showarrow\": false, \"text\": \"67505.7\", \"x\": \"3\", \"xref\": \"x\", \"y\": \"A\", \"yref\": \"y\"}, {\"font\": {\"color\": \"#000000\"}, \"showarrow\": false, \"text\": \"99783.2\", \"x\": \"4\", \"xref\": \"x\", \"y\": \"A\", \"yref\": \"y\"}, {\"font\": {\"color\": \"#FFFFFF\"}, \"showarrow\": false, \"text\": \"67505.7\", \"x\": \"5\", \"xref\": \"x\", \"y\": \"A\", \"yref\": \"y\"}, {\"font\": {\"color\": \"#FFFFFF\"}, \"showarrow\": false, \"text\": \"30003.2\", \"x\": \"6\", \"xref\": \"x\", \"y\": \"A\", \"yref\": \"y\"}], \"autosize\": false, \"height\": 500, \"margin\": {\"b\": 65, \"l\": 65, \"r\": 50, \"t\": 90}, \"template\": {\"data\": {\"bar\": [{\"error_x\": {\"color\": \"#2a3f5f\"}, \"error_y\": {\"color\": \"#2a3f5f\"}, \"marker\": {\"line\": {\"color\": \"#E5ECF6\", \"width\": 0.5}}, \"type\": \"bar\"}], \"barpolar\": [{\"marker\": {\"line\": {\"color\": \"#E5ECF6\", \"width\": 0.5}}, \"type\": \"barpolar\"}], \"carpet\": [{\"aaxis\": {\"endlinecolor\": \"#2a3f5f\", \"gridcolor\": \"white\", \"linecolor\": \"white\", \"minorgridcolor\": \"white\", \"startlinecolor\": \"#2a3f5f\"}, \"baxis\": {\"endlinecolor\": \"#2a3f5f\", \"gridcolor\": \"white\", \"linecolor\": \"white\", \"minorgridcolor\": \"white\", \"startlinecolor\": \"#2a3f5f\"}, \"type\": \"carpet\"}], \"choropleth\": [{\"colorbar\": {\"outlinewidth\": 0, \"ticks\": \"\"}, \"type\": \"choropleth\"}], \"contour\": [{\"colorbar\": {\"outlinewidth\": 0, \"ticks\": \"\"}, \"colorscale\": [[0.0, \"#0d0887\"], [0.1111111111111111, \"#46039f\"], [0.2222222222222222, \"#7201a8\"], [0.3333333333333333, \"#9c179e\"], [0.4444444444444444, \"#bd3786\"], [0.5555555555555556, \"#d8576b\"], [0.6666666666666666, \"#ed7953\"], [0.7777777777777778, \"#fb9f3a\"], [0.8888888888888888, \"#fdca26\"], [1.0, \"#f0f921\"]], \"type\": \"contour\"}], \"contourcarpet\": [{\"colorbar\": {\"outlinewidth\": 0, \"ticks\": \"\"}, \"type\": \"contourcarpet\"}], \"heatmap\": [{\"colorbar\": {\"outlinewidth\": 0, \"ticks\": \"\"}, \"colorscale\": [[0.0, \"#0d0887\"], [0.1111111111111111, \"#46039f\"], [0.2222222222222222, \"#7201a8\"], [0.3333333333333333, \"#9c179e\"], [0.4444444444444444, \"#bd3786\"], [0.5555555555555556, \"#d8576b\"], [0.6666666666666666, \"#ed7953\"], [0.7777777777777778, \"#fb9f3a\"], [0.8888888888888888, \"#fdca26\"], [1.0, \"#f0f921\"]], \"type\": \"heatmap\"}], \"heatmapgl\": [{\"colorbar\": {\"outlinewidth\": 0, \"ticks\": \"\"}, \"colorscale\": [[0.0, \"#0d0887\"], [0.1111111111111111, \"#46039f\"], [0.2222222222222222, \"#7201a8\"], [0.3333333333333333, \"#9c179e\"], [0.4444444444444444, \"#bd3786\"], [0.5555555555555556, \"#d8576b\"], [0.6666666666666666, \"#ed7953\"], [0.7777777777777778, \"#fb9f3a\"], [0.8888888888888888, \"#fdca26\"], [1.0, \"#f0f921\"]], \"type\": \"heatmapgl\"}], \"histogram\": [{\"marker\": {\"colorbar\": {\"outlinewidth\": 0, \"ticks\": \"\"}}, \"type\": \"histogram\"}], \"histogram2d\": [{\"colorbar\": {\"outlinewidth\": 0, \"ticks\": \"\"}, \"colorscale\": [[0.0, \"#0d0887\"], [0.1111111111111111, \"#46039f\"], [0.2222222222222222, \"#7201a8\"], [0.3333333333333333, \"#9c179e\"], [0.4444444444444444, \"#bd3786\"], [0.5555555555555556, \"#d8576b\"], [0.6666666666666666, \"#ed7953\"], [0.7777777777777778, \"#fb9f3a\"], [0.8888888888888888, \"#fdca26\"], [1.0, \"#f0f921\"]], \"type\": \"histogram2d\"}], \"histogram2dcontour\": [{\"colorbar\": {\"outlinewidth\": 0, \"ticks\": \"\"}, \"colorscale\": [[0.0, \"#0d0887\"], [0.1111111111111111, \"#46039f\"], [0.2222222222222222, \"#7201a8\"], [0.3333333333333333, \"#9c179e\"], [0.4444444444444444, \"#bd3786\"], [0.5555555555555556, \"#d8576b\"], [0.6666666666666666, \"#ed7953\"], [0.7777777777777778, \"#fb9f3a\"], [0.8888888888888888, \"#fdca26\"], [1.0, \"#f0f921\"]], \"type\": \"histogram2dcontour\"}], \"mesh3d\": [{\"colorbar\": {\"outlinewidth\": 0, \"ticks\": \"\"}, \"type\": \"mesh3d\"}], \"parcoords\": [{\"line\": {\"colorbar\": {\"outlinewidth\": 0, \"ticks\": \"\"}}, \"type\": \"parcoords\"}], \"pie\": [{\"automargin\": true, \"type\": \"pie\"}], \"scatter\": [{\"marker\": {\"colorbar\": {\"outlinewidth\": 0, \"ticks\": \"\"}}, \"type\": \"scatter\"}], \"scatter3d\": [{\"line\": {\"colorbar\": {\"outlinewidth\": 0, \"ticks\": \"\"}}, \"marker\": {\"colorbar\": {\"outlinewidth\": 0, \"ticks\": \"\"}}, \"type\": \"scatter3d\"}], \"scattercarpet\": [{\"marker\": {\"colorbar\": {\"outlinewidth\": 0, \"ticks\": \"\"}}, \"type\": \"scattercarpet\"}], \"scattergeo\": [{\"marker\": {\"colorbar\": {\"outlinewidth\": 0, \"ticks\": \"\"}}, \"type\": \"scattergeo\"}], \"scattergl\": [{\"marker\": {\"colorbar\": {\"outlinewidth\": 0, \"ticks\": \"\"}}, \"type\": \"scattergl\"}], \"scattermapbox\": [{\"marker\": {\"colorbar\": {\"outlinewidth\": 0, \"ticks\": \"\"}}, \"type\": \"scattermapbox\"}], \"scatterpolar\": [{\"marker\": {\"colorbar\": {\"outlinewidth\": 0, \"ticks\": \"\"}}, \"type\": \"scatterpolar\"}], \"scatterpolargl\": [{\"marker\": {\"colorbar\": {\"outlinewidth\": 0, \"ticks\": \"\"}}, \"type\": \"scatterpolargl\"}], \"scatterternary\": [{\"marker\": {\"colorbar\": {\"outlinewidth\": 0, \"ticks\": \"\"}}, \"type\": \"scatterternary\"}], \"surface\": [{\"colorbar\": {\"outlinewidth\": 0, \"ticks\": \"\"}, \"colorscale\": [[0.0, \"#0d0887\"], [0.1111111111111111, \"#46039f\"], [0.2222222222222222, \"#7201a8\"], [0.3333333333333333, \"#9c179e\"], [0.4444444444444444, \"#bd3786\"], [0.5555555555555556, \"#d8576b\"], [0.6666666666666666, \"#ed7953\"], [0.7777777777777778, \"#fb9f3a\"], [0.8888888888888888, \"#fdca26\"], [1.0, \"#f0f921\"]], \"type\": \"surface\"}], \"table\": [{\"cells\": {\"fill\": {\"color\": \"#EBF0F8\"}, \"line\": {\"color\": \"white\"}}, \"header\": {\"fill\": {\"color\": \"#C8D4E3\"}, \"line\": {\"color\": \"white\"}}, \"type\": \"table\"}]}, \"layout\": {\"annotationdefaults\": {\"arrowcolor\": \"#2a3f5f\", \"arrowhead\": 0, \"arrowwidth\": 1}, \"coloraxis\": {\"colorbar\": {\"outlinewidth\": 0, \"ticks\": \"\"}}, \"colorscale\": {\"diverging\": [[0, \"#8e0152\"], [0.1, \"#c51b7d\"], [0.2, \"#de77ae\"], [0.3, \"#f1b6da\"], [0.4, \"#fde0ef\"], [0.5, \"#f7f7f7\"], [0.6, \"#e6f5d0\"], [0.7, \"#b8e186\"], [0.8, \"#7fbc41\"], [0.9, \"#4d9221\"], [1, \"#276419\"]], \"sequential\": [[0.0, \"#0d0887\"], [0.1111111111111111, \"#46039f\"], [0.2222222222222222, \"#7201a8\"], [0.3333333333333333, \"#9c179e\"], [0.4444444444444444, \"#bd3786\"], [0.5555555555555556, \"#d8576b\"], [0.6666666666666666, \"#ed7953\"], [0.7777777777777778, \"#fb9f3a\"], [0.8888888888888888, \"#fdca26\"], [1.0, \"#f0f921\"]], \"sequentialminus\": [[0.0, \"#0d0887\"], [0.1111111111111111, \"#46039f\"], [0.2222222222222222, \"#7201a8\"], [0.3333333333333333, \"#9c179e\"], [0.4444444444444444, \"#bd3786\"], [0.5555555555555556, \"#d8576b\"], [0.6666666666666666, \"#ed7953\"], [0.7777777777777778, \"#fb9f3a\"], [0.8888888888888888, \"#fdca26\"], [1.0, \"#f0f921\"]]}, \"colorway\": [\"#636efa\", \"#EF553B\", \"#00cc96\", \"#ab63fa\", \"#FFA15A\", \"#19d3f3\", \"#FF6692\", \"#B6E880\", \"#FF97FF\", \"#FECB52\"], \"font\": {\"color\": \"#2a3f5f\"}, \"geo\": {\"bgcolor\": \"white\", \"lakecolor\": \"white\", \"landcolor\": \"#E5ECF6\", \"showlakes\": true, \"showland\": true, \"subunitcolor\": \"white\"}, \"hoverlabel\": {\"align\": \"left\"}, \"hovermode\": \"closest\", \"mapbox\": {\"style\": \"light\"}, \"paper_bgcolor\": \"white\", \"plot_bgcolor\": \"#E5ECF6\", \"polar\": {\"angularaxis\": {\"gridcolor\": \"white\", \"linecolor\": \"white\", \"ticks\": \"\"}, \"bgcolor\": \"#E5ECF6\", \"radialaxis\": {\"gridcolor\": \"white\", \"linecolor\": \"white\", \"ticks\": \"\"}}, \"scene\": {\"xaxis\": {\"backgroundcolor\": \"#E5ECF6\", \"gridcolor\": \"white\", \"gridwidth\": 2, \"linecolor\": \"white\", \"showbackground\": true, \"ticks\": \"\", \"zerolinecolor\": \"white\"}, \"yaxis\": {\"backgroundcolor\": \"#E5ECF6\", \"gridcolor\": \"white\", \"gridwidth\": 2, \"linecolor\": \"white\", \"showbackground\": true, \"ticks\": \"\", \"zerolinecolor\": \"white\"}, \"zaxis\": {\"backgroundcolor\": \"#E5ECF6\", \"gridcolor\": \"white\", \"gridwidth\": 2, \"linecolor\": \"white\", \"showbackground\": true, \"ticks\": \"\", \"zerolinecolor\": \"white\"}}, \"shapedefaults\": {\"line\": {\"color\": \"#2a3f5f\"}}, \"ternary\": {\"aaxis\": {\"gridcolor\": \"white\", \"linecolor\": \"white\", \"ticks\": \"\"}, \"baxis\": {\"gridcolor\": \"white\", \"linecolor\": \"white\", \"ticks\": \"\"}, \"bgcolor\": \"#E5ECF6\", \"caxis\": {\"gridcolor\": \"white\", \"linecolor\": \"white\", \"ticks\": \"\"}}, \"title\": {\"x\": 0.05}, \"xaxis\": {\"automargin\": true, \"gridcolor\": \"white\", \"linecolor\": \"white\", \"ticks\": \"\", \"title\": {\"standoff\": 15}, \"zerolinecolor\": \"white\", \"zerolinewidth\": 2}, \"yaxis\": {\"automargin\": true, \"gridcolor\": \"white\", \"linecolor\": \"white\", \"ticks\": \"\", \"title\": {\"standoff\": 15}, \"zerolinecolor\": \"white\", \"zerolinewidth\": 2}}}, \"title\": {\"text\": \"vert combos  \"}, \"width\": 500, \"xaxis\": {\"dtick\": 1, \"gridcolor\": \"rgb(0, 0, 0)\", \"side\": \"top\", \"ticks\": \"\"}, \"yaxis\": {\"dtick\": 1, \"ticks\": \"\", \"ticksuffix\": \"  \"}},\n",
              "                        {\"responsive\": true}\n",
              "                    ).then(function(){\n",
              "                            \n",
              "var gd = document.getElementById('21fdae95-4212-4426-a280-5f99077a439d');\n",
              "var x = new MutationObserver(function (mutations, observer) {{\n",
              "        var display = window.getComputedStyle(gd).display;\n",
              "        if (!display || display === 'none') {{\n",
              "            console.log([gd, 'removed!']);\n",
              "            Plotly.purge(gd);\n",
              "            observer.disconnect();\n",
              "        }}\n",
              "}});\n",
              "\n",
              "// Listen for the removal of the full notebook cells\n",
              "var notebookContainer = gd.closest('#notebook-container');\n",
              "if (notebookContainer) {{\n",
              "    x.observe(notebookContainer, {childList: true});\n",
              "}}\n",
              "\n",
              "// Listen for the clearing of the current output cell\n",
              "var outputEl = gd.closest('.output');\n",
              "if (outputEl) {{\n",
              "    x.observe(outputEl, {childList: true});\n",
              "}}\n",
              "\n",
              "                        })\n",
              "                };\n",
              "                \n",
              "            </script>\n",
              "        </div>\n",
              "</body>\n",
              "</html>"
            ]
          },
          "metadata": {
            "tags": []
          }
        }
      ]
    },
    {
      "cell_type": "code",
      "metadata": {
        "colab": {
          "base_uri": "https://localhost:8080/"
        },
        "id": "cRuIoqFc3HFg",
        "outputId": "699a3802-fa9b-4843-f39e-0e181fd7596f"
      },
      "source": [
        "\n",
        "# given row in [0-4] and col in [0-5], return array of valid tile locations\n",
        "# matching the given convolution matrix\n",
        "\n",
        "def getFilterTileLocations(r, c, filter_kernel):\n",
        "  row_dict = {0:'A', 1:'B', 2: 'C', 3:'D', 4: 'E'}\n",
        "  row=row_dict[r]\n",
        "  j=c+1\n",
        "\n",
        "  uprow = map2.upRow(row)\n",
        "  leftcol = map2.leftCol(j)\n",
        "  rightcol = map2.rightCol(j)\n",
        "  dnrow = map2.downRow(row)\n",
        "\n",
        "  ret = []\n",
        "  print(uprow)\n",
        "  # above row\n",
        "  if uprow is not None:\n",
        "    if leftcol is not None:\n",
        "      if filter_kernel[0][0]==1:\n",
        "        #print(uprow + str(leftcol))\n",
        "        ret.append([uprow, leftcol])\n",
        "    if filter_kernel[0][1]==1:\n",
        "      #print(uprow + str(j))\n",
        "      ret.append([uprow, j])\n",
        "    if rightcol is not None:\n",
        "      if filter_kernel[0][2]==1:\n",
        "        #print(uprow + str(rightcol))\n",
        "        ret.append([uprow, rightcol])\n",
        "\n",
        "  # this row\n",
        "  if leftcol is not None:\n",
        "    if filter_kernel[1][0]==1:\n",
        "      #print(row + str(leftcol))\n",
        "      ret.append([row, leftcol])\n",
        "  if filter_kernel[1][1]==1:\n",
        "    #print(row + str(j))\n",
        "    ret.append([row, j])\n",
        "  if rightcol is not None:\n",
        "    if filter_kernel[1][2]==1:\n",
        "      #print(row + str(rightcol))\n",
        "      ret.append([row, rightcol])\n",
        "\n",
        "  # below row\n",
        "  if dnrow is not None:\n",
        "    if leftcol is not None:\n",
        "      if filter_kernel[2][0]==1:\n",
        "        #print(dnrow + str(leftcol))\n",
        "        ret.append([dnrow, leftcol])\n",
        "    if filter_kernel[2][1]==1:\n",
        "      #print(dnrow + str(j))\n",
        "      ret.append([dnrow, j])\n",
        "    if rightcol is not None:\n",
        "      if filter_kernel[2][2]==1:\n",
        "        #print(dnrow + str(rightcol))\n",
        "        ret.append([dnrow, rightcol])\n",
        "  return ret\n",
        "\n",
        "ret = getFilterTileLocations(0, 0, filter_kernel)\n",
        "pprint(ret)\n",
        "tarr = map2.getTiles(ret)\n",
        "tlist = TileList(map2,ret)\n",
        "#tlist.share(0.07)"
      ],
      "execution_count": 22,
      "outputs": [
        {
          "output_type": "stream",
          "text": [
            "None\n",
            "[['A', 1], ['A', 2], ['B', 1]]\n"
          ],
          "name": "stdout"
        }
      ]
    },
    {
      "cell_type": "code",
      "metadata": {
        "colab": {
          "base_uri": "https://localhost:8080/"
        },
        "id": "biZvEcWR6LKi",
        "outputId": "d00280fb-dd21-4c0f-c377-59ddeac86ba3"
      },
      "source": [
        "allCombos = []\n",
        "for filter in filter_kernels:\n",
        "  for r in [0,1,2,3,4]:\n",
        "    for c in [0,1,2,3,4,5]:\n",
        "      allCombos.append(TileList(map2, getFilterTileLocations(r, c, filter_kernel)))\n",
        "\n",
        "allCombos = set(allCombos)"
      ],
      "execution_count": 23,
      "outputs": [
        {
          "output_type": "stream",
          "text": [
            "None\n",
            "None\n",
            "None\n",
            "None\n",
            "None\n",
            "None\n",
            "A\n",
            "A\n",
            "A\n",
            "A\n",
            "A\n",
            "A\n",
            "B\n",
            "B\n",
            "B\n",
            "B\n",
            "B\n",
            "B\n",
            "C\n",
            "C\n",
            "C\n",
            "C\n",
            "C\n",
            "C\n",
            "D\n",
            "D\n",
            "D\n",
            "D\n",
            "D\n",
            "D\n",
            "None\n",
            "None\n",
            "None\n",
            "None\n",
            "None\n",
            "None\n",
            "A\n",
            "A\n",
            "A\n",
            "A\n",
            "A\n",
            "A\n",
            "B\n",
            "B\n",
            "B\n",
            "B\n",
            "B\n",
            "B\n",
            "C\n",
            "C\n",
            "C\n",
            "C\n",
            "C\n",
            "C\n",
            "D\n",
            "D\n",
            "D\n",
            "D\n",
            "D\n",
            "D\n",
            "None\n",
            "None\n",
            "None\n",
            "None\n",
            "None\n",
            "None\n",
            "A\n",
            "A\n",
            "A\n",
            "A\n",
            "A\n",
            "A\n",
            "B\n",
            "B\n",
            "B\n",
            "B\n",
            "B\n",
            "B\n",
            "C\n",
            "C\n",
            "C\n",
            "C\n",
            "C\n",
            "C\n",
            "D\n",
            "D\n",
            "D\n",
            "D\n",
            "D\n",
            "D\n",
            "None\n",
            "None\n",
            "None\n",
            "None\n",
            "None\n",
            "None\n",
            "A\n",
            "A\n",
            "A\n",
            "A\n",
            "A\n",
            "A\n",
            "B\n",
            "B\n",
            "B\n",
            "B\n",
            "B\n",
            "B\n",
            "C\n",
            "C\n",
            "C\n",
            "C\n",
            "C\n",
            "C\n",
            "D\n",
            "D\n",
            "D\n",
            "D\n",
            "D\n",
            "D\n",
            "None\n",
            "None\n",
            "None\n",
            "None\n",
            "None\n",
            "None\n",
            "A\n",
            "A\n",
            "A\n",
            "A\n",
            "A\n",
            "A\n",
            "B\n",
            "B\n",
            "B\n",
            "B\n",
            "B\n",
            "B\n",
            "C\n",
            "C\n",
            "C\n",
            "C\n",
            "C\n",
            "C\n",
            "D\n",
            "D\n",
            "D\n",
            "D\n",
            "D\n",
            "D\n",
            "None\n",
            "None\n",
            "None\n",
            "None\n",
            "None\n",
            "None\n",
            "A\n",
            "A\n",
            "A\n",
            "A\n",
            "A\n",
            "A\n",
            "B\n",
            "B\n",
            "B\n",
            "B\n",
            "B\n",
            "B\n",
            "C\n",
            "C\n",
            "C\n",
            "C\n",
            "C\n",
            "C\n",
            "D\n",
            "D\n",
            "D\n",
            "D\n",
            "D\n",
            "D\n"
          ],
          "name": "stdout"
        }
      ]
    },
    {
      "cell_type": "code",
      "metadata": {
        "colab": {
          "base_uri": "https://localhost:8080/"
        },
        "id": "CUM9YNcq7IUy",
        "outputId": "f5c51810-98ff-452b-8f91-27c259ae986e"
      },
      "source": [
        "allCombos = list(allCombos)\n",
        "allCombos.sort(key=lambda x: x.value, reverse=True)\n",
        "for combo in allCombos:\n",
        "  val = combo.getValue()\n",
        "  print(combo.getTileLine()) #str(val) + \" - \" + combo.getName())"
      ],
      "execution_count": 24,
      "outputs": [
        {
          "output_type": "stream",
          "text": [
            "B:3, B:4, C:3:  177,062  175 common souls, 42 epic souls, 770 contribution,  800 influence.\n",
            "B:4, B:5, C:4:  144,785  350 common souls, 21 epic souls, 648 contribution,  400 influence.\n",
            "C:2, C:3, D:2:  144,785  350 common souls, 21 epic souls, 648 contribution,  400 influence.\n",
            "C:3, C:4, D:3:  144,785  350 common souls, 21 epic souls, 648 contribution,  400 influence.\n",
            "C:4, C:5, D:4:  144,785  350 common souls, 21 epic souls, 648 contribution,  400 influence.\n",
            "B:2, B:3, C:2:  132,022  350 common souls, 119 rare souls, 595 contribution,  300 influence.\n",
            "B:5, B:6, C:5:  122,284  287 common souls, 21 epic souls, 542 contribution,  400 influence.\n",
            "C:5, C:6, D:5:  122,284  287 common souls, 21 epic souls, 542 contribution,  400 influence.\n",
            "C:1, C:2, D:1:  120,754  287 common souls, 3,150 gold, 420 contribution,  250 influence.\n",
            "D:1, D:2, E:1:  120,754  287 common souls, 3,150 gold, 420 contribution,  250 influence.\n",
            "A:4, A:5, B:4:   99,783  224 common souls, 21 epic souls, 438 contribution,  400 influence.\n",
            "D:5, D:6, E:5:   93,799  287 common souls, 63 soul dust, 420 contribution,  250 influence.\n",
            "D:2, D:3, E:2:   90,007   462 common souls, 420 contribution,    0 influence.\n",
            "D:3, D:4, E:3:   90,007   462 common souls, 420 contribution,    0 influence.\n",
            "D:4, D:5, E:4:   90,007   462 common souls, 420 contribution,    0 influence.\n",
            "B:1, B:2, C:1:   87,020  224 common souls, 119 rare souls, 385 contribution,  300 influence.\n",
            "A:2, A:3, B:2:   87,020  224 common souls, 119 rare souls, 385 contribution,  300 influence.\n",
            "A:5, A:6, B:5:   67,506   399 common souls, 315 contribution,    0 influence.\n",
            "A:3, A:4, B:3:   67,506   399 common souls, 315 contribution,    0 influence.\n",
            "C:6, D:6:   56,297  112 common souls, 63 soul dust, 245 contribution,  250 influence.\n",
            "D:6, E:6:   56,297  112 common souls, 63 soul dust, 245 contribution,  250 influence.\n",
            "A:1, A:2, B:1:   45,005   336 common souls, 210 contribution,    0 influence.\n",
            "A:6, B:6:   30,003   224 common souls, 140 contribution,    0 influence.\n",
            "B:6, C:6:   30,003   224 common souls, 140 contribution,    0 influence.\n",
            "E:3, E:4:   30,003   224 common souls, 140 contribution,    0 influence.\n",
            "E:4, E:5:   30,003   224 common souls, 140 contribution,    0 influence.\n",
            "E:5, E:6:   30,003   224 common souls, 140 contribution,    0 influence.\n",
            "E:1, E:2:   30,003   224 common souls, 140 contribution,    0 influence.\n",
            "E:2, E:3:   30,003   224 common souls, 140 contribution,    0 influence.\n",
            "E:6:   15,002    112 common souls, 70 contribution,    0 influence.\n"
          ],
          "name": "stdout"
        }
      ]
    },
    {
      "cell_type": "code",
      "metadata": {
        "colab": {
          "base_uri": "https://localhost:8080/"
        },
        "id": "9-tB0kDU-nkS",
        "outputId": "810ea970-0cd6-4db9-b6e8-86342045be48"
      },
      "source": [
        "\n",
        "topTen = allCombos[:10]\n",
        "print(\"Top 3-Tile Combos on Map\")\n",
        "print(\"Tiles           Points   Reward for first place\")\n",
        "print(\"--------------------------------------------------------------------------------------------------------\")\n",
        "for combo in topTen:\n",
        "  print(combo.getTileLine())"
      ],
      "execution_count": 25,
      "outputs": [
        {
          "output_type": "stream",
          "text": [
            "Top 3-Tile Combos on Map\n",
            "Tiles           Points   Reward for first place\n",
            "--------------------------------------------------------------------------------------------------------\n",
            "B:3, B:4, C:3:  177,062  175 common souls, 42 epic souls, 770 contribution,  800 influence.\n",
            "B:4, B:5, C:4:  144,785  350 common souls, 21 epic souls, 648 contribution,  400 influence.\n",
            "C:2, C:3, D:2:  144,785  350 common souls, 21 epic souls, 648 contribution,  400 influence.\n",
            "C:3, C:4, D:3:  144,785  350 common souls, 21 epic souls, 648 contribution,  400 influence.\n",
            "C:4, C:5, D:4:  144,785  350 common souls, 21 epic souls, 648 contribution,  400 influence.\n",
            "B:2, B:3, C:2:  132,022  350 common souls, 119 rare souls, 595 contribution,  300 influence.\n",
            "B:5, B:6, C:5:  122,284  287 common souls, 21 epic souls, 542 contribution,  400 influence.\n",
            "C:5, C:6, D:5:  122,284  287 common souls, 21 epic souls, 542 contribution,  400 influence.\n",
            "C:1, C:2, D:1:  120,754  287 common souls, 3,150 gold, 420 contribution,  250 influence.\n",
            "D:1, D:2, E:1:  120,754  287 common souls, 3,150 gold, 420 contribution,  250 influence.\n"
          ],
          "name": "stdout"
        }
      ]
    },
    {
      "cell_type": "code",
      "metadata": {
        "colab": {
          "base_uri": "https://localhost:8080/"
        },
        "id": "dsuuDxQuxHkb",
        "outputId": "56b8f0a0-c5b9-4287-f5c4-3480dc56fdc8"
      },
      "source": [
        "best = TileList(map2, [['C', 3], ['B', 2], ['B', 4], ['C',1]])\n",
        "print(best.payouts())\n"
      ],
      "execution_count": 26,
      "outputs": [
        {
          "output_type": "stream",
          "text": [
            "Payouts for Stronghold at C:3, Witch Hut at B:2, Altar at B:4, Forest at C:1\n",
            "Place               Reward\n",
            "First               112 common souls, 119 rare souls, 42 epic souls, 910 contribution\n",
            "2nd                 96 common souls, 102 rare souls, 36 epic souls, 780 contribution\n",
            "3rd                 80 common souls, 85 rare souls, 30 epic souls, 650 contribution\n",
            "4-6                 64 common souls, 68 rare souls, 24 epic souls, 520 contribution\n",
            "7-11                48 common souls, 51 rare souls, 18 epic souls, 390 contribution\n",
            "12-25               32 common souls, 34 rare souls, 12 epic souls, 260 contribution\n",
            "26-44               16 common souls, 17 rare souls, 6 epic souls, 130 contribution\n",
            "\n"
          ],
          "name": "stdout"
        }
      ]
    },
    {
      "cell_type": "code",
      "metadata": {
        "id": "sX-hFjhSPNfM",
        "colab": {
          "base_uri": "https://localhost:8080/"
        },
        "outputId": "54e9b3e3-c2d2-44f5-987c-9041dbcdbe23"
      },
      "source": [
        "# round 1\n",
        "# boost +70 200\n",
        "# +40 100\n",
        "# +20 30\n",
        "\n",
        "# round 2\n",
        "# +90 800\n",
        "# +60 400\n",
        "# +30 150\n",
        "\n",
        "class PlayerGroup():\n",
        "  def __init__(self):\n",
        "    self.players = []\n",
        "\n",
        "  def append(self,player):\n",
        "    self.players.append(player)\n",
        "\n",
        "  def strength(self):\n",
        "    sum = 0\n",
        "    for player in self.players:\n",
        "      sum += player.getTroops()\n",
        "    return sum\n",
        "\n",
        "  def sort(self):\n",
        "    #keyfun= operator.attrgetter(\"getTroops\") # use operator since it's faster than lambda\n",
        "    self.players.sort(reverse=True) # sort in-place\n",
        "\n",
        "  def print(self, title=\"\",time=True):\n",
        "    if time:\n",
        "      print(\"Report Generated at \" + datetime.datetime.utcnow().strftime(\"%H:%M GMT on %d %B %Y\"))\n",
        "    self.sort()\n",
        "    sum = 0\n",
        "    if title != \"\":\n",
        "      print(title)\n",
        "    for player in self.players:\n",
        "      player.print()\n",
        "      sum += player.getTroops()\n",
        "    print(\"Team troops: \" + str(sum))\n",
        "\n",
        "  # https://stackoverflow.com/questions/5248954/an-algorithm-to-sort-a-list-of-values-into-n-groups-so-that-the-sum-of-each-grou\n",
        "  def split(self, nTeams):\n",
        "    groups = [PlayerGroup() for i in range(nTeams)]\n",
        "    self.sort()\n",
        "    awol_cooldown = PlayerGroup()\n",
        "    #print(\"Report Generated at \" + datetime.datetime.utcnow().strftime(\"%H:%M GMT on %d %B %Y\"))\n",
        "    #spent = PlayerGroup()\n",
        "    for x in self.players:\n",
        "      if x.awol or x.cooldown:\n",
        "        awol_cooldown.append(x)\n",
        "      elif x.getTroops()<1:\n",
        "        awol_cooldown.append(x)\n",
        "        #spent.append(x)\n",
        "      else:\n",
        "        mingroup = groups[0]\n",
        "        for g in groups:\n",
        "            if g.strength() < mingroup.strength():\n",
        "              mingroup = g\n",
        "        mingroup.append(x)\n",
        "    groups.append(awol_cooldown)\n",
        "    #groups.append(spent)\n",
        "    return groups\n",
        "\n",
        "class Player():\n",
        "  def __init__(self, name, troops, elixirBoost=0, spent = 0, cooldown=False, awol=False):\n",
        "    self.name = name\n",
        "    self.troops=troops\n",
        "    self.spent=spent\n",
        "    self.elixirBoost=elixirBoost\n",
        "    self.cooldown = cooldown\n",
        "    self.awol = awol\n",
        "\n",
        "  def getOrder(self, amt):\n",
        "    return self.getTroops()/3\n",
        "\n",
        "  def getNature(self, amt):\n",
        "    return self.getTroops()/3\n",
        "\n",
        "  def getChaos(self, amt):\n",
        "    return self.getTroops()/3\n",
        "\n",
        "  def getTroops(self):\n",
        "    if self.cooldown or self.awol:\n",
        "      return 0\n",
        "    avail = self.troops - self.spent\n",
        "    if avail<0:\n",
        "      avail=0\n",
        "    return (avail) *((100+self.elixirBoost)/100)\n",
        "\n",
        "  def print(self):\n",
        "    tr = self.getTroops()\n",
        "    str = f\"{tr:>8,.0f} {self.name}\"\n",
        "    if self.elixirBoost>0:\n",
        "      str += f\" (elixir boost {self.elixirBoost}%)\"\n",
        "    if self.spent > 0:\n",
        "      str += f\" (spent:{self.spent:,.0f})\"\n",
        "    if self.awol:\n",
        "      str += f\" (AWOL)\"\n",
        "    elif self.cooldown:\n",
        "      str += f\" (Cooldown)\"\n",
        "    elif self.getTroops()<1:\n",
        "      str += f\" (Spent)\"\n",
        "    print(str)\n",
        "\n",
        "\n",
        "  def __eq__(self, other):\n",
        "    return self.name == other.name #and self.geT == other.suit\n",
        "\n",
        "  def __lt__(self, other):\n",
        "        return self.getTroops() < other.getTroops()\n",
        "\n",
        "  #def assign(self, tileNum = 0, order=0, chaos=0, nature=0, elixirBoost=0):\n",
        "  #  ret = [0 for i in range(3)]\n",
        "  #  ret[tileNum] = (self.getOrder(1)+self.getChaos(1)+ self.getNature(1))*((100+elixirBoost)/100)\n",
        "  #  return ret\n",
        "\n",
        "desired = [301911-25910,142158-24297, 70193-12392]\n",
        "print(desired)\n",
        "\n",
        "#players = [ Player(\"Malbad\", 56436), Player(\"BilB\", 19894), Player(\"Stalguard\",31788), Player(\"Eragon\", 28602)]\n",
        "\n",
        "players = PlayerGroup()\n",
        "total = []\n",
        "players.append(Player(\"Rags\",64927,70, spent=29942))\n",
        "players.append(Player(\"BilBisqqit\",59909,70))\n",
        "players.append(Player(\"Malbad\",56436,70))\n",
        "players.append(Player(\"Hashem\",56118,70))\n",
        "players.append(Player(\"Panda\",52514,70))\n",
        "players.append(Player(\"chingcheng\",50540,70))\n",
        "\n",
        "\n",
        "players.append(Player(\"LordOtto\",45669, spent=17509))\n",
        "players.append(Player(\"Flowbites\",41781,cooldown=True))\n",
        "players.append(Player(\"Erlaed\",40705,70, spent=4063))\n",
        "players.append(Player(\"Sente\",38083,cooldown=True))\n",
        "\n",
        "players.append(Player(\"negro\",32510))\n",
        "players.append(Player(\"FriarKen\",31473))\n",
        "players.append(Player(\"Stalguard\",31788,70))\n",
        "\n",
        "players.append(Player(\"OmniMan\",30975))\n",
        "players.append(Player(\"ThaBozz\",30542))\n",
        "players.append(Player(\"Wheeler\",29897, spent=9512))\n",
        "players.append(Player(\"Vasilich\",29125))\n",
        "\n",
        "players.append(Player(\"Eragon\",28602,70))\n",
        "players.append(Player(\"Litch\",27547, awol=True))\n",
        "players.append(Player(\"iahobo\",27255))\n",
        "players.append(Player(\"RoMiC\",26482))\n",
        "players.append(Player(\"Ender\",26283, spent=30025))\n",
        "players.append(Player(\"PiXeL1K\",26017))\n",
        "players.append(Player(\"Tech34\",25753))\n",
        "players.append(Player(\"Hung\",25173))\n",
        "players.append(Player(\"Iceman\",24952, spent=103))\n",
        "players.append(Player(\"Seph\",19118))\n",
        "players.append(Player(\"Beeznutz\",18649))\n",
        "players.append(Player(\"Ramzinator\",14318))\n",
        "players.append(Player(\"Holymight\",13941))\n",
        "players.append(Player(\"Nikki\",11759))\n",
        "\n",
        "players.sort()\n",
        "players.print()\n",
        "\n",
        "print(\"Report Generated at \" + datetime.datetime.utcnow().strftime(\"%H:%M GMT on %d %B %Y\"))\n",
        "four_groups= players.split(4)\n",
        "i=0\n",
        "for group in four_groups:\n",
        "  group.print(title=\"Team \" + str(i), time=False)\n",
        "  i +=1\n",
        "#for player in players:\n",
        "#  r = player.assign(0,1,1,1,0)\n",
        "#  total.append(r)\n",
        "\n"
      ],
      "execution_count": 98,
      "outputs": [
        {
          "output_type": "stream",
          "text": [
            "[276001, 117861, 57801]\n",
            "Report Generated at 05:52 GMT on 29 July 2021\n",
            " 101,845 BilBisqqit (elixir boost 70%)\n",
            "  95,941 Malbad (elixir boost 70%)\n",
            "  95,401 Hashem (elixir boost 70%)\n",
            "  89,274 Panda (elixir boost 70%)\n",
            "  85,918 chingcheng (elixir boost 70%)\n",
            "  62,291 Erlaed (elixir boost 70%) (spent:4,063)\n",
            "  59,474 Rags (elixir boost 70%) (spent:29,942)\n",
            "  54,040 Stalguard (elixir boost 70%)\n",
            "  48,623 Eragon (elixir boost 70%)\n",
            "  32,510 negro\n",
            "  31,473 FriarKen\n",
            "  30,975 OmniMan\n",
            "  30,542 ThaBozz\n",
            "  29,125 Vasilich\n",
            "  28,160 LordOtto (spent:17,509)\n",
            "  27,255 iahobo\n",
            "  26,482 RoMiC\n",
            "  26,017 PiXeL1K\n",
            "  25,753 Tech34\n",
            "  25,173 Hung\n",
            "  24,849 Iceman (spent:103)\n",
            "  20,385 Wheeler (spent:9,512)\n",
            "  19,118 Seph\n",
            "  18,649 Beeznutz\n",
            "  14,318 Ramzinator\n",
            "  13,941 Holymight\n",
            "  11,759 Nikki\n",
            "       0 Flowbites (Cooldown)\n",
            "       0 Sente (Cooldown)\n",
            "       0 Litch (AWOL)\n",
            "       0 Ender (spent:30,025) (Spent)\n",
            "Team troops: 1129291.7999999998\n",
            "Report Generated at 05:52 GMT on 29 July 2021\n",
            "Team 0\n",
            " 101,845 BilBisqqit (elixir boost 70%)\n",
            "  54,040 Stalguard (elixir boost 70%)\n",
            "  32,510 negro\n",
            "  30,542 ThaBozz\n",
            "  26,017 PiXeL1K\n",
            "  20,385 Wheeler (spent:9,512)\n",
            "  14,318 Ramzinator\n",
            "Team troops: 279656.9\n",
            "Team 1\n",
            "  95,941 Malbad (elixir boost 70%)\n",
            "  59,474 Rags (elixir boost 70%) (spent:29,942)\n",
            "  48,623 Eragon (elixir boost 70%)\n",
            "  28,160 LordOtto (spent:17,509)\n",
            "  25,753 Tech34\n",
            "  19,118 Seph\n",
            "  11,759 Nikki\n",
            "Team troops: 288829.1\n",
            "Team 2\n",
            "  95,401 Hashem (elixir boost 70%)\n",
            "  62,291 Erlaed (elixir boost 70%) (spent:4,063)\n",
            "  31,473 FriarKen\n",
            "  29,125 Vasilich\n",
            "  26,482 RoMiC\n",
            "  24,849 Iceman (spent:103)\n",
            "  13,941 Holymight\n",
            "Team troops: 283562.0\n",
            "Team 3\n",
            "  89,274 Panda (elixir boost 70%)\n",
            "  85,918 chingcheng (elixir boost 70%)\n",
            "  30,975 OmniMan\n",
            "  27,255 iahobo\n",
            "  25,173 Hung\n",
            "  18,649 Beeznutz\n",
            "Team troops: 277243.8\n",
            "Team 4\n",
            "       0 Flowbites (Cooldown)\n",
            "       0 Sente (Cooldown)\n",
            "       0 Litch (AWOL)\n",
            "       0 Ender (spent:30,025) (Spent)\n",
            "Team troops: 0.0\n"
          ],
          "name": "stdout"
        }
      ]
    },
    {
      "cell_type": "code",
      "metadata": {
        "id": "S63CckK1yoPO",
        "outputId": "3691b047-123e-4171-b7d5-23087260c41d",
        "colab": {
          "base_uri": "https://localhost:8080/",
          "height": 35
        }
      },
      "source": [
        ""
      ],
      "execution_count": 93,
      "outputs": [
        {
          "output_type": "execute_result",
          "data": {
            "application/vnd.google.colaboratory.intrinsic+json": {
              "type": "string"
            },
            "text/plain": [
              "'29 July 2021 at 05:46'"
            ]
          },
          "metadata": {
            "tags": []
          },
          "execution_count": 93
        }
      ]
    },
    {
      "cell_type": "markdown",
      "metadata": {
        "id": "9opH-xCZgGeg"
      },
      "source": [
        "# Notes"
      ]
    },
    {
      "cell_type": "markdown",
      "metadata": {
        "id": "VCxGEMEn7qPu"
      },
      "source": [
        "\n",
        "1.   Annotated heatmap: https://plotly.com/python/annotated-heatmap/\n",
        "2.   A-Star search on grid in python at https://github.com/BaijayantaRoy/Medium-Article/blob/master/A_Star.ipynb\n",
        "1. Add payout report for multiple tiles\n",
        "\n"
      ]
    }
  ]
}