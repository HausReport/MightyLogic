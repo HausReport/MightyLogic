{
  "nbformat": 4,
  "nbformat_minor": 0,
  "metadata": {
    "colab": {
      "name": "Mighty Party Doodles",
      "provenance": [],
      "collapsed_sections": [],
      "authorship_tag": "ABX9TyPCQ2XcEPw4Fh2Kf+8yjRIN",
      "include_colab_link": true
    },
    "kernelspec": {
      "name": "python3",
      "display_name": "Python 3"
    },
    "language_info": {
      "name": "python"
    }
  },
  "cells": [
    {
      "cell_type": "markdown",
      "metadata": {
        "id": "view-in-github",
        "colab_type": "text"
      },
      "source": [
        "<a href=\"https://colab.research.google.com/github/HausReport/MightyLogic/blob/master/Notebooks/Event_Chest_Sim.ipynb\" target=\"_parent\"><img src=\"https://colab.research.google.com/assets/colab-badge.svg\" alt=\"Open In Colab\"/></a>"
      ]
    },
    {
      "cell_type": "markdown",
      "metadata": {
        "id": "Gj1wyrteq_uS"
      },
      "source": [
        "# Set up environment\n"
      ]
    },
    {
      "cell_type": "code",
      "metadata": {
        "id": "MTNcvrsUHu_T",
        "colab": {
          "base_uri": "https://localhost:8080/"
        },
        "outputId": "ec09d0b3-d462-4815-ba2c-240a9ca83977"
      },
      "source": [
        "\n",
        "import sys\n",
        "# need newer plotly/plotly_express than collab provides?\n",
        "#!{sys.executable} -m pip install --force-reinstall --upgrade \"plotly\"\n",
        "#!{sys.executable} -m pip install --force-reinstall --upgrade \"plotly_express\"\n",
        "\n",
        "#\n",
        "# Moving some of the guts to GitHub and refactoring \n",
        "#\n",
        "!{sys.executable} -m pip install --upgrade --force-reinstall \"git+https://github.com/HausReport/MightyLogic.git#egg=MightyLogic\"\n",
        "\n",
        "#\n",
        "# Imports\n",
        "#\n",
        "from random import randrange\n",
        "from scipy.signal import convolve2d\n",
        "from enum import Enum, auto\n",
        "from pprint import pprint\n",
        "import plotly.figure_factory as ff\n",
        "\n",
        "import numpy as np\n",
        "import pandas as pd\n",
        "import plotly.express as px\n",
        "import plotly.graph_objects as go\n",
        "import math\n",
        "\n",
        "#import sklearn\n",
        "#from sklearn.preprocessing import PowerTransformer, QuantileTransformer"
      ],
      "execution_count": 1,
      "outputs": [
        {
          "output_type": "stream",
          "text": [
            "Collecting MightyLogic\n",
            "  Cloning https://github.com/HausReport/MightyLogic.git to /tmp/pip-install-t61alarh/mightylogic_3f1a8893d9444a45aa9aaac72c315f2f\n",
            "  Running command git clone -q https://github.com/HausReport/MightyLogic.git /tmp/pip-install-t61alarh/mightylogic_3f1a8893d9444a45aa9aaac72c315f2f\n",
            "Collecting pytest\n",
            "  Downloading pytest-6.2.4-py3-none-any.whl (280 kB)\n",
            "\u001b[K     |████████████████████████████████| 280 kB 34.7 MB/s \n",
            "\u001b[?25hCollecting iniconfig\n",
            "  Downloading iniconfig-1.1.1-py2.py3-none-any.whl (5.0 kB)\n",
            "Collecting attrs>=19.2.0\n",
            "  Downloading attrs-21.2.0-py2.py3-none-any.whl (53 kB)\n",
            "\u001b[K     |████████████████████████████████| 53 kB 2.4 MB/s \n",
            "\u001b[?25hCollecting pluggy<1.0.0a1,>=0.12\n",
            "  Downloading pluggy-0.13.1-py2.py3-none-any.whl (18 kB)\n",
            "Collecting packaging\n",
            "  Downloading packaging-21.0-py3-none-any.whl (40 kB)\n",
            "\u001b[K     |████████████████████████████████| 40 kB 4.0 MB/s \n",
            "\u001b[?25hCollecting toml\n",
            "  Downloading toml-0.10.2-py2.py3-none-any.whl (16 kB)\n",
            "Collecting importlib-metadata>=0.12\n",
            "  Downloading importlib_metadata-4.6.3-py3-none-any.whl (17 kB)\n",
            "Collecting py>=1.8.2\n",
            "  Downloading py-1.10.0-py2.py3-none-any.whl (97 kB)\n",
            "\u001b[K     |████████████████████████████████| 97 kB 7.5 MB/s \n",
            "\u001b[?25hCollecting typing-extensions>=3.6.4\n",
            "  Downloading typing_extensions-3.10.0.0-py3-none-any.whl (26 kB)\n",
            "Collecting zipp>=0.5\n",
            "  Downloading zipp-3.5.0-py3-none-any.whl (5.7 kB)\n",
            "Collecting pyparsing>=2.0.2\n",
            "  Downloading pyparsing-2.4.7-py2.py3-none-any.whl (67 kB)\n",
            "\u001b[K     |████████████████████████████████| 67 kB 6.5 MB/s \n",
            "\u001b[?25hBuilding wheels for collected packages: MightyLogic\n",
            "  Building wheel for MightyLogic (setup.py) ... \u001b[?25l\u001b[?25hdone\n",
            "  Created wheel for MightyLogic: filename=MightyLogic-0.2-py3-none-any.whl size=26196 sha256=fe832550c72b0573ab8dbe3741fe56952de9f1f7846225c063b8d572d0fc2ffe\n",
            "  Stored in directory: /tmp/pip-ephem-wheel-cache-7jx7dpnz/wheels/84/7a/55/d74e49b550ce0fddb2379db726853920650df706dedea8daae\n",
            "Successfully built MightyLogic\n",
            "Installing collected packages: zipp, typing-extensions, pyparsing, importlib-metadata, toml, py, pluggy, packaging, iniconfig, attrs, pytest, MightyLogic\n",
            "  Attempting uninstall: zipp\n",
            "    Found existing installation: zipp 3.5.0\n",
            "    Uninstalling zipp-3.5.0:\n",
            "      Successfully uninstalled zipp-3.5.0\n",
            "  Attempting uninstall: typing-extensions\n",
            "    Found existing installation: typing-extensions 3.7.4.3\n",
            "    Uninstalling typing-extensions-3.7.4.3:\n",
            "      Successfully uninstalled typing-extensions-3.7.4.3\n",
            "  Attempting uninstall: pyparsing\n",
            "    Found existing installation: pyparsing 2.4.7\n",
            "    Uninstalling pyparsing-2.4.7:\n",
            "      Successfully uninstalled pyparsing-2.4.7\n",
            "  Attempting uninstall: importlib-metadata\n",
            "    Found existing installation: importlib-metadata 4.6.1\n",
            "    Uninstalling importlib-metadata-4.6.1:\n",
            "      Successfully uninstalled importlib-metadata-4.6.1\n",
            "  Attempting uninstall: toml\n",
            "    Found existing installation: toml 0.10.2\n",
            "    Uninstalling toml-0.10.2:\n",
            "      Successfully uninstalled toml-0.10.2\n",
            "  Attempting uninstall: py\n",
            "    Found existing installation: py 1.10.0\n",
            "    Uninstalling py-1.10.0:\n",
            "      Successfully uninstalled py-1.10.0\n",
            "  Attempting uninstall: pluggy\n",
            "    Found existing installation: pluggy 0.7.1\n",
            "    Uninstalling pluggy-0.7.1:\n",
            "      Successfully uninstalled pluggy-0.7.1\n",
            "  Attempting uninstall: packaging\n",
            "    Found existing installation: packaging 21.0\n",
            "    Uninstalling packaging-21.0:\n",
            "      Successfully uninstalled packaging-21.0\n",
            "  Attempting uninstall: iniconfig\n",
            "    Found existing installation: iniconfig 1.1.1\n",
            "    Uninstalling iniconfig-1.1.1:\n",
            "      Successfully uninstalled iniconfig-1.1.1\n",
            "  Attempting uninstall: attrs\n",
            "    Found existing installation: attrs 21.2.0\n",
            "    Uninstalling attrs-21.2.0:\n",
            "      Successfully uninstalled attrs-21.2.0\n",
            "  Attempting uninstall: pytest\n",
            "    Found existing installation: pytest 3.6.4\n",
            "    Uninstalling pytest-3.6.4:\n",
            "      Successfully uninstalled pytest-3.6.4\n",
            "\u001b[31mERROR: pip's dependency resolver does not currently take into account all the packages that are installed. This behaviour is the source of the following dependency conflicts.\n",
            "tensorflow 2.5.0 requires typing-extensions~=3.7.4, but you have typing-extensions 3.10.0.0 which is incompatible.\n",
            "datascience 0.10.6 requires folium==0.2.1, but you have folium 0.8.3 which is incompatible.\n",
            "albumentations 0.1.12 requires imgaug<0.2.7,>=0.2.5, but you have imgaug 0.2.9 which is incompatible.\u001b[0m\n",
            "Successfully installed MightyLogic-0.2 attrs-21.2.0 importlib-metadata-4.6.3 iniconfig-1.1.1 packaging-21.0 pluggy-0.13.1 py-1.10.0 pyparsing-2.4.7 pytest-6.2.4 toml-0.10.2 typing-extensions-3.10.0.0 zipp-3.5.0\n"
          ],
          "name": "stdout"
        }
      ]
    },
    {
      "cell_type": "code",
      "metadata": {
        "colab": {
          "base_uri": "https://localhost:8080/"
        },
        "id": "tYhsrppk0k0H",
        "outputId": "6a5dd99e-7453-4768-a45c-c74a68c3b648"
      },
      "source": [
        "\n",
        "from MightyLogic.Currency import Currency as Currency\n",
        "from MightyLogic.Values import Values as Values\n",
        "\n",
        "Values.GOLD"
      ],
      "execution_count": 2,
      "outputs": [
        {
          "output_type": "execute_result",
          "data": {
            "text/plain": [
              "0.6"
            ]
          },
          "metadata": {
            "tags": []
          },
          "execution_count": 2
        }
      ]
    },
    {
      "cell_type": "markdown",
      "metadata": {
        "id": "m4AIVF3O7bbn"
      },
      "source": [
        "# Simulate Buying Event Chests"
      ]
    },
    {
      "cell_type": "code",
      "metadata": {
        "id": "JCIODHytOPJj"
      },
      "source": [
        "from MightyLogic.Rewards.RewardFactory import rare_chest, epic_chest , legendary_chest\n",
        "\n",
        "#\n",
        "# Simulate spending 5000 sparks on various types of event chests\n",
        "#\n",
        "\n",
        "def k_sim(spx, cost, verbose=False):\n",
        "  df = pd.DataFrame()\n",
        "  tot = 0\n",
        "  sparks = spx\n",
        "  rolls = 0\n",
        "  spent = 0 \n",
        "  while sparks>(cost-1):\n",
        "    ret = None\n",
        "    if cost==250:\n",
        "      ret = rare_chest()\n",
        "    elif cost==1000:\n",
        "      ret = epic_chest()\n",
        "    elif cost==5000:\n",
        "      ret = legendary_chest()\n",
        "    rolls +=1\n",
        "    tot += ret.myValue\n",
        "    df = df.append(ret.toDict(),ignore_index=True)\n",
        "    sparks = sparks + ret.SPARK\n",
        "    spent = spent+cost\n",
        "    sparks = sparks - cost\n",
        "\n",
        "\n",
        "  cost = 5000 * Values.SPARK\n",
        "  eff = tot/cost\n",
        "\n",
        "  if verbose:  \n",
        "    print(f\"Rolls: {rolls}\")\n",
        "    print(f\"Total value: {tot}\")\n",
        "    print(f\"Total efficiency: {eff}\")\n",
        "    print(f\"Spent: {spent}\")\n",
        "\n",
        "  return df, rolls, spent  \n",
        "\n",
        "def fivek_sim(cost, verbose=False):\n",
        "  return k_sim(5000, cost, verbose)\n",
        "\n",
        "def fivek_rare(verbose=False):\n",
        "  return fivek_sim(250, verbose=verbose)\n",
        "\n",
        "def fivek_legend(verbose=False):\n",
        "  return fivek_sim(5000,verbose=verbose)\n",
        "\n",
        "def fivek_epic(verbose=False):\n",
        "  return fivek_sim(1000, verbose=verbose)"
      ],
      "execution_count": 3,
      "outputs": []
    },
    {
      "cell_type": "code",
      "metadata": {
        "colab": {
          "base_uri": "https://localhost:8080/"
        },
        "id": "UmuSKy5kOem_",
        "outputId": "b7a1c5cd-4fb7-4914-c213-e016c89c89ca"
      },
      "source": [
        "#\n",
        "#Total value gained spending 5000 sparks on epic chests\n",
        "#\n",
        "df, rolls, spent = fivek_epic(verbose=True)\n",
        "df['value'].sum()"
      ],
      "execution_count": 4,
      "outputs": [
        {
          "output_type": "stream",
          "text": [
            "Rolls: 5\n",
            "Total value: 162.3\n",
            "Total efficiency: 0.001623\n",
            "Spent: 5000\n"
          ],
          "name": "stdout"
        },
        {
          "output_type": "execute_result",
          "data": {
            "text/plain": [
              "162.3"
            ]
          },
          "metadata": {
            "tags": []
          },
          "execution_count": 4
        }
      ]
    },
    {
      "cell_type": "code",
      "metadata": {
        "colab": {
          "base_uri": "https://localhost:8080/",
          "height": 542
        },
        "id": "TfnIxFmY-kWr",
        "outputId": "9411c33b-790f-45f3-c27c-0683186aeae2"
      },
      "source": [
        "#\n",
        "# Simulate spending 5000 sparks on epic chests 1000 times and show resulting value obtained\n",
        "#\n",
        "results = []\n",
        "for i in range(0,1000):\n",
        "  df, rolls, spent = fivek_epic()\n",
        "  results.append(df['value'].sum())\n",
        "\n",
        "#pprint(results)\n",
        "fig = px.histogram(pd.DataFrame(results,columns=[\"Value\"]),x=\"Value\")\n",
        "fig.show()"
      ],
      "execution_count": 5,
      "outputs": [
        {
          "output_type": "display_data",
          "data": {
            "text/html": [
              "<html>\n",
              "<head><meta charset=\"utf-8\" /></head>\n",
              "<body>\n",
              "    <div>\n",
              "            <script src=\"https://cdnjs.cloudflare.com/ajax/libs/mathjax/2.7.5/MathJax.js?config=TeX-AMS-MML_SVG\"></script><script type=\"text/javascript\">if (window.MathJax) {MathJax.Hub.Config({SVG: {font: \"STIX-Web\"}});}</script>\n",
              "                <script type=\"text/javascript\">window.PlotlyConfig = {MathJaxConfig: 'local'};</script>\n",
              "        <script src=\"https://cdn.plot.ly/plotly-latest.min.js\"></script>    \n",
              "            <div id=\"52613f04-1eca-46c1-a7c6-688563d44459\" class=\"plotly-graph-div\" style=\"height:525px; width:100%;\"></div>\n",
              "            <script type=\"text/javascript\">\n",
              "                \n",
              "                    window.PLOTLYENV=window.PLOTLYENV || {};\n",
              "                    \n",
              "                if (document.getElementById(\"52613f04-1eca-46c1-a7c6-688563d44459\")) {\n",
              "                    Plotly.newPlot(\n",
              "                        '52613f04-1eca-46c1-a7c6-688563d44459',\n",
              "                        [{\"alignmentgroup\": \"True\", \"bingroup\": \"x\", \"hoverlabel\": {\"namelength\": 0}, \"hovertemplate\": \"Value=%{x}<br>count=%{y}\", \"legendgroup\": \"\", \"marker\": {\"color\": \"#636efa\"}, \"name\": \"\", \"offsetgroup\": \"\", \"orientation\": \"v\", \"showlegend\": false, \"type\": \"histogram\", \"x\": [37055.9, 89422.1, 17895.4, 35404.4, 79297.6, 39226.5, 10854.5, 44503.399999999994, 15828.1, 120.1, 37786.7, 100263.99999999999, 15602.3, 174.1, 52541.8, 12898.9, 63025.5, 156.5, 39337.4, 91.10000000000001, 18673.899999999998, 143.5, 48565.299999999996, 93710.8, 31021.1, 116.6, 104192.0, 57171.99999999999, 34617.799999999996, 168.7, 20262.1, 19252.6, 77379.09999999999, 29145.6, 22196.5, 124.6, 84596.8, 71627.30000000002, 16159.4, 137269.4, 46424.100000000006, 124.79999999999998, 111.60000000000001, 57350.50000000001, 143.2, 21840.8, 125.4, 165.09999999999997, 126154.59999999999, 19848.5, 79541.2, 61397.9, 54346.8, 177.9, 181.4, 31109.4, 167.5, 24686.8, 76781.70000000001, 39862.700000000004, 159.7, 24813.699999999997, 60922.5, 23024.3, 21509.0, 54724.200000000004, 23802.499999999996, 9565.8, 29625.8, 147.60000000000002, 161.8, 59027.1, 31061.4, 142.8, 56922.4, 33054.8, 93.1, 28312.9, 9359.699999999999, 25357.500000000004, 20718.0, 57336.99999999999, 52094.6, 18648.2, 46056.799999999996, 142.3, 16832.3, 32117.3, 13409.4, 53023.200000000004, 20348.8, 33303.799999999996, 28029.4, 152.8, 50278.1, 17750.5, 62770.899999999994, 36089.3, 24801.6, 176.70000000000002, 47412.799999999996, 34020.4, 152.8, 20485.5, 180.8, 26060.6, 140.5, 82692.2, 38662.7, 134.3, 121432.5, 104466.6, 114.4, 139452.8, 155.2, 37476.3, 22440.2, 148.5, 141.20000000000002, 127.10000000000002, 67147.7, 52610.299999999996, 18174.9, 15146.4, 148.1, 17572.0, 20971.7, 127.0, 50786.799999999996, 44855.2, 55389.3, 161.5, 60461.7, 15561.7, 9756.9, 33543.59999999999, 18702.4, 142.5, 15349.3, 24179.9, 47331.7, 29161.4, 141.1, 146.0, 60615.3, 130.39999999999998, 45082.200000000004, 81967.40000000001, 152.20000000000002, 17357.0, 165.40000000000003, 30557.9, 44612.600000000006, 171533.1, 26401.5, 48295.600000000006, 141.8, 148.70000000000002, 9634.5, 117.60000000000001, 20914.1, 81549.7, 20343.5, 24741.100000000002, 48973.59999999999, 16422.2, 28288.800000000003, 37472.5, 31820.3, 25748.9, 15126.699999999999, 77947.1, 37894.5, 39710.6, 29856.7, 15583.199999999999, 129.7, 150.4, 239404.0, 170.70000000000002, 123.80000000000001, 72108.70000000001, 28288.8, 35315.3, 66481.9, 17432.4, 22482.200000000004, 16022.8, 36827.1, 16893.7, 55931.799999999996, 50739.1, 81782.4, 28968.000000000004, 55654.8, 28102.699999999997, 65906.2, 155.80000000000004, 153.6, 63447.2, 133.2, 52545.7, 131.0, 59634.799999999996, 129.8, 119.5, 33104.799999999996, 108.80000000000001, 15166.3, 150.3, 45088.899999999994, 157997.6, 141.90000000000003, 37426.399999999994, 79315.1, 167.1, 93533.8, 39828.700000000004, 54261.0, 46746.3, 75359.5, 54276.0, 246724.8, 139.70000000000002, 161.60000000000002, 58588.7, 167439.09999999998, 180.3, 156.60000000000002, 15109.9, 139.6, 44147.4, 62061.4, 29289.1, 27213.4, 127244.5, 168.6, 48897.6, 170.5, 114.5, 83019.79999999999, 15347.2, 36962.700000000004, 180.4, 17318.0, 96.5, 24542.3, 38656.5, 84808.0, 32763.699999999997, 147757.00000000003, 50302.8, 125.30000000000001, 33656.5, 15407.9, 31346.699999999997, 116.50000000000003, 143.9, 135.8, 144.0, 80409.9, 40233.8, 38545.100000000006, 129.60000000000002, 37868.8, 17874.5, 41971.0, 151.70000000000002, 30878.600000000002, 172.20000000000002, 114257.59999999999, 76767.5, 33392.00000000001, 39472.100000000006, 89595.7, 135.10000000000002, 139.3, 57336.700000000004, 82618.8, 193.0, 32638.5, 33824.3, 136.70000000000002, 58789.2, 44058.200000000004, 20636.800000000003, 124.0, 20504.100000000002, 76403.4, 140.6, 34555.299999999996, 21907.5, 60955.9, 31233.8, 28357.2, 38989.1, 133.9, 55955.6, 37696.5, 24543.6, 142.2, 54993.9, 199.8, 103881.9, 35928.299999999996, 30574.2, 23162.699999999997, 18548.7, 97.9, 161684.8, 47325.299999999996, 23783.399999999998, 160.3, 15154.7, 49395.700000000004, 19981.600000000002, 73150.5, 37009.9, 70886.5, 29933.4, 125385.09999999999, 29327.4, 137.0, 20248.3, 188.3, 17419.7, 153955.09999999998, 27892.5, 98926.5, 101.0, 18333.9, 28619.300000000003, 63041.7, 124.20000000000002, 32843.5, 128.9, 76257.0, 54607.5, 38254.59999999999, 138.7, 68331.2, 60374.5, 37119.3, 146.8, 201.60000000000002, 54417.200000000004, 136.4, 31750.6, 166.5, 163.50000000000003, 54888.2, 46477.4, 10909.599999999999, 140.5, 19933.699999999997, 207.4, 18606.899999999998, 28067.100000000002, 140.8, 49211.09999999999, 127291.7, 160.8, 21690.5, 57124.4, 167.0, 123.60000000000001, 38351.1, 178.2, 37330.4, 128.4, 53699.100000000006, 52717.200000000004, 16139.5, 16443.0, 65821.7, 186.5, 136.2, 50984.4, 31514.8, 51210.8, 138.50000000000003, 102185.0, 27075.500000000004, 12094.7, 129.9, 71173.9, 153.3, 21088.3, 41636.6, 38372.9, 20546.6, 115.10000000000002, 156.0, 26370.5, 20199.2, 140.00000000000003, 49231.100000000006, 54533.30000000001, 165.9, 159712.90000000002, 9698.5, 17883.2, 75131.7, 19309.9, 32366.4, 50378.3, 126.20000000000002, 32570.100000000002, 155.3, 147.89999999999998, 38226.799999999996, 128575.40000000002, 187.0, 33427.7, 15292.1, 20790.0, 88310.5, 156765.3, 22691.6, 85493.2, 131.9, 51290.0, 20012.5, 12864.2, 155.7, 130.0, 31643.700000000004, 22089.0, 70950.7, 40082.49999999999, 153.8, 51696.7, 182.0, 34355.299999999996, 30373.3, 33429.8, 103803.8, 163.50000000000003, 155.8, 95773.1, 149.6, 44562.899999999994, 111.70000000000002, 103257.7, 142.0, 61522.299999999996, 35489.7, 117.6, 192.7, 128501.1, 31050.5, 92085.29999999999, 20343.7, 35288.9, 143.3, 39598.5, 25640.999999999996, 97043.70000000001, 65964.1, 87.10000000000001, 78282.0, 105.0, 40850.4, 23462.9, 20063.8, 125.80000000000001, 166.8, 21583.9, 169.1, 24804.8, 72182.40000000001, 15812.7, 141.5, 45508.2, 72975.4, 37544.80000000001, 112825.09999999998, 42150.40000000001, 35751.3, 120645.9, 35135.700000000004, 31872.300000000003, 99751.2, 140.5, 174823.2, 117607.0, 10151.6, 38456.799999999996, 64545.2, 26848.8, 58689.9, 42520.3, 129.0, 29317.0, 182.0, 153.4, 142.0, 70016.8, 103.80000000000001, 60518.2, 20287.9, 18649.1, 103.7, 68721.5, 51712.4, 26320.0, 18833.4, 34735.9, 84209.59999999999, 16400.5, 181.0, 36008.6, 147.1, 69559.7, 16351.4, 156.0, 89.20000000000002, 19960.8, 89234.6, 33315.7, 25977.6, 25770.200000000004, 39039.1, 176.4, 50568.1, 42216.8, 162.8, 91319.29999999999, 70049.5, 17708.8, 156123.99999999997, 64625.4, 101784.40000000001, 47603.6, 132.20000000000002, 142.8, 33574.3, 168.0, 71062.50000000001, 110.2, 58146.600000000006, 16389.4, 35914.1, 20999.600000000002, 17119.6, 45977.2, 34696.700000000004, 36061.0, 30003.599999999995, 149.8, 156.60000000000002, 207.10000000000002, 149063.7, 25532.800000000003, 135.3, 131.60000000000002, 139.9, 82941.4, 153.5, 129.8, 104285.59999999999, 29449.8, 61645.200000000004, 28863.5, 107.5, 152.3, 143.9, 24632.3, 85678.3, 37529.0, 58204.399999999994, 36511.4, 45637.6, 37970.2, 62698.7, 23461.899999999998, 79193.1, 36372.5, 129.2, 40034.5, 138.0, 87224.2, 45239.4, 181.5, 167.9, 57463.7, 14295.3, 125.1, 17798.799999999996, 190.60000000000002, 16509.4, 137.5, 78543.5, 122.8, 131.3, 72177.09999999999, 34502.3, 27143.200000000004, 143.2, 143.6, 208770.50000000003, 41343.200000000004, 39293.00000000001, 176.3, 31476.899999999998, 121.80000000000001, 98732.1, 79783.20000000001, 35778.899999999994, 170.50000000000003, 51406.9, 94854.8, 20854.3, 33500.6, 69781.5, 103307.7, 87668.6, 39087.7, 97604.5, 39653.9, 15712.8, 19323.4, 45979.5, 158.90000000000003, 20039.100000000002, 59392.700000000004, 34010.700000000004, 35702.2, 12011.6, 58691.0, 86861.19999999998, 64302.3, 86393.9, 84471.09999999999, 60743.9, 137.70000000000002, 73689.1, 37558.2, 136.3, 66494.2, 50960.1, 130.5, 175.8, 159.5, 13161.199999999999, 21632.4, 25643.4, 24810.7, 157.4, 18531.5, 285902.4000000001, 24531.1, 40599.3, 39706.3, 58909.5, 54047.5, 159.60000000000002, 110.30000000000001, 31713.2, 59976.6, 71846.4, 17125.1, 106909.00000000001, 145.5, 24252.9, 33268.3, 65583.0, 52353.3, 38496.6, 38793.399999999994, 197.30000000000004, 166.4, 105.7, 29051.1, 66876.5, 22046.7, 40614.5, 43210.1, 94803.09999999999, 74745.0, 163.9, 137.3, 54391.799999999996, 77096.29999999999, 122.80000000000001, 28664.899999999998, 65297.899999999994, 105.10000000000002, 100028.5, 149.4, 61558.5, 26620.600000000002, 43529.00000000001, 40971.200000000004, 22539.800000000003, 55236.5, 37187.8, 64933.200000000004, 28533.4, 35231.9, 37590.4, 106508.70000000001, 26274.0, 118.60000000000002, 105082.50000000001, 28006.2, 37307.200000000004, 38891.8, 139.7, 141.20000000000002, 18085.6, 22500.699999999997, 163.4, 64172.399999999994, 108665.9, 16313.5, 52685.4, 39110.0, 162.8, 52700.100000000006, 19654.899999999998, 28370.899999999998, 15447.0, 91492.5, 58401.7, 164.20000000000002, 65013.0, 144.40000000000003, 59409.00000000001, 38601.6, 35401.600000000006, 49745.899999999994, 15858.1, 32698.800000000003, 41452.0, 179.10000000000002, 24400.8, 18280.300000000003, 162.50000000000003, 42443.700000000004, 34405.0, 61091.100000000006, 38487.6, 11769.2, 95539.1, 55865.5, 108.60000000000002, 56707.899999999994, 39638.100000000006, 85067.2, 162.10000000000002, 153.3, 159.60000000000002, 132893.2, 43383.0, 23292.399999999998, 30985.300000000003, 148.5, 134.29999999999998, 56462.6, 19823.7, 195.10000000000002, 65530.7, 192.7, 52714.299999999996, 28719.5, 185.29999999999998, 142.10000000000002, 15797.9, 159.6, 18227.399999999998, 34643.9, 33767.1, 115137.4, 55463.5, 131.7, 32628.699999999997, 22798.6, 33719.3, 136.10000000000002, 110.7, 147391.39999999997, 41320.7, 39103.7, 29361.7, 41919.200000000004, 94775.19999999998, 103460.9, 71323.3, 153.60000000000002, 107636.7, 146.29999999999998, 160.3, 149.2, 54602.600000000006, 18167.8, 27796.5, 9334.699999999999, 61624.0, 86388.6, 65450.7, 37507.8, 86711.4, 138.10000000000002, 24451.1, 126679.1, 219.70000000000005, 19894.899999999998, 116.80000000000001, 32608.8, 106539.8, 66548.2, 156.0, 211953.99999999997, 24340.9, 48213.399999999994, 111.80000000000001, 30361.6, 25679.5, 35311.2, 112.9, 33066.1, 207.3, 34234.100000000006, 134.70000000000002, 153.5, 73837.9, 69217.6, 184.20000000000002, 87.9, 29632.5, 19924.7, 152.5, 48618.2, 36500.0, 31740.6, 66561.9, 84686.40000000001, 33731.799999999996, 162.70000000000002, 58338.9, 26029.7, 22675.6, 94322.1, 136.0, 160.4, 31041.1, 30834.3, 124.69999999999999, 22528.1, 51014.6, 32960.5, 10472.1, 163.7, 31304.600000000002, 28049.100000000002, 18685.4, 103184.20000000001, 31114.900000000005, 47914.7, 16765.399999999998, 63597.7, 136.0, 123.30000000000001, 112335.70000000001, 15141.6, 163.5, 29928.100000000002, 33876.799999999996, 16214.5, 57852.99999999999, 28876.6, 55796.3, 148.4, 55430.2, 111821.5, 33966.4, 18033.899999999998, 90299.20000000001, 138861.2, 37730.2, 30548.1, 29662.6, 36963.4, 39347.7, 11097.199999999999, 37127.899999999994, 124.30000000000001, 117.4, 17625.0, 36702.8, 164.10000000000002, 68023.5, 157.9, 56193.899999999994, 53851.1, 144.1, 75204.40000000001, 156.70000000000002, 149.3, 67420.5, 27996.3, 33498.3, 71578.1, 37858.0, 160.1, 123.60000000000001, 100460.50000000001, 28744.8, 112238.3, 138560.6, 26917.6, 112.00000000000001, 22069.600000000002, 29707.1, 19863.899999999998, 147.90000000000003, 62240.5, 15325.2, 24807.4, 63909.8, 134670.1, 132.79999999999998, 42774.100000000006, 115008.7, 136.20000000000002, 28120.0, 21139.0, 139.4, 34377.799999999996, 66987.0, 116.9, 133254.6, 168.8, 64565.9, 172.29999999999998, 39435.8, 37069.7, 38200.0, 82392.3, 152.9, 57771.5, 23295.6, 30323.399999999998, 74911.09999999999, 36116.299999999996, 54756.8, 118.10000000000001, 135.3, 95673.9, 61228.9, 40321.0, 65417.1, 92630.0, 50774.700000000004, 148481.8, 34243.200000000004, 35825.6, 22741.600000000002, 38750.1, 38082.8, 86229.6, 49267.4, 69072.1, 33046.1, 45534.399999999994, 205133.0, 160429.30000000002, 39273.5, 160.20000000000002, 111.9, 27924.700000000004, 43321.200000000004, 77537.6, 68488.40000000001, 111249.10000000002, 38594.6, 16651.3, 39237.200000000004, 17174.8, 111.60000000000001, 34198.700000000004, 31374.699999999997, 51651.50000000001, 73865.4, 39272.9, 11255.5, 139.8, 205.2, 36761.4, 92117.9, 44412.799999999996, 183.10000000000002, 97.5, 18207.500000000004, 34646.99999999999, 128.8, 17043.199999999997, 53171.9, 58939.2], \"xaxis\": \"x\", \"yaxis\": \"y\"}],\n",
              "                        {\"barmode\": \"relative\", \"legend\": {\"tracegroupgap\": 0}, \"margin\": {\"t\": 60}, \"template\": {\"data\": {\"bar\": [{\"error_x\": {\"color\": \"#2a3f5f\"}, \"error_y\": {\"color\": \"#2a3f5f\"}, \"marker\": {\"line\": {\"color\": \"#E5ECF6\", \"width\": 0.5}}, \"type\": \"bar\"}], \"barpolar\": [{\"marker\": {\"line\": {\"color\": \"#E5ECF6\", \"width\": 0.5}}, \"type\": \"barpolar\"}], \"carpet\": [{\"aaxis\": {\"endlinecolor\": \"#2a3f5f\", \"gridcolor\": \"white\", \"linecolor\": \"white\", \"minorgridcolor\": \"white\", \"startlinecolor\": \"#2a3f5f\"}, \"baxis\": {\"endlinecolor\": \"#2a3f5f\", \"gridcolor\": \"white\", \"linecolor\": \"white\", \"minorgridcolor\": \"white\", \"startlinecolor\": \"#2a3f5f\"}, \"type\": \"carpet\"}], \"choropleth\": [{\"colorbar\": {\"outlinewidth\": 0, \"ticks\": \"\"}, \"type\": \"choropleth\"}], \"contour\": [{\"colorbar\": {\"outlinewidth\": 0, \"ticks\": \"\"}, \"colorscale\": [[0.0, \"#0d0887\"], [0.1111111111111111, \"#46039f\"], [0.2222222222222222, \"#7201a8\"], [0.3333333333333333, \"#9c179e\"], [0.4444444444444444, \"#bd3786\"], [0.5555555555555556, \"#d8576b\"], [0.6666666666666666, \"#ed7953\"], [0.7777777777777778, \"#fb9f3a\"], [0.8888888888888888, \"#fdca26\"], [1.0, \"#f0f921\"]], \"type\": \"contour\"}], \"contourcarpet\": [{\"colorbar\": {\"outlinewidth\": 0, \"ticks\": \"\"}, \"type\": \"contourcarpet\"}], \"heatmap\": [{\"colorbar\": {\"outlinewidth\": 0, \"ticks\": \"\"}, \"colorscale\": [[0.0, \"#0d0887\"], [0.1111111111111111, \"#46039f\"], [0.2222222222222222, \"#7201a8\"], [0.3333333333333333, \"#9c179e\"], [0.4444444444444444, \"#bd3786\"], [0.5555555555555556, \"#d8576b\"], [0.6666666666666666, \"#ed7953\"], [0.7777777777777778, \"#fb9f3a\"], [0.8888888888888888, \"#fdca26\"], [1.0, \"#f0f921\"]], \"type\": \"heatmap\"}], \"heatmapgl\": [{\"colorbar\": {\"outlinewidth\": 0, \"ticks\": \"\"}, \"colorscale\": [[0.0, \"#0d0887\"], [0.1111111111111111, \"#46039f\"], [0.2222222222222222, \"#7201a8\"], [0.3333333333333333, \"#9c179e\"], [0.4444444444444444, \"#bd3786\"], [0.5555555555555556, \"#d8576b\"], [0.6666666666666666, \"#ed7953\"], [0.7777777777777778, \"#fb9f3a\"], [0.8888888888888888, \"#fdca26\"], [1.0, \"#f0f921\"]], \"type\": \"heatmapgl\"}], \"histogram\": [{\"marker\": {\"colorbar\": {\"outlinewidth\": 0, \"ticks\": \"\"}}, \"type\": \"histogram\"}], \"histogram2d\": [{\"colorbar\": {\"outlinewidth\": 0, \"ticks\": \"\"}, \"colorscale\": [[0.0, \"#0d0887\"], [0.1111111111111111, \"#46039f\"], [0.2222222222222222, \"#7201a8\"], [0.3333333333333333, \"#9c179e\"], [0.4444444444444444, \"#bd3786\"], [0.5555555555555556, \"#d8576b\"], [0.6666666666666666, \"#ed7953\"], [0.7777777777777778, \"#fb9f3a\"], [0.8888888888888888, \"#fdca26\"], [1.0, \"#f0f921\"]], \"type\": \"histogram2d\"}], \"histogram2dcontour\": [{\"colorbar\": {\"outlinewidth\": 0, \"ticks\": \"\"}, \"colorscale\": [[0.0, \"#0d0887\"], [0.1111111111111111, \"#46039f\"], [0.2222222222222222, \"#7201a8\"], [0.3333333333333333, \"#9c179e\"], [0.4444444444444444, \"#bd3786\"], [0.5555555555555556, \"#d8576b\"], [0.6666666666666666, \"#ed7953\"], [0.7777777777777778, \"#fb9f3a\"], [0.8888888888888888, \"#fdca26\"], [1.0, \"#f0f921\"]], \"type\": \"histogram2dcontour\"}], \"mesh3d\": [{\"colorbar\": {\"outlinewidth\": 0, \"ticks\": \"\"}, \"type\": \"mesh3d\"}], \"parcoords\": [{\"line\": {\"colorbar\": {\"outlinewidth\": 0, \"ticks\": \"\"}}, \"type\": \"parcoords\"}], \"pie\": [{\"automargin\": true, \"type\": \"pie\"}], \"scatter\": [{\"marker\": {\"colorbar\": {\"outlinewidth\": 0, \"ticks\": \"\"}}, \"type\": \"scatter\"}], \"scatter3d\": [{\"line\": {\"colorbar\": {\"outlinewidth\": 0, \"ticks\": \"\"}}, \"marker\": {\"colorbar\": {\"outlinewidth\": 0, \"ticks\": \"\"}}, \"type\": \"scatter3d\"}], \"scattercarpet\": [{\"marker\": {\"colorbar\": {\"outlinewidth\": 0, \"ticks\": \"\"}}, \"type\": \"scattercarpet\"}], \"scattergeo\": [{\"marker\": {\"colorbar\": {\"outlinewidth\": 0, \"ticks\": \"\"}}, \"type\": \"scattergeo\"}], \"scattergl\": [{\"marker\": {\"colorbar\": {\"outlinewidth\": 0, \"ticks\": \"\"}}, \"type\": \"scattergl\"}], \"scattermapbox\": [{\"marker\": {\"colorbar\": {\"outlinewidth\": 0, \"ticks\": \"\"}}, \"type\": \"scattermapbox\"}], \"scatterpolar\": [{\"marker\": {\"colorbar\": {\"outlinewidth\": 0, \"ticks\": \"\"}}, \"type\": \"scatterpolar\"}], \"scatterpolargl\": [{\"marker\": {\"colorbar\": {\"outlinewidth\": 0, \"ticks\": \"\"}}, \"type\": \"scatterpolargl\"}], \"scatterternary\": [{\"marker\": {\"colorbar\": {\"outlinewidth\": 0, \"ticks\": \"\"}}, \"type\": \"scatterternary\"}], \"surface\": [{\"colorbar\": {\"outlinewidth\": 0, \"ticks\": \"\"}, \"colorscale\": [[0.0, \"#0d0887\"], [0.1111111111111111, \"#46039f\"], [0.2222222222222222, \"#7201a8\"], [0.3333333333333333, \"#9c179e\"], [0.4444444444444444, \"#bd3786\"], [0.5555555555555556, \"#d8576b\"], [0.6666666666666666, \"#ed7953\"], [0.7777777777777778, \"#fb9f3a\"], [0.8888888888888888, \"#fdca26\"], [1.0, \"#f0f921\"]], \"type\": \"surface\"}], \"table\": [{\"cells\": {\"fill\": {\"color\": \"#EBF0F8\"}, \"line\": {\"color\": \"white\"}}, \"header\": {\"fill\": {\"color\": \"#C8D4E3\"}, \"line\": {\"color\": \"white\"}}, \"type\": \"table\"}]}, \"layout\": {\"annotationdefaults\": {\"arrowcolor\": \"#2a3f5f\", \"arrowhead\": 0, \"arrowwidth\": 1}, \"coloraxis\": {\"colorbar\": {\"outlinewidth\": 0, \"ticks\": \"\"}}, \"colorscale\": {\"diverging\": [[0, \"#8e0152\"], [0.1, \"#c51b7d\"], [0.2, \"#de77ae\"], [0.3, \"#f1b6da\"], [0.4, \"#fde0ef\"], [0.5, \"#f7f7f7\"], [0.6, \"#e6f5d0\"], [0.7, \"#b8e186\"], [0.8, \"#7fbc41\"], [0.9, \"#4d9221\"], [1, \"#276419\"]], \"sequential\": [[0.0, \"#0d0887\"], [0.1111111111111111, \"#46039f\"], [0.2222222222222222, \"#7201a8\"], [0.3333333333333333, \"#9c179e\"], [0.4444444444444444, \"#bd3786\"], [0.5555555555555556, \"#d8576b\"], [0.6666666666666666, \"#ed7953\"], [0.7777777777777778, \"#fb9f3a\"], [0.8888888888888888, \"#fdca26\"], [1.0, \"#f0f921\"]], \"sequentialminus\": [[0.0, \"#0d0887\"], [0.1111111111111111, \"#46039f\"], [0.2222222222222222, \"#7201a8\"], [0.3333333333333333, \"#9c179e\"], [0.4444444444444444, \"#bd3786\"], [0.5555555555555556, \"#d8576b\"], [0.6666666666666666, \"#ed7953\"], [0.7777777777777778, \"#fb9f3a\"], [0.8888888888888888, \"#fdca26\"], [1.0, \"#f0f921\"]]}, \"colorway\": [\"#636efa\", \"#EF553B\", \"#00cc96\", \"#ab63fa\", \"#FFA15A\", \"#19d3f3\", \"#FF6692\", \"#B6E880\", \"#FF97FF\", \"#FECB52\"], \"font\": {\"color\": \"#2a3f5f\"}, \"geo\": {\"bgcolor\": \"white\", \"lakecolor\": \"white\", \"landcolor\": \"#E5ECF6\", \"showlakes\": true, \"showland\": true, \"subunitcolor\": \"white\"}, \"hoverlabel\": {\"align\": \"left\"}, \"hovermode\": \"closest\", \"mapbox\": {\"style\": \"light\"}, \"paper_bgcolor\": \"white\", \"plot_bgcolor\": \"#E5ECF6\", \"polar\": {\"angularaxis\": {\"gridcolor\": \"white\", \"linecolor\": \"white\", \"ticks\": \"\"}, \"bgcolor\": \"#E5ECF6\", \"radialaxis\": {\"gridcolor\": \"white\", \"linecolor\": \"white\", \"ticks\": \"\"}}, \"scene\": {\"xaxis\": {\"backgroundcolor\": \"#E5ECF6\", \"gridcolor\": \"white\", \"gridwidth\": 2, \"linecolor\": \"white\", \"showbackground\": true, \"ticks\": \"\", \"zerolinecolor\": \"white\"}, \"yaxis\": {\"backgroundcolor\": \"#E5ECF6\", \"gridcolor\": \"white\", \"gridwidth\": 2, \"linecolor\": \"white\", \"showbackground\": true, \"ticks\": \"\", \"zerolinecolor\": \"white\"}, \"zaxis\": {\"backgroundcolor\": \"#E5ECF6\", \"gridcolor\": \"white\", \"gridwidth\": 2, \"linecolor\": \"white\", \"showbackground\": true, \"ticks\": \"\", \"zerolinecolor\": \"white\"}}, \"shapedefaults\": {\"line\": {\"color\": \"#2a3f5f\"}}, \"ternary\": {\"aaxis\": {\"gridcolor\": \"white\", \"linecolor\": \"white\", \"ticks\": \"\"}, \"baxis\": {\"gridcolor\": \"white\", \"linecolor\": \"white\", \"ticks\": \"\"}, \"bgcolor\": \"#E5ECF6\", \"caxis\": {\"gridcolor\": \"white\", \"linecolor\": \"white\", \"ticks\": \"\"}}, \"title\": {\"x\": 0.05}, \"xaxis\": {\"automargin\": true, \"gridcolor\": \"white\", \"linecolor\": \"white\", \"ticks\": \"\", \"title\": {\"standoff\": 15}, \"zerolinecolor\": \"white\", \"zerolinewidth\": 2}, \"yaxis\": {\"automargin\": true, \"gridcolor\": \"white\", \"linecolor\": \"white\", \"ticks\": \"\", \"title\": {\"standoff\": 15}, \"zerolinecolor\": \"white\", \"zerolinewidth\": 2}}}, \"xaxis\": {\"anchor\": \"y\", \"domain\": [0.0, 1.0], \"title\": {\"text\": \"Value\"}}, \"yaxis\": {\"anchor\": \"x\", \"domain\": [0.0, 1.0], \"title\": {\"text\": \"count\"}}},\n",
              "                        {\"responsive\": true}\n",
              "                    ).then(function(){\n",
              "                            \n",
              "var gd = document.getElementById('52613f04-1eca-46c1-a7c6-688563d44459');\n",
              "var x = new MutationObserver(function (mutations, observer) {{\n",
              "        var display = window.getComputedStyle(gd).display;\n",
              "        if (!display || display === 'none') {{\n",
              "            console.log([gd, 'removed!']);\n",
              "            Plotly.purge(gd);\n",
              "            observer.disconnect();\n",
              "        }}\n",
              "}});\n",
              "\n",
              "// Listen for the removal of the full notebook cells\n",
              "var notebookContainer = gd.closest('#notebook-container');\n",
              "if (notebookContainer) {{\n",
              "    x.observe(notebookContainer, {childList: true});\n",
              "}}\n",
              "\n",
              "// Listen for the clearing of the current output cell\n",
              "var outputEl = gd.closest('.output');\n",
              "if (outputEl) {{\n",
              "    x.observe(outputEl, {childList: true});\n",
              "}}\n",
              "\n",
              "                        })\n",
              "                };\n",
              "                \n",
              "            </script>\n",
              "        </div>\n",
              "</body>\n",
              "</html>"
            ]
          },
          "metadata": {
            "tags": []
          }
        }
      ]
    },
    {
      "cell_type": "code",
      "metadata": {
        "colab": {
          "base_uri": "https://localhost:8080/",
          "height": 542
        },
        "id": "NFhm0hs_DZOc",
        "outputId": "504aed68-782b-44fe-b55f-ea4d94947c23"
      },
      "source": [
        "#\n",
        "# Simulate spending 5000 sparks on epic chests 1000 times and show resulting number of rolls possible\n",
        "#\n",
        "results = []\n",
        "for i in range(0,1000):\n",
        "  df, rolls, spent = fivek_epic()\n",
        "  results.append(rolls)\n",
        "\n",
        "#pprint(results)\n",
        "df = pd.DataFrame(results,columns=[\"Rolls\"])\n",
        "fig = px.histogram(df,x=\"Rolls\")\n",
        "fig.show()"
      ],
      "execution_count": 6,
      "outputs": [
        {
          "output_type": "display_data",
          "data": {
            "text/html": [
              "<html>\n",
              "<head><meta charset=\"utf-8\" /></head>\n",
              "<body>\n",
              "    <div>\n",
              "            <script src=\"https://cdnjs.cloudflare.com/ajax/libs/mathjax/2.7.5/MathJax.js?config=TeX-AMS-MML_SVG\"></script><script type=\"text/javascript\">if (window.MathJax) {MathJax.Hub.Config({SVG: {font: \"STIX-Web\"}});}</script>\n",
              "                <script type=\"text/javascript\">window.PlotlyConfig = {MathJaxConfig: 'local'};</script>\n",
              "        <script src=\"https://cdn.plot.ly/plotly-latest.min.js\"></script>    \n",
              "            <div id=\"93ddecda-8d4b-4241-a775-48a58089ab16\" class=\"plotly-graph-div\" style=\"height:525px; width:100%;\"></div>\n",
              "            <script type=\"text/javascript\">\n",
              "                \n",
              "                    window.PLOTLYENV=window.PLOTLYENV || {};\n",
              "                    \n",
              "                if (document.getElementById(\"93ddecda-8d4b-4241-a775-48a58089ab16\")) {\n",
              "                    Plotly.newPlot(\n",
              "                        '93ddecda-8d4b-4241-a775-48a58089ab16',\n",
              "                        [{\"alignmentgroup\": \"True\", \"bingroup\": \"x\", \"hoverlabel\": {\"namelength\": 0}, \"hovertemplate\": \"Rolls=%{x}<br>count=%{y}\", \"legendgroup\": \"\", \"marker\": {\"color\": \"#636efa\"}, \"name\": \"\", \"offsetgroup\": \"\", \"orientation\": \"v\", \"showlegend\": false, \"type\": \"histogram\", \"x\": [6, 6, 5, 6, 9, 5, 5, 9, 5, 6, 7, 5, 9, 7, 5, 5, 6, 5, 10, 8, 5, 5, 5, 6, 6, 8, 6, 6, 6, 5, 6, 5, 9, 6, 7, 6, 5, 6, 5, 7, 8, 5, 6, 9, 5, 6, 6, 5, 7, 6, 8, 12, 5, 7, 6, 5, 12, 5, 5, 5, 7, 5, 5, 5, 5, 6, 5, 5, 7, 6, 10, 5, 5, 5, 5, 5, 5, 6, 6, 6, 8, 5, 5, 5, 5, 11, 5, 6, 5, 7, 6, 5, 6, 6, 6, 6, 12, 6, 5, 6, 6, 5, 6, 6, 5, 5, 6, 5, 9, 5, 5, 5, 6, 5, 6, 5, 6, 5, 5, 11, 7, 5, 5, 8, 8, 6, 8, 6, 6, 6, 5, 5, 5, 7, 6, 5, 8, 6, 5, 6, 8, 15, 7, 6, 6, 7, 5, 6, 6, 5, 7, 7, 5, 6, 10, 5, 5, 14, 5, 9, 6, 6, 7, 10, 5, 9, 6, 5, 5, 7, 8, 5, 5, 9, 5, 11, 5, 5, 8, 8, 6, 6, 6, 5, 7, 5, 5, 5, 6, 9, 5, 5, 5, 5, 5, 9, 12, 8, 6, 5, 5, 8, 7, 9, 5, 5, 7, 7, 5, 6, 10, 6, 6, 5, 14, 7, 5, 8, 5, 6, 5, 5, 5, 7, 5, 5, 8, 6, 8, 7, 5, 6, 6, 6, 6, 5, 5, 5, 10, 7, 6, 5, 5, 7, 5, 6, 6, 10, 10, 6, 6, 7, 8, 5, 7, 6, 6, 5, 9, 6, 5, 6, 6, 5, 6, 5, 6, 5, 5, 5, 8, 5, 10, 8, 12, 5, 16, 5, 6, 5, 5, 7, 5, 7, 5, 5, 5, 5, 6, 6, 11, 6, 5, 5, 6, 5, 8, 5, 6, 8, 5, 6, 7, 5, 5, 5, 5, 7, 8, 18, 5, 8, 6, 5, 12, 5, 6, 6, 5, 8, 7, 7, 5, 5, 5, 5, 10, 5, 6, 5, 9, 8, 6, 5, 7, 9, 6, 6, 6, 5, 5, 13, 5, 5, 9, 5, 5, 8, 10, 10, 5, 5, 6, 9, 5, 6, 5, 11, 5, 5, 6, 6, 5, 6, 6, 6, 8, 7, 6, 7, 5, 8, 7, 6, 5, 5, 6, 8, 6, 7, 5, 7, 8, 5, 6, 5, 5, 12, 8, 5, 6, 11, 5, 5, 5, 7, 5, 5, 5, 6, 5, 9, 5, 5, 5, 6, 7, 5, 9, 6, 8, 6, 9, 5, 6, 6, 7, 9, 6, 5, 5, 7, 8, 8, 7, 5, 6, 6, 5, 6, 9, 6, 7, 5, 11, 6, 7, 6, 6, 6, 7, 6, 8, 5, 5, 12, 6, 7, 6, 6, 5, 5, 5, 5, 6, 6, 9, 6, 5, 7, 6, 7, 5, 5, 6, 8, 5, 8, 5, 8, 6, 9, 5, 6, 5, 6, 8, 5, 5, 6, 5, 7, 10, 8, 5, 6, 5, 6, 7, 5, 5, 5, 7, 6, 5, 5, 7, 6, 6, 9, 7, 6, 7, 7, 5, 6, 10, 5, 6, 8, 6, 5, 5, 5, 8, 6, 7, 5, 10, 5, 5, 6, 5, 5, 6, 10, 6, 6, 6, 10, 5, 9, 6, 12, 10, 5, 9, 6, 7, 5, 5, 5, 6, 8, 9, 9, 5, 6, 11, 5, 5, 7, 7, 5, 9, 5, 6, 6, 5, 9, 5, 6, 5, 5, 9, 8, 16, 5, 6, 10, 9, 5, 5, 5, 6, 5, 7, 6, 6, 5, 7, 6, 16, 7, 8, 7, 9, 6, 5, 5, 6, 11, 5, 6, 6, 6, 6, 12, 10, 5, 6, 6, 9, 5, 6, 6, 8, 5, 6, 5, 6, 5, 5, 6, 11, 8, 10, 6, 6, 5, 6, 6, 5, 6, 5, 5, 6, 6, 5, 5, 6, 5, 5, 6, 5, 5, 5, 11, 5, 7, 5, 5, 5, 8, 5, 5, 9, 5, 6, 8, 7, 8, 5, 5, 6, 5, 6, 5, 5, 5, 8, 7, 6, 5, 5, 9, 9, 6, 6, 5, 11, 11, 5, 7, 5, 5, 11, 5, 5, 7, 9, 5, 8, 6, 6, 5, 9, 6, 5, 11, 5, 5, 8, 9, 6, 5, 5, 6, 5, 8, 5, 5, 5, 6, 5, 11, 5, 6, 5, 12, 5, 6, 5, 5, 5, 9, 6, 8, 6, 6, 6, 6, 8, 6, 6, 5, 10, 5, 8, 7, 7, 6, 7, 7, 6, 6, 6, 5, 6, 6, 5, 7, 5, 7, 5, 8, 5, 5, 8, 5, 8, 7, 7, 7, 5, 5, 6, 17, 5, 5, 6, 11, 5, 6, 6, 5, 6, 8, 9, 5, 6, 10, 6, 6, 7, 5, 5, 6, 5, 7, 5, 11, 5, 6, 6, 6, 6, 5, 5, 6, 6, 6, 12, 6, 6, 7, 6, 9, 5, 5, 8, 5, 5, 5, 5, 11, 5, 7, 6, 8, 6, 5, 5, 7, 5, 5, 5, 6, 8, 6, 6, 10, 7, 6, 5, 6, 5, 5, 9, 5, 6, 6, 7, 7, 7, 5, 6, 9, 5, 6, 6, 6, 5, 7, 6, 10, 5, 6, 6, 6, 7, 10, 5, 5, 7, 5, 5, 5, 5, 5, 8, 7, 6, 5, 6, 6, 6, 8, 5, 5, 7, 5, 6, 10, 5, 9, 5, 12, 5, 7, 8, 5, 6, 5, 9, 10, 11, 6, 5, 5, 6, 6, 9, 6, 6, 5, 7, 6, 6, 5, 7, 7, 6, 8, 5, 6, 5, 5, 5, 7, 6, 8, 6, 6, 6, 6, 5, 6, 5, 14, 6, 7, 8, 9, 9, 7, 6, 7, 9, 9, 6, 13, 6, 7, 8, 5, 5, 5, 5, 6, 5, 9, 6, 5, 7, 6, 6, 5, 6, 5, 6, 6, 8, 6, 6, 6, 5, 6, 5, 5, 5, 5, 7, 5, 5, 5, 7, 5, 5, 5, 5, 6, 6, 5, 5, 6, 8, 5, 5, 6, 5, 5, 5, 5, 5, 5, 5, 5, 7, 6, 5, 6, 5, 8, 5, 5, 6, 8, 6, 5], \"xaxis\": \"x\", \"yaxis\": \"y\"}],\n",
              "                        {\"barmode\": \"relative\", \"legend\": {\"tracegroupgap\": 0}, \"margin\": {\"t\": 60}, \"template\": {\"data\": {\"bar\": [{\"error_x\": {\"color\": \"#2a3f5f\"}, \"error_y\": {\"color\": \"#2a3f5f\"}, \"marker\": {\"line\": {\"color\": \"#E5ECF6\", \"width\": 0.5}}, \"type\": \"bar\"}], \"barpolar\": [{\"marker\": {\"line\": {\"color\": \"#E5ECF6\", \"width\": 0.5}}, \"type\": \"barpolar\"}], \"carpet\": [{\"aaxis\": {\"endlinecolor\": \"#2a3f5f\", \"gridcolor\": \"white\", \"linecolor\": \"white\", \"minorgridcolor\": \"white\", \"startlinecolor\": \"#2a3f5f\"}, \"baxis\": {\"endlinecolor\": \"#2a3f5f\", \"gridcolor\": \"white\", \"linecolor\": \"white\", \"minorgridcolor\": \"white\", \"startlinecolor\": \"#2a3f5f\"}, \"type\": \"carpet\"}], \"choropleth\": [{\"colorbar\": {\"outlinewidth\": 0, \"ticks\": \"\"}, \"type\": \"choropleth\"}], \"contour\": [{\"colorbar\": {\"outlinewidth\": 0, \"ticks\": \"\"}, \"colorscale\": [[0.0, \"#0d0887\"], [0.1111111111111111, \"#46039f\"], [0.2222222222222222, \"#7201a8\"], [0.3333333333333333, \"#9c179e\"], [0.4444444444444444, \"#bd3786\"], [0.5555555555555556, \"#d8576b\"], [0.6666666666666666, \"#ed7953\"], [0.7777777777777778, \"#fb9f3a\"], [0.8888888888888888, \"#fdca26\"], [1.0, \"#f0f921\"]], \"type\": \"contour\"}], \"contourcarpet\": [{\"colorbar\": {\"outlinewidth\": 0, \"ticks\": \"\"}, \"type\": \"contourcarpet\"}], \"heatmap\": [{\"colorbar\": {\"outlinewidth\": 0, \"ticks\": \"\"}, \"colorscale\": [[0.0, \"#0d0887\"], [0.1111111111111111, \"#46039f\"], [0.2222222222222222, \"#7201a8\"], [0.3333333333333333, \"#9c179e\"], [0.4444444444444444, \"#bd3786\"], [0.5555555555555556, \"#d8576b\"], [0.6666666666666666, \"#ed7953\"], [0.7777777777777778, \"#fb9f3a\"], [0.8888888888888888, \"#fdca26\"], [1.0, \"#f0f921\"]], \"type\": \"heatmap\"}], \"heatmapgl\": [{\"colorbar\": {\"outlinewidth\": 0, \"ticks\": \"\"}, \"colorscale\": [[0.0, \"#0d0887\"], [0.1111111111111111, \"#46039f\"], [0.2222222222222222, \"#7201a8\"], [0.3333333333333333, \"#9c179e\"], [0.4444444444444444, \"#bd3786\"], [0.5555555555555556, \"#d8576b\"], [0.6666666666666666, \"#ed7953\"], [0.7777777777777778, \"#fb9f3a\"], [0.8888888888888888, \"#fdca26\"], [1.0, \"#f0f921\"]], \"type\": \"heatmapgl\"}], \"histogram\": [{\"marker\": {\"colorbar\": {\"outlinewidth\": 0, \"ticks\": \"\"}}, \"type\": \"histogram\"}], \"histogram2d\": [{\"colorbar\": {\"outlinewidth\": 0, \"ticks\": \"\"}, \"colorscale\": [[0.0, \"#0d0887\"], [0.1111111111111111, \"#46039f\"], [0.2222222222222222, \"#7201a8\"], [0.3333333333333333, \"#9c179e\"], [0.4444444444444444, \"#bd3786\"], [0.5555555555555556, \"#d8576b\"], [0.6666666666666666, \"#ed7953\"], [0.7777777777777778, \"#fb9f3a\"], [0.8888888888888888, \"#fdca26\"], [1.0, \"#f0f921\"]], \"type\": \"histogram2d\"}], \"histogram2dcontour\": [{\"colorbar\": {\"outlinewidth\": 0, \"ticks\": \"\"}, \"colorscale\": [[0.0, \"#0d0887\"], [0.1111111111111111, \"#46039f\"], [0.2222222222222222, \"#7201a8\"], [0.3333333333333333, \"#9c179e\"], [0.4444444444444444, \"#bd3786\"], [0.5555555555555556, \"#d8576b\"], [0.6666666666666666, \"#ed7953\"], [0.7777777777777778, \"#fb9f3a\"], [0.8888888888888888, \"#fdca26\"], [1.0, \"#f0f921\"]], \"type\": \"histogram2dcontour\"}], \"mesh3d\": [{\"colorbar\": {\"outlinewidth\": 0, \"ticks\": \"\"}, \"type\": \"mesh3d\"}], \"parcoords\": [{\"line\": {\"colorbar\": {\"outlinewidth\": 0, \"ticks\": \"\"}}, \"type\": \"parcoords\"}], \"pie\": [{\"automargin\": true, \"type\": \"pie\"}], \"scatter\": [{\"marker\": {\"colorbar\": {\"outlinewidth\": 0, \"ticks\": \"\"}}, \"type\": \"scatter\"}], \"scatter3d\": [{\"line\": {\"colorbar\": {\"outlinewidth\": 0, \"ticks\": \"\"}}, \"marker\": {\"colorbar\": {\"outlinewidth\": 0, \"ticks\": \"\"}}, \"type\": \"scatter3d\"}], \"scattercarpet\": [{\"marker\": {\"colorbar\": {\"outlinewidth\": 0, \"ticks\": \"\"}}, \"type\": \"scattercarpet\"}], \"scattergeo\": [{\"marker\": {\"colorbar\": {\"outlinewidth\": 0, \"ticks\": \"\"}}, \"type\": \"scattergeo\"}], \"scattergl\": [{\"marker\": {\"colorbar\": {\"outlinewidth\": 0, \"ticks\": \"\"}}, \"type\": \"scattergl\"}], \"scattermapbox\": [{\"marker\": {\"colorbar\": {\"outlinewidth\": 0, \"ticks\": \"\"}}, \"type\": \"scattermapbox\"}], \"scatterpolar\": [{\"marker\": {\"colorbar\": {\"outlinewidth\": 0, \"ticks\": \"\"}}, \"type\": \"scatterpolar\"}], \"scatterpolargl\": [{\"marker\": {\"colorbar\": {\"outlinewidth\": 0, \"ticks\": \"\"}}, \"type\": \"scatterpolargl\"}], \"scatterternary\": [{\"marker\": {\"colorbar\": {\"outlinewidth\": 0, \"ticks\": \"\"}}, \"type\": \"scatterternary\"}], \"surface\": [{\"colorbar\": {\"outlinewidth\": 0, \"ticks\": \"\"}, \"colorscale\": [[0.0, \"#0d0887\"], [0.1111111111111111, \"#46039f\"], [0.2222222222222222, \"#7201a8\"], [0.3333333333333333, \"#9c179e\"], [0.4444444444444444, \"#bd3786\"], [0.5555555555555556, \"#d8576b\"], [0.6666666666666666, \"#ed7953\"], [0.7777777777777778, \"#fb9f3a\"], [0.8888888888888888, \"#fdca26\"], [1.0, \"#f0f921\"]], \"type\": \"surface\"}], \"table\": [{\"cells\": {\"fill\": {\"color\": \"#EBF0F8\"}, \"line\": {\"color\": \"white\"}}, \"header\": {\"fill\": {\"color\": \"#C8D4E3\"}, \"line\": {\"color\": \"white\"}}, \"type\": \"table\"}]}, \"layout\": {\"annotationdefaults\": {\"arrowcolor\": \"#2a3f5f\", \"arrowhead\": 0, \"arrowwidth\": 1}, \"coloraxis\": {\"colorbar\": {\"outlinewidth\": 0, \"ticks\": \"\"}}, \"colorscale\": {\"diverging\": [[0, \"#8e0152\"], [0.1, \"#c51b7d\"], [0.2, \"#de77ae\"], [0.3, \"#f1b6da\"], [0.4, \"#fde0ef\"], [0.5, \"#f7f7f7\"], [0.6, \"#e6f5d0\"], [0.7, \"#b8e186\"], [0.8, \"#7fbc41\"], [0.9, \"#4d9221\"], [1, \"#276419\"]], \"sequential\": [[0.0, \"#0d0887\"], [0.1111111111111111, \"#46039f\"], [0.2222222222222222, \"#7201a8\"], [0.3333333333333333, \"#9c179e\"], [0.4444444444444444, \"#bd3786\"], [0.5555555555555556, \"#d8576b\"], [0.6666666666666666, \"#ed7953\"], [0.7777777777777778, \"#fb9f3a\"], [0.8888888888888888, \"#fdca26\"], [1.0, \"#f0f921\"]], \"sequentialminus\": [[0.0, \"#0d0887\"], [0.1111111111111111, \"#46039f\"], [0.2222222222222222, \"#7201a8\"], [0.3333333333333333, \"#9c179e\"], [0.4444444444444444, \"#bd3786\"], [0.5555555555555556, \"#d8576b\"], [0.6666666666666666, \"#ed7953\"], [0.7777777777777778, \"#fb9f3a\"], [0.8888888888888888, \"#fdca26\"], [1.0, \"#f0f921\"]]}, \"colorway\": [\"#636efa\", \"#EF553B\", \"#00cc96\", \"#ab63fa\", \"#FFA15A\", \"#19d3f3\", \"#FF6692\", \"#B6E880\", \"#FF97FF\", \"#FECB52\"], \"font\": {\"color\": \"#2a3f5f\"}, \"geo\": {\"bgcolor\": \"white\", \"lakecolor\": \"white\", \"landcolor\": \"#E5ECF6\", \"showlakes\": true, \"showland\": true, \"subunitcolor\": \"white\"}, \"hoverlabel\": {\"align\": \"left\"}, \"hovermode\": \"closest\", \"mapbox\": {\"style\": \"light\"}, \"paper_bgcolor\": \"white\", \"plot_bgcolor\": \"#E5ECF6\", \"polar\": {\"angularaxis\": {\"gridcolor\": \"white\", \"linecolor\": \"white\", \"ticks\": \"\"}, \"bgcolor\": \"#E5ECF6\", \"radialaxis\": {\"gridcolor\": \"white\", \"linecolor\": \"white\", \"ticks\": \"\"}}, \"scene\": {\"xaxis\": {\"backgroundcolor\": \"#E5ECF6\", \"gridcolor\": \"white\", \"gridwidth\": 2, \"linecolor\": \"white\", \"showbackground\": true, \"ticks\": \"\", \"zerolinecolor\": \"white\"}, \"yaxis\": {\"backgroundcolor\": \"#E5ECF6\", \"gridcolor\": \"white\", \"gridwidth\": 2, \"linecolor\": \"white\", \"showbackground\": true, \"ticks\": \"\", \"zerolinecolor\": \"white\"}, \"zaxis\": {\"backgroundcolor\": \"#E5ECF6\", \"gridcolor\": \"white\", \"gridwidth\": 2, \"linecolor\": \"white\", \"showbackground\": true, \"ticks\": \"\", \"zerolinecolor\": \"white\"}}, \"shapedefaults\": {\"line\": {\"color\": \"#2a3f5f\"}}, \"ternary\": {\"aaxis\": {\"gridcolor\": \"white\", \"linecolor\": \"white\", \"ticks\": \"\"}, \"baxis\": {\"gridcolor\": \"white\", \"linecolor\": \"white\", \"ticks\": \"\"}, \"bgcolor\": \"#E5ECF6\", \"caxis\": {\"gridcolor\": \"white\", \"linecolor\": \"white\", \"ticks\": \"\"}}, \"title\": {\"x\": 0.05}, \"xaxis\": {\"automargin\": true, \"gridcolor\": \"white\", \"linecolor\": \"white\", \"ticks\": \"\", \"title\": {\"standoff\": 15}, \"zerolinecolor\": \"white\", \"zerolinewidth\": 2}, \"yaxis\": {\"automargin\": true, \"gridcolor\": \"white\", \"linecolor\": \"white\", \"ticks\": \"\", \"title\": {\"standoff\": 15}, \"zerolinecolor\": \"white\", \"zerolinewidth\": 2}}}, \"xaxis\": {\"anchor\": \"y\", \"domain\": [0.0, 1.0], \"title\": {\"text\": \"Rolls\"}}, \"yaxis\": {\"anchor\": \"x\", \"domain\": [0.0, 1.0], \"title\": {\"text\": \"count\"}}},\n",
              "                        {\"responsive\": true}\n",
              "                    ).then(function(){\n",
              "                            \n",
              "var gd = document.getElementById('93ddecda-8d4b-4241-a775-48a58089ab16');\n",
              "var x = new MutationObserver(function (mutations, observer) {{\n",
              "        var display = window.getComputedStyle(gd).display;\n",
              "        if (!display || display === 'none') {{\n",
              "            console.log([gd, 'removed!']);\n",
              "            Plotly.purge(gd);\n",
              "            observer.disconnect();\n",
              "        }}\n",
              "}});\n",
              "\n",
              "// Listen for the removal of the full notebook cells\n",
              "var notebookContainer = gd.closest('#notebook-container');\n",
              "if (notebookContainer) {{\n",
              "    x.observe(notebookContainer, {childList: true});\n",
              "}}\n",
              "\n",
              "// Listen for the clearing of the current output cell\n",
              "var outputEl = gd.closest('.output');\n",
              "if (outputEl) {{\n",
              "    x.observe(outputEl, {childList: true});\n",
              "}}\n",
              "\n",
              "                        })\n",
              "                };\n",
              "                \n",
              "            </script>\n",
              "        </div>\n",
              "</body>\n",
              "</html>"
            ]
          },
          "metadata": {
            "tags": []
          }
        }
      ]
    },
    {
      "cell_type": "code",
      "metadata": {
        "colab": {
          "base_uri": "https://localhost:8080/",
          "height": 483
        },
        "id": "1SaMA5G-KSFY",
        "outputId": "52a6378d-5723-4013-c46e-f9ca1fc6bbad"
      },
      "source": [
        "#\n",
        "# Above, but tabular format\n",
        "#\n",
        "import numpy as np\n",
        "\n",
        "df.groupby(['Rolls'], as_index=False).size()\n",
        "#.aggregate(np.sum)"
      ],
      "execution_count": 7,
      "outputs": [
        {
          "output_type": "execute_result",
          "data": {
            "text/html": [
              "<div>\n",
              "<style scoped>\n",
              "    .dataframe tbody tr th:only-of-type {\n",
              "        vertical-align: middle;\n",
              "    }\n",
              "\n",
              "    .dataframe tbody tr th {\n",
              "        vertical-align: top;\n",
              "    }\n",
              "\n",
              "    .dataframe thead th {\n",
              "        text-align: right;\n",
              "    }\n",
              "</style>\n",
              "<table border=\"1\" class=\"dataframe\">\n",
              "  <thead>\n",
              "    <tr style=\"text-align: right;\">\n",
              "      <th></th>\n",
              "      <th>Rolls</th>\n",
              "      <th>size</th>\n",
              "    </tr>\n",
              "  </thead>\n",
              "  <tbody>\n",
              "    <tr>\n",
              "      <th>0</th>\n",
              "      <td>5</td>\n",
              "      <td>398</td>\n",
              "    </tr>\n",
              "    <tr>\n",
              "      <th>1</th>\n",
              "      <td>6</td>\n",
              "      <td>292</td>\n",
              "    </tr>\n",
              "    <tr>\n",
              "      <th>2</th>\n",
              "      <td>7</td>\n",
              "      <td>107</td>\n",
              "    </tr>\n",
              "    <tr>\n",
              "      <th>3</th>\n",
              "      <td>8</td>\n",
              "      <td>77</td>\n",
              "    </tr>\n",
              "    <tr>\n",
              "      <th>4</th>\n",
              "      <td>9</td>\n",
              "      <td>54</td>\n",
              "    </tr>\n",
              "    <tr>\n",
              "      <th>5</th>\n",
              "      <td>10</td>\n",
              "      <td>28</td>\n",
              "    </tr>\n",
              "    <tr>\n",
              "      <th>6</th>\n",
              "      <td>11</td>\n",
              "      <td>20</td>\n",
              "    </tr>\n",
              "    <tr>\n",
              "      <th>7</th>\n",
              "      <td>12</td>\n",
              "      <td>13</td>\n",
              "    </tr>\n",
              "    <tr>\n",
              "      <th>8</th>\n",
              "      <td>13</td>\n",
              "      <td>2</td>\n",
              "    </tr>\n",
              "    <tr>\n",
              "      <th>9</th>\n",
              "      <td>14</td>\n",
              "      <td>3</td>\n",
              "    </tr>\n",
              "    <tr>\n",
              "      <th>10</th>\n",
              "      <td>15</td>\n",
              "      <td>1</td>\n",
              "    </tr>\n",
              "    <tr>\n",
              "      <th>11</th>\n",
              "      <td>16</td>\n",
              "      <td>3</td>\n",
              "    </tr>\n",
              "    <tr>\n",
              "      <th>12</th>\n",
              "      <td>17</td>\n",
              "      <td>1</td>\n",
              "    </tr>\n",
              "    <tr>\n",
              "      <th>13</th>\n",
              "      <td>18</td>\n",
              "      <td>1</td>\n",
              "    </tr>\n",
              "  </tbody>\n",
              "</table>\n",
              "</div>"
            ],
            "text/plain": [
              "    Rolls  size\n",
              "0       5   398\n",
              "1       6   292\n",
              "2       7   107\n",
              "3       8    77\n",
              "4       9    54\n",
              "5      10    28\n",
              "6      11    20\n",
              "7      12    13\n",
              "8      13     2\n",
              "9      14     3\n",
              "10     15     1\n",
              "11     16     3\n",
              "12     17     1\n",
              "13     18     1"
            ]
          },
          "metadata": {
            "tags": []
          },
          "execution_count": 7
        }
      ]
    },
    {
      "cell_type": "code",
      "metadata": {
        "colab": {
          "base_uri": "https://localhost:8080/",
          "height": 534
        },
        "id": "obypbH5zEW59",
        "outputId": "dd9265e1-b2ec-4b54-d630-8cb9125592db"
      },
      "source": [
        "#\n",
        "# Simulate spending 5000 sparks on legendary chests 1000 times and show resulting number of rolls possible\n",
        "#\n",
        "results = []\n",
        "for i in range(0,1000):\n",
        "  df, rolls, spent = fivek_legend()\n",
        "  results.append(rolls)\n",
        "\n",
        "#pprint(results)\n",
        "df = pd.DataFrame(results,columns=[\"Rolls\"])\n",
        "fig = px.histogram(df,x=\"Rolls\", range_x=[0,14]) #, log_y=True, xmin=0, xmax=100)\n",
        "fig.update_layout(title='# Rolls From Spending 5000 sparks on Legendary Chests', autosize=False,\n",
        "                  width=600, height=500, \n",
        "                  margin=dict(l=65, r=50, b=65, t=90))\n",
        "\n",
        "\n",
        "print(\"Tier II (League 10-14, Chapter 3 of Event\")\n",
        "fig.show()"
      ],
      "execution_count": 37,
      "outputs": [
        {
          "output_type": "stream",
          "text": [
            "Tier II (League 10-14, Chapter 3 of Event\n"
          ],
          "name": "stdout"
        },
        {
          "output_type": "display_data",
          "data": {
            "text/html": [
              "<html>\n",
              "<head><meta charset=\"utf-8\" /></head>\n",
              "<body>\n",
              "    <div>\n",
              "            <script src=\"https://cdnjs.cloudflare.com/ajax/libs/mathjax/2.7.5/MathJax.js?config=TeX-AMS-MML_SVG\"></script><script type=\"text/javascript\">if (window.MathJax) {MathJax.Hub.Config({SVG: {font: \"STIX-Web\"}});}</script>\n",
              "                <script type=\"text/javascript\">window.PlotlyConfig = {MathJaxConfig: 'local'};</script>\n",
              "        <script src=\"https://cdn.plot.ly/plotly-latest.min.js\"></script>    \n",
              "            <div id=\"bdaa66f2-c50e-49fa-9778-dd9e0d38ba2a\" class=\"plotly-graph-div\" style=\"height:500px; width:600px;\"></div>\n",
              "            <script type=\"text/javascript\">\n",
              "                \n",
              "                    window.PLOTLYENV=window.PLOTLYENV || {};\n",
              "                    \n",
              "                if (document.getElementById(\"bdaa66f2-c50e-49fa-9778-dd9e0d38ba2a\")) {\n",
              "                    Plotly.newPlot(\n",
              "                        'bdaa66f2-c50e-49fa-9778-dd9e0d38ba2a',\n",
              "                        [{\"alignmentgroup\": \"True\", \"bingroup\": \"x\", \"hoverlabel\": {\"namelength\": 0}, \"hovertemplate\": \"Rolls=%{x}<br>count=%{y}\", \"legendgroup\": \"\", \"marker\": {\"color\": \"#636efa\"}, \"name\": \"\", \"offsetgroup\": \"\", \"orientation\": \"v\", \"showlegend\": false, \"type\": \"histogram\", \"x\": [2, 10, 1, 1, 2, 4, 1, 1, 1, 1, 1, 1, 5, 4, 1, 2, 1, 1, 1, 1, 2, 1, 1, 1, 1, 2, 1, 2, 1, 1, 1, 1, 1, 1, 1, 1, 1, 1, 1, 1, 2, 1, 1, 1, 2, 1, 5, 1, 1, 2, 1, 2, 1, 5, 1, 1, 1, 2, 1, 1, 1, 2, 1, 1, 1, 1, 1, 1, 2, 4, 1, 1, 1, 5, 2, 1, 1, 9, 1, 1, 1, 1, 1, 2, 1, 1, 5, 1, 1, 1, 1, 1, 1, 1, 5, 4, 1, 1, 1, 1, 1, 1, 2, 2, 2, 1, 2, 1, 1, 4, 3, 1, 1, 1, 8, 1, 4, 1, 1, 2, 1, 1, 1, 1, 1, 1, 2, 1, 2, 1, 4, 1, 1, 1, 5, 1, 1, 1, 1, 1, 1, 1, 1, 1, 1, 1, 2, 1, 1, 1, 9, 1, 1, 1, 1, 4, 1, 1, 1, 1, 1, 1, 2, 2, 1, 1, 1, 1, 2, 1, 1, 1, 1, 1, 1, 1, 2, 1, 2, 2, 3, 1, 1, 1, 1, 1, 1, 2, 1, 1, 2, 2, 1, 1, 2, 3, 1, 1, 2, 1, 1, 2, 3, 1, 1, 2, 1, 4, 1, 1, 1, 1, 1, 1, 2, 8, 1, 2, 1, 1, 1, 1, 1, 1, 1, 1, 1, 2, 2, 1, 1, 1, 2, 1, 1, 1, 7, 1, 1, 1, 1, 1, 1, 4, 1, 3, 2, 1, 1, 1, 2, 2, 2, 1, 4, 1, 1, 10, 1, 1, 1, 3, 1, 1, 1, 1, 1, 2, 1, 1, 1, 1, 1, 1, 1, 1, 1, 1, 1, 1, 1, 2, 1, 2, 1, 2, 1, 1, 2, 1, 1, 1, 4, 1, 1, 1, 4, 2, 1, 5, 1, 1, 2, 1, 1, 2, 1, 1, 1, 1, 1, 2, 2, 1, 1, 1, 1, 3, 2, 1, 3, 1, 1, 1, 4, 2, 1, 1, 1, 1, 1, 1, 2, 1, 1, 1, 1, 8, 1, 1, 1, 1, 2, 1, 1, 1, 1, 1, 1, 1, 1, 1, 2, 2, 2, 1, 1, 1, 1, 1, 2, 1, 1, 1, 1, 2, 1, 3, 4, 1, 2, 1, 3, 1, 3, 2, 1, 3, 1, 3, 1, 2, 1, 2, 1, 2, 1, 1, 1, 1, 2, 2, 2, 1, 1, 1, 1, 1, 1, 4, 1, 1, 1, 1, 1, 1, 3, 1, 2, 2, 4, 1, 1, 1, 1, 1, 2, 1, 1, 1, 2, 2, 2, 2, 2, 1, 3, 1, 1, 1, 2, 1, 1, 1, 1, 1, 2, 1, 2, 1, 1, 1, 2, 1, 2, 1, 1, 2, 8, 1, 2, 1, 2, 1, 1, 1, 2, 3, 1, 1, 2, 1, 1, 1, 3, 1, 1, 3, 4, 1, 1, 2, 1, 1, 1, 5, 1, 2, 1, 1, 2, 1, 1, 1, 1, 3, 2, 1, 1, 1, 1, 1, 1, 2, 1, 1, 1, 1, 4, 1, 2, 1, 1, 1, 1, 1, 1, 1, 1, 8, 5, 1, 1, 1, 1, 1, 1, 1, 1, 7, 1, 2, 1, 1, 2, 2, 1, 1, 1, 1, 1, 1, 1, 1, 2, 1, 1, 1, 1, 1, 1, 2, 1, 1, 1, 1, 2, 7, 1, 2, 1, 1, 4, 2, 1, 3, 1, 1, 1, 1, 1, 1, 1, 2, 1, 1, 1, 1, 1, 1, 1, 8, 2, 2, 1, 1, 1, 1, 1, 2, 1, 1, 1, 6, 2, 1, 3, 1, 2, 1, 1, 4, 1, 1, 1, 2, 1, 2, 1, 1, 1, 1, 1, 1, 1, 1, 1, 1, 1, 1, 7, 1, 4, 2, 2, 1, 5, 1, 1, 1, 1, 1, 1, 1, 1, 1, 1, 2, 1, 1, 1, 2, 1, 3, 1, 2, 1, 1, 1, 3, 1, 1, 1, 2, 2, 1, 3, 1, 2, 2, 1, 1, 1, 1, 4, 1, 2, 1, 1, 1, 1, 1, 2, 1, 2, 1, 1, 1, 1, 1, 1, 1, 1, 1, 2, 2, 1, 1, 1, 1, 2, 1, 1, 2, 1, 1, 1, 1, 1, 1, 1, 1, 1, 2, 1, 1, 1, 1, 1, 1, 3, 1, 1, 1, 1, 1, 1, 3, 1, 2, 1, 1, 2, 1, 2, 1, 2, 1, 2, 3, 1, 1, 2, 1, 1, 1, 1, 2, 2, 3, 1, 1, 1, 1, 1, 1, 1, 1, 1, 1, 1, 1, 2, 1, 3, 1, 2, 1, 1, 1, 2, 1, 1, 1, 1, 1, 1, 1, 1, 2, 1, 2, 1, 1, 1, 1, 1, 1, 1, 1, 1, 1, 1, 1, 2, 1, 1, 2, 1, 1, 1, 1, 1, 1, 1, 1, 2, 1, 3, 1, 1, 1, 1, 1, 1, 1, 1, 1, 1, 1, 2, 1, 1, 1, 1, 1, 2, 1, 1, 1, 1, 1, 1, 1, 2, 1, 1, 1, 1, 1, 1, 2, 1, 1, 1, 1, 1, 1, 1, 2, 1, 1, 1, 1, 1, 1, 1, 1, 1, 1, 1, 1, 1, 1, 1, 3, 2, 10, 1, 1, 1, 2, 1, 1, 2, 2, 2, 8, 2, 1, 1, 2, 1, 2, 1, 2, 1, 1, 1, 1, 1, 1, 1, 1, 1, 1, 1, 1, 1, 1, 2, 1, 1, 1, 6, 1, 1, 1, 1, 1, 1, 1, 1, 1, 1, 1, 1, 2, 1, 1, 1, 1, 1, 2, 1, 2, 1, 2, 1, 1, 1, 1, 1, 2, 1, 1, 4, 1, 1, 1, 1, 1, 1, 1, 1, 1, 1, 4, 1, 2, 2, 1, 1, 1, 1, 3, 1, 1, 2, 3, 1, 2, 1, 1, 2, 1, 1, 4, 3, 1, 1, 1, 1, 1, 3, 1, 2, 1, 2, 1, 1, 1, 1, 1, 1, 1, 1, 1, 1, 2, 1, 21, 3, 5, 1, 1, 1, 2, 2, 1, 1, 1, 2, 1, 1, 2, 2, 1, 1, 3, 1, 2, 1, 1, 1, 1, 1, 2, 2, 2], \"xaxis\": \"x\", \"yaxis\": \"y\"}],\n",
              "                        {\"autosize\": false, \"barmode\": \"relative\", \"height\": 500, \"legend\": {\"tracegroupgap\": 0}, \"margin\": {\"b\": 65, \"l\": 65, \"r\": 50, \"t\": 90}, \"template\": {\"data\": {\"bar\": [{\"error_x\": {\"color\": \"#2a3f5f\"}, \"error_y\": {\"color\": \"#2a3f5f\"}, \"marker\": {\"line\": {\"color\": \"#E5ECF6\", \"width\": 0.5}}, \"type\": \"bar\"}], \"barpolar\": [{\"marker\": {\"line\": {\"color\": \"#E5ECF6\", \"width\": 0.5}}, \"type\": \"barpolar\"}], \"carpet\": [{\"aaxis\": {\"endlinecolor\": \"#2a3f5f\", \"gridcolor\": \"white\", \"linecolor\": \"white\", \"minorgridcolor\": \"white\", \"startlinecolor\": \"#2a3f5f\"}, \"baxis\": {\"endlinecolor\": \"#2a3f5f\", \"gridcolor\": \"white\", \"linecolor\": \"white\", \"minorgridcolor\": \"white\", \"startlinecolor\": \"#2a3f5f\"}, \"type\": \"carpet\"}], \"choropleth\": [{\"colorbar\": {\"outlinewidth\": 0, \"ticks\": \"\"}, \"type\": \"choropleth\"}], \"contour\": [{\"colorbar\": {\"outlinewidth\": 0, \"ticks\": \"\"}, \"colorscale\": [[0.0, \"#0d0887\"], [0.1111111111111111, \"#46039f\"], [0.2222222222222222, \"#7201a8\"], [0.3333333333333333, \"#9c179e\"], [0.4444444444444444, \"#bd3786\"], [0.5555555555555556, \"#d8576b\"], [0.6666666666666666, \"#ed7953\"], [0.7777777777777778, \"#fb9f3a\"], [0.8888888888888888, \"#fdca26\"], [1.0, \"#f0f921\"]], \"type\": \"contour\"}], \"contourcarpet\": [{\"colorbar\": {\"outlinewidth\": 0, \"ticks\": \"\"}, \"type\": \"contourcarpet\"}], \"heatmap\": [{\"colorbar\": {\"outlinewidth\": 0, \"ticks\": \"\"}, \"colorscale\": [[0.0, \"#0d0887\"], [0.1111111111111111, \"#46039f\"], [0.2222222222222222, \"#7201a8\"], [0.3333333333333333, \"#9c179e\"], [0.4444444444444444, \"#bd3786\"], [0.5555555555555556, \"#d8576b\"], [0.6666666666666666, \"#ed7953\"], [0.7777777777777778, \"#fb9f3a\"], [0.8888888888888888, \"#fdca26\"], [1.0, \"#f0f921\"]], \"type\": \"heatmap\"}], \"heatmapgl\": [{\"colorbar\": {\"outlinewidth\": 0, \"ticks\": \"\"}, \"colorscale\": [[0.0, \"#0d0887\"], [0.1111111111111111, \"#46039f\"], [0.2222222222222222, \"#7201a8\"], [0.3333333333333333, \"#9c179e\"], [0.4444444444444444, \"#bd3786\"], [0.5555555555555556, \"#d8576b\"], [0.6666666666666666, \"#ed7953\"], [0.7777777777777778, \"#fb9f3a\"], [0.8888888888888888, \"#fdca26\"], [1.0, \"#f0f921\"]], \"type\": \"heatmapgl\"}], \"histogram\": [{\"marker\": {\"colorbar\": {\"outlinewidth\": 0, \"ticks\": \"\"}}, \"type\": \"histogram\"}], \"histogram2d\": [{\"colorbar\": {\"outlinewidth\": 0, \"ticks\": \"\"}, \"colorscale\": [[0.0, \"#0d0887\"], [0.1111111111111111, \"#46039f\"], [0.2222222222222222, \"#7201a8\"], [0.3333333333333333, \"#9c179e\"], [0.4444444444444444, \"#bd3786\"], [0.5555555555555556, \"#d8576b\"], [0.6666666666666666, \"#ed7953\"], [0.7777777777777778, \"#fb9f3a\"], [0.8888888888888888, \"#fdca26\"], [1.0, \"#f0f921\"]], \"type\": \"histogram2d\"}], \"histogram2dcontour\": [{\"colorbar\": {\"outlinewidth\": 0, \"ticks\": \"\"}, \"colorscale\": [[0.0, \"#0d0887\"], [0.1111111111111111, \"#46039f\"], [0.2222222222222222, \"#7201a8\"], [0.3333333333333333, \"#9c179e\"], [0.4444444444444444, \"#bd3786\"], [0.5555555555555556, \"#d8576b\"], [0.6666666666666666, \"#ed7953\"], [0.7777777777777778, \"#fb9f3a\"], [0.8888888888888888, \"#fdca26\"], [1.0, \"#f0f921\"]], \"type\": \"histogram2dcontour\"}], \"mesh3d\": [{\"colorbar\": {\"outlinewidth\": 0, \"ticks\": \"\"}, \"type\": \"mesh3d\"}], \"parcoords\": [{\"line\": {\"colorbar\": {\"outlinewidth\": 0, \"ticks\": \"\"}}, \"type\": \"parcoords\"}], \"pie\": [{\"automargin\": true, \"type\": \"pie\"}], \"scatter\": [{\"marker\": {\"colorbar\": {\"outlinewidth\": 0, \"ticks\": \"\"}}, \"type\": \"scatter\"}], \"scatter3d\": [{\"line\": {\"colorbar\": {\"outlinewidth\": 0, \"ticks\": \"\"}}, \"marker\": {\"colorbar\": {\"outlinewidth\": 0, \"ticks\": \"\"}}, \"type\": \"scatter3d\"}], \"scattercarpet\": [{\"marker\": {\"colorbar\": {\"outlinewidth\": 0, \"ticks\": \"\"}}, \"type\": \"scattercarpet\"}], \"scattergeo\": [{\"marker\": {\"colorbar\": {\"outlinewidth\": 0, \"ticks\": \"\"}}, \"type\": \"scattergeo\"}], \"scattergl\": [{\"marker\": {\"colorbar\": {\"outlinewidth\": 0, \"ticks\": \"\"}}, \"type\": \"scattergl\"}], \"scattermapbox\": [{\"marker\": {\"colorbar\": {\"outlinewidth\": 0, \"ticks\": \"\"}}, \"type\": \"scattermapbox\"}], \"scatterpolar\": [{\"marker\": {\"colorbar\": {\"outlinewidth\": 0, \"ticks\": \"\"}}, \"type\": \"scatterpolar\"}], \"scatterpolargl\": [{\"marker\": {\"colorbar\": {\"outlinewidth\": 0, \"ticks\": \"\"}}, \"type\": \"scatterpolargl\"}], \"scatterternary\": [{\"marker\": {\"colorbar\": {\"outlinewidth\": 0, \"ticks\": \"\"}}, \"type\": \"scatterternary\"}], \"surface\": [{\"colorbar\": {\"outlinewidth\": 0, \"ticks\": \"\"}, \"colorscale\": [[0.0, \"#0d0887\"], [0.1111111111111111, \"#46039f\"], [0.2222222222222222, \"#7201a8\"], [0.3333333333333333, \"#9c179e\"], [0.4444444444444444, \"#bd3786\"], [0.5555555555555556, \"#d8576b\"], [0.6666666666666666, \"#ed7953\"], [0.7777777777777778, \"#fb9f3a\"], [0.8888888888888888, \"#fdca26\"], [1.0, \"#f0f921\"]], \"type\": \"surface\"}], \"table\": [{\"cells\": {\"fill\": {\"color\": \"#EBF0F8\"}, \"line\": {\"color\": \"white\"}}, \"header\": {\"fill\": {\"color\": \"#C8D4E3\"}, \"line\": {\"color\": \"white\"}}, \"type\": \"table\"}]}, \"layout\": {\"annotationdefaults\": {\"arrowcolor\": \"#2a3f5f\", \"arrowhead\": 0, \"arrowwidth\": 1}, \"coloraxis\": {\"colorbar\": {\"outlinewidth\": 0, \"ticks\": \"\"}}, \"colorscale\": {\"diverging\": [[0, \"#8e0152\"], [0.1, \"#c51b7d\"], [0.2, \"#de77ae\"], [0.3, \"#f1b6da\"], [0.4, \"#fde0ef\"], [0.5, \"#f7f7f7\"], [0.6, \"#e6f5d0\"], [0.7, \"#b8e186\"], [0.8, \"#7fbc41\"], [0.9, \"#4d9221\"], [1, \"#276419\"]], \"sequential\": [[0.0, \"#0d0887\"], [0.1111111111111111, \"#46039f\"], [0.2222222222222222, \"#7201a8\"], [0.3333333333333333, \"#9c179e\"], [0.4444444444444444, \"#bd3786\"], [0.5555555555555556, \"#d8576b\"], [0.6666666666666666, \"#ed7953\"], [0.7777777777777778, \"#fb9f3a\"], [0.8888888888888888, \"#fdca26\"], [1.0, \"#f0f921\"]], \"sequentialminus\": [[0.0, \"#0d0887\"], [0.1111111111111111, \"#46039f\"], [0.2222222222222222, \"#7201a8\"], [0.3333333333333333, \"#9c179e\"], [0.4444444444444444, \"#bd3786\"], [0.5555555555555556, \"#d8576b\"], [0.6666666666666666, \"#ed7953\"], [0.7777777777777778, \"#fb9f3a\"], [0.8888888888888888, \"#fdca26\"], [1.0, \"#f0f921\"]]}, \"colorway\": [\"#636efa\", \"#EF553B\", \"#00cc96\", \"#ab63fa\", \"#FFA15A\", \"#19d3f3\", \"#FF6692\", \"#B6E880\", \"#FF97FF\", \"#FECB52\"], \"font\": {\"color\": \"#2a3f5f\"}, \"geo\": {\"bgcolor\": \"white\", \"lakecolor\": \"white\", \"landcolor\": \"#E5ECF6\", \"showlakes\": true, \"showland\": true, \"subunitcolor\": \"white\"}, \"hoverlabel\": {\"align\": \"left\"}, \"hovermode\": \"closest\", \"mapbox\": {\"style\": \"light\"}, \"paper_bgcolor\": \"white\", \"plot_bgcolor\": \"#E5ECF6\", \"polar\": {\"angularaxis\": {\"gridcolor\": \"white\", \"linecolor\": \"white\", \"ticks\": \"\"}, \"bgcolor\": \"#E5ECF6\", \"radialaxis\": {\"gridcolor\": \"white\", \"linecolor\": \"white\", \"ticks\": \"\"}}, \"scene\": {\"xaxis\": {\"backgroundcolor\": \"#E5ECF6\", \"gridcolor\": \"white\", \"gridwidth\": 2, \"linecolor\": \"white\", \"showbackground\": true, \"ticks\": \"\", \"zerolinecolor\": \"white\"}, \"yaxis\": {\"backgroundcolor\": \"#E5ECF6\", \"gridcolor\": \"white\", \"gridwidth\": 2, \"linecolor\": \"white\", \"showbackground\": true, \"ticks\": \"\", \"zerolinecolor\": \"white\"}, \"zaxis\": {\"backgroundcolor\": \"#E5ECF6\", \"gridcolor\": \"white\", \"gridwidth\": 2, \"linecolor\": \"white\", \"showbackground\": true, \"ticks\": \"\", \"zerolinecolor\": \"white\"}}, \"shapedefaults\": {\"line\": {\"color\": \"#2a3f5f\"}}, \"ternary\": {\"aaxis\": {\"gridcolor\": \"white\", \"linecolor\": \"white\", \"ticks\": \"\"}, \"baxis\": {\"gridcolor\": \"white\", \"linecolor\": \"white\", \"ticks\": \"\"}, \"bgcolor\": \"#E5ECF6\", \"caxis\": {\"gridcolor\": \"white\", \"linecolor\": \"white\", \"ticks\": \"\"}}, \"title\": {\"x\": 0.05}, \"xaxis\": {\"automargin\": true, \"gridcolor\": \"white\", \"linecolor\": \"white\", \"ticks\": \"\", \"title\": {\"standoff\": 15}, \"zerolinecolor\": \"white\", \"zerolinewidth\": 2}, \"yaxis\": {\"automargin\": true, \"gridcolor\": \"white\", \"linecolor\": \"white\", \"ticks\": \"\", \"title\": {\"standoff\": 15}, \"zerolinecolor\": \"white\", \"zerolinewidth\": 2}}}, \"title\": {\"text\": \"# Rolls From Spending 5000 sparks on Legendary Chests\"}, \"width\": 600, \"xaxis\": {\"anchor\": \"y\", \"domain\": [0.0, 1.0], \"range\": [0, 14], \"title\": {\"text\": \"Rolls\"}}, \"yaxis\": {\"anchor\": \"x\", \"domain\": [0.0, 1.0], \"title\": {\"text\": \"count\"}}},\n",
              "                        {\"responsive\": true}\n",
              "                    ).then(function(){\n",
              "                            \n",
              "var gd = document.getElementById('bdaa66f2-c50e-49fa-9778-dd9e0d38ba2a');\n",
              "var x = new MutationObserver(function (mutations, observer) {{\n",
              "        var display = window.getComputedStyle(gd).display;\n",
              "        if (!display || display === 'none') {{\n",
              "            console.log([gd, 'removed!']);\n",
              "            Plotly.purge(gd);\n",
              "            observer.disconnect();\n",
              "        }}\n",
              "}});\n",
              "\n",
              "// Listen for the removal of the full notebook cells\n",
              "var notebookContainer = gd.closest('#notebook-container');\n",
              "if (notebookContainer) {{\n",
              "    x.observe(notebookContainer, {childList: true});\n",
              "}}\n",
              "\n",
              "// Listen for the clearing of the current output cell\n",
              "var outputEl = gd.closest('.output');\n",
              "if (outputEl) {{\n",
              "    x.observe(outputEl, {childList: true});\n",
              "}}\n",
              "\n",
              "                        })\n",
              "                };\n",
              "                \n",
              "            </script>\n",
              "        </div>\n",
              "</body>\n",
              "</html>"
            ]
          },
          "metadata": {
            "tags": []
          }
        }
      ]
    },
    {
      "cell_type": "code",
      "metadata": {
        "colab": {
          "base_uri": "https://localhost:8080/",
          "height": 407
        },
        "id": "S1Dn5y3gFbeK",
        "outputId": "08a8c2b3-1bd9-4fb3-a0ac-3fb70016ca28"
      },
      "source": [
        "#\n",
        "# Above, but tabular format\n",
        "#\n",
        "import numpy as np\n",
        "\n",
        "foo = df.groupby(['Rolls'], as_index=False).size()\n",
        "foo['percent'] = foo['size']/10\n",
        "foo['sparks_spent'] = foo['Rolls']*5000\n",
        "#.aggregate(np.sum)\n",
        "print(\"Tier II (League 10-14, Chapter 3 of Event\")\n",
        "foo"
      ],
      "execution_count": 43,
      "outputs": [
        {
          "output_type": "stream",
          "text": [
            "Tier II (League 10-14, Chapter 3 of Event\n"
          ],
          "name": "stdout"
        },
        {
          "output_type": "execute_result",
          "data": {
            "text/html": [
              "<div>\n",
              "<style scoped>\n",
              "    .dataframe tbody tr th:only-of-type {\n",
              "        vertical-align: middle;\n",
              "    }\n",
              "\n",
              "    .dataframe tbody tr th {\n",
              "        vertical-align: top;\n",
              "    }\n",
              "\n",
              "    .dataframe thead th {\n",
              "        text-align: right;\n",
              "    }\n",
              "</style>\n",
              "<table border=\"1\" class=\"dataframe\">\n",
              "  <thead>\n",
              "    <tr style=\"text-align: right;\">\n",
              "      <th></th>\n",
              "      <th>Rolls</th>\n",
              "      <th>size</th>\n",
              "      <th>percent</th>\n",
              "      <th>sparks_spent</th>\n",
              "    </tr>\n",
              "  </thead>\n",
              "  <tbody>\n",
              "    <tr>\n",
              "      <th>0</th>\n",
              "      <td>1</td>\n",
              "      <td>724</td>\n",
              "      <td>72.4</td>\n",
              "      <td>5000</td>\n",
              "    </tr>\n",
              "    <tr>\n",
              "      <th>1</th>\n",
              "      <td>2</td>\n",
              "      <td>182</td>\n",
              "      <td>18.2</td>\n",
              "      <td>10000</td>\n",
              "    </tr>\n",
              "    <tr>\n",
              "      <th>2</th>\n",
              "      <td>3</td>\n",
              "      <td>37</td>\n",
              "      <td>3.7</td>\n",
              "      <td>15000</td>\n",
              "    </tr>\n",
              "    <tr>\n",
              "      <th>3</th>\n",
              "      <td>4</td>\n",
              "      <td>26</td>\n",
              "      <td>2.6</td>\n",
              "      <td>20000</td>\n",
              "    </tr>\n",
              "    <tr>\n",
              "      <th>4</th>\n",
              "      <td>5</td>\n",
              "      <td>12</td>\n",
              "      <td>1.2</td>\n",
              "      <td>25000</td>\n",
              "    </tr>\n",
              "    <tr>\n",
              "      <th>5</th>\n",
              "      <td>6</td>\n",
              "      <td>2</td>\n",
              "      <td>0.2</td>\n",
              "      <td>30000</td>\n",
              "    </tr>\n",
              "    <tr>\n",
              "      <th>6</th>\n",
              "      <td>7</td>\n",
              "      <td>4</td>\n",
              "      <td>0.4</td>\n",
              "      <td>35000</td>\n",
              "    </tr>\n",
              "    <tr>\n",
              "      <th>7</th>\n",
              "      <td>8</td>\n",
              "      <td>7</td>\n",
              "      <td>0.7</td>\n",
              "      <td>40000</td>\n",
              "    </tr>\n",
              "    <tr>\n",
              "      <th>8</th>\n",
              "      <td>9</td>\n",
              "      <td>2</td>\n",
              "      <td>0.2</td>\n",
              "      <td>45000</td>\n",
              "    </tr>\n",
              "    <tr>\n",
              "      <th>9</th>\n",
              "      <td>10</td>\n",
              "      <td>3</td>\n",
              "      <td>0.3</td>\n",
              "      <td>50000</td>\n",
              "    </tr>\n",
              "    <tr>\n",
              "      <th>10</th>\n",
              "      <td>21</td>\n",
              "      <td>1</td>\n",
              "      <td>0.1</td>\n",
              "      <td>105000</td>\n",
              "    </tr>\n",
              "  </tbody>\n",
              "</table>\n",
              "</div>"
            ],
            "text/plain": [
              "    Rolls  size  percent  sparks_spent\n",
              "0       1   724     72.4          5000\n",
              "1       2   182     18.2         10000\n",
              "2       3    37      3.7         15000\n",
              "3       4    26      2.6         20000\n",
              "4       5    12      1.2         25000\n",
              "5       6     2      0.2         30000\n",
              "6       7     4      0.4         35000\n",
              "7       8     7      0.7         40000\n",
              "8       9     2      0.2         45000\n",
              "9      10     3      0.3         50000\n",
              "10     21     1      0.1        105000"
            ]
          },
          "metadata": {
            "tags": []
          },
          "execution_count": 43
        }
      ]
    },
    {
      "cell_type": "code",
      "metadata": {
        "colab": {
          "base_uri": "https://localhost:8080/",
          "height": 517
        },
        "id": "lzv-houSBgBa",
        "outputId": "cce03686-3068-4cdf-f661-09d59af0be07"
      },
      "source": [
        "#\n",
        "# Simulate spending 5000 sparks on epic chests 1000 times and show resulting number of rolls possible\n",
        "#\n",
        "results = []\n",
        "for i in range(0,1000):\n",
        "  df, rolls, spent = fivek_epic()\n",
        "  results.append(rolls)\n",
        "\n",
        "#pprint(results)\n",
        "df = pd.DataFrame(results,columns=[\"Rolls\"])\n",
        "fig = px.histogram(df,x=\"Rolls\") #, log_y=True)\n",
        "fig.update_layout(title='# Rolls From Spending 5000 sparks on Epic Chests', autosize=False,\n",
        "                  width=600, height=500,\n",
        "                  margin=dict(l=65, r=50, b=65, t=90))\n",
        "fig.show()"
      ],
      "execution_count": 32,
      "outputs": [
        {
          "output_type": "display_data",
          "data": {
            "text/html": [
              "<html>\n",
              "<head><meta charset=\"utf-8\" /></head>\n",
              "<body>\n",
              "    <div>\n",
              "            <script src=\"https://cdnjs.cloudflare.com/ajax/libs/mathjax/2.7.5/MathJax.js?config=TeX-AMS-MML_SVG\"></script><script type=\"text/javascript\">if (window.MathJax) {MathJax.Hub.Config({SVG: {font: \"STIX-Web\"}});}</script>\n",
              "                <script type=\"text/javascript\">window.PlotlyConfig = {MathJaxConfig: 'local'};</script>\n",
              "        <script src=\"https://cdn.plot.ly/plotly-latest.min.js\"></script>    \n",
              "            <div id=\"ab2df87d-30bc-4677-9ded-4e2785c4cc50\" class=\"plotly-graph-div\" style=\"height:500px; width:600px;\"></div>\n",
              "            <script type=\"text/javascript\">\n",
              "                \n",
              "                    window.PLOTLYENV=window.PLOTLYENV || {};\n",
              "                    \n",
              "                if (document.getElementById(\"ab2df87d-30bc-4677-9ded-4e2785c4cc50\")) {\n",
              "                    Plotly.newPlot(\n",
              "                        'ab2df87d-30bc-4677-9ded-4e2785c4cc50',\n",
              "                        [{\"alignmentgroup\": \"True\", \"bingroup\": \"x\", \"hoverlabel\": {\"namelength\": 0}, \"hovertemplate\": \"Rolls=%{x}<br>count=%{y}\", \"legendgroup\": \"\", \"marker\": {\"color\": \"#636efa\"}, \"name\": \"\", \"offsetgroup\": \"\", \"orientation\": \"v\", \"showlegend\": false, \"type\": \"histogram\", \"x\": [7, 5, 6, 5, 5, 5, 7, 6, 6, 10, 5, 5, 5, 11, 7, 5, 5, 5, 5, 8, 12, 5, 5, 6, 5, 5, 6, 8, 10, 8, 9, 9, 7, 5, 11, 6, 5, 11, 5, 6, 8, 5, 5, 6, 5, 6, 10, 5, 6, 6, 5, 7, 9, 10, 5, 6, 6, 7, 10, 5, 8, 5, 5, 5, 6, 5, 11, 5, 5, 6, 11, 5, 8, 6, 12, 5, 5, 5, 5, 5, 6, 11, 5, 5, 5, 7, 8, 6, 5, 6, 5, 12, 7, 8, 6, 6, 5, 12, 7, 6, 6, 5, 15, 5, 6, 8, 6, 5, 6, 5, 6, 5, 8, 6, 6, 8, 6, 5, 5, 8, 6, 5, 8, 9, 5, 5, 6, 7, 12, 10, 6, 5, 6, 5, 5, 6, 12, 6, 6, 6, 6, 5, 5, 6, 5, 6, 5, 9, 10, 5, 6, 6, 5, 7, 5, 5, 7, 5, 5, 5, 5, 6, 8, 5, 5, 5, 5, 5, 11, 9, 5, 6, 5, 5, 5, 9, 7, 5, 7, 6, 10, 7, 5, 7, 6, 5, 5, 5, 5, 6, 6, 9, 5, 5, 6, 5, 12, 5, 8, 5, 5, 5, 5, 5, 10, 7, 9, 8, 5, 5, 5, 5, 7, 6, 6, 5, 6, 5, 5, 10, 6, 5, 8, 8, 6, 7, 6, 5, 7, 7, 11, 8, 8, 5, 10, 7, 5, 5, 8, 5, 6, 6, 9, 8, 6, 9, 6, 7, 5, 5, 8, 7, 5, 5, 7, 6, 5, 11, 7, 5, 6, 5, 5, 5, 5, 5, 7, 6, 5, 5, 5, 5, 8, 5, 5, 6, 9, 5, 5, 5, 5, 7, 6, 5, 5, 6, 8, 6, 5, 5, 6, 5, 5, 6, 12, 9, 5, 7, 5, 5, 5, 5, 7, 5, 5, 9, 11, 5, 6, 5, 6, 7, 5, 6, 6, 7, 7, 7, 5, 5, 8, 5, 5, 5, 5, 6, 6, 6, 6, 8, 9, 10, 13, 7, 5, 6, 6, 6, 7, 6, 5, 7, 5, 5, 6, 6, 6, 5, 5, 5, 6, 6, 5, 5, 6, 5, 6, 7, 8, 10, 6, 6, 5, 7, 5, 7, 5, 5, 15, 9, 6, 11, 7, 5, 6, 6, 5, 6, 7, 8, 7, 6, 9, 5, 9, 5, 6, 6, 9, 5, 5, 6, 9, 8, 7, 7, 7, 8, 6, 5, 5, 5, 5, 5, 11, 6, 5, 12, 11, 10, 5, 6, 5, 6, 9, 5, 8, 6, 6, 7, 6, 5, 7, 5, 5, 5, 11, 5, 5, 9, 9, 5, 8, 5, 5, 5, 6, 5, 5, 8, 7, 6, 5, 7, 7, 6, 13, 6, 7, 6, 5, 10, 5, 5, 9, 6, 8, 9, 5, 11, 12, 9, 6, 8, 5, 5, 7, 6, 11, 6, 8, 9, 9, 6, 10, 8, 5, 7, 6, 6, 6, 5, 12, 5, 6, 6, 5, 5, 5, 5, 6, 5, 5, 5, 5, 6, 9, 5, 5, 5, 5, 6, 5, 5, 8, 7, 8, 6, 6, 5, 9, 10, 7, 5, 7, 8, 5, 6, 5, 5, 5, 7, 8, 5, 6, 5, 5, 6, 5, 5, 7, 7, 5, 5, 12, 5, 12, 5, 6, 5, 6, 10, 5, 7, 5, 6, 5, 6, 6, 7, 5, 6, 6, 6, 6, 7, 5, 5, 5, 9, 5, 6, 7, 5, 6, 6, 5, 7, 5, 9, 5, 5, 8, 5, 5, 5, 8, 5, 5, 5, 5, 6, 7, 5, 7, 7, 5, 5, 5, 5, 7, 6, 5, 5, 8, 7, 12, 6, 5, 6, 6, 6, 6, 8, 6, 9, 5, 6, 5, 7, 7, 5, 8, 5, 5, 5, 5, 6, 10, 6, 6, 5, 5, 5, 6, 8, 8, 5, 6, 5, 5, 5, 9, 8, 6, 5, 5, 7, 7, 6, 5, 7, 5, 9, 5, 6, 7, 8, 6, 11, 5, 5, 6, 15, 7, 5, 6, 5, 6, 5, 6, 7, 7, 5, 5, 5, 6, 7, 8, 6, 7, 6, 13, 9, 6, 8, 6, 6, 6, 6, 9, 8, 5, 5, 5, 5, 6, 5, 7, 7, 5, 10, 13, 6, 11, 9, 5, 8, 5, 7, 6, 7, 6, 6, 7, 9, 5, 6, 12, 8, 6, 6, 6, 6, 5, 6, 9, 8, 5, 12, 5, 5, 5, 5, 6, 6, 7, 10, 5, 5, 5, 5, 5, 6, 7, 6, 5, 5, 5, 6, 7, 8, 5, 6, 5, 5, 6, 15, 6, 8, 5, 5, 5, 9, 10, 5, 5, 6, 9, 10, 5, 6, 9, 6, 6, 6, 5, 5, 7, 5, 8, 6, 5, 11, 7, 6, 5, 11, 9, 6, 5, 5, 5, 6, 9, 8, 9, 6, 10, 6, 5, 11, 5, 5, 5, 9, 6, 6, 5, 5, 6, 7, 7, 6, 6, 6, 5, 9, 8, 8, 5, 5, 6, 6, 7, 9, 5, 7, 5, 6, 5, 6, 6, 5, 9, 8, 7, 6, 5, 7, 6, 5, 5, 5, 6, 5, 8, 9, 9, 5, 10, 5, 6, 5, 7, 6, 5, 7, 5, 7, 5, 5, 6, 7, 5, 7, 6, 6, 5, 5, 5, 5, 5, 6, 9, 9, 7, 5, 8, 9, 5, 5, 5, 6, 5, 5, 5, 10, 5, 5, 8, 5, 10, 6, 11, 5, 7, 9, 8, 5, 6, 5, 8, 5, 6, 6, 5, 5, 5, 5, 5, 8, 6, 8, 5, 6, 7, 6, 7, 5, 7, 5, 9, 7, 5, 6, 5, 6, 5, 5, 5, 5, 5, 8, 10, 7, 5, 7, 5, 12, 6, 6, 5, 7, 6, 5, 8, 5, 6, 7, 5, 5, 5, 6, 5, 8, 5, 5, 5, 5, 8, 5, 5, 5, 6, 5, 7, 5, 5, 5, 6, 5, 5, 6, 5, 6, 5, 6, 5, 5, 5, 8, 8, 6, 7, 9, 6, 5, 6, 6, 7, 5, 8, 7, 7, 5, 5, 11, 6, 5, 5, 8, 6, 9, 5, 6, 6, 6, 5, 6], \"xaxis\": \"x\", \"yaxis\": \"y\"}],\n",
              "                        {\"autosize\": false, \"barmode\": \"relative\", \"height\": 500, \"legend\": {\"tracegroupgap\": 0}, \"margin\": {\"b\": 65, \"l\": 65, \"r\": 50, \"t\": 90}, \"template\": {\"data\": {\"bar\": [{\"error_x\": {\"color\": \"#2a3f5f\"}, \"error_y\": {\"color\": \"#2a3f5f\"}, \"marker\": {\"line\": {\"color\": \"#E5ECF6\", \"width\": 0.5}}, \"type\": \"bar\"}], \"barpolar\": [{\"marker\": {\"line\": {\"color\": \"#E5ECF6\", \"width\": 0.5}}, \"type\": \"barpolar\"}], \"carpet\": [{\"aaxis\": {\"endlinecolor\": \"#2a3f5f\", \"gridcolor\": \"white\", \"linecolor\": \"white\", \"minorgridcolor\": \"white\", \"startlinecolor\": \"#2a3f5f\"}, \"baxis\": {\"endlinecolor\": \"#2a3f5f\", \"gridcolor\": \"white\", \"linecolor\": \"white\", \"minorgridcolor\": \"white\", \"startlinecolor\": \"#2a3f5f\"}, \"type\": \"carpet\"}], \"choropleth\": [{\"colorbar\": {\"outlinewidth\": 0, \"ticks\": \"\"}, \"type\": \"choropleth\"}], \"contour\": [{\"colorbar\": {\"outlinewidth\": 0, \"ticks\": \"\"}, \"colorscale\": [[0.0, \"#0d0887\"], [0.1111111111111111, \"#46039f\"], [0.2222222222222222, \"#7201a8\"], [0.3333333333333333, \"#9c179e\"], [0.4444444444444444, \"#bd3786\"], [0.5555555555555556, \"#d8576b\"], [0.6666666666666666, \"#ed7953\"], [0.7777777777777778, \"#fb9f3a\"], [0.8888888888888888, \"#fdca26\"], [1.0, \"#f0f921\"]], \"type\": \"contour\"}], \"contourcarpet\": [{\"colorbar\": {\"outlinewidth\": 0, \"ticks\": \"\"}, \"type\": \"contourcarpet\"}], \"heatmap\": [{\"colorbar\": {\"outlinewidth\": 0, \"ticks\": \"\"}, \"colorscale\": [[0.0, \"#0d0887\"], [0.1111111111111111, \"#46039f\"], [0.2222222222222222, \"#7201a8\"], [0.3333333333333333, \"#9c179e\"], [0.4444444444444444, \"#bd3786\"], [0.5555555555555556, \"#d8576b\"], [0.6666666666666666, \"#ed7953\"], [0.7777777777777778, \"#fb9f3a\"], [0.8888888888888888, \"#fdca26\"], [1.0, \"#f0f921\"]], \"type\": \"heatmap\"}], \"heatmapgl\": [{\"colorbar\": {\"outlinewidth\": 0, \"ticks\": \"\"}, \"colorscale\": [[0.0, \"#0d0887\"], [0.1111111111111111, \"#46039f\"], [0.2222222222222222, \"#7201a8\"], [0.3333333333333333, \"#9c179e\"], [0.4444444444444444, \"#bd3786\"], [0.5555555555555556, \"#d8576b\"], [0.6666666666666666, \"#ed7953\"], [0.7777777777777778, \"#fb9f3a\"], [0.8888888888888888, \"#fdca26\"], [1.0, \"#f0f921\"]], \"type\": \"heatmapgl\"}], \"histogram\": [{\"marker\": {\"colorbar\": {\"outlinewidth\": 0, \"ticks\": \"\"}}, \"type\": \"histogram\"}], \"histogram2d\": [{\"colorbar\": {\"outlinewidth\": 0, \"ticks\": \"\"}, \"colorscale\": [[0.0, \"#0d0887\"], [0.1111111111111111, \"#46039f\"], [0.2222222222222222, \"#7201a8\"], [0.3333333333333333, \"#9c179e\"], [0.4444444444444444, \"#bd3786\"], [0.5555555555555556, \"#d8576b\"], [0.6666666666666666, \"#ed7953\"], [0.7777777777777778, \"#fb9f3a\"], [0.8888888888888888, \"#fdca26\"], [1.0, \"#f0f921\"]], \"type\": \"histogram2d\"}], \"histogram2dcontour\": [{\"colorbar\": {\"outlinewidth\": 0, \"ticks\": \"\"}, \"colorscale\": [[0.0, \"#0d0887\"], [0.1111111111111111, \"#46039f\"], [0.2222222222222222, \"#7201a8\"], [0.3333333333333333, \"#9c179e\"], [0.4444444444444444, \"#bd3786\"], [0.5555555555555556, \"#d8576b\"], [0.6666666666666666, \"#ed7953\"], [0.7777777777777778, \"#fb9f3a\"], [0.8888888888888888, \"#fdca26\"], [1.0, \"#f0f921\"]], \"type\": \"histogram2dcontour\"}], \"mesh3d\": [{\"colorbar\": {\"outlinewidth\": 0, \"ticks\": \"\"}, \"type\": \"mesh3d\"}], \"parcoords\": [{\"line\": {\"colorbar\": {\"outlinewidth\": 0, \"ticks\": \"\"}}, \"type\": \"parcoords\"}], \"pie\": [{\"automargin\": true, \"type\": \"pie\"}], \"scatter\": [{\"marker\": {\"colorbar\": {\"outlinewidth\": 0, \"ticks\": \"\"}}, \"type\": \"scatter\"}], \"scatter3d\": [{\"line\": {\"colorbar\": {\"outlinewidth\": 0, \"ticks\": \"\"}}, \"marker\": {\"colorbar\": {\"outlinewidth\": 0, \"ticks\": \"\"}}, \"type\": \"scatter3d\"}], \"scattercarpet\": [{\"marker\": {\"colorbar\": {\"outlinewidth\": 0, \"ticks\": \"\"}}, \"type\": \"scattercarpet\"}], \"scattergeo\": [{\"marker\": {\"colorbar\": {\"outlinewidth\": 0, \"ticks\": \"\"}}, \"type\": \"scattergeo\"}], \"scattergl\": [{\"marker\": {\"colorbar\": {\"outlinewidth\": 0, \"ticks\": \"\"}}, \"type\": \"scattergl\"}], \"scattermapbox\": [{\"marker\": {\"colorbar\": {\"outlinewidth\": 0, \"ticks\": \"\"}}, \"type\": \"scattermapbox\"}], \"scatterpolar\": [{\"marker\": {\"colorbar\": {\"outlinewidth\": 0, \"ticks\": \"\"}}, \"type\": \"scatterpolar\"}], \"scatterpolargl\": [{\"marker\": {\"colorbar\": {\"outlinewidth\": 0, \"ticks\": \"\"}}, \"type\": \"scatterpolargl\"}], \"scatterternary\": [{\"marker\": {\"colorbar\": {\"outlinewidth\": 0, \"ticks\": \"\"}}, \"type\": \"scatterternary\"}], \"surface\": [{\"colorbar\": {\"outlinewidth\": 0, \"ticks\": \"\"}, \"colorscale\": [[0.0, \"#0d0887\"], [0.1111111111111111, \"#46039f\"], [0.2222222222222222, \"#7201a8\"], [0.3333333333333333, \"#9c179e\"], [0.4444444444444444, \"#bd3786\"], [0.5555555555555556, \"#d8576b\"], [0.6666666666666666, \"#ed7953\"], [0.7777777777777778, \"#fb9f3a\"], [0.8888888888888888, \"#fdca26\"], [1.0, \"#f0f921\"]], \"type\": \"surface\"}], \"table\": [{\"cells\": {\"fill\": {\"color\": \"#EBF0F8\"}, \"line\": {\"color\": \"white\"}}, \"header\": {\"fill\": {\"color\": \"#C8D4E3\"}, \"line\": {\"color\": \"white\"}}, \"type\": \"table\"}]}, \"layout\": {\"annotationdefaults\": {\"arrowcolor\": \"#2a3f5f\", \"arrowhead\": 0, \"arrowwidth\": 1}, \"coloraxis\": {\"colorbar\": {\"outlinewidth\": 0, \"ticks\": \"\"}}, \"colorscale\": {\"diverging\": [[0, \"#8e0152\"], [0.1, \"#c51b7d\"], [0.2, \"#de77ae\"], [0.3, \"#f1b6da\"], [0.4, \"#fde0ef\"], [0.5, \"#f7f7f7\"], [0.6, \"#e6f5d0\"], [0.7, \"#b8e186\"], [0.8, \"#7fbc41\"], [0.9, \"#4d9221\"], [1, \"#276419\"]], \"sequential\": [[0.0, \"#0d0887\"], [0.1111111111111111, \"#46039f\"], [0.2222222222222222, \"#7201a8\"], [0.3333333333333333, \"#9c179e\"], [0.4444444444444444, \"#bd3786\"], [0.5555555555555556, \"#d8576b\"], [0.6666666666666666, \"#ed7953\"], [0.7777777777777778, \"#fb9f3a\"], [0.8888888888888888, \"#fdca26\"], [1.0, \"#f0f921\"]], \"sequentialminus\": [[0.0, \"#0d0887\"], [0.1111111111111111, \"#46039f\"], [0.2222222222222222, \"#7201a8\"], [0.3333333333333333, \"#9c179e\"], [0.4444444444444444, \"#bd3786\"], [0.5555555555555556, \"#d8576b\"], [0.6666666666666666, \"#ed7953\"], [0.7777777777777778, \"#fb9f3a\"], [0.8888888888888888, \"#fdca26\"], [1.0, \"#f0f921\"]]}, \"colorway\": [\"#636efa\", \"#EF553B\", \"#00cc96\", \"#ab63fa\", \"#FFA15A\", \"#19d3f3\", \"#FF6692\", \"#B6E880\", \"#FF97FF\", \"#FECB52\"], \"font\": {\"color\": \"#2a3f5f\"}, \"geo\": {\"bgcolor\": \"white\", \"lakecolor\": \"white\", \"landcolor\": \"#E5ECF6\", \"showlakes\": true, \"showland\": true, \"subunitcolor\": \"white\"}, \"hoverlabel\": {\"align\": \"left\"}, \"hovermode\": \"closest\", \"mapbox\": {\"style\": \"light\"}, \"paper_bgcolor\": \"white\", \"plot_bgcolor\": \"#E5ECF6\", \"polar\": {\"angularaxis\": {\"gridcolor\": \"white\", \"linecolor\": \"white\", \"ticks\": \"\"}, \"bgcolor\": \"#E5ECF6\", \"radialaxis\": {\"gridcolor\": \"white\", \"linecolor\": \"white\", \"ticks\": \"\"}}, \"scene\": {\"xaxis\": {\"backgroundcolor\": \"#E5ECF6\", \"gridcolor\": \"white\", \"gridwidth\": 2, \"linecolor\": \"white\", \"showbackground\": true, \"ticks\": \"\", \"zerolinecolor\": \"white\"}, \"yaxis\": {\"backgroundcolor\": \"#E5ECF6\", \"gridcolor\": \"white\", \"gridwidth\": 2, \"linecolor\": \"white\", \"showbackground\": true, \"ticks\": \"\", \"zerolinecolor\": \"white\"}, \"zaxis\": {\"backgroundcolor\": \"#E5ECF6\", \"gridcolor\": \"white\", \"gridwidth\": 2, \"linecolor\": \"white\", \"showbackground\": true, \"ticks\": \"\", \"zerolinecolor\": \"white\"}}, \"shapedefaults\": {\"line\": {\"color\": \"#2a3f5f\"}}, \"ternary\": {\"aaxis\": {\"gridcolor\": \"white\", \"linecolor\": \"white\", \"ticks\": \"\"}, \"baxis\": {\"gridcolor\": \"white\", \"linecolor\": \"white\", \"ticks\": \"\"}, \"bgcolor\": \"#E5ECF6\", \"caxis\": {\"gridcolor\": \"white\", \"linecolor\": \"white\", \"ticks\": \"\"}}, \"title\": {\"x\": 0.05}, \"xaxis\": {\"automargin\": true, \"gridcolor\": \"white\", \"linecolor\": \"white\", \"ticks\": \"\", \"title\": {\"standoff\": 15}, \"zerolinecolor\": \"white\", \"zerolinewidth\": 2}, \"yaxis\": {\"automargin\": true, \"gridcolor\": \"white\", \"linecolor\": \"white\", \"ticks\": \"\", \"title\": {\"standoff\": 15}, \"zerolinecolor\": \"white\", \"zerolinewidth\": 2}}}, \"title\": {\"text\": \"# Rolls From Spending 5000 sparks on Epic Chests\"}, \"width\": 600, \"xaxis\": {\"anchor\": \"y\", \"domain\": [0.0, 1.0], \"title\": {\"text\": \"Rolls\"}}, \"yaxis\": {\"anchor\": \"x\", \"domain\": [0.0, 1.0], \"title\": {\"text\": \"count\"}}},\n",
              "                        {\"responsive\": true}\n",
              "                    ).then(function(){\n",
              "                            \n",
              "var gd = document.getElementById('ab2df87d-30bc-4677-9ded-4e2785c4cc50');\n",
              "var x = new MutationObserver(function (mutations, observer) {{\n",
              "        var display = window.getComputedStyle(gd).display;\n",
              "        if (!display || display === 'none') {{\n",
              "            console.log([gd, 'removed!']);\n",
              "            Plotly.purge(gd);\n",
              "            observer.disconnect();\n",
              "        }}\n",
              "}});\n",
              "\n",
              "// Listen for the removal of the full notebook cells\n",
              "var notebookContainer = gd.closest('#notebook-container');\n",
              "if (notebookContainer) {{\n",
              "    x.observe(notebookContainer, {childList: true});\n",
              "}}\n",
              "\n",
              "// Listen for the clearing of the current output cell\n",
              "var outputEl = gd.closest('.output');\n",
              "if (outputEl) {{\n",
              "    x.observe(outputEl, {childList: true});\n",
              "}}\n",
              "\n",
              "                        })\n",
              "                };\n",
              "                \n",
              "            </script>\n",
              "        </div>\n",
              "</body>\n",
              "</html>"
            ]
          },
          "metadata": {
            "tags": []
          }
        }
      ]
    },
    {
      "cell_type": "code",
      "metadata": {
        "colab": {
          "base_uri": "https://localhost:8080/",
          "height": 517
        },
        "id": "KznnVgidY40R",
        "outputId": "0118fd8d-6ef3-4876-8e41-4bf770e52beb"
      },
      "source": [
        "#\n",
        "# Simulate spending 5000 sparks on rare chests 1000 times and show resulting number of rolls possible\n",
        "#\n",
        "results = []\n",
        "for i in range(0,1000):\n",
        "  df, rolls, spent = fivek_rare()\n",
        "  results.append(rolls)\n",
        "\n",
        "#pprint(results)\n",
        "df = pd.DataFrame(results,columns=[\"Rolls\"])\n",
        "fig = px.histogram(df,x=\"Rolls\") #, log_y=True)\n",
        "fig.update_layout(title='# Rolls From Spending 5000 sparks on Rare Chests', autosize=False,\n",
        "                  width=600, height=500,\n",
        "                  margin=dict(l=65, r=50, b=65, t=90))\n",
        "fig.show()"
      ],
      "execution_count": 11,
      "outputs": [
        {
          "output_type": "display_data",
          "data": {
            "text/html": [
              "<html>\n",
              "<head><meta charset=\"utf-8\" /></head>\n",
              "<body>\n",
              "    <div>\n",
              "            <script src=\"https://cdnjs.cloudflare.com/ajax/libs/mathjax/2.7.5/MathJax.js?config=TeX-AMS-MML_SVG\"></script><script type=\"text/javascript\">if (window.MathJax) {MathJax.Hub.Config({SVG: {font: \"STIX-Web\"}});}</script>\n",
              "                <script type=\"text/javascript\">window.PlotlyConfig = {MathJaxConfig: 'local'};</script>\n",
              "        <script src=\"https://cdn.plot.ly/plotly-latest.min.js\"></script>    \n",
              "            <div id=\"d8683d47-8eec-4355-b75d-e7c947d9dbc6\" class=\"plotly-graph-div\" style=\"height:500px; width:600px;\"></div>\n",
              "            <script type=\"text/javascript\">\n",
              "                \n",
              "                    window.PLOTLYENV=window.PLOTLYENV || {};\n",
              "                    \n",
              "                if (document.getElementById(\"d8683d47-8eec-4355-b75d-e7c947d9dbc6\")) {\n",
              "                    Plotly.newPlot(\n",
              "                        'd8683d47-8eec-4355-b75d-e7c947d9dbc6',\n",
              "                        [{\"alignmentgroup\": \"True\", \"bingroup\": \"x\", \"hoverlabel\": {\"namelength\": 0}, \"hovertemplate\": \"Rolls=%{x}<br>count=%{y}\", \"legendgroup\": \"\", \"marker\": {\"color\": \"#636efa\"}, \"name\": \"\", \"offsetgroup\": \"\", \"orientation\": \"v\", \"showlegend\": false, \"type\": \"histogram\", \"x\": [24, 23, 23, 20, 23, 28, 24, 21, 27, 23, 23, 29, 25, 22, 23, 24, 25, 21, 21, 23, 24, 25, 22, 28, 24, 21, 25, 23, 25, 21, 24, 22, 21, 27, 28, 22, 26, 23, 21, 25, 24, 24, 22, 29, 21, 23, 25, 25, 24, 24, 24, 23, 25, 27, 22, 21, 27, 22, 24, 22, 24, 22, 23, 28, 22, 24, 22, 24, 21, 25, 24, 27, 31, 24, 24, 21, 24, 22, 28, 23, 26, 26, 22, 28, 24, 27, 23, 24, 26, 24, 26, 24, 25, 28, 25, 24, 25, 22, 24, 25, 25, 28, 23, 28, 22, 26, 24, 22, 21, 23, 24, 23, 24, 24, 27, 25, 27, 26, 22, 24, 21, 23, 24, 22, 25, 24, 30, 27, 23, 23, 28, 26, 26, 23, 24, 26, 23, 22, 26, 22, 24, 22, 25, 24, 23, 25, 22, 22, 23, 22, 23, 25, 27, 24, 27, 26, 24, 22, 28, 27, 24, 22, 23, 25, 23, 24, 23, 26, 21, 22, 21, 26, 26, 28, 23, 22, 22, 24, 23, 21, 25, 22, 21, 22, 23, 29, 24, 28, 25, 23, 21, 25, 23, 24, 23, 29, 25, 23, 27, 27, 23, 21, 25, 25, 22, 25, 20, 27, 23, 25, 20, 25, 24, 22, 21, 22, 25, 24, 23, 22, 26, 25, 28, 23, 21, 26, 22, 28, 21, 22, 24, 24, 25, 28, 25, 24, 24, 23, 24, 26, 24, 21, 24, 27, 24, 26, 24, 28, 26, 24, 24, 30, 25, 23, 29, 23, 24, 24, 23, 28, 26, 22, 24, 25, 26, 26, 24, 25, 26, 29, 23, 26, 22, 26, 24, 23, 22, 26, 26, 25, 23, 23, 24, 23, 24, 26, 24, 22, 26, 24, 23, 23, 20, 22, 24, 23, 22, 25, 26, 22, 27, 24, 22, 29, 25, 21, 25, 26, 23, 27, 25, 25, 30, 21, 21, 25, 25, 24, 22, 25, 28, 26, 25, 25, 22, 21, 26, 27, 22, 21, 24, 24, 24, 25, 21, 32, 25, 23, 22, 25, 28, 25, 25, 25, 22, 23, 26, 24, 20, 25, 29, 22, 27, 24, 26, 26, 24, 27, 25, 23, 26, 24, 23, 25, 26, 30, 21, 24, 23, 23, 25, 26, 25, 22, 22, 23, 28, 27, 24, 23, 28, 25, 22, 23, 24, 23, 23, 24, 22, 29, 23, 22, 24, 26, 24, 21, 28, 24, 23, 22, 25, 22, 20, 22, 22, 27, 27, 28, 23, 24, 23, 25, 21, 22, 24, 25, 25, 25, 28, 21, 23, 20, 22, 22, 23, 24, 25, 22, 25, 27, 23, 22, 21, 24, 25, 28, 23, 22, 28, 23, 24, 28, 28, 20, 25, 21, 23, 24, 26, 25, 21, 22, 23, 22, 24, 24, 22, 25, 22, 25, 20, 22, 23, 21, 26, 27, 21, 25, 25, 21, 25, 24, 22, 25, 25, 26, 25, 24, 23, 21, 25, 25, 23, 24, 28, 24, 29, 22, 21, 25, 22, 27, 22, 25, 25, 30, 25, 21, 22, 29, 25, 25, 27, 24, 23, 30, 22, 24, 23, 24, 23, 20, 22, 22, 23, 20, 28, 23, 27, 23, 24, 27, 22, 20, 25, 23, 24, 25, 23, 23, 26, 30, 24, 21, 26, 25, 25, 21, 22, 30, 25, 24, 24, 25, 26, 24, 23, 20, 22, 22, 27, 24, 24, 20, 24, 22, 25, 21, 21, 27, 24, 26, 25, 25, 21, 25, 25, 22, 22, 23, 24, 22, 26, 23, 24, 26, 27, 22, 26, 23, 21, 22, 23, 23, 25, 20, 23, 24, 23, 28, 24, 21, 27, 25, 25, 24, 22, 23, 30, 29, 22, 22, 23, 24, 23, 22, 22, 23, 28, 21, 29, 23, 20, 26, 26, 27, 21, 31, 25, 22, 23, 22, 25, 23, 20, 20, 25, 22, 22, 21, 21, 27, 23, 23, 22, 26, 23, 23, 20, 22, 24, 24, 24, 20, 22, 24, 27, 20, 25, 28, 22, 22, 26, 24, 22, 27, 27, 24, 23, 28, 26, 22, 22, 25, 23, 25, 28, 23, 24, 24, 23, 27, 21, 24, 22, 23, 28, 22, 26, 21, 21, 22, 25, 23, 26, 22, 25, 23, 25, 23, 25, 25, 25, 21, 24, 25, 26, 24, 22, 21, 23, 23, 25, 23, 23, 25, 27, 21, 22, 26, 25, 27, 25, 26, 20, 28, 24, 23, 26, 21, 22, 21, 23, 23, 22, 26, 24, 21, 31, 23, 26, 29, 25, 28, 25, 27, 24, 26, 23, 25, 28, 32, 22, 27, 24, 22, 23, 21, 23, 24, 26, 24, 21, 26, 24, 26, 21, 25, 24, 20, 26, 23, 23, 22, 23, 22, 30, 25, 21, 23, 25, 23, 27, 24, 26, 20, 24, 28, 27, 26, 24, 23, 24, 24, 24, 27, 28, 27, 28, 27, 24, 24, 27, 23, 21, 21, 22, 25, 23, 33, 24, 24, 24, 26, 21, 27, 27, 22, 20, 25, 23, 24, 22, 31, 25, 22, 26, 25, 25, 28, 21, 28, 26, 23, 21, 27, 27, 26, 26, 23, 22, 24, 24, 25, 23, 33, 25, 32, 22, 25, 21, 22, 22, 22, 26, 23, 23, 22, 20, 25, 27, 24, 23, 24, 22, 24, 28, 24, 30, 21, 25, 24, 26, 26, 27, 29, 21, 23, 34, 24, 26, 28, 23, 23, 26, 24, 25, 23, 31, 21, 30, 23, 23, 25, 21, 26, 21, 24, 26, 23, 26, 20, 23, 27, 21, 23, 27, 23, 26, 22, 27, 24, 25, 22, 22, 25, 23, 22, 23, 24, 24, 22, 22, 22, 31, 24, 23, 22, 22, 33, 20, 25, 22, 26, 25, 24, 23, 23, 23, 21, 24, 26, 23, 21, 22, 21, 24, 24, 24, 21, 26, 23, 23, 23, 24, 25, 22, 28, 26, 22, 27, 23, 28, 22, 25, 28, 25, 21, 29, 27, 22, 25, 26, 20, 25, 23, 23, 24, 28, 22, 24, 24, 24, 24, 25, 24, 22, 21, 20, 24, 22, 27, 25, 20, 24, 24, 25, 26, 24, 26, 22, 21, 22, 20, 21, 25, 25, 21, 26, 26], \"xaxis\": \"x\", \"yaxis\": \"y\"}],\n",
              "                        {\"autosize\": false, \"barmode\": \"relative\", \"height\": 500, \"legend\": {\"tracegroupgap\": 0}, \"margin\": {\"b\": 65, \"l\": 65, \"r\": 50, \"t\": 90}, \"template\": {\"data\": {\"bar\": [{\"error_x\": {\"color\": \"#2a3f5f\"}, \"error_y\": {\"color\": \"#2a3f5f\"}, \"marker\": {\"line\": {\"color\": \"#E5ECF6\", \"width\": 0.5}}, \"type\": \"bar\"}], \"barpolar\": [{\"marker\": {\"line\": {\"color\": \"#E5ECF6\", \"width\": 0.5}}, \"type\": \"barpolar\"}], \"carpet\": [{\"aaxis\": {\"endlinecolor\": \"#2a3f5f\", \"gridcolor\": \"white\", \"linecolor\": \"white\", \"minorgridcolor\": \"white\", \"startlinecolor\": \"#2a3f5f\"}, \"baxis\": {\"endlinecolor\": \"#2a3f5f\", \"gridcolor\": \"white\", \"linecolor\": \"white\", \"minorgridcolor\": \"white\", \"startlinecolor\": \"#2a3f5f\"}, \"type\": \"carpet\"}], \"choropleth\": [{\"colorbar\": {\"outlinewidth\": 0, \"ticks\": \"\"}, \"type\": \"choropleth\"}], \"contour\": [{\"colorbar\": {\"outlinewidth\": 0, \"ticks\": \"\"}, \"colorscale\": [[0.0, \"#0d0887\"], [0.1111111111111111, \"#46039f\"], [0.2222222222222222, \"#7201a8\"], [0.3333333333333333, \"#9c179e\"], [0.4444444444444444, \"#bd3786\"], [0.5555555555555556, \"#d8576b\"], [0.6666666666666666, \"#ed7953\"], [0.7777777777777778, \"#fb9f3a\"], [0.8888888888888888, \"#fdca26\"], [1.0, \"#f0f921\"]], \"type\": \"contour\"}], \"contourcarpet\": [{\"colorbar\": {\"outlinewidth\": 0, \"ticks\": \"\"}, \"type\": \"contourcarpet\"}], \"heatmap\": [{\"colorbar\": {\"outlinewidth\": 0, \"ticks\": \"\"}, \"colorscale\": [[0.0, \"#0d0887\"], [0.1111111111111111, \"#46039f\"], [0.2222222222222222, \"#7201a8\"], [0.3333333333333333, \"#9c179e\"], [0.4444444444444444, \"#bd3786\"], [0.5555555555555556, \"#d8576b\"], [0.6666666666666666, \"#ed7953\"], [0.7777777777777778, \"#fb9f3a\"], [0.8888888888888888, \"#fdca26\"], [1.0, \"#f0f921\"]], \"type\": \"heatmap\"}], \"heatmapgl\": [{\"colorbar\": {\"outlinewidth\": 0, \"ticks\": \"\"}, \"colorscale\": [[0.0, \"#0d0887\"], [0.1111111111111111, \"#46039f\"], [0.2222222222222222, \"#7201a8\"], [0.3333333333333333, \"#9c179e\"], [0.4444444444444444, \"#bd3786\"], [0.5555555555555556, \"#d8576b\"], [0.6666666666666666, \"#ed7953\"], [0.7777777777777778, \"#fb9f3a\"], [0.8888888888888888, \"#fdca26\"], [1.0, \"#f0f921\"]], \"type\": \"heatmapgl\"}], \"histogram\": [{\"marker\": {\"colorbar\": {\"outlinewidth\": 0, \"ticks\": \"\"}}, \"type\": \"histogram\"}], \"histogram2d\": [{\"colorbar\": {\"outlinewidth\": 0, \"ticks\": \"\"}, \"colorscale\": [[0.0, \"#0d0887\"], [0.1111111111111111, \"#46039f\"], [0.2222222222222222, \"#7201a8\"], [0.3333333333333333, \"#9c179e\"], [0.4444444444444444, \"#bd3786\"], [0.5555555555555556, \"#d8576b\"], [0.6666666666666666, \"#ed7953\"], [0.7777777777777778, \"#fb9f3a\"], [0.8888888888888888, \"#fdca26\"], [1.0, \"#f0f921\"]], \"type\": \"histogram2d\"}], \"histogram2dcontour\": [{\"colorbar\": {\"outlinewidth\": 0, \"ticks\": \"\"}, \"colorscale\": [[0.0, \"#0d0887\"], [0.1111111111111111, \"#46039f\"], [0.2222222222222222, \"#7201a8\"], [0.3333333333333333, \"#9c179e\"], [0.4444444444444444, \"#bd3786\"], [0.5555555555555556, \"#d8576b\"], [0.6666666666666666, \"#ed7953\"], [0.7777777777777778, \"#fb9f3a\"], [0.8888888888888888, \"#fdca26\"], [1.0, \"#f0f921\"]], \"type\": \"histogram2dcontour\"}], \"mesh3d\": [{\"colorbar\": {\"outlinewidth\": 0, \"ticks\": \"\"}, \"type\": \"mesh3d\"}], \"parcoords\": [{\"line\": {\"colorbar\": {\"outlinewidth\": 0, \"ticks\": \"\"}}, \"type\": \"parcoords\"}], \"pie\": [{\"automargin\": true, \"type\": \"pie\"}], \"scatter\": [{\"marker\": {\"colorbar\": {\"outlinewidth\": 0, \"ticks\": \"\"}}, \"type\": \"scatter\"}], \"scatter3d\": [{\"line\": {\"colorbar\": {\"outlinewidth\": 0, \"ticks\": \"\"}}, \"marker\": {\"colorbar\": {\"outlinewidth\": 0, \"ticks\": \"\"}}, \"type\": \"scatter3d\"}], \"scattercarpet\": [{\"marker\": {\"colorbar\": {\"outlinewidth\": 0, \"ticks\": \"\"}}, \"type\": \"scattercarpet\"}], \"scattergeo\": [{\"marker\": {\"colorbar\": {\"outlinewidth\": 0, \"ticks\": \"\"}}, \"type\": \"scattergeo\"}], \"scattergl\": [{\"marker\": {\"colorbar\": {\"outlinewidth\": 0, \"ticks\": \"\"}}, \"type\": \"scattergl\"}], \"scattermapbox\": [{\"marker\": {\"colorbar\": {\"outlinewidth\": 0, \"ticks\": \"\"}}, \"type\": \"scattermapbox\"}], \"scatterpolar\": [{\"marker\": {\"colorbar\": {\"outlinewidth\": 0, \"ticks\": \"\"}}, \"type\": \"scatterpolar\"}], \"scatterpolargl\": [{\"marker\": {\"colorbar\": {\"outlinewidth\": 0, \"ticks\": \"\"}}, \"type\": \"scatterpolargl\"}], \"scatterternary\": [{\"marker\": {\"colorbar\": {\"outlinewidth\": 0, \"ticks\": \"\"}}, \"type\": \"scatterternary\"}], \"surface\": [{\"colorbar\": {\"outlinewidth\": 0, \"ticks\": \"\"}, \"colorscale\": [[0.0, \"#0d0887\"], [0.1111111111111111, \"#46039f\"], [0.2222222222222222, \"#7201a8\"], [0.3333333333333333, \"#9c179e\"], [0.4444444444444444, \"#bd3786\"], [0.5555555555555556, \"#d8576b\"], [0.6666666666666666, \"#ed7953\"], [0.7777777777777778, \"#fb9f3a\"], [0.8888888888888888, \"#fdca26\"], [1.0, \"#f0f921\"]], \"type\": \"surface\"}], \"table\": [{\"cells\": {\"fill\": {\"color\": \"#EBF0F8\"}, \"line\": {\"color\": \"white\"}}, \"header\": {\"fill\": {\"color\": \"#C8D4E3\"}, \"line\": {\"color\": \"white\"}}, \"type\": \"table\"}]}, \"layout\": {\"annotationdefaults\": {\"arrowcolor\": \"#2a3f5f\", \"arrowhead\": 0, \"arrowwidth\": 1}, \"coloraxis\": {\"colorbar\": {\"outlinewidth\": 0, \"ticks\": \"\"}}, \"colorscale\": {\"diverging\": [[0, \"#8e0152\"], [0.1, \"#c51b7d\"], [0.2, \"#de77ae\"], [0.3, \"#f1b6da\"], [0.4, \"#fde0ef\"], [0.5, \"#f7f7f7\"], [0.6, \"#e6f5d0\"], [0.7, \"#b8e186\"], [0.8, \"#7fbc41\"], [0.9, \"#4d9221\"], [1, \"#276419\"]], \"sequential\": [[0.0, \"#0d0887\"], [0.1111111111111111, \"#46039f\"], [0.2222222222222222, \"#7201a8\"], [0.3333333333333333, \"#9c179e\"], [0.4444444444444444, \"#bd3786\"], [0.5555555555555556, \"#d8576b\"], [0.6666666666666666, \"#ed7953\"], [0.7777777777777778, \"#fb9f3a\"], [0.8888888888888888, \"#fdca26\"], [1.0, \"#f0f921\"]], \"sequentialminus\": [[0.0, \"#0d0887\"], [0.1111111111111111, \"#46039f\"], [0.2222222222222222, \"#7201a8\"], [0.3333333333333333, \"#9c179e\"], [0.4444444444444444, \"#bd3786\"], [0.5555555555555556, \"#d8576b\"], [0.6666666666666666, \"#ed7953\"], [0.7777777777777778, \"#fb9f3a\"], [0.8888888888888888, \"#fdca26\"], [1.0, \"#f0f921\"]]}, \"colorway\": [\"#636efa\", \"#EF553B\", \"#00cc96\", \"#ab63fa\", \"#FFA15A\", \"#19d3f3\", \"#FF6692\", \"#B6E880\", \"#FF97FF\", \"#FECB52\"], \"font\": {\"color\": \"#2a3f5f\"}, \"geo\": {\"bgcolor\": \"white\", \"lakecolor\": \"white\", \"landcolor\": \"#E5ECF6\", \"showlakes\": true, \"showland\": true, \"subunitcolor\": \"white\"}, \"hoverlabel\": {\"align\": \"left\"}, \"hovermode\": \"closest\", \"mapbox\": {\"style\": \"light\"}, \"paper_bgcolor\": \"white\", \"plot_bgcolor\": \"#E5ECF6\", \"polar\": {\"angularaxis\": {\"gridcolor\": \"white\", \"linecolor\": \"white\", \"ticks\": \"\"}, \"bgcolor\": \"#E5ECF6\", \"radialaxis\": {\"gridcolor\": \"white\", \"linecolor\": \"white\", \"ticks\": \"\"}}, \"scene\": {\"xaxis\": {\"backgroundcolor\": \"#E5ECF6\", \"gridcolor\": \"white\", \"gridwidth\": 2, \"linecolor\": \"white\", \"showbackground\": true, \"ticks\": \"\", \"zerolinecolor\": \"white\"}, \"yaxis\": {\"backgroundcolor\": \"#E5ECF6\", \"gridcolor\": \"white\", \"gridwidth\": 2, \"linecolor\": \"white\", \"showbackground\": true, \"ticks\": \"\", \"zerolinecolor\": \"white\"}, \"zaxis\": {\"backgroundcolor\": \"#E5ECF6\", \"gridcolor\": \"white\", \"gridwidth\": 2, \"linecolor\": \"white\", \"showbackground\": true, \"ticks\": \"\", \"zerolinecolor\": \"white\"}}, \"shapedefaults\": {\"line\": {\"color\": \"#2a3f5f\"}}, \"ternary\": {\"aaxis\": {\"gridcolor\": \"white\", \"linecolor\": \"white\", \"ticks\": \"\"}, \"baxis\": {\"gridcolor\": \"white\", \"linecolor\": \"white\", \"ticks\": \"\"}, \"bgcolor\": \"#E5ECF6\", \"caxis\": {\"gridcolor\": \"white\", \"linecolor\": \"white\", \"ticks\": \"\"}}, \"title\": {\"x\": 0.05}, \"xaxis\": {\"automargin\": true, \"gridcolor\": \"white\", \"linecolor\": \"white\", \"ticks\": \"\", \"title\": {\"standoff\": 15}, \"zerolinecolor\": \"white\", \"zerolinewidth\": 2}, \"yaxis\": {\"automargin\": true, \"gridcolor\": \"white\", \"linecolor\": \"white\", \"ticks\": \"\", \"title\": {\"standoff\": 15}, \"zerolinecolor\": \"white\", \"zerolinewidth\": 2}}}, \"title\": {\"text\": \"# Rolls From Spending 5000 sparks on Rare Chests\"}, \"width\": 600, \"xaxis\": {\"anchor\": \"y\", \"domain\": [0.0, 1.0], \"title\": {\"text\": \"Rolls\"}}, \"yaxis\": {\"anchor\": \"x\", \"domain\": [0.0, 1.0], \"title\": {\"text\": \"count\"}}},\n",
              "                        {\"responsive\": true}\n",
              "                    ).then(function(){\n",
              "                            \n",
              "var gd = document.getElementById('d8683d47-8eec-4355-b75d-e7c947d9dbc6');\n",
              "var x = new MutationObserver(function (mutations, observer) {{\n",
              "        var display = window.getComputedStyle(gd).display;\n",
              "        if (!display || display === 'none') {{\n",
              "            console.log([gd, 'removed!']);\n",
              "            Plotly.purge(gd);\n",
              "            observer.disconnect();\n",
              "        }}\n",
              "}});\n",
              "\n",
              "// Listen for the removal of the full notebook cells\n",
              "var notebookContainer = gd.closest('#notebook-container');\n",
              "if (notebookContainer) {{\n",
              "    x.observe(notebookContainer, {childList: true});\n",
              "}}\n",
              "\n",
              "// Listen for the clearing of the current output cell\n",
              "var outputEl = gd.closest('.output');\n",
              "if (outputEl) {{\n",
              "    x.observe(outputEl, {childList: true});\n",
              "}}\n",
              "\n",
              "                        })\n",
              "                };\n",
              "                \n",
              "            </script>\n",
              "        </div>\n",
              "</body>\n",
              "</html>"
            ]
          },
          "metadata": {
            "tags": []
          }
        }
      ]
    },
    {
      "cell_type": "code",
      "metadata": {
        "colab": {
          "base_uri": "https://localhost:8080/"
        },
        "id": "MU0jIuRzUTVX",
        "outputId": "ce2580a3-545b-4888-9209-6b49da449214"
      },
      "source": [
        "fivek_rare()"
      ],
      "execution_count": 12,
      "outputs": [
        {
          "output_type": "execute_result",
          "data": {
            "text/plain": [
              "(    COMMON_SOUL  CONTRIBUTION  EPIC_SOUL  ...  SOUL_DUST  SPARK    value\n",
              " 0           0.0           0.0        0.0  ...        0.0    0.0     1.10\n",
              " 1           0.0           0.0        0.0  ...        0.0    0.0     0.81\n",
              " 2           0.0           0.0        0.0  ...        0.0    0.0     1.92\n",
              " 3           0.0           0.0        0.0  ...        0.0  226.0  4520.00\n",
              " 4           0.0           0.0        0.0  ...        0.0    0.0     1.65\n",
              " 5           0.0           0.0        0.0  ...        0.0    0.0     1.73\n",
              " 6           0.0           0.0        0.0  ...        0.0    0.0     1.31\n",
              " 7           0.0           0.0        0.0  ...        0.0    0.0     1.41\n",
              " 8           0.0           0.0        0.0  ...        0.0    0.0     1.19\n",
              " 9           0.0           0.0        0.0  ...        0.0    0.0     0.88\n",
              " 10          0.0           0.0        0.0  ...        0.0    0.0     1.63\n",
              " 11          0.0           0.0        0.0  ...        0.0    0.0  5580.00\n",
              " 12          0.0           0.0        0.0  ...        0.0    0.0     0.91\n",
              " 13          0.0           0.0        0.0  ...        0.0    0.0     0.98\n",
              " 14          0.0           0.0        0.0  ...        0.0    0.0     1.26\n",
              " 15          0.0           0.0        0.0  ...        0.0    0.0     2.01\n",
              " 16          0.0           0.0        0.0  ...        0.0    0.0     1.03\n",
              " 17          0.0           0.0        0.0  ...        0.0  200.0  4000.00\n",
              " 18          0.0           0.0        0.0  ...        0.0    0.0     1.44\n",
              " 19          0.0           0.0        0.0  ...        0.0    0.0     0.85\n",
              " 20          0.0           0.0        0.0  ...        0.0    0.0     1.24\n",
              " \n",
              " [21 rows x 11 columns], 21, 5250)"
            ]
          },
          "metadata": {
            "tags": []
          },
          "execution_count": 12
        }
      ]
    },
    {
      "cell_type": "code",
      "metadata": {
        "colab": {
          "base_uri": "https://localhost:8080/"
        },
        "id": "d9BaVPWyW98K",
        "outputId": "1ef5e428-c3ed-440d-e30a-16dee152b5be"
      },
      "source": [
        "fivek_legend()"
      ],
      "execution_count": 13,
      "outputs": [
        {
          "output_type": "execute_result",
          "data": {
            "text/plain": [
              "(   COMMON_SOUL  CONTRIBUTION  EPIC_SOUL  ...  SOUL_DUST   SPARK     value\n",
              " 0          0.0           0.0        0.0  ...        0.0  9529.0  190580.0\n",
              " 1          0.0           0.0        0.0  ...        0.0     0.0     174.0\n",
              " \n",
              " [2 rows x 11 columns], 2, 10000)"
            ]
          },
          "metadata": {
            "tags": []
          },
          "execution_count": 13
        }
      ]
    },
    {
      "cell_type": "code",
      "metadata": {
        "colab": {
          "base_uri": "https://localhost:8080/",
          "height": 542
        },
        "id": "m55RtCzpXRwY",
        "outputId": "25d2457b-dfda-482f-caaf-7f6da0fe1a55"
      },
      "source": [
        "#\n",
        "# Simulate spending 1000 sparks on epic chests 1000 times and show resulting value obtained\n",
        "#\n",
        "results = []\n",
        "for i in range(0,1000):\n",
        "  df, rolls, spent = k_sim(1000,1000)\n",
        "  results.append(df['value'].sum())\n",
        "\n",
        "#pprint(results)\n",
        "fig = px.histogram(pd.DataFrame(results,columns=[\"Value\"]),x=\"Value\")\n",
        "fig.show()"
      ],
      "execution_count": 14,
      "outputs": [
        {
          "output_type": "display_data",
          "data": {
            "text/html": [
              "<html>\n",
              "<head><meta charset=\"utf-8\" /></head>\n",
              "<body>\n",
              "    <div>\n",
              "            <script src=\"https://cdnjs.cloudflare.com/ajax/libs/mathjax/2.7.5/MathJax.js?config=TeX-AMS-MML_SVG\"></script><script type=\"text/javascript\">if (window.MathJax) {MathJax.Hub.Config({SVG: {font: \"STIX-Web\"}});}</script>\n",
              "                <script type=\"text/javascript\">window.PlotlyConfig = {MathJaxConfig: 'local'};</script>\n",
              "        <script src=\"https://cdn.plot.ly/plotly-latest.min.js\"></script>    \n",
              "            <div id=\"d38a7e62-2c58-406e-88b5-a89c94f43c2f\" class=\"plotly-graph-div\" style=\"height:525px; width:100%;\"></div>\n",
              "            <script type=\"text/javascript\">\n",
              "                \n",
              "                    window.PLOTLYENV=window.PLOTLYENV || {};\n",
              "                    \n",
              "                if (document.getElementById(\"d38a7e62-2c58-406e-88b5-a89c94f43c2f\")) {\n",
              "                    Plotly.newPlot(\n",
              "                        'd38a7e62-2c58-406e-88b5-a89c94f43c2f',\n",
              "                        [{\"alignmentgroup\": \"True\", \"bingroup\": \"x\", \"hoverlabel\": {\"namelength\": 0}, \"hovertemplate\": \"Value=%{x}<br>count=%{y}\", \"legendgroup\": \"\", \"marker\": {\"color\": \"#636efa\"}, \"name\": \"\", \"offsetgroup\": \"\", \"orientation\": \"v\", \"showlegend\": false, \"type\": \"histogram\", \"x\": [8.700000000000001, 15.100000000000001, 29.200000000000003, 19.5, 54255.9, 27648.4, 19.3, 20.200000000000003, 32.800000000000004, 19240.0, 12.0, 10.8, 27.1, 18.0, 23343.3, 44.5, 16300.0, 15.100000000000001, 33.800000000000004, 32094.8, 34.5, 37.2, 48.2, 46.0, 32.2, 14.8, 47.2, 33.5, 46.2, 32.7, 40.900000000000006, 39.400000000000006, 28306.8, 49.800000000000004, 42.6, 12.5, 40.0, 23.900000000000002, 36.0, 36399.1, 35.4, 22.400000000000002, 31463.5, 29.0, 45260.0, 49.800000000000004, 30.3, 30532.5, 21.8, 30688.2, 17500.0, 12.200000000000001, 15920.0, 10.9, 27.700000000000003, 35.800000000000004, 15640.0, 39780.0, 46.0, 29.200000000000003, 44.800000000000004, 44.6, 20539.8, 29.1, 15.3, 25.400000000000002, 11340.0, 31.6, 45.300000000000004, 47.1, 21.200000000000003, 47.5, 42309.3, 30.900000000000002, 33.9, 34.6, 42.900000000000006, 18.5, 40.0, 42.800000000000004, 23.200000000000003, 35171.9, 41.2, 37.5, 15.4, 32956.0, 34.4, 49.6, 38.800000000000004, 24.400000000000002, 8.200000000000001, 22.200000000000003, 113102.7, 21.700000000000003, 26244.7, 9.8, 30.8, 17300.0, 17.900000000000002, 34659.0, 30.900000000000002, 18640.0, 37.2, 19.1, 38.5, 25708.1, 10.3, 48.900000000000006, 31.400000000000002, 48.0, 15.8, 40.2, 11.9, 42.6, 9900.0, 18.2, 17200.0, 12.9, 40.2, 14400.0, 47.1, 10.3, 26.400000000000002, 52850.1, 47.400000000000006, 14.0, 25.200000000000003, 23.700000000000003, 46.300000000000004, 40.0, 47.0, 37.2, 44.7, 38.2, 40.1, 26.8, 46.6, 44.300000000000004, 36176.0, 39900.0, 16.6, 25.700000000000003, 39.0, 22.900000000000002, 11820.0, 15.4, 26.6, 37.2, 49.0, 43.7, 31.900000000000002, 26.5, 23122.8, 23031.5, 35.2, 32.7, 28.400000000000002, 20.0, 11.4, 36210.0, 17580.0, 20.8, 46.6, 20829.4, 42.300000000000004, 16.8, 39.300000000000004, 37153.9, 34.2, 34.9, 17340.0, 144691.4, 24.6, 46.2, 34520.7, 36.300000000000004, 17.3, 11.5, 59057.7, 35.1, 45.5, 19.5, 15820.0, 15880.0, 14.5, 17780.0, 36110.2, 36.0, 28009.3, 23.900000000000002, 11640.0, 8.0, 44329.1, 19.5, 21846.5, 26.900000000000002, 43.2, 8.0, 30.200000000000003, 41.7, 43.800000000000004, 16680.0, 18.8, 40.0, 20.200000000000003, 38.7, 28.400000000000002, 36062.8, 38.5, 29.200000000000003, 24304.6, 28.700000000000003, 59166.5, 30028.4, 39940.1, 30.700000000000003, 44.1, 33.4, 32.7, 42.6, 91385.5, 37359.7, 42.800000000000004, 45.6, 25996.6, 27.0, 18.400000000000002, 22.6, 41.6, 35.9, 23.400000000000002, 18.7, 42.300000000000004, 32016.7, 12300.0, 21.200000000000003, 17.400000000000002, 25.900000000000002, 44.800000000000004, 41.5, 12.8, 20.200000000000003, 9.0, 9600.0, 44.300000000000004, 22.700000000000003, 35.5, 15300.0, 20.900000000000002, 14.4, 40.1, 20213.5, 71494.6, 49.800000000000004, 39.5, 34003.4, 17.1, 25212.9, 22490.8, 26.400000000000002, 43.2, 61198.7, 43.900000000000006, 27.700000000000003, 11.3, 13.200000000000001, 22.3, 34.800000000000004, 25.3, 20171.2, 39.6, 15940.0, 35.0, 40.900000000000006, 12.100000000000001, 21.400000000000002, 15.600000000000001, 32517.7, 9480.0, 10.5, 12.3, 10.100000000000001, 36640.0, 82773.8, 22322.9, 21563.0, 25.1, 23.0, 37.4, 13.600000000000001, 59378.6, 19.0, 8.4, 35362.5, 20.200000000000003, 33.6, 27.8, 24.3, 16980.0, 33.300000000000004, 11.3, 38.2, 11.4, 33090.0, 36.9, 15.700000000000001, 17820.0, 32.2, 23.400000000000002, 25679.7, 35.0, 21.1, 49.0, 31900.0, 25.900000000000002, 19.900000000000002, 39.5, 8.5, 11.4, 23768.2, 48.900000000000006, 18.7, 28080.6, 29292.1, 41.800000000000004, 47.800000000000004, 36144.5, 9780.0, 46.1, 12.0, 13.700000000000001, 47.7, 23.200000000000003, 42.400000000000006, 13.700000000000001, 40.6, 19.200000000000003, 35529.3, 46.6, 48.800000000000004, 24.8, 24571.4, 26.1, 28.8, 39.1, 49.300000000000004, 45.2, 32.300000000000004, 161122.2, 13.4, 18660.0, 16020.0, 21.1, 44.0, 23873.9, 35.800000000000004, 15240.0, 32.0, 36.300000000000004, 31725.9, 40.0, 16.1, 40.0, 20.1, 39.5, 29.200000000000003, 11.0, 30.0, 44.0, 12.8, 35.4, 10920.0, 35.300000000000004, 37.300000000000004, 29.0, 42.800000000000004, 47.400000000000006, 28.700000000000003, 40.900000000000006, 17.1, 22.1, 13.4, 31.8, 43.400000000000006, 24804.7, 36.4, 35.4, 20484.1, 17.3, 19.400000000000002, 16620.0, 13.0, 22754.9, 40.0, 49.0, 14.9, 18.900000000000002, 36.4, 12.8, 38.7, 19300.0, 45.6, 16.900000000000002, 15.5, 30.8, 19.1, 15560.0, 48.0, 49.400000000000006, 69847.0, 42.1, 13140.0, 19.900000000000002, 24.0, 31.700000000000003, 40.0, 18.900000000000002, 21.3, 32.1, 31.0, 18.5, 42.1, 15700.0, 19.3, 27.5, 19.3, 16620.0, 34.0, 11.0, 10.8, 12.9, 10.600000000000001, 68639.7, 16.5, 17.7, 44.1, 30.200000000000003, 49.400000000000006, 35.7, 22362.5, 44.0, 19.700000000000003, 28.6, 35.6, 23.8, 15.3, 32718.5, 40.0, 25.6, 26.400000000000002, 15000.0, 27.900000000000002, 47.2, 15.100000000000001, 44.7, 37.800000000000004, 43.300000000000004, 12.4, 24.3, 12.3, 32.800000000000004, 42.7, 34.0, 32836.1, 18.900000000000002, 46.6, 47.6, 31.5, 17.3, 8.700000000000001, 31.400000000000002, 36.5, 33.6, 17540.0, 41.0, 39.900000000000006, 9.0, 36159.0, 17.5, 26.5, 20.200000000000003, 47.2, 35177.2, 17.400000000000002, 34.300000000000004, 37.2, 42.0, 9.3, 48.7, 30.200000000000003, 17.900000000000002, 8.3, 27.3, 25877.8, 13620.0, 34.6, 27.6, 8.1, 47.7, 19.1, 18760.0, 31.8, 43.2, 19.0, 23080.3, 31.3, 38.0, 16080.0, 29.6, 31.900000000000002, 38274.9, 26.900000000000002, 26200.0, 10.3, 20.8, 37.2, 17.5, 35806.1, 29.5, 37.300000000000004, 32.1, 22.200000000000003, 24476.3, 31.6, 26.8, 24.200000000000003, 27.400000000000002, 16.8, 17940.0, 36816.7, 12060.0, 18.7, 27105.5, 12.4, 30.5, 72496.5, 40.1, 19660.0, 36572.4, 14.9, 20.8, 17.400000000000002, 26.400000000000002, 15.8, 21.6, 16.8, 49.300000000000004, 85884.4, 18300.0, 32840.9, 27.400000000000002, 19.400000000000002, 13020.0, 44.6, 15500.0, 23.0, 40.800000000000004, 24.700000000000003, 36.0, 30.1, 47141.5, 23.400000000000002, 11.700000000000001, 49.1, 14.3, 33.1, 47.7, 21.200000000000003, 43.0, 43.7, 28245.3, 21.1, 43.2, 14.4, 14.5, 26.400000000000002, 16.0, 47.7, 21.8, 10.600000000000001, 21.200000000000003, 16820.0, 45.300000000000004, 33.9, 39971.1, 15.700000000000001, 21.200000000000003, 46.5, 11.0, 41.7, 18.8, 16660.0, 39.1, 32.800000000000004, 33.1, 24.200000000000003, 24724.3, 47.800000000000004, 22.6, 25.8, 20.900000000000002, 35171.6, 34.0, 29279.0, 29.3, 19.8, 12.0, 44.2, 37026.9, 27156.7, 38537.2, 33.6, 38.0, 11580.0, 40.0, 19.900000000000002, 40.800000000000004, 39.0, 19740.0, 17.7, 14.100000000000001, 19.1, 43.1, 8.3, 15.0, 39831.8, 29.200000000000003, 23.1, 43.900000000000006, 16500.0, 41.6, 25.3, 29284.3, 35829.2, 35.6, 28.3, 13080.0, 25947.0, 29.900000000000002, 20.3, 12.9, 12.5, 30.5, 48.6, 32409.3, 30.900000000000002, 31.5, 12.100000000000001, 9.4, 31095.3, 18.900000000000002, 40.0, 8.9, 41.300000000000004, 14.0, 29.3, 23.8, 25.3, 27440.9, 23301.4, 30.400000000000002, 8.5, 35422.0, 29.700000000000003, 33882.9, 24126.9, 10.3, 15740.0, 34.6, 33.9, 51178.2, 47.400000000000006, 24701.6, 45.5, 36.6, 14.4, 9.5, 26858.6, 10200.0, 22161.2, 15360.0, 36.4, 29.6, 26568.4, 15200.0, 34.300000000000004, 42.7, 30408.5, 42.6, 44.7, 32.6, 11.9, 22.200000000000003, 17640.0, 36401.9, 30.900000000000002, 46.400000000000006, 33.800000000000004, 20.1, 47.0, 46.5, 38.7, 21850.6, 29608.2, 46.6, 36.5, 20.5, 48829.5, 44.7, 26.200000000000003, 23074.6, 30.700000000000003, 9.200000000000001, 48.300000000000004, 48.6, 32.800000000000004, 32.4, 11.8, 41.7, 26.5, 31408.2, 12.700000000000001, 32369.7, 17.5, 17.1, 23.1, 15420.0, 27.700000000000003, 32.7, 22.400000000000002, 8.6, 21.700000000000003, 26091.8, 15780.0, 29715.1, 19.400000000000002, 53827.5, 34.800000000000004, 44.800000000000004, 33.5, 31.5, 29.8, 35.6, 46.0, 25.400000000000002, 37682.9, 24.1, 18540.0, 17.0, 31280.0, 45.2, 22.3, 41.6, 40.0, 19.400000000000002, 22.1, 25.5, 11.0, 8.9, 32.6, 9.200000000000001, 43.2, 41.300000000000004, 27813.2, 23.6, 20.1, 32.2, 47.1, 34.0, 13.0, 16560.0, 18.1, 9.4, 48.400000000000006, 20.1, 44.0, 25.6, 8.3, 23.6, 37.6, 46.7, 25593.5, 36.6, 22.700000000000003, 81948.6, 15.4, 19.0, 33058.0, 19.1, 28327.2, 213236.0, 40.0, 9.5, 17.7, 39.800000000000004, 34.1, 15500.0, 48.7, 18300.0, 41.800000000000004, 28032.8, 28.200000000000003, 17.400000000000002, 21.6, 46.900000000000006, 32.4, 28319.8, 29.700000000000003, 19.400000000000002, 9.700000000000001, 33.0, 24.5, 41.400000000000006, 22.1, 17680.0, 10.8, 26.8, 20426.2, 22.1, 16.7, 47.2, 38.2, 49.7, 32.5, 46.5, 44.300000000000004, 26.8, 16.5, 40.6, 23.6, 49.1, 16.900000000000002, 25744.4, 38.0, 24112.2, 18.3, 20.3, 47.300000000000004, 42.400000000000006, 46.1, 16.7, 17.5, 32.6, 47.6, 35.9, 40.0, 33.7, 68126.2, 32.2, 9.600000000000001, 26.900000000000002, 21006.2, 43.900000000000006, 15.0, 15.3, 20.900000000000002, 30.900000000000002, 23.3, 18.2, 30.8, 59949.3, 37505.4, 56583.1, 18.2, 12.8, 20.3, 48.6, 12.9, 19600.0, 19040.0, 24.0, 84990.8, 36659.6, 18.7, 43.900000000000006, 19460.0, 34812.2, 21.400000000000002, 31.400000000000002, 18600.0, 37.4, 33.2, 35.9, 26.1, 40.800000000000004, 17.7, 20.8, 33678.6, 35.5, 10.0, 27.200000000000003, 16840.0, 17.6, 33.6, 49.6, 30.700000000000003, 19.6, 10.700000000000001, 13.4, 29.1, 37.5, 24162.4, 49.300000000000004, 63980.0, 9.3, 47.6, 42.0, 41.900000000000006, 9.1, 46.400000000000006, 28.400000000000002, 24.900000000000002, 10.5, 8.5, 48921.8, 22.6, 31.700000000000003, 18.7, 25.1, 8.5, 28378.1, 39.900000000000006, 14.200000000000001, 40.0, 45.5, 42.7, 35.0, 19.0, 26.700000000000003, 24.200000000000003, 32.1, 17780.0, 11.8, 20.3, 12.9, 24.900000000000002, 23552.1, 9.5, 45.900000000000006, 40.0, 18.8, 45.900000000000006, 39.6, 12.100000000000001, 24.6, 29912.7, 9.200000000000001, 23.6, 47.900000000000006, 40.2, 17400.0, 18.2, 35.4, 30.1, 49.5, 29.5, 16880.0, 36.300000000000004, 32.9, 33.300000000000004, 43.800000000000004, 12.4, 27536.6, 27789.2, 40771.2, 16420.0, 13.3, 35772.1, 19.8, 14820.0, 32.7, 11.5, 22.900000000000002, 30.400000000000002, 32.2, 45.400000000000006, 12.700000000000001, 49.6, 25717.5, 21.3, 28.200000000000003, 22.6, 23380.0, 30.200000000000003, 25.3, 17500.0, 21.3, 29007.6, 28368.1, 33.2, 26973.8, 31874.6, 48588.0, 35.5, 26576.1, 13.0, 45.900000000000006, 33190.3, 38.400000000000006, 12.3], \"xaxis\": \"x\", \"yaxis\": \"y\"}],\n",
              "                        {\"barmode\": \"relative\", \"legend\": {\"tracegroupgap\": 0}, \"margin\": {\"t\": 60}, \"template\": {\"data\": {\"bar\": [{\"error_x\": {\"color\": \"#2a3f5f\"}, \"error_y\": {\"color\": \"#2a3f5f\"}, \"marker\": {\"line\": {\"color\": \"#E5ECF6\", \"width\": 0.5}}, \"type\": \"bar\"}], \"barpolar\": [{\"marker\": {\"line\": {\"color\": \"#E5ECF6\", \"width\": 0.5}}, \"type\": \"barpolar\"}], \"carpet\": [{\"aaxis\": {\"endlinecolor\": \"#2a3f5f\", \"gridcolor\": \"white\", \"linecolor\": \"white\", \"minorgridcolor\": \"white\", \"startlinecolor\": \"#2a3f5f\"}, \"baxis\": {\"endlinecolor\": \"#2a3f5f\", \"gridcolor\": \"white\", \"linecolor\": \"white\", \"minorgridcolor\": \"white\", \"startlinecolor\": \"#2a3f5f\"}, \"type\": \"carpet\"}], \"choropleth\": [{\"colorbar\": {\"outlinewidth\": 0, \"ticks\": \"\"}, \"type\": \"choropleth\"}], \"contour\": [{\"colorbar\": {\"outlinewidth\": 0, \"ticks\": \"\"}, \"colorscale\": [[0.0, \"#0d0887\"], [0.1111111111111111, \"#46039f\"], [0.2222222222222222, \"#7201a8\"], [0.3333333333333333, \"#9c179e\"], [0.4444444444444444, \"#bd3786\"], [0.5555555555555556, \"#d8576b\"], [0.6666666666666666, \"#ed7953\"], [0.7777777777777778, \"#fb9f3a\"], [0.8888888888888888, \"#fdca26\"], [1.0, \"#f0f921\"]], \"type\": \"contour\"}], \"contourcarpet\": [{\"colorbar\": {\"outlinewidth\": 0, \"ticks\": \"\"}, \"type\": \"contourcarpet\"}], \"heatmap\": [{\"colorbar\": {\"outlinewidth\": 0, \"ticks\": \"\"}, \"colorscale\": [[0.0, \"#0d0887\"], [0.1111111111111111, \"#46039f\"], [0.2222222222222222, \"#7201a8\"], [0.3333333333333333, \"#9c179e\"], [0.4444444444444444, \"#bd3786\"], [0.5555555555555556, \"#d8576b\"], [0.6666666666666666, \"#ed7953\"], [0.7777777777777778, \"#fb9f3a\"], [0.8888888888888888, \"#fdca26\"], [1.0, \"#f0f921\"]], \"type\": \"heatmap\"}], \"heatmapgl\": [{\"colorbar\": {\"outlinewidth\": 0, \"ticks\": \"\"}, \"colorscale\": [[0.0, \"#0d0887\"], [0.1111111111111111, \"#46039f\"], [0.2222222222222222, \"#7201a8\"], [0.3333333333333333, \"#9c179e\"], [0.4444444444444444, \"#bd3786\"], [0.5555555555555556, \"#d8576b\"], [0.6666666666666666, \"#ed7953\"], [0.7777777777777778, \"#fb9f3a\"], [0.8888888888888888, \"#fdca26\"], [1.0, \"#f0f921\"]], \"type\": \"heatmapgl\"}], \"histogram\": [{\"marker\": {\"colorbar\": {\"outlinewidth\": 0, \"ticks\": \"\"}}, \"type\": \"histogram\"}], \"histogram2d\": [{\"colorbar\": {\"outlinewidth\": 0, \"ticks\": \"\"}, \"colorscale\": [[0.0, \"#0d0887\"], [0.1111111111111111, \"#46039f\"], [0.2222222222222222, \"#7201a8\"], [0.3333333333333333, \"#9c179e\"], [0.4444444444444444, \"#bd3786\"], [0.5555555555555556, \"#d8576b\"], [0.6666666666666666, \"#ed7953\"], [0.7777777777777778, \"#fb9f3a\"], [0.8888888888888888, \"#fdca26\"], [1.0, \"#f0f921\"]], \"type\": \"histogram2d\"}], \"histogram2dcontour\": [{\"colorbar\": {\"outlinewidth\": 0, \"ticks\": \"\"}, \"colorscale\": [[0.0, \"#0d0887\"], [0.1111111111111111, \"#46039f\"], [0.2222222222222222, \"#7201a8\"], [0.3333333333333333, \"#9c179e\"], [0.4444444444444444, \"#bd3786\"], [0.5555555555555556, \"#d8576b\"], [0.6666666666666666, \"#ed7953\"], [0.7777777777777778, \"#fb9f3a\"], [0.8888888888888888, \"#fdca26\"], [1.0, \"#f0f921\"]], \"type\": \"histogram2dcontour\"}], \"mesh3d\": [{\"colorbar\": {\"outlinewidth\": 0, \"ticks\": \"\"}, \"type\": \"mesh3d\"}], \"parcoords\": [{\"line\": {\"colorbar\": {\"outlinewidth\": 0, \"ticks\": \"\"}}, \"type\": \"parcoords\"}], \"pie\": [{\"automargin\": true, \"type\": \"pie\"}], \"scatter\": [{\"marker\": {\"colorbar\": {\"outlinewidth\": 0, \"ticks\": \"\"}}, \"type\": \"scatter\"}], \"scatter3d\": [{\"line\": {\"colorbar\": {\"outlinewidth\": 0, \"ticks\": \"\"}}, \"marker\": {\"colorbar\": {\"outlinewidth\": 0, \"ticks\": \"\"}}, \"type\": \"scatter3d\"}], \"scattercarpet\": [{\"marker\": {\"colorbar\": {\"outlinewidth\": 0, \"ticks\": \"\"}}, \"type\": \"scattercarpet\"}], \"scattergeo\": [{\"marker\": {\"colorbar\": {\"outlinewidth\": 0, \"ticks\": \"\"}}, \"type\": \"scattergeo\"}], \"scattergl\": [{\"marker\": {\"colorbar\": {\"outlinewidth\": 0, \"ticks\": \"\"}}, \"type\": \"scattergl\"}], \"scattermapbox\": [{\"marker\": {\"colorbar\": {\"outlinewidth\": 0, \"ticks\": \"\"}}, \"type\": \"scattermapbox\"}], \"scatterpolar\": [{\"marker\": {\"colorbar\": {\"outlinewidth\": 0, \"ticks\": \"\"}}, \"type\": \"scatterpolar\"}], \"scatterpolargl\": [{\"marker\": {\"colorbar\": {\"outlinewidth\": 0, \"ticks\": \"\"}}, \"type\": \"scatterpolargl\"}], \"scatterternary\": [{\"marker\": {\"colorbar\": {\"outlinewidth\": 0, \"ticks\": \"\"}}, \"type\": \"scatterternary\"}], \"surface\": [{\"colorbar\": {\"outlinewidth\": 0, \"ticks\": \"\"}, \"colorscale\": [[0.0, \"#0d0887\"], [0.1111111111111111, \"#46039f\"], [0.2222222222222222, \"#7201a8\"], [0.3333333333333333, \"#9c179e\"], [0.4444444444444444, \"#bd3786\"], [0.5555555555555556, \"#d8576b\"], [0.6666666666666666, \"#ed7953\"], [0.7777777777777778, \"#fb9f3a\"], [0.8888888888888888, \"#fdca26\"], [1.0, \"#f0f921\"]], \"type\": \"surface\"}], \"table\": [{\"cells\": {\"fill\": {\"color\": \"#EBF0F8\"}, \"line\": {\"color\": \"white\"}}, \"header\": {\"fill\": {\"color\": \"#C8D4E3\"}, \"line\": {\"color\": \"white\"}}, \"type\": \"table\"}]}, \"layout\": {\"annotationdefaults\": {\"arrowcolor\": \"#2a3f5f\", \"arrowhead\": 0, \"arrowwidth\": 1}, \"coloraxis\": {\"colorbar\": {\"outlinewidth\": 0, \"ticks\": \"\"}}, \"colorscale\": {\"diverging\": [[0, \"#8e0152\"], [0.1, \"#c51b7d\"], [0.2, \"#de77ae\"], [0.3, \"#f1b6da\"], [0.4, \"#fde0ef\"], [0.5, \"#f7f7f7\"], [0.6, \"#e6f5d0\"], [0.7, \"#b8e186\"], [0.8, \"#7fbc41\"], [0.9, \"#4d9221\"], [1, \"#276419\"]], \"sequential\": [[0.0, \"#0d0887\"], [0.1111111111111111, \"#46039f\"], [0.2222222222222222, \"#7201a8\"], [0.3333333333333333, \"#9c179e\"], [0.4444444444444444, \"#bd3786\"], [0.5555555555555556, \"#d8576b\"], [0.6666666666666666, \"#ed7953\"], [0.7777777777777778, \"#fb9f3a\"], [0.8888888888888888, \"#fdca26\"], [1.0, \"#f0f921\"]], \"sequentialminus\": [[0.0, \"#0d0887\"], [0.1111111111111111, \"#46039f\"], [0.2222222222222222, \"#7201a8\"], [0.3333333333333333, \"#9c179e\"], [0.4444444444444444, \"#bd3786\"], [0.5555555555555556, \"#d8576b\"], [0.6666666666666666, \"#ed7953\"], [0.7777777777777778, \"#fb9f3a\"], [0.8888888888888888, \"#fdca26\"], [1.0, \"#f0f921\"]]}, \"colorway\": [\"#636efa\", \"#EF553B\", \"#00cc96\", \"#ab63fa\", \"#FFA15A\", \"#19d3f3\", \"#FF6692\", \"#B6E880\", \"#FF97FF\", \"#FECB52\"], \"font\": {\"color\": \"#2a3f5f\"}, \"geo\": {\"bgcolor\": \"white\", \"lakecolor\": \"white\", \"landcolor\": \"#E5ECF6\", \"showlakes\": true, \"showland\": true, \"subunitcolor\": \"white\"}, \"hoverlabel\": {\"align\": \"left\"}, \"hovermode\": \"closest\", \"mapbox\": {\"style\": \"light\"}, \"paper_bgcolor\": \"white\", \"plot_bgcolor\": \"#E5ECF6\", \"polar\": {\"angularaxis\": {\"gridcolor\": \"white\", \"linecolor\": \"white\", \"ticks\": \"\"}, \"bgcolor\": \"#E5ECF6\", \"radialaxis\": {\"gridcolor\": \"white\", \"linecolor\": \"white\", \"ticks\": \"\"}}, \"scene\": {\"xaxis\": {\"backgroundcolor\": \"#E5ECF6\", \"gridcolor\": \"white\", \"gridwidth\": 2, \"linecolor\": \"white\", \"showbackground\": true, \"ticks\": \"\", \"zerolinecolor\": \"white\"}, \"yaxis\": {\"backgroundcolor\": \"#E5ECF6\", \"gridcolor\": \"white\", \"gridwidth\": 2, \"linecolor\": \"white\", \"showbackground\": true, \"ticks\": \"\", \"zerolinecolor\": \"white\"}, \"zaxis\": {\"backgroundcolor\": \"#E5ECF6\", \"gridcolor\": \"white\", \"gridwidth\": 2, \"linecolor\": \"white\", \"showbackground\": true, \"ticks\": \"\", \"zerolinecolor\": \"white\"}}, \"shapedefaults\": {\"line\": {\"color\": \"#2a3f5f\"}}, \"ternary\": {\"aaxis\": {\"gridcolor\": \"white\", \"linecolor\": \"white\", \"ticks\": \"\"}, \"baxis\": {\"gridcolor\": \"white\", \"linecolor\": \"white\", \"ticks\": \"\"}, \"bgcolor\": \"#E5ECF6\", \"caxis\": {\"gridcolor\": \"white\", \"linecolor\": \"white\", \"ticks\": \"\"}}, \"title\": {\"x\": 0.05}, \"xaxis\": {\"automargin\": true, \"gridcolor\": \"white\", \"linecolor\": \"white\", \"ticks\": \"\", \"title\": {\"standoff\": 15}, \"zerolinecolor\": \"white\", \"zerolinewidth\": 2}, \"yaxis\": {\"automargin\": true, \"gridcolor\": \"white\", \"linecolor\": \"white\", \"ticks\": \"\", \"title\": {\"standoff\": 15}, \"zerolinecolor\": \"white\", \"zerolinewidth\": 2}}}, \"xaxis\": {\"anchor\": \"y\", \"domain\": [0.0, 1.0], \"title\": {\"text\": \"Value\"}}, \"yaxis\": {\"anchor\": \"x\", \"domain\": [0.0, 1.0], \"title\": {\"text\": \"count\"}}},\n",
              "                        {\"responsive\": true}\n",
              "                    ).then(function(){\n",
              "                            \n",
              "var gd = document.getElementById('d38a7e62-2c58-406e-88b5-a89c94f43c2f');\n",
              "var x = new MutationObserver(function (mutations, observer) {{\n",
              "        var display = window.getComputedStyle(gd).display;\n",
              "        if (!display || display === 'none') {{\n",
              "            console.log([gd, 'removed!']);\n",
              "            Plotly.purge(gd);\n",
              "            observer.disconnect();\n",
              "        }}\n",
              "}});\n",
              "\n",
              "// Listen for the removal of the full notebook cells\n",
              "var notebookContainer = gd.closest('#notebook-container');\n",
              "if (notebookContainer) {{\n",
              "    x.observe(notebookContainer, {childList: true});\n",
              "}}\n",
              "\n",
              "// Listen for the clearing of the current output cell\n",
              "var outputEl = gd.closest('.output');\n",
              "if (outputEl) {{\n",
              "    x.observe(outputEl, {childList: true});\n",
              "}}\n",
              "\n",
              "                        })\n",
              "                };\n",
              "                \n",
              "            </script>\n",
              "        </div>\n",
              "</body>\n",
              "</html>"
            ]
          },
          "metadata": {
            "tags": []
          }
        }
      ]
    },
    {
      "cell_type": "code",
      "metadata": {
        "colab": {
          "base_uri": "https://localhost:8080/",
          "height": 542
        },
        "id": "VpjNfXZWXqCH",
        "outputId": "7801e371-3cc3-4dff-f196-c10d453e8f46"
      },
      "source": [
        "#\n",
        "# Simulate spending 1000 sparks on epic chests 1000 times and show resulting value obtained\n",
        "#\n",
        "results = []\n",
        "for i in range(0,1000):\n",
        "  df, rolls, spent = k_sim(1000,250)\n",
        "  results.append(df['value'].sum())\n",
        "\n",
        "#pprint(results)\n",
        "fig = px.histogram(pd.DataFrame(results,columns=[\"Value\"]),x=\"Value\")\n",
        "fig.show()"
      ],
      "execution_count": 15,
      "outputs": [
        {
          "output_type": "display_data",
          "data": {
            "text/html": [
              "<html>\n",
              "<head><meta charset=\"utf-8\" /></head>\n",
              "<body>\n",
              "    <div>\n",
              "            <script src=\"https://cdnjs.cloudflare.com/ajax/libs/mathjax/2.7.5/MathJax.js?config=TeX-AMS-MML_SVG\"></script><script type=\"text/javascript\">if (window.MathJax) {MathJax.Hub.Config({SVG: {font: \"STIX-Web\"}});}</script>\n",
              "                <script type=\"text/javascript\">window.PlotlyConfig = {MathJaxConfig: 'local'};</script>\n",
              "        <script src=\"https://cdn.plot.ly/plotly-latest.min.js\"></script>    \n",
              "            <div id=\"5005803e-99bb-4815-9096-f722ee7a47c7\" class=\"plotly-graph-div\" style=\"height:525px; width:100%;\"></div>\n",
              "            <script type=\"text/javascript\">\n",
              "                \n",
              "                    window.PLOTLYENV=window.PLOTLYENV || {};\n",
              "                    \n",
              "                if (document.getElementById(\"5005803e-99bb-4815-9096-f722ee7a47c7\")) {\n",
              "                    Plotly.newPlot(\n",
              "                        '5005803e-99bb-4815-9096-f722ee7a47c7',\n",
              "                        [{\"alignmentgroup\": \"True\", \"bingroup\": \"x\", \"hoverlabel\": {\"namelength\": 0}, \"hovertemplate\": \"Value=%{x}<br>count=%{y}\", \"legendgroup\": \"\", \"marker\": {\"color\": \"#636efa\"}, \"name\": \"\", \"offsetgroup\": \"\", \"orientation\": \"v\", \"showlegend\": false, \"type\": \"histogram\", \"x\": [9183.869999999999, 4865.35, 16626.48, 6.06, 4.41, 5.47, 8202.519999999999, 5.869999999999999, 5.05, 5405.710000000001, 4964.0, 7.29, 5.62, 4205.35, 10824.279999999999, 3883.41, 8525.189999999999, 7.2299999999999995, 9605.33, 3564.74, 4544.45, 14284.71, 3985.09, 5.01, 5565.66, 5464.759999999999, 4104.85, 4163.7300000000005, 10305.12, 5.99, 6.59, 15364.43, 12904.0, 5.44, 6.3, 9643.630000000001, 11503.070000000002, 3983.4, 6.16, 5.930000000000001, 5186.28, 4.43, 5585.39, 4544.02, 5.859999999999999, 4.46, 5.31, 3064.56, 8.15, 5.64, 4.25, 3785.5299999999997, 7823.23, 5.59, 8984.449999999999, 9025.33, 8203.07, 4843.8, 4124.39, 6.590000000000001, 5186.8099999999995, 4365.4400000000005, 5.5200000000000005, 4.99, 5326.25, 9623.720000000001, 6.35, 6.08, 15005.369999999999, 6.61, 4705.02, 4065.13, 5345.43, 8284.43, 4985.6900000000005, 5686.650000000001, 9984.31, 10804.81, 25323.91, 7.33, 7.4799999999999995, 4163.9800000000005, 7.87, 8743.890000000001, 3704.2799999999997, 6.840000000000001, 5846.860000000001, 3684.45, 10825.449999999999, 4525.080000000001, 5.67, 9825.79, 15864.82, 6.459999999999999, 9464.26, 8524.400000000001, 10362.57, 6.58, 5026.18, 4744.61, 8585.38, 7485.570000000001, 4525.19, 13763.68, 5.83, 5344.48, 9525.1, 5.65, 15285.27, 5965.54, 5106.099999999999, 13864.99, 6.19, 4423.78, 11386.390000000001, 3845.21, 10146.249999999998, 5.35, 10146.38, 5087.07, 6.98, 5.91, 9323.689999999999, 4403.59, 7.390000000000001, 6.5, 4204.49, 15285.94, 13824.17, 4145.38, 10565.509999999998, 5.77, 6.3500000000000005, 18924.9, 5007.349999999999, 5.28, 10006.970000000001, 4783.21, 4943.75, 4184.25, 6.869999999999999, 7983.83, 14283.02, 6.46, 6.470000000000001, 5164.97, 5.289999999999999, 6.74, 4.859999999999999, 5.51, 29104.45, 9104.779999999999, 5.0, 4.74, 4.7700000000000005, 11345.710000000001, 5.62, 5566.27, 10424.94, 9523.789999999999, 5846.240000000001, 5.15, 4425.67, 4983.900000000001, 5.91, 9984.55, 13085.6, 4323.28, 3304.4400000000005, 5465.3, 6.65, 14104.660000000002, 5.13, 5065.92, 4944.889999999999, 5.32, 6.61, 4324.32, 5805.28, 6.42, 8363.18, 8804.769999999999, 11086.26, 3605.07, 4404.849999999999, 5306.53, 6.99, 3065.1099999999997, 3744.46, 8523.14, 5987.44, 4225.56, 6.73, 9245.21, 5.9, 13664.84, 4222.610000000001, 9984.119999999999, 10664.53, 7.14, 6.48, 11106.689999999999, 9324.729999999998, 6.49, 4705.27, 3744.1, 5944.92, 4343.25, 14502.61, 6.680000000000001, 9663.83, 4.82, 11385.16, 3864.17, 7.44, 4.430000000000001, 6.83, 4264.35, 5185.1, 7803.5, 7.37, 5.11, 9443.77, 6.72, 7.15, 6.92, 6.129999999999999, 17844.510000000002, 4005.2799999999997, 9843.970000000001, 6.4, 5984.9400000000005, 8465.029999999999, 4564.09, 5726.7, 10286.5, 8505.3, 6.300000000000001, 6.1000000000000005, 5506.0199999999995, 6.14, 14424.97, 3624.02, 4065.01, 5125.44, 5986.69, 4824.38, 11143.79, 6.88, 5786.61, 5825.41, 6.029999999999999, 4923.92, 7.140000000000001, 9703.6, 10946.779999999999, 5305.949999999999, 5.690000000000001, 4.94, 9223.359999999999, 5.07, 5986.96, 5384.91, 6.9, 7.35, 7.16, 4.51, 3923.0099999999998, 6.05, 14165.12, 4865.21, 5265.96, 5.79, 5.31, 6.620000000000001, 6.789999999999999, 4064.2299999999996, 5.37, 5306.74, 5.779999999999999, 6.35, 3624.07, 4924.91, 4024.0499999999997, 4484.919999999999, 5665.910000000001, 7.2700000000000005, 6.130000000000001, 5267.44, 5.609999999999999, 3704.01, 4624.65, 4124.360000000001, 4984.42, 7.2700000000000005, 7.109999999999999, 6.55, 3065.4100000000003, 8982.15, 15426.130000000001, 5.590000000000001, 4965.35, 5565.989999999999, 4.46, 4043.45, 6.17, 3744.05, 13324.11, 4785.1900000000005, 9505.050000000001, 8622.710000000001, 5624.570000000001, 10406.32, 6.3100000000000005, 10067.499999999998, 4465.5, 4503.03, 6.75, 8663.96, 6.33, 6.46, 4604.47, 14743.769999999999, 5465.839999999999, 5164.31, 23065.620000000003, 4563.79, 8544.24, 4784.14, 5327.320000000001, 4264.49, 5646.530000000001, 4064.29, 17803.579999999998, 8465.359999999999, 5484.73, 9224.46, 3584.66, 7.55, 7.34, 4124.17, 5746.49, 12444.93, 4.92, 5486.07, 8604.19, 3744.5, 4.91, 6.0, 22943.81, 6.57, 9443.29, 6.85, 6.31, 4823.7300000000005, 3844.08, 3963.7, 13303.04, 10665.72, 4324.96, 4204.02, 3824.58, 9143.98, 5346.19, 6.44, 8483.119999999999, 15446.71, 4063.3599999999997, 5.85, 9945.72, 4.96, 6.91, 5.61, 5.55, 6.79, 13784.72, 6.91, 6.39, 5.57, 4444.99, 3785.15, 5.880000000000001, 3505.81, 4204.51, 4.840000000000001, 5906.7300000000005, 10306.039999999999, 5.79, 6.8500000000000005, 6.51, 3524.56, 5.42, 5504.95, 6.85, 4.65, 6.56, 5.44, 3604.2700000000004, 4384.76, 5.779999999999999, 14684.380000000001, 5125.47, 5.1, 5.72, 4.760000000000001, 5986.79, 10545.76, 6.640000000000001, 6.49, 3545.17, 9504.330000000002, 13044.97, 4104.8099999999995, 17125.199999999997, 3665.0, 9443.420000000002, 5225.41, 14624.24, 5.23, 4684.78, 4724.12, 5446.24, 19885.57, 6.220000000000001, 4704.59, 5426.3, 14704.25, 4384.630000000001, 3885.52, 8783.51, 3604.51, 6.23, 5066.110000000001, 3925.42, 4424.03, 8984.0, 5926.24, 6.34, 6.639999999999999, 7.0, 9004.619999999999, 4283.48, 4725.11, 3544.33, 4784.79, 18303.66, 14165.16, 5766.0599999999995, 9023.119999999999, 5624.83, 3845.13, 4864.08, 5006.05, 5.75, 4185.65, 18344.03, 4.78, 10246.039999999999, 10006.169999999998, 6.4, 4384.76, 10325.7, 16044.64, 10885.090000000002, 5.180000000000001, 15205.06, 4344.13, 6.68, 9463.990000000002, 4345.39, 6.029999999999999, 5825.63, 6.800000000000001, 6.98, 8624.33, 8524.02, 3704.2299999999996, 4106.12, 10406.21, 4063.37, 7.12, 6.83, 4784.86, 8285.46, 7523.36, 4124.72, 5.12, 8803.97, 5805.54, 6.93, 4344.38, 10505.310000000001, 4805.360000000001, 3784.6800000000003, 5.470000000000001, 8282.349999999999, 5.58, 7.78, 6.52, 10046.289999999999, 4224.09, 6.4399999999999995, 6.93, 7964.849999999999, 6.14, 16027.179999999998, 4543.78, 9704.63, 7.02, 4204.05, 5225.51, 6.39, 5585.490000000001, 10865.92, 5.7700000000000005, 10287.08, 5.880000000000001, 4683.279999999999, 4645.66, 7.57, 15666.98, 9325.26, 5727.86, 7404.220000000001, 4924.66, 7544.360000000001, 4584.029999999999, 4004.1, 4924.860000000001, 8925.52, 5507.04, 6.54, 6.74, 5686.540000000001, 6.720000000000001, 6.63, 5343.77, 4625.150000000001, 3943.7400000000002, 4665.3, 7142.6900000000005, 4.890000000000001, 4.36, 5.02, 6.68, 5.279999999999999, 6.03, 6.02, 7.8500000000000005, 5.300000000000001, 3904.71, 7.0, 4384.22, 3903.06, 5826.849999999999, 5.37, 7.2, 5.720000000000001, 8424.47, 5.4799999999999995, 6.06, 8504.18, 6.49, 3303.5400000000004, 4945.0599999999995, 5.819999999999999, 4585.19, 3584.17, 4.53, 4243.55, 6.41, 3.49, 4685.28, 6.92, 6.950000000000001, 5346.03, 5.25, 4784.56, 5946.0, 14743.27, 6.4, 4383.9, 5865.379999999999, 6.97, 3544.42, 4924.9400000000005, 9765.289999999999, 5.49, 4265.7699999999995, 5425.76, 12924.410000000002, 5226.34, 13983.39, 5926.11, 10967.859999999999, 5.47, 10307.41, 4004.8399999999997, 3304.16, 4844.2699999999995, 4104.880000000001, 3804.42, 5.82, 6.83, 6.180000000000001, 13224.76, 6.07, 4604.490000000001, 5.06, 6.61, 5.98, 16065.93, 5.09, 6.370000000000001, 6.43, 7.57, 9163.05, 3784.8199999999997, 4865.12, 4043.7200000000003, 3523.86, 13584.390000000001, 5585.58, 11126.34, 5.7299999999999995, 14765.89, 8983.51, 5884.610000000001, 5.23, 14445.41, 4163.63, 4624.32, 3865.03, 3943.3, 5.57, 9325.78, 8262.55, 8543.42, 8625.099999999999, 4864.27, 5.360000000000001, 20445.100000000002, 5.6899999999999995, 7663.139999999999, 5084.469999999999, 5.6000000000000005, 8924.81, 3685.27, 4403.91, 5.470000000000001, 4.390000000000001, 5504.85, 4325.33, 5.0600000000000005, 5865.709999999999, 4443.76, 5265.240000000001, 5065.259999999999, 5.91, 5425.12, 4544.3099999999995, 10886.029999999999, 5885.61, 10043.18, 4804.849999999999, 5705.92, 6.69, 8323.240000000002, 3745.35, 5.24, 10705.359999999999, 8203.729999999998, 5.94, 5.14, 4.66, 3824.5899999999997, 6.35, 3945.2599999999998, 3644.13, 5345.450000000001, 5184.31, 9264.28, 4023.31, 9344.2, 5386.139999999999, 9442.34, 16525.630000000005, 4.3999999999999995, 11064.1, 4663.85, 5486.750000000001, 4345.76, 4504.400000000001, 6.180000000000001, 5.49, 5107.620000000001, 4185.22, 17424.03, 9603.449999999999, 5003.969999999999, 6.300000000000001, 5386.98, 5126.53, 5.23, 5.32, 3563.52, 9184.27, 5246.410000000001, 4564.31, 6.52, 4425.360000000001, 14023.98, 6.08, 4164.07, 5507.379999999999, 10526.800000000001, 9404.16, 5.92, 4464.62, 8042.28, 4004.08, 4964.500000000001, 5.699999999999999, 4425.079999999999, 10606.490000000002, 5.84, 4684.44, 9525.49, 6.420000000000001, 5326.35, 6.0200000000000005, 19504.350000000002, 5906.360000000001, 5.6, 7.0, 6.42, 3663.96, 5785.240000000001, 8063.18, 5.960000000000001, 4.84, 5.85, 9264.420000000002, 7.700000000000001, 5346.0599999999995, 5505.700000000001, 11403.84, 4264.049999999999, 5345.580000000001, 6.77, 9523.08, 4624.969999999999, 4.5200000000000005, 4285.82, 5.540000000000001, 4766.1, 4284.91, 9082.97, 6.61, 3725.3, 4443.84, 31661.9, 4484.1, 6.4799999999999995, 12683.51, 6.3500000000000005, 10246.130000000001, 11444.800000000001, 5.58, 4683.9800000000005, 8844.650000000001, 4065.21, 3004.27, 3744.71, 7704.7, 4704.33, 28184.29, 15605.380000000001, 10266.970000000001, 5286.01, 4984.24, 5.72, 5866.080000000001, 6.02, 12863.970000000001, 13502.51, 13003.28, 5105.04, 11226.619999999999, 9405.36, 7.279999999999999, 6.590000000000001, 9483.67, 6.96, 9424.67, 5.430000000000001, 5.79, 10385.380000000001, 3984.23, 10524.759999999998, 4305.15, 4285.95, 6.800000000000001, 9703.84, 8403.84, 5566.26, 9963.309999999998, 3785.17, 5.5, 8844.73, 6.65, 5464.86, 6.6000000000000005, 5.9, 10385.810000000001, 5.85, 4184.06, 5884.38, 12263.939999999999, 5.75, 9124.859999999999, 5286.01, 13684.869999999999, 6.8999999999999995, 4744.95, 5.84, 6.3100000000000005, 6.51, 5845.400000000001, 3504.4, 7.26, 4983.86, 5065.320000000001, 5.73, 3903.6099999999997, 5.76, 4805.820000000001, 8345.18, 3063.9300000000003, 8284.259999999998, 11066.990000000002, 6.69, 6.48, 4623.55, 6.380000000000001, 5866.69, 7.51, 13345.83, 4325.22, 5.65, 7504.310000000001, 4224.83, 22623.64, 9483.02, 11504.580000000002, 4584.57, 6.4399999999999995, 4203.84, 7.260000000000001, 6.07, 4.890000000000001, 22945.27, 9303.939999999999, 18423.87, 4.590000000000001, 4385.69, 4.58, 5.96, 5164.46, 5.52, 7.87, 7484.27, 3985.18, 6.680000000000001, 5446.44, 9125.13, 14263.91, 7924.01, 20544.42, 6.970000000000001, 5.89, 3525.0699999999997, 8443.22, 6.79, 6.169999999999999, 3724.17, 5806.629999999999, 4624.03, 5.09, 7.07, 6.42, 11306.630000000001, 4.87, 12603.72, 5505.6900000000005, 7.76, 8442.61, 10064.919999999998, 5585.7, 8703.919999999998, 3663.49, 4424.1, 7.7, 19164.82, 6.42, 4.92, 5.99, 5.540000000000001, 3683.68, 5445.18, 5224.47, 5.98, 6.45, 5866.91, 5824.929999999999, 14364.13, 9844.62, 9544.789999999999, 16804.399999999998, 6.199999999999999, 6.39, 5.790000000000001, 5.57, 5585.820000000001, 6843.400000000001, 10006.24, 4.5600000000000005, 4324.7, 4343.589999999999, 4.63, 5546.749999999999, 16066.929999999998, 9183.36, 14305.62, 6.320000000000001, 11445.98, 23742.980000000003, 5905.4, 4964.96, 4.77, 9743.95, 5.8500000000000005, 7.61, 13062.650000000001, 4744.759999999999, 6.23, 19343.87, 4243.72, 5.459999999999999, 7604.37, 4604.15, 5745.2, 4525.28, 4384.36, 4.84, 10824.349999999999, 5426.339999999999, 6.6, 4705.18, 9183.6, 6.46, 5605.660000000001, 3743.9200000000005, 7544.91, 16646.43, 7.77, 4524.32, 9285.22, 3945.47, 6.2, 5.43, 4.59, 6.68, 14804.57, 6.970000000000001, 11405.86, 6.45, 13725.130000000001, 3925.77, 4284.06, 5966.5199999999995, 3504.2200000000003, 4744.29, 9845.24, 8.07, 4103.6900000000005, 5.500000000000001, 9804.679999999998, 6.62, 8.3, 5.89, 5045.0199999999995, 5.34, 8.26, 4103.95, 5604.97, 14565.02, 15226.710000000001, 5425.76, 6.5], \"xaxis\": \"x\", \"yaxis\": \"y\"}],\n",
              "                        {\"barmode\": \"relative\", \"legend\": {\"tracegroupgap\": 0}, \"margin\": {\"t\": 60}, \"template\": {\"data\": {\"bar\": [{\"error_x\": {\"color\": \"#2a3f5f\"}, \"error_y\": {\"color\": \"#2a3f5f\"}, \"marker\": {\"line\": {\"color\": \"#E5ECF6\", \"width\": 0.5}}, \"type\": \"bar\"}], \"barpolar\": [{\"marker\": {\"line\": {\"color\": \"#E5ECF6\", \"width\": 0.5}}, \"type\": \"barpolar\"}], \"carpet\": [{\"aaxis\": {\"endlinecolor\": \"#2a3f5f\", \"gridcolor\": \"white\", \"linecolor\": \"white\", \"minorgridcolor\": \"white\", \"startlinecolor\": \"#2a3f5f\"}, \"baxis\": {\"endlinecolor\": \"#2a3f5f\", \"gridcolor\": \"white\", \"linecolor\": \"white\", \"minorgridcolor\": \"white\", \"startlinecolor\": \"#2a3f5f\"}, \"type\": \"carpet\"}], \"choropleth\": [{\"colorbar\": {\"outlinewidth\": 0, \"ticks\": \"\"}, \"type\": \"choropleth\"}], \"contour\": [{\"colorbar\": {\"outlinewidth\": 0, \"ticks\": \"\"}, \"colorscale\": [[0.0, \"#0d0887\"], [0.1111111111111111, \"#46039f\"], [0.2222222222222222, \"#7201a8\"], [0.3333333333333333, \"#9c179e\"], [0.4444444444444444, \"#bd3786\"], [0.5555555555555556, \"#d8576b\"], [0.6666666666666666, \"#ed7953\"], [0.7777777777777778, \"#fb9f3a\"], [0.8888888888888888, \"#fdca26\"], [1.0, \"#f0f921\"]], \"type\": \"contour\"}], \"contourcarpet\": [{\"colorbar\": {\"outlinewidth\": 0, \"ticks\": \"\"}, \"type\": \"contourcarpet\"}], \"heatmap\": [{\"colorbar\": {\"outlinewidth\": 0, \"ticks\": \"\"}, \"colorscale\": [[0.0, \"#0d0887\"], [0.1111111111111111, \"#46039f\"], [0.2222222222222222, \"#7201a8\"], [0.3333333333333333, \"#9c179e\"], [0.4444444444444444, \"#bd3786\"], [0.5555555555555556, \"#d8576b\"], [0.6666666666666666, \"#ed7953\"], [0.7777777777777778, \"#fb9f3a\"], [0.8888888888888888, \"#fdca26\"], [1.0, \"#f0f921\"]], \"type\": \"heatmap\"}], \"heatmapgl\": [{\"colorbar\": {\"outlinewidth\": 0, \"ticks\": \"\"}, \"colorscale\": [[0.0, \"#0d0887\"], [0.1111111111111111, \"#46039f\"], [0.2222222222222222, \"#7201a8\"], [0.3333333333333333, \"#9c179e\"], [0.4444444444444444, \"#bd3786\"], [0.5555555555555556, \"#d8576b\"], [0.6666666666666666, \"#ed7953\"], [0.7777777777777778, \"#fb9f3a\"], [0.8888888888888888, \"#fdca26\"], [1.0, \"#f0f921\"]], \"type\": \"heatmapgl\"}], \"histogram\": [{\"marker\": {\"colorbar\": {\"outlinewidth\": 0, \"ticks\": \"\"}}, \"type\": \"histogram\"}], \"histogram2d\": [{\"colorbar\": {\"outlinewidth\": 0, \"ticks\": \"\"}, \"colorscale\": [[0.0, \"#0d0887\"], [0.1111111111111111, \"#46039f\"], [0.2222222222222222, \"#7201a8\"], [0.3333333333333333, \"#9c179e\"], [0.4444444444444444, \"#bd3786\"], [0.5555555555555556, \"#d8576b\"], [0.6666666666666666, \"#ed7953\"], [0.7777777777777778, \"#fb9f3a\"], [0.8888888888888888, \"#fdca26\"], [1.0, \"#f0f921\"]], \"type\": \"histogram2d\"}], \"histogram2dcontour\": [{\"colorbar\": {\"outlinewidth\": 0, \"ticks\": \"\"}, \"colorscale\": [[0.0, \"#0d0887\"], [0.1111111111111111, \"#46039f\"], [0.2222222222222222, \"#7201a8\"], [0.3333333333333333, \"#9c179e\"], [0.4444444444444444, \"#bd3786\"], [0.5555555555555556, \"#d8576b\"], [0.6666666666666666, \"#ed7953\"], [0.7777777777777778, \"#fb9f3a\"], [0.8888888888888888, \"#fdca26\"], [1.0, \"#f0f921\"]], \"type\": \"histogram2dcontour\"}], \"mesh3d\": [{\"colorbar\": {\"outlinewidth\": 0, \"ticks\": \"\"}, \"type\": \"mesh3d\"}], \"parcoords\": [{\"line\": {\"colorbar\": {\"outlinewidth\": 0, \"ticks\": \"\"}}, \"type\": \"parcoords\"}], \"pie\": [{\"automargin\": true, \"type\": \"pie\"}], \"scatter\": [{\"marker\": {\"colorbar\": {\"outlinewidth\": 0, \"ticks\": \"\"}}, \"type\": \"scatter\"}], \"scatter3d\": [{\"line\": {\"colorbar\": {\"outlinewidth\": 0, \"ticks\": \"\"}}, \"marker\": {\"colorbar\": {\"outlinewidth\": 0, \"ticks\": \"\"}}, \"type\": \"scatter3d\"}], \"scattercarpet\": [{\"marker\": {\"colorbar\": {\"outlinewidth\": 0, \"ticks\": \"\"}}, \"type\": \"scattercarpet\"}], \"scattergeo\": [{\"marker\": {\"colorbar\": {\"outlinewidth\": 0, \"ticks\": \"\"}}, \"type\": \"scattergeo\"}], \"scattergl\": [{\"marker\": {\"colorbar\": {\"outlinewidth\": 0, \"ticks\": \"\"}}, \"type\": \"scattergl\"}], \"scattermapbox\": [{\"marker\": {\"colorbar\": {\"outlinewidth\": 0, \"ticks\": \"\"}}, \"type\": \"scattermapbox\"}], \"scatterpolar\": [{\"marker\": {\"colorbar\": {\"outlinewidth\": 0, \"ticks\": \"\"}}, \"type\": \"scatterpolar\"}], \"scatterpolargl\": [{\"marker\": {\"colorbar\": {\"outlinewidth\": 0, \"ticks\": \"\"}}, \"type\": \"scatterpolargl\"}], \"scatterternary\": [{\"marker\": {\"colorbar\": {\"outlinewidth\": 0, \"ticks\": \"\"}}, \"type\": \"scatterternary\"}], \"surface\": [{\"colorbar\": {\"outlinewidth\": 0, \"ticks\": \"\"}, \"colorscale\": [[0.0, \"#0d0887\"], [0.1111111111111111, \"#46039f\"], [0.2222222222222222, \"#7201a8\"], [0.3333333333333333, \"#9c179e\"], [0.4444444444444444, \"#bd3786\"], [0.5555555555555556, \"#d8576b\"], [0.6666666666666666, \"#ed7953\"], [0.7777777777777778, \"#fb9f3a\"], [0.8888888888888888, \"#fdca26\"], [1.0, \"#f0f921\"]], \"type\": \"surface\"}], \"table\": [{\"cells\": {\"fill\": {\"color\": \"#EBF0F8\"}, \"line\": {\"color\": \"white\"}}, \"header\": {\"fill\": {\"color\": \"#C8D4E3\"}, \"line\": {\"color\": \"white\"}}, \"type\": \"table\"}]}, \"layout\": {\"annotationdefaults\": {\"arrowcolor\": \"#2a3f5f\", \"arrowhead\": 0, \"arrowwidth\": 1}, \"coloraxis\": {\"colorbar\": {\"outlinewidth\": 0, \"ticks\": \"\"}}, \"colorscale\": {\"diverging\": [[0, \"#8e0152\"], [0.1, \"#c51b7d\"], [0.2, \"#de77ae\"], [0.3, \"#f1b6da\"], [0.4, \"#fde0ef\"], [0.5, \"#f7f7f7\"], [0.6, \"#e6f5d0\"], [0.7, \"#b8e186\"], [0.8, \"#7fbc41\"], [0.9, \"#4d9221\"], [1, \"#276419\"]], \"sequential\": [[0.0, \"#0d0887\"], [0.1111111111111111, \"#46039f\"], [0.2222222222222222, \"#7201a8\"], [0.3333333333333333, \"#9c179e\"], [0.4444444444444444, \"#bd3786\"], [0.5555555555555556, \"#d8576b\"], [0.6666666666666666, \"#ed7953\"], [0.7777777777777778, \"#fb9f3a\"], [0.8888888888888888, \"#fdca26\"], [1.0, \"#f0f921\"]], \"sequentialminus\": [[0.0, \"#0d0887\"], [0.1111111111111111, \"#46039f\"], [0.2222222222222222, \"#7201a8\"], [0.3333333333333333, \"#9c179e\"], [0.4444444444444444, \"#bd3786\"], [0.5555555555555556, \"#d8576b\"], [0.6666666666666666, \"#ed7953\"], [0.7777777777777778, \"#fb9f3a\"], [0.8888888888888888, \"#fdca26\"], [1.0, \"#f0f921\"]]}, \"colorway\": [\"#636efa\", \"#EF553B\", \"#00cc96\", \"#ab63fa\", \"#FFA15A\", \"#19d3f3\", \"#FF6692\", \"#B6E880\", \"#FF97FF\", \"#FECB52\"], \"font\": {\"color\": \"#2a3f5f\"}, \"geo\": {\"bgcolor\": \"white\", \"lakecolor\": \"white\", \"landcolor\": \"#E5ECF6\", \"showlakes\": true, \"showland\": true, \"subunitcolor\": \"white\"}, \"hoverlabel\": {\"align\": \"left\"}, \"hovermode\": \"closest\", \"mapbox\": {\"style\": \"light\"}, \"paper_bgcolor\": \"white\", \"plot_bgcolor\": \"#E5ECF6\", \"polar\": {\"angularaxis\": {\"gridcolor\": \"white\", \"linecolor\": \"white\", \"ticks\": \"\"}, \"bgcolor\": \"#E5ECF6\", \"radialaxis\": {\"gridcolor\": \"white\", \"linecolor\": \"white\", \"ticks\": \"\"}}, \"scene\": {\"xaxis\": {\"backgroundcolor\": \"#E5ECF6\", \"gridcolor\": \"white\", \"gridwidth\": 2, \"linecolor\": \"white\", \"showbackground\": true, \"ticks\": \"\", \"zerolinecolor\": \"white\"}, \"yaxis\": {\"backgroundcolor\": \"#E5ECF6\", \"gridcolor\": \"white\", \"gridwidth\": 2, \"linecolor\": \"white\", \"showbackground\": true, \"ticks\": \"\", \"zerolinecolor\": \"white\"}, \"zaxis\": {\"backgroundcolor\": \"#E5ECF6\", \"gridcolor\": \"white\", \"gridwidth\": 2, \"linecolor\": \"white\", \"showbackground\": true, \"ticks\": \"\", \"zerolinecolor\": \"white\"}}, \"shapedefaults\": {\"line\": {\"color\": \"#2a3f5f\"}}, \"ternary\": {\"aaxis\": {\"gridcolor\": \"white\", \"linecolor\": \"white\", \"ticks\": \"\"}, \"baxis\": {\"gridcolor\": \"white\", \"linecolor\": \"white\", \"ticks\": \"\"}, \"bgcolor\": \"#E5ECF6\", \"caxis\": {\"gridcolor\": \"white\", \"linecolor\": \"white\", \"ticks\": \"\"}}, \"title\": {\"x\": 0.05}, \"xaxis\": {\"automargin\": true, \"gridcolor\": \"white\", \"linecolor\": \"white\", \"ticks\": \"\", \"title\": {\"standoff\": 15}, \"zerolinecolor\": \"white\", \"zerolinewidth\": 2}, \"yaxis\": {\"automargin\": true, \"gridcolor\": \"white\", \"linecolor\": \"white\", \"ticks\": \"\", \"title\": {\"standoff\": 15}, \"zerolinecolor\": \"white\", \"zerolinewidth\": 2}}}, \"xaxis\": {\"anchor\": \"y\", \"domain\": [0.0, 1.0], \"title\": {\"text\": \"Value\"}}, \"yaxis\": {\"anchor\": \"x\", \"domain\": [0.0, 1.0], \"title\": {\"text\": \"count\"}}},\n",
              "                        {\"responsive\": true}\n",
              "                    ).then(function(){\n",
              "                            \n",
              "var gd = document.getElementById('5005803e-99bb-4815-9096-f722ee7a47c7');\n",
              "var x = new MutationObserver(function (mutations, observer) {{\n",
              "        var display = window.getComputedStyle(gd).display;\n",
              "        if (!display || display === 'none') {{\n",
              "            console.log([gd, 'removed!']);\n",
              "            Plotly.purge(gd);\n",
              "            observer.disconnect();\n",
              "        }}\n",
              "}});\n",
              "\n",
              "// Listen for the removal of the full notebook cells\n",
              "var notebookContainer = gd.closest('#notebook-container');\n",
              "if (notebookContainer) {{\n",
              "    x.observe(notebookContainer, {childList: true});\n",
              "}}\n",
              "\n",
              "// Listen for the clearing of the current output cell\n",
              "var outputEl = gd.closest('.output');\n",
              "if (outputEl) {{\n",
              "    x.observe(outputEl, {childList: true});\n",
              "}}\n",
              "\n",
              "                        })\n",
              "                };\n",
              "                \n",
              "            </script>\n",
              "        </div>\n",
              "</body>\n",
              "</html>"
            ]
          },
          "metadata": {
            "tags": []
          }
        }
      ]
    }
  ]
}