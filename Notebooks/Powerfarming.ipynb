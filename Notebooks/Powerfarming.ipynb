{
  "nbformat": 4,
  "nbformat_minor": 0,
  "metadata": {
    "colab": {
      "name": "Powerfarming.ipynb",
      "provenance": [],
      "authorship_tag": "ABX9TyPCMSsEZKlA5Oxyej0sujyU",
      "include_colab_link": true
    },
    "kernelspec": {
      "name": "python3",
      "display_name": "Python 3"
    },
    "language_info": {
      "name": "python"
    }
  },
  "cells": [
    {
      "cell_type": "markdown",
      "metadata": {
        "id": "view-in-github",
        "colab_type": "text"
      },
      "source": [
        "<a href=\"https://colab.research.google.com/github/HausReport/MightyLogic/blob/master/Notebooks/Powerfarming.ipynb\" target=\"_parent\"><img src=\"https://colab.research.google.com/assets/colab-badge.svg\" alt=\"Open In Colab\"/></a>"
      ]
    },
    {
      "cell_type": "code",
      "metadata": {
        "id": "EfcJFVFnqYSa"
      },
      "source": [
        "import pandas as pd\n",
        "import re\n",
        "import plotly.express as px\n"
      ],
      "execution_count": null,
      "outputs": []
    },
    {
      "cell_type": "markdown",
      "metadata": {
        "id": "3DFv0D4HdjAM"
      },
      "source": [
        "# Import Rare Heroes data from bot\n",
        "\n",
        "Run the bot command:\n",
        "\n",
        "**!collection r rare export**\n",
        "\n",
        "and paste the output between the triple quotes in the cell below.\n"
      ]
    },
    {
      "cell_type": "code",
      "metadata": {
        "id": "TYewwjN5d3gp"
      },
      "source": [
        "test_data = \"\"\"370: Pirate                     Level 1  Reborn 0\n",
        "367: Owl                        Level 5  Reborn 1\n",
        "366: Splintered Soul            Level 14 Reborn 1\n",
        "360: Frozen Moor Guard          Level 8  Reborn 1\n",
        "357: Grim Harvester             Level 8  Reborn 1\n",
        "354: Woodland Hermit            Level 8  Reborn 1\n",
        "351: Mor Lock                   Level 8  Reborn 1\n",
        "348: Crusader                   Level 10 Reborn 0\n",
        "345: Mantis                     Level 10 Reborn 0\n",
        "342: Elf Slayer                 Level 8  Reborn 1\n",
        "339: Fan Dancer                 Level 8  Reborn 1\n",
        "336: Jötunn                     Level 10 Reborn 0\n",
        "333: Visitor                    Level 6  Reborn 0\n",
        "327: Priestess of Equilibrium   Level 2  Reborn 0\n",
        "324: Insatiable Beast           Level 8  Reborn 1\n",
        "321: Furious Sabertooth         Level 8  Reborn 1\n",
        "318: Kunoichi                   Level 8  Reborn 1\n",
        "315: Puppet Mistress            Level 8  Reborn 1\n",
        "312: Dark Acolyte               Level 8  Reborn 1\n",
        "311: Ancient Scorpid            Level 8  Reborn 1\n",
        "308: Immortal Warrior           Level 4  Reborn 1\n",
        "305: Toothy Thuggie             Level 10 Reborn 0\n",
        "302: Moon Child                 Level 8  Reborn 1\n",
        "299: Gravekeeper                Level 1  Reborn 1\n",
        "296: Junk Rat                   Level 1  Reborn 1\n",
        "293: Scarecrow                  Level 10 Reborn 1\n",
        "290: Young Primate              Level 6  Reborn 0\n",
        "287: Nomad                      Level 6  Reborn 0\n",
        "284: Sage Disciple              Level 11 Reborn 1\n",
        "281: Demon Orb                  Level 10 Reborn 0\n",
        "278: Demon Huntress             Level 12 Reborn 1\n",
        "275: Samurai Dog                Level 10 Reborn 1\n",
        "272: Cyclop                     Level 10 Reborn 0\n",
        "263: Igneous Girl               Level 10 Reborn 1\n",
        "251: The Undisputed             Level 8  Reborn 0\n",
        "248: Necromancer                Level 8  Reborn 1\n",
        "244: Scratchy                   Level 8  Reborn 1\n",
        "243: Planty                     Level 10 Reborn 0\n",
        "240: Monk                       Level 10 Reborn 1\n",
        "236: Clever Viper               Level 10 Reborn 1\n",
        "233: Druid                      Level 6  Reborn 0\n",
        "228: Celestial Maiden           Level 10 Reborn 0\n",
        "218: The Aqua Spirit            Level 12 Reborn 2\n",
        "213: Friendly Spirit            Level 10 Reborn 1\n",
        "210: Talking Skull              Level 10 Reborn 1\n",
        "207: Death Whelpling            Level 12 Reborn 1\n",
        "204: Wild Huntress              Level 10 Reborn 1\n",
        "201: Thunder                    Level 10 Reborn 1\n",
        "198: Jester-Killer              Level 10 Reborn 1\n",
        "194: Cultist                    Level 10 Reborn 1\n",
        "191: Rock                       Level 10 Reborn 0\n",
        "188: Wood Elf                   Level 10 Reborn 1\n",
        "185: Valkyrie                   Level 10 Reborn 1\n",
        "184: Flesh Spawn                Level 12 Reborn 1\n",
        "174: Pyromancer                 Level 6  Reborn 1\n",
        "171: Wonder Girl                Level 10 Reborn 0\n",
        "168: Old bones                  Level 10 Reborn 1\n",
        "165: Baby rattle                Level 10 Reborn 0\n",
        "159: Treant                     Level 10 Reborn 1\n",
        "152: Ding Viesel                Level 1  Reborn 1\n",
        "149: Piece of Ice               Level 10 Reborn 0\n",
        "146: Harpy                      Level 10 Reborn 1\n",
        "143: Dream Whelpling            Level 10 Reborn 1\n",
        "140: Wind Snake                 Level 10 Reborn 1\n",
        "137: Skeleton                   Level 6  Reborn 0\n",
        "134: Mummy                      Level 10 Reborn 1\n",
        "131: Dark Warrior               Level 10 Reborn 1\n",
        "128: Berserk                    Level 1  Reborn 0\n",
        "125: Follower                   Level 1  Reborn 0\n",
        "121: Lady of the Warriors       Level 10 Reborn 1\n",
        "117: Voltage Tower              Level 1  Reborn 1\n",
        "111: Squire                     Level 8  Reborn 1\n",
        "110: Naga                       Level 10 Reborn 0\n",
        "107: Bully                      Level 10 Reborn 1\n",
        "101: Cactusito                  Level 10 Reborn 1\n",
        " 97: Bunny                      Level 10 Reborn 1\n",
        " 92: Untouchable                Level 10 Reborn 1\n",
        " 91: Angry Imp                  Level 10 Reborn 1\n",
        " 88: Love Mage                  Level 3  Reborn 1\n",
        " 85: Bowmaster                  Level 1  Reborn 1\n",
        " 84: Bone Hunter                Level 12 Reborn 1\n",
        " 81: Crafter                    Level 11 Reborn 1\n",
        " 80: Minstrel                   Level 6  Reborn 1\n",
        " 79: Soulblade                  Level 7  Reborn 1\n",
        " 78: Orc Master                 Level 10 Reborn 1\n",
        " 77: Dark Tree                  Level 1  Reborn 2\n",
        " 76: Forest Mage                Level 10 Reborn 0\n",
        " 73: Dark Witch                 Level 10 Reborn 1\n",
        " 70: Satyr                      Level 10 Reborn 1\n",
        " 69: Void Stone                 Level 10 Reborn 0\n",
        " 67: Pharaon                    Level 10 Reborn 1\n",
        " 66: Leaf Child                 Level 8  Reborn 1\n",
        " 30: First Aid                  Level 10 Reborn 1\n",
        " 18: Child of Chaos             Level 10 Reborn 1\n",
        " 17: Undead                     Level 10 Reborn 1\n",
        " 15: Chiropteran                Level 11 Reborn 1\n",
        " 14: Gargoyle                   Level 11 Reborn 1\n",
        " 12: Wood Spirit                Level 12 Reborn 1\n",
        " 11: Viking                     Level 10 Reborn 1\n",
        "  9: Totem                      Level 10 Reborn 1\n",
        "  8: Mr. Toad                   Level 10 Reborn 0\n",
        "  6: Priestess                  Level 6  Reborn 2\n",
        "  3: Prophet                    Level 11 Reborn 1\n",
        "\n",
        "\"\"\"\n",
        "\n",
        "#\n",
        "# Convert bot output to comma-delimited text\n",
        "#\n",
        "import re\n",
        "import pandas as pd\n",
        "\n",
        "article = test_data\n",
        "article = re.sub(r'([:][ ])', ',', article)\n",
        "article = re.sub(r'([ ]+Level[ ]+)', ',', article)\n",
        "article = re.sub(r'([ ]+Reborn[ ]+)', ',', article)  # this is comma-delimited text now\n",
        "#print(article) #uncomment if you want to paste into a spreadsheet\n",
        "\n",
        "#\n",
        "# Convert comma-delimited text to python list\n",
        "#\n",
        "regex = \"(?P<id>[\\d]+),(?P<name>[\\w\\s]+),(?P<level>[\\d]+),(?P<reborn>[\\d]+)\"\n",
        "pat = re.compile(regex)\n",
        "list = pat.findall(article)\n",
        "#print(list)\n",
        "\n",
        "#\n",
        "# Convert list to dataframe\n",
        "#\n",
        "df = pd.DataFrame(list,columns=['ID','Name','Level','Reborn'])\n",
        "rare_hero_levels = df[\"Level\"]\n",
        "df['Level'] = df['Level'].astype(int)\n",
        "\n",
        "#df"
      ],
      "execution_count": null,
      "outputs": []
    },
    {
      "cell_type": "markdown",
      "metadata": {
        "id": "FDGqdItUd5mK"
      },
      "source": [
        "# Record Rare Chest data below"
      ]
    },
    {
      "cell_type": "code",
      "metadata": {
        "id": "KxUwnOkaqJjJ"
      },
      "source": [
        "#\n",
        "# Hall of Fame chests\n",
        "#\n",
        "rare_chest_levels = pd.DataFrame(\n",
        "    [12,1,2,10,1,10,10,8,2,10,10,8,\n",
        "     10,5,10, 12, 1, 10,1, 10, 1, 10,\n",
        "     10,8,10, 3, 1, 1, 8, 11,10,1,\n",
        "     10,10,1, 10, 1, 10],\n",
        "    columns=[\"Level\"])\n",
        "\n",
        "#\n",
        "# Can track other chest sources, or combine them\n",
        "#\n",
        "rare_journey_rewards_levels = pd.DataFrame([10,1,1,10,8,1,10,1, 11, 2, 6], columns=[\"Level\"])\n",
        "mercenary_summon_levels = pd.DataFrame([14,3,13,10,10], columns=[\"Level\"])\n",
        "\n",
        "# Show rare chest levels tabularly\n",
        "#rare_chest_levels"
      ],
      "execution_count": null,
      "outputs": []
    },
    {
      "cell_type": "markdown",
      "metadata": {
        "id": "uQj5_SFCYOTG"
      },
      "source": [
        "# Analyze the results"
      ]
    },
    {
      "cell_type": "code",
      "metadata": {
        "colab": {
          "base_uri": "https://localhost:8080/",
          "height": 297
        },
        "id": "afNbDuvaqnRH",
        "outputId": "33594004-0cd5-43ce-ee42-b96960c1e0d5"
      },
      "source": [
        "rare_chest_levels.describe()"
      ],
      "execution_count": null,
      "outputs": [
        {
          "output_type": "execute_result",
          "data": {
            "text/html": [
              "<div>\n",
              "<style scoped>\n",
              "    .dataframe tbody tr th:only-of-type {\n",
              "        vertical-align: middle;\n",
              "    }\n",
              "\n",
              "    .dataframe tbody tr th {\n",
              "        vertical-align: top;\n",
              "    }\n",
              "\n",
              "    .dataframe thead th {\n",
              "        text-align: right;\n",
              "    }\n",
              "</style>\n",
              "<table border=\"1\" class=\"dataframe\">\n",
              "  <thead>\n",
              "    <tr style=\"text-align: right;\">\n",
              "      <th></th>\n",
              "      <th>Level</th>\n",
              "    </tr>\n",
              "  </thead>\n",
              "  <tbody>\n",
              "    <tr>\n",
              "      <th>count</th>\n",
              "      <td>37.000000</td>\n",
              "    </tr>\n",
              "    <tr>\n",
              "      <th>mean</th>\n",
              "      <td>6.729730</td>\n",
              "    </tr>\n",
              "    <tr>\n",
              "      <th>std</th>\n",
              "      <td>4.220641</td>\n",
              "    </tr>\n",
              "    <tr>\n",
              "      <th>min</th>\n",
              "      <td>1.000000</td>\n",
              "    </tr>\n",
              "    <tr>\n",
              "      <th>25%</th>\n",
              "      <td>1.000000</td>\n",
              "    </tr>\n",
              "    <tr>\n",
              "      <th>50%</th>\n",
              "      <td>10.000000</td>\n",
              "    </tr>\n",
              "    <tr>\n",
              "      <th>75%</th>\n",
              "      <td>10.000000</td>\n",
              "    </tr>\n",
              "    <tr>\n",
              "      <th>max</th>\n",
              "      <td>12.000000</td>\n",
              "    </tr>\n",
              "  </tbody>\n",
              "</table>\n",
              "</div>"
            ],
            "text/plain": [
              "           Level\n",
              "count  37.000000\n",
              "mean    6.729730\n",
              "std     4.220641\n",
              "min     1.000000\n",
              "25%     1.000000\n",
              "50%    10.000000\n",
              "75%    10.000000\n",
              "max    12.000000"
            ]
          },
          "metadata": {
            "tags": []
          },
          "execution_count": 226
        }
      ]
    },
    {
      "cell_type": "code",
      "metadata": {
        "colab": {
          "base_uri": "https://localhost:8080/",
          "height": 297
        },
        "id": "VTHrkBS8ez6S",
        "outputId": "01d8718a-910d-4d07-c4d6-b1bfdfd4b515"
      },
      "source": [
        "#rare_hero_levels.describe()\n",
        "df[\"Level\"].reset_index().describe()"
      ],
      "execution_count": null,
      "outputs": [
        {
          "output_type": "execute_result",
          "data": {
            "text/html": [
              "<div>\n",
              "<style scoped>\n",
              "    .dataframe tbody tr th:only-of-type {\n",
              "        vertical-align: middle;\n",
              "    }\n",
              "\n",
              "    .dataframe tbody tr th {\n",
              "        vertical-align: top;\n",
              "    }\n",
              "\n",
              "    .dataframe thead th {\n",
              "        text-align: right;\n",
              "    }\n",
              "</style>\n",
              "<table border=\"1\" class=\"dataframe\">\n",
              "  <thead>\n",
              "    <tr style=\"text-align: right;\">\n",
              "      <th></th>\n",
              "      <th>index</th>\n",
              "      <th>Level</th>\n",
              "    </tr>\n",
              "  </thead>\n",
              "  <tbody>\n",
              "    <tr>\n",
              "      <th>count</th>\n",
              "      <td>101.000000</td>\n",
              "      <td>101.000000</td>\n",
              "    </tr>\n",
              "    <tr>\n",
              "      <th>mean</th>\n",
              "      <td>50.000000</td>\n",
              "      <td>8.445545</td>\n",
              "    </tr>\n",
              "    <tr>\n",
              "      <th>std</th>\n",
              "      <td>29.300171</td>\n",
              "      <td>3.021507</td>\n",
              "    </tr>\n",
              "    <tr>\n",
              "      <th>min</th>\n",
              "      <td>0.000000</td>\n",
              "      <td>1.000000</td>\n",
              "    </tr>\n",
              "    <tr>\n",
              "      <th>25%</th>\n",
              "      <td>25.000000</td>\n",
              "      <td>8.000000</td>\n",
              "    </tr>\n",
              "    <tr>\n",
              "      <th>50%</th>\n",
              "      <td>50.000000</td>\n",
              "      <td>10.000000</td>\n",
              "    </tr>\n",
              "    <tr>\n",
              "      <th>75%</th>\n",
              "      <td>75.000000</td>\n",
              "      <td>10.000000</td>\n",
              "    </tr>\n",
              "    <tr>\n",
              "      <th>max</th>\n",
              "      <td>100.000000</td>\n",
              "      <td>14.000000</td>\n",
              "    </tr>\n",
              "  </tbody>\n",
              "</table>\n",
              "</div>"
            ],
            "text/plain": [
              "            index       Level\n",
              "count  101.000000  101.000000\n",
              "mean    50.000000    8.445545\n",
              "std     29.300171    3.021507\n",
              "min      0.000000    1.000000\n",
              "25%     25.000000    8.000000\n",
              "50%     50.000000   10.000000\n",
              "75%     75.000000   10.000000\n",
              "max    100.000000   14.000000"
            ]
          },
          "metadata": {
            "tags": []
          },
          "execution_count": 227
        }
      ]
    },
    {
      "cell_type": "code",
      "metadata": {
        "id": "OegA-f6Rfef6"
      },
      "source": [
        "# If plotly express provides a good way to superimpose histograms, these would be useful\n",
        "#fig1 = px.histogram(data_frame=df,x=\"Level\", nbins=16,  color_discrete_sequence=['green'], opacity=.5)\n",
        "#fig2 = px.histogram(data_frame=rare_chest_levels,x=\"Level\", nbins=16, color_discrete_sequence=['red'], opacity=.5)\n",
        "#fig1\n",
        "#fig2"
      ],
      "execution_count": null,
      "outputs": []
    },
    {
      "cell_type": "code",
      "metadata": {
        "id": "SvPrQBnvx9N5"
      },
      "source": [
        "#adust actual values to frequencies\n",
        "rare_chests = rare_chest_levels.count()[0]\n",
        "rare_heros = rare_hero_levels.count()\n",
        "\n",
        "multiplier = rare_heros/rare_chests\n",
        "\n",
        "foo = rare_chest_levels[\"Level\"].value_counts()\n",
        "foo = foo.reset_index()\n",
        "foo[\"Level\"] = foo[\"Level\"]*multiplier\n",
        "foo = foo.sort_values(\"index\")\n",
        "#foo"
      ],
      "execution_count": null,
      "outputs": []
    },
    {
      "cell_type": "code",
      "metadata": {
        "colab": {
          "base_uri": "https://localhost:8080/",
          "height": 542
        },
        "id": "8Y3KB2Wdu67q",
        "outputId": "0538df20-f129-4ace-bd99-1e04286717d7"
      },
      "source": [
        "#\n",
        "# Superimpose histograms to show difference\n",
        "#\n",
        "\n",
        "import plotly.graph_objects as go\n",
        "fig = go.Figure()\n",
        "fig.add_trace(go.Scatter(x=foo[\"index\"], y=foo[\"Level\"], #multiplier, #*rare_chest_levels[\"Level\"],     \n",
        "                            name=\"Actual Drop Rate\",\n",
        "                            marker_color='red',\n",
        "                            opacity=0.75,\n",
        "                           x0=1,\n",
        "                           ))\n",
        "fig.add_trace(go.Histogram(x=rare_hero_levels,     \n",
        "                           xbins=dict( # bins used for histogram\n",
        "                            start=1.0,\n",
        "                            end=16.0,\n",
        "                            size=1\n",
        "                            ),\n",
        "                           name=\"Expected Drop Rate\",\n",
        "                           marker_color='green',\n",
        "                           opacity=0.25\n",
        "                           ))\n",
        "fig.update_layout(barmode='overlay')\n",
        "fig.update_xaxes(range=[1, 16])\n",
        "#fig.add_trace(go.Scatter(x=[0, 1, 2], y=[1, 3, 2], mode='lines'))\n",
        "fig.update_layout(\n",
        "    title_text='Actual vs Expected Drop Rates for Hall of Fame Chests', # title of plot\n",
        "    xaxis_title_text='Level', # xaxis label\n",
        "    yaxis_title_text='Frequency', # yaxis label\n",
        "    bargap=0.0, # gap between bars of adjacent location coordinates\n",
        "    #bargroupgap=0.1 # gap between bars of the same location coordinates\n",
        ")"
      ],
      "execution_count": null,
      "outputs": [
        {
          "output_type": "display_data",
          "data": {
            "text/html": [
              "<html>\n",
              "<head><meta charset=\"utf-8\" /></head>\n",
              "<body>\n",
              "    <div>\n",
              "            <script src=\"https://cdnjs.cloudflare.com/ajax/libs/mathjax/2.7.5/MathJax.js?config=TeX-AMS-MML_SVG\"></script><script type=\"text/javascript\">if (window.MathJax) {MathJax.Hub.Config({SVG: {font: \"STIX-Web\"}});}</script>\n",
              "                <script type=\"text/javascript\">window.PlotlyConfig = {MathJaxConfig: 'local'};</script>\n",
              "        <script src=\"https://cdn.plot.ly/plotly-latest.min.js\"></script>    \n",
              "            <div id=\"3ffb52ca-7a63-4b5e-ba2f-8fceea3aa7f1\" class=\"plotly-graph-div\" style=\"height:525px; width:100%;\"></div>\n",
              "            <script type=\"text/javascript\">\n",
              "                \n",
              "                    window.PLOTLYENV=window.PLOTLYENV || {};\n",
              "                    \n",
              "                if (document.getElementById(\"3ffb52ca-7a63-4b5e-ba2f-8fceea3aa7f1\")) {\n",
              "                    Plotly.newPlot(\n",
              "                        '3ffb52ca-7a63-4b5e-ba2f-8fceea3aa7f1',\n",
              "                        [{\"marker\": {\"color\": \"red\"}, \"name\": \"Actual Drop Rate\", \"opacity\": 0.75, \"type\": \"scatter\", \"x\": [1, 2, 3, 5, 8, 10, 11, 12], \"x0\": 1, \"y\": [27.2972972972973, 5.45945945945946, 2.72972972972973, 2.72972972972973, 10.91891891891892, 43.67567567567568, 2.72972972972973, 5.45945945945946]}, {\"marker\": {\"color\": \"green\"}, \"name\": \"Expected Drop Rate\", \"opacity\": 0.25, \"type\": \"histogram\", \"x\": [\"1\", \"5\", \"14\", \"8\", \"8\", \"8\", \"8\", \"10\", \"10\", \"8\", \"8\", \"10\", \"6\", \"2\", \"8\", \"8\", \"8\", \"8\", \"8\", \"8\", \"4\", \"10\", \"8\", \"1\", \"1\", \"10\", \"6\", \"6\", \"11\", \"10\", \"12\", \"10\", \"10\", \"10\", \"8\", \"8\", \"8\", \"10\", \"10\", \"10\", \"6\", \"10\", \"12\", \"10\", \"10\", \"12\", \"10\", \"10\", \"10\", \"10\", \"10\", \"10\", \"12\", \"6\", \"10\", \"10\", \"10\", \"10\", \"1\", \"10\", \"10\", \"10\", \"10\", \"6\", \"10\", \"10\", \"1\", \"1\", \"10\", \"1\", \"8\", \"10\", \"10\", \"10\", \"10\", \"10\", \"10\", \"3\", \"1\", \"12\", \"11\", \"6\", \"7\", \"10\", \"1\", \"10\", \"10\", \"10\", \"10\", \"10\", \"8\", \"10\", \"10\", \"10\", \"11\", \"11\", \"12\", \"10\", \"10\", \"6\", \"11\"], \"xbins\": {\"end\": 16.0, \"size\": 1, \"start\": 1.0}}],\n",
              "                        {\"bargap\": 0.0, \"barmode\": \"overlay\", \"template\": {\"data\": {\"bar\": [{\"error_x\": {\"color\": \"#2a3f5f\"}, \"error_y\": {\"color\": \"#2a3f5f\"}, \"marker\": {\"line\": {\"color\": \"#E5ECF6\", \"width\": 0.5}}, \"type\": \"bar\"}], \"barpolar\": [{\"marker\": {\"line\": {\"color\": \"#E5ECF6\", \"width\": 0.5}}, \"type\": \"barpolar\"}], \"carpet\": [{\"aaxis\": {\"endlinecolor\": \"#2a3f5f\", \"gridcolor\": \"white\", \"linecolor\": \"white\", \"minorgridcolor\": \"white\", \"startlinecolor\": \"#2a3f5f\"}, \"baxis\": {\"endlinecolor\": \"#2a3f5f\", \"gridcolor\": \"white\", \"linecolor\": \"white\", \"minorgridcolor\": \"white\", \"startlinecolor\": \"#2a3f5f\"}, \"type\": \"carpet\"}], \"choropleth\": [{\"colorbar\": {\"outlinewidth\": 0, \"ticks\": \"\"}, \"type\": \"choropleth\"}], \"contour\": [{\"colorbar\": {\"outlinewidth\": 0, \"ticks\": \"\"}, \"colorscale\": [[0.0, \"#0d0887\"], [0.1111111111111111, \"#46039f\"], [0.2222222222222222, \"#7201a8\"], [0.3333333333333333, \"#9c179e\"], [0.4444444444444444, \"#bd3786\"], [0.5555555555555556, \"#d8576b\"], [0.6666666666666666, \"#ed7953\"], [0.7777777777777778, \"#fb9f3a\"], [0.8888888888888888, \"#fdca26\"], [1.0, \"#f0f921\"]], \"type\": \"contour\"}], \"contourcarpet\": [{\"colorbar\": {\"outlinewidth\": 0, \"ticks\": \"\"}, \"type\": \"contourcarpet\"}], \"heatmap\": [{\"colorbar\": {\"outlinewidth\": 0, \"ticks\": \"\"}, \"colorscale\": [[0.0, \"#0d0887\"], [0.1111111111111111, \"#46039f\"], [0.2222222222222222, \"#7201a8\"], [0.3333333333333333, \"#9c179e\"], [0.4444444444444444, \"#bd3786\"], [0.5555555555555556, \"#d8576b\"], [0.6666666666666666, \"#ed7953\"], [0.7777777777777778, \"#fb9f3a\"], [0.8888888888888888, \"#fdca26\"], [1.0, \"#f0f921\"]], \"type\": \"heatmap\"}], \"heatmapgl\": [{\"colorbar\": {\"outlinewidth\": 0, \"ticks\": \"\"}, \"colorscale\": [[0.0, \"#0d0887\"], [0.1111111111111111, \"#46039f\"], [0.2222222222222222, \"#7201a8\"], [0.3333333333333333, \"#9c179e\"], [0.4444444444444444, \"#bd3786\"], [0.5555555555555556, \"#d8576b\"], [0.6666666666666666, \"#ed7953\"], [0.7777777777777778, \"#fb9f3a\"], [0.8888888888888888, \"#fdca26\"], [1.0, \"#f0f921\"]], \"type\": \"heatmapgl\"}], \"histogram\": [{\"marker\": {\"colorbar\": {\"outlinewidth\": 0, \"ticks\": \"\"}}, \"type\": \"histogram\"}], \"histogram2d\": [{\"colorbar\": {\"outlinewidth\": 0, \"ticks\": \"\"}, \"colorscale\": [[0.0, \"#0d0887\"], [0.1111111111111111, \"#46039f\"], [0.2222222222222222, \"#7201a8\"], [0.3333333333333333, \"#9c179e\"], [0.4444444444444444, \"#bd3786\"], [0.5555555555555556, \"#d8576b\"], [0.6666666666666666, \"#ed7953\"], [0.7777777777777778, \"#fb9f3a\"], [0.8888888888888888, \"#fdca26\"], [1.0, \"#f0f921\"]], \"type\": \"histogram2d\"}], \"histogram2dcontour\": [{\"colorbar\": {\"outlinewidth\": 0, \"ticks\": \"\"}, \"colorscale\": [[0.0, \"#0d0887\"], [0.1111111111111111, \"#46039f\"], [0.2222222222222222, \"#7201a8\"], [0.3333333333333333, \"#9c179e\"], [0.4444444444444444, \"#bd3786\"], [0.5555555555555556, \"#d8576b\"], [0.6666666666666666, \"#ed7953\"], [0.7777777777777778, \"#fb9f3a\"], [0.8888888888888888, \"#fdca26\"], [1.0, \"#f0f921\"]], \"type\": \"histogram2dcontour\"}], \"mesh3d\": [{\"colorbar\": {\"outlinewidth\": 0, \"ticks\": \"\"}, \"type\": \"mesh3d\"}], \"parcoords\": [{\"line\": {\"colorbar\": {\"outlinewidth\": 0, \"ticks\": \"\"}}, \"type\": \"parcoords\"}], \"pie\": [{\"automargin\": true, \"type\": \"pie\"}], \"scatter\": [{\"marker\": {\"colorbar\": {\"outlinewidth\": 0, \"ticks\": \"\"}}, \"type\": \"scatter\"}], \"scatter3d\": [{\"line\": {\"colorbar\": {\"outlinewidth\": 0, \"ticks\": \"\"}}, \"marker\": {\"colorbar\": {\"outlinewidth\": 0, \"ticks\": \"\"}}, \"type\": \"scatter3d\"}], \"scattercarpet\": [{\"marker\": {\"colorbar\": {\"outlinewidth\": 0, \"ticks\": \"\"}}, \"type\": \"scattercarpet\"}], \"scattergeo\": [{\"marker\": {\"colorbar\": {\"outlinewidth\": 0, \"ticks\": \"\"}}, \"type\": \"scattergeo\"}], \"scattergl\": [{\"marker\": {\"colorbar\": {\"outlinewidth\": 0, \"ticks\": \"\"}}, \"type\": \"scattergl\"}], \"scattermapbox\": [{\"marker\": {\"colorbar\": {\"outlinewidth\": 0, \"ticks\": \"\"}}, \"type\": \"scattermapbox\"}], \"scatterpolar\": [{\"marker\": {\"colorbar\": {\"outlinewidth\": 0, \"ticks\": \"\"}}, \"type\": \"scatterpolar\"}], \"scatterpolargl\": [{\"marker\": {\"colorbar\": {\"outlinewidth\": 0, \"ticks\": \"\"}}, \"type\": \"scatterpolargl\"}], \"scatterternary\": [{\"marker\": {\"colorbar\": {\"outlinewidth\": 0, \"ticks\": \"\"}}, \"type\": \"scatterternary\"}], \"surface\": [{\"colorbar\": {\"outlinewidth\": 0, \"ticks\": \"\"}, \"colorscale\": [[0.0, \"#0d0887\"], [0.1111111111111111, \"#46039f\"], [0.2222222222222222, \"#7201a8\"], [0.3333333333333333, \"#9c179e\"], [0.4444444444444444, \"#bd3786\"], [0.5555555555555556, \"#d8576b\"], [0.6666666666666666, \"#ed7953\"], [0.7777777777777778, \"#fb9f3a\"], [0.8888888888888888, \"#fdca26\"], [1.0, \"#f0f921\"]], \"type\": \"surface\"}], \"table\": [{\"cells\": {\"fill\": {\"color\": \"#EBF0F8\"}, \"line\": {\"color\": \"white\"}}, \"header\": {\"fill\": {\"color\": \"#C8D4E3\"}, \"line\": {\"color\": \"white\"}}, \"type\": \"table\"}]}, \"layout\": {\"annotationdefaults\": {\"arrowcolor\": \"#2a3f5f\", \"arrowhead\": 0, \"arrowwidth\": 1}, \"coloraxis\": {\"colorbar\": {\"outlinewidth\": 0, \"ticks\": \"\"}}, \"colorscale\": {\"diverging\": [[0, \"#8e0152\"], [0.1, \"#c51b7d\"], [0.2, \"#de77ae\"], [0.3, \"#f1b6da\"], [0.4, \"#fde0ef\"], [0.5, \"#f7f7f7\"], [0.6, \"#e6f5d0\"], [0.7, \"#b8e186\"], [0.8, \"#7fbc41\"], [0.9, \"#4d9221\"], [1, \"#276419\"]], \"sequential\": [[0.0, \"#0d0887\"], [0.1111111111111111, \"#46039f\"], [0.2222222222222222, \"#7201a8\"], [0.3333333333333333, \"#9c179e\"], [0.4444444444444444, \"#bd3786\"], [0.5555555555555556, \"#d8576b\"], [0.6666666666666666, \"#ed7953\"], [0.7777777777777778, \"#fb9f3a\"], [0.8888888888888888, \"#fdca26\"], [1.0, \"#f0f921\"]], \"sequentialminus\": [[0.0, \"#0d0887\"], [0.1111111111111111, \"#46039f\"], [0.2222222222222222, \"#7201a8\"], [0.3333333333333333, \"#9c179e\"], [0.4444444444444444, \"#bd3786\"], [0.5555555555555556, \"#d8576b\"], [0.6666666666666666, \"#ed7953\"], [0.7777777777777778, \"#fb9f3a\"], [0.8888888888888888, \"#fdca26\"], [1.0, \"#f0f921\"]]}, \"colorway\": [\"#636efa\", \"#EF553B\", \"#00cc96\", \"#ab63fa\", \"#FFA15A\", \"#19d3f3\", \"#FF6692\", \"#B6E880\", \"#FF97FF\", \"#FECB52\"], \"font\": {\"color\": \"#2a3f5f\"}, \"geo\": {\"bgcolor\": \"white\", \"lakecolor\": \"white\", \"landcolor\": \"#E5ECF6\", \"showlakes\": true, \"showland\": true, \"subunitcolor\": \"white\"}, \"hoverlabel\": {\"align\": \"left\"}, \"hovermode\": \"closest\", \"mapbox\": {\"style\": \"light\"}, \"paper_bgcolor\": \"white\", \"plot_bgcolor\": \"#E5ECF6\", \"polar\": {\"angularaxis\": {\"gridcolor\": \"white\", \"linecolor\": \"white\", \"ticks\": \"\"}, \"bgcolor\": \"#E5ECF6\", \"radialaxis\": {\"gridcolor\": \"white\", \"linecolor\": \"white\", \"ticks\": \"\"}}, \"scene\": {\"xaxis\": {\"backgroundcolor\": \"#E5ECF6\", \"gridcolor\": \"white\", \"gridwidth\": 2, \"linecolor\": \"white\", \"showbackground\": true, \"ticks\": \"\", \"zerolinecolor\": \"white\"}, \"yaxis\": {\"backgroundcolor\": \"#E5ECF6\", \"gridcolor\": \"white\", \"gridwidth\": 2, \"linecolor\": \"white\", \"showbackground\": true, \"ticks\": \"\", \"zerolinecolor\": \"white\"}, \"zaxis\": {\"backgroundcolor\": \"#E5ECF6\", \"gridcolor\": \"white\", \"gridwidth\": 2, \"linecolor\": \"white\", \"showbackground\": true, \"ticks\": \"\", \"zerolinecolor\": \"white\"}}, \"shapedefaults\": {\"line\": {\"color\": \"#2a3f5f\"}}, \"ternary\": {\"aaxis\": {\"gridcolor\": \"white\", \"linecolor\": \"white\", \"ticks\": \"\"}, \"baxis\": {\"gridcolor\": \"white\", \"linecolor\": \"white\", \"ticks\": \"\"}, \"bgcolor\": \"#E5ECF6\", \"caxis\": {\"gridcolor\": \"white\", \"linecolor\": \"white\", \"ticks\": \"\"}}, \"title\": {\"x\": 0.05}, \"xaxis\": {\"automargin\": true, \"gridcolor\": \"white\", \"linecolor\": \"white\", \"ticks\": \"\", \"title\": {\"standoff\": 15}, \"zerolinecolor\": \"white\", \"zerolinewidth\": 2}, \"yaxis\": {\"automargin\": true, \"gridcolor\": \"white\", \"linecolor\": \"white\", \"ticks\": \"\", \"title\": {\"standoff\": 15}, \"zerolinecolor\": \"white\", \"zerolinewidth\": 2}}}, \"title\": {\"text\": \"Actual vs Expected Drop Rates for Hall of Fame Chests\"}, \"xaxis\": {\"range\": [1, 16], \"title\": {\"text\": \"Level\"}}, \"yaxis\": {\"title\": {\"text\": \"Frequency\"}}},\n",
              "                        {\"responsive\": true}\n",
              "                    ).then(function(){\n",
              "                            \n",
              "var gd = document.getElementById('3ffb52ca-7a63-4b5e-ba2f-8fceea3aa7f1');\n",
              "var x = new MutationObserver(function (mutations, observer) {{\n",
              "        var display = window.getComputedStyle(gd).display;\n",
              "        if (!display || display === 'none') {{\n",
              "            console.log([gd, 'removed!']);\n",
              "            Plotly.purge(gd);\n",
              "            observer.disconnect();\n",
              "        }}\n",
              "}});\n",
              "\n",
              "// Listen for the removal of the full notebook cells\n",
              "var notebookContainer = gd.closest('#notebook-container');\n",
              "if (notebookContainer) {{\n",
              "    x.observe(notebookContainer, {childList: true});\n",
              "}}\n",
              "\n",
              "// Listen for the clearing of the current output cell\n",
              "var outputEl = gd.closest('.output');\n",
              "if (outputEl) {{\n",
              "    x.observe(outputEl, {childList: true});\n",
              "}}\n",
              "\n",
              "                        })\n",
              "                };\n",
              "                \n",
              "            </script>\n",
              "        </div>\n",
              "</body>\n",
              "</html>"
            ]
          },
          "metadata": {
            "tags": []
          }
        }
      ]
    },
    {
      "cell_type": "code",
      "metadata": {
        "colab": {
          "base_uri": "https://localhost:8080/",
          "height": 328
        },
        "id": "Ws6gfW33iDGH",
        "outputId": "f92fd137-03b3-4e44-9f62-b4d44dd1d4bb"
      },
      "source": [
        "#\n",
        "# Show characters currently being power-farmed\n",
        "#\n",
        "power_farmed = df[ df[\"Level\"]==1]\n",
        "power_farmed.sort_values([\"Level\", \"Reborn\",\"Name\"], ascending = (True, True,True))\n"
      ],
      "execution_count": null,
      "outputs": [
        {
          "output_type": "execute_result",
          "data": {
            "text/html": [
              "<div>\n",
              "<style scoped>\n",
              "    .dataframe tbody tr th:only-of-type {\n",
              "        vertical-align: middle;\n",
              "    }\n",
              "\n",
              "    .dataframe tbody tr th {\n",
              "        vertical-align: top;\n",
              "    }\n",
              "\n",
              "    .dataframe thead th {\n",
              "        text-align: right;\n",
              "    }\n",
              "</style>\n",
              "<table border=\"1\" class=\"dataframe\">\n",
              "  <thead>\n",
              "    <tr style=\"text-align: right;\">\n",
              "      <th></th>\n",
              "      <th>ID</th>\n",
              "      <th>Name</th>\n",
              "      <th>Level</th>\n",
              "      <th>Reborn</th>\n",
              "    </tr>\n",
              "  </thead>\n",
              "  <tbody>\n",
              "    <tr>\n",
              "      <th>66</th>\n",
              "      <td>128</td>\n",
              "      <td>Berserk</td>\n",
              "      <td>1</td>\n",
              "      <td>0</td>\n",
              "    </tr>\n",
              "    <tr>\n",
              "      <th>67</th>\n",
              "      <td>125</td>\n",
              "      <td>Follower</td>\n",
              "      <td>1</td>\n",
              "      <td>0</td>\n",
              "    </tr>\n",
              "    <tr>\n",
              "      <th>0</th>\n",
              "      <td>370</td>\n",
              "      <td>Pirate</td>\n",
              "      <td>1</td>\n",
              "      <td>0</td>\n",
              "    </tr>\n",
              "    <tr>\n",
              "      <th>78</th>\n",
              "      <td>85</td>\n",
              "      <td>Bowmaster</td>\n",
              "      <td>1</td>\n",
              "      <td>1</td>\n",
              "    </tr>\n",
              "    <tr>\n",
              "      <th>58</th>\n",
              "      <td>152</td>\n",
              "      <td>Ding Viesel</td>\n",
              "      <td>1</td>\n",
              "      <td>1</td>\n",
              "    </tr>\n",
              "    <tr>\n",
              "      <th>23</th>\n",
              "      <td>299</td>\n",
              "      <td>Gravekeeper</td>\n",
              "      <td>1</td>\n",
              "      <td>1</td>\n",
              "    </tr>\n",
              "    <tr>\n",
              "      <th>24</th>\n",
              "      <td>296</td>\n",
              "      <td>Junk Rat</td>\n",
              "      <td>1</td>\n",
              "      <td>1</td>\n",
              "    </tr>\n",
              "    <tr>\n",
              "      <th>69</th>\n",
              "      <td>117</td>\n",
              "      <td>Voltage Tower</td>\n",
              "      <td>1</td>\n",
              "      <td>1</td>\n",
              "    </tr>\n",
              "    <tr>\n",
              "      <th>84</th>\n",
              "      <td>77</td>\n",
              "      <td>Dark Tree</td>\n",
              "      <td>1</td>\n",
              "      <td>2</td>\n",
              "    </tr>\n",
              "  </tbody>\n",
              "</table>\n",
              "</div>"
            ],
            "text/plain": [
              "     ID           Name  Level Reborn\n",
              "66  128        Berserk      1      0\n",
              "67  125       Follower      1      0\n",
              "0   370         Pirate      1      0\n",
              "78   85      Bowmaster      1      1\n",
              "58  152    Ding Viesel      1      1\n",
              "23  299    Gravekeeper      1      1\n",
              "24  296       Junk Rat      1      1\n",
              "69  117  Voltage Tower      1      1\n",
              "84   77      Dark Tree      1      2"
            ]
          },
          "metadata": {
            "tags": []
          },
          "execution_count": 231
        }
      ]
    },
    {
      "cell_type": "markdown",
      "metadata": {
        "id": "a1FJs6jlFibu"
      },
      "source": [
        "# Analysis of Results"
      ]
    },
    {
      "cell_type": "code",
      "metadata": {
        "id": "UMDXqLVNbyHI"
      },
      "source": [
        "level_1_rare_chests = rare_chest_levels[  rare_chest_levels[\"Level\"]==1].count()[0]\n",
        "rare_chests = rare_chest_levels.count()[0]\n",
        "level_1_percentage = level_1_rare_chests/rare_chests\n",
        "\n",
        "level_1_rare_heros = rare_chest_levels[  rare_chest_levels[\"Level\"]==1].count()[0]\n",
        "rare_heros = rare_hero_levels.count()\n",
        "level_1_hero_percentage = level_1_rare_heros/rare_heros\n",
        "\n",
        "over_performance = level_1_percentage/level_1_hero_percentage\n",
        "\n",
        "confidence = rare_chests/rare_heros\n"
      ],
      "execution_count": null,
      "outputs": []
    },
    {
      "cell_type": "code",
      "metadata": {
        "colab": {
          "base_uri": "https://localhost:8080/",
          "height": 644
        },
        "id": "OcqJixu5FsvH",
        "outputId": "b8a8203d-54f2-42ae-a0fe-25f6e5c27b0c"
      },
      "source": [
        "print( f\"# of data points: {rare_chests}\")\n",
        "print( f\"# of rare heroes: {rare_heros}\")\n",
        "print( f\"Level 1 rare chest frequency: {level_1_percentage:.2%}\")\n",
        "print( f\"Level 1 rare hero frequency: {level_1_hero_percentage:.2%}\")\n",
        "print( f\"Level 1 Overperforming by: {over_performance:.2} times\")\n",
        "print( f\"Confidence: {confidence:.2%}\")\n",
        "\n",
        "fig.show()"
      ],
      "execution_count": null,
      "outputs": [
        {
          "output_type": "stream",
          "text": [
            "# of data points: 37\n",
            "# of rare heroes: 101\n",
            "Level 1 rare chest frequency: 27.03%\n",
            "Level 1 rare hero frequency: 9.90%\n",
            "Level 1 Overperforming by: 2.7 times\n",
            "Confidence: 36.63%\n"
          ],
          "name": "stdout"
        },
        {
          "output_type": "display_data",
          "data": {
            "text/html": [
              "<html>\n",
              "<head><meta charset=\"utf-8\" /></head>\n",
              "<body>\n",
              "    <div>\n",
              "            <script src=\"https://cdnjs.cloudflare.com/ajax/libs/mathjax/2.7.5/MathJax.js?config=TeX-AMS-MML_SVG\"></script><script type=\"text/javascript\">if (window.MathJax) {MathJax.Hub.Config({SVG: {font: \"STIX-Web\"}});}</script>\n",
              "                <script type=\"text/javascript\">window.PlotlyConfig = {MathJaxConfig: 'local'};</script>\n",
              "        <script src=\"https://cdn.plot.ly/plotly-latest.min.js\"></script>    \n",
              "            <div id=\"b1b06e01-9700-45f2-8817-f25b9b704eb4\" class=\"plotly-graph-div\" style=\"height:525px; width:100%;\"></div>\n",
              "            <script type=\"text/javascript\">\n",
              "                \n",
              "                    window.PLOTLYENV=window.PLOTLYENV || {};\n",
              "                    \n",
              "                if (document.getElementById(\"b1b06e01-9700-45f2-8817-f25b9b704eb4\")) {\n",
              "                    Plotly.newPlot(\n",
              "                        'b1b06e01-9700-45f2-8817-f25b9b704eb4',\n",
              "                        [{\"marker\": {\"color\": \"red\"}, \"name\": \"Actual Drop Rate\", \"opacity\": 0.75, \"type\": \"scatter\", \"x\": [1, 2, 3, 5, 8, 10, 11, 12], \"x0\": 1, \"y\": [27.2972972972973, 5.45945945945946, 2.72972972972973, 2.72972972972973, 10.91891891891892, 43.67567567567568, 2.72972972972973, 5.45945945945946]}, {\"marker\": {\"color\": \"green\"}, \"name\": \"Expected Drop Rate\", \"opacity\": 0.25, \"type\": \"histogram\", \"x\": [\"1\", \"5\", \"14\", \"8\", \"8\", \"8\", \"8\", \"10\", \"10\", \"8\", \"8\", \"10\", \"6\", \"2\", \"8\", \"8\", \"8\", \"8\", \"8\", \"8\", \"4\", \"10\", \"8\", \"1\", \"1\", \"10\", \"6\", \"6\", \"11\", \"10\", \"12\", \"10\", \"10\", \"10\", \"8\", \"8\", \"8\", \"10\", \"10\", \"10\", \"6\", \"10\", \"12\", \"10\", \"10\", \"12\", \"10\", \"10\", \"10\", \"10\", \"10\", \"10\", \"12\", \"6\", \"10\", \"10\", \"10\", \"10\", \"1\", \"10\", \"10\", \"10\", \"10\", \"6\", \"10\", \"10\", \"1\", \"1\", \"10\", \"1\", \"8\", \"10\", \"10\", \"10\", \"10\", \"10\", \"10\", \"3\", \"1\", \"12\", \"11\", \"6\", \"7\", \"10\", \"1\", \"10\", \"10\", \"10\", \"10\", \"10\", \"8\", \"10\", \"10\", \"10\", \"11\", \"11\", \"12\", \"10\", \"10\", \"6\", \"11\"], \"xbins\": {\"end\": 16.0, \"size\": 1, \"start\": 1.0}}],\n",
              "                        {\"bargap\": 0.0, \"barmode\": \"overlay\", \"template\": {\"data\": {\"bar\": [{\"error_x\": {\"color\": \"#2a3f5f\"}, \"error_y\": {\"color\": \"#2a3f5f\"}, \"marker\": {\"line\": {\"color\": \"#E5ECF6\", \"width\": 0.5}}, \"type\": \"bar\"}], \"barpolar\": [{\"marker\": {\"line\": {\"color\": \"#E5ECF6\", \"width\": 0.5}}, \"type\": \"barpolar\"}], \"carpet\": [{\"aaxis\": {\"endlinecolor\": \"#2a3f5f\", \"gridcolor\": \"white\", \"linecolor\": \"white\", \"minorgridcolor\": \"white\", \"startlinecolor\": \"#2a3f5f\"}, \"baxis\": {\"endlinecolor\": \"#2a3f5f\", \"gridcolor\": \"white\", \"linecolor\": \"white\", \"minorgridcolor\": \"white\", \"startlinecolor\": \"#2a3f5f\"}, \"type\": \"carpet\"}], \"choropleth\": [{\"colorbar\": {\"outlinewidth\": 0, \"ticks\": \"\"}, \"type\": \"choropleth\"}], \"contour\": [{\"colorbar\": {\"outlinewidth\": 0, \"ticks\": \"\"}, \"colorscale\": [[0.0, \"#0d0887\"], [0.1111111111111111, \"#46039f\"], [0.2222222222222222, \"#7201a8\"], [0.3333333333333333, \"#9c179e\"], [0.4444444444444444, \"#bd3786\"], [0.5555555555555556, \"#d8576b\"], [0.6666666666666666, \"#ed7953\"], [0.7777777777777778, \"#fb9f3a\"], [0.8888888888888888, \"#fdca26\"], [1.0, \"#f0f921\"]], \"type\": \"contour\"}], \"contourcarpet\": [{\"colorbar\": {\"outlinewidth\": 0, \"ticks\": \"\"}, \"type\": \"contourcarpet\"}], \"heatmap\": [{\"colorbar\": {\"outlinewidth\": 0, \"ticks\": \"\"}, \"colorscale\": [[0.0, \"#0d0887\"], [0.1111111111111111, \"#46039f\"], [0.2222222222222222, \"#7201a8\"], [0.3333333333333333, \"#9c179e\"], [0.4444444444444444, \"#bd3786\"], [0.5555555555555556, \"#d8576b\"], [0.6666666666666666, \"#ed7953\"], [0.7777777777777778, \"#fb9f3a\"], [0.8888888888888888, \"#fdca26\"], [1.0, \"#f0f921\"]], \"type\": \"heatmap\"}], \"heatmapgl\": [{\"colorbar\": {\"outlinewidth\": 0, \"ticks\": \"\"}, \"colorscale\": [[0.0, \"#0d0887\"], [0.1111111111111111, \"#46039f\"], [0.2222222222222222, \"#7201a8\"], [0.3333333333333333, \"#9c179e\"], [0.4444444444444444, \"#bd3786\"], [0.5555555555555556, \"#d8576b\"], [0.6666666666666666, \"#ed7953\"], [0.7777777777777778, \"#fb9f3a\"], [0.8888888888888888, \"#fdca26\"], [1.0, \"#f0f921\"]], \"type\": \"heatmapgl\"}], \"histogram\": [{\"marker\": {\"colorbar\": {\"outlinewidth\": 0, \"ticks\": \"\"}}, \"type\": \"histogram\"}], \"histogram2d\": [{\"colorbar\": {\"outlinewidth\": 0, \"ticks\": \"\"}, \"colorscale\": [[0.0, \"#0d0887\"], [0.1111111111111111, \"#46039f\"], [0.2222222222222222, \"#7201a8\"], [0.3333333333333333, \"#9c179e\"], [0.4444444444444444, \"#bd3786\"], [0.5555555555555556, \"#d8576b\"], [0.6666666666666666, \"#ed7953\"], [0.7777777777777778, \"#fb9f3a\"], [0.8888888888888888, \"#fdca26\"], [1.0, \"#f0f921\"]], \"type\": \"histogram2d\"}], \"histogram2dcontour\": [{\"colorbar\": {\"outlinewidth\": 0, \"ticks\": \"\"}, \"colorscale\": [[0.0, \"#0d0887\"], [0.1111111111111111, \"#46039f\"], [0.2222222222222222, \"#7201a8\"], [0.3333333333333333, \"#9c179e\"], [0.4444444444444444, \"#bd3786\"], [0.5555555555555556, \"#d8576b\"], [0.6666666666666666, \"#ed7953\"], [0.7777777777777778, \"#fb9f3a\"], [0.8888888888888888, \"#fdca26\"], [1.0, \"#f0f921\"]], \"type\": \"histogram2dcontour\"}], \"mesh3d\": [{\"colorbar\": {\"outlinewidth\": 0, \"ticks\": \"\"}, \"type\": \"mesh3d\"}], \"parcoords\": [{\"line\": {\"colorbar\": {\"outlinewidth\": 0, \"ticks\": \"\"}}, \"type\": \"parcoords\"}], \"pie\": [{\"automargin\": true, \"type\": \"pie\"}], \"scatter\": [{\"marker\": {\"colorbar\": {\"outlinewidth\": 0, \"ticks\": \"\"}}, \"type\": \"scatter\"}], \"scatter3d\": [{\"line\": {\"colorbar\": {\"outlinewidth\": 0, \"ticks\": \"\"}}, \"marker\": {\"colorbar\": {\"outlinewidth\": 0, \"ticks\": \"\"}}, \"type\": \"scatter3d\"}], \"scattercarpet\": [{\"marker\": {\"colorbar\": {\"outlinewidth\": 0, \"ticks\": \"\"}}, \"type\": \"scattercarpet\"}], \"scattergeo\": [{\"marker\": {\"colorbar\": {\"outlinewidth\": 0, \"ticks\": \"\"}}, \"type\": \"scattergeo\"}], \"scattergl\": [{\"marker\": {\"colorbar\": {\"outlinewidth\": 0, \"ticks\": \"\"}}, \"type\": \"scattergl\"}], \"scattermapbox\": [{\"marker\": {\"colorbar\": {\"outlinewidth\": 0, \"ticks\": \"\"}}, \"type\": \"scattermapbox\"}], \"scatterpolar\": [{\"marker\": {\"colorbar\": {\"outlinewidth\": 0, \"ticks\": \"\"}}, \"type\": \"scatterpolar\"}], \"scatterpolargl\": [{\"marker\": {\"colorbar\": {\"outlinewidth\": 0, \"ticks\": \"\"}}, \"type\": \"scatterpolargl\"}], \"scatterternary\": [{\"marker\": {\"colorbar\": {\"outlinewidth\": 0, \"ticks\": \"\"}}, \"type\": \"scatterternary\"}], \"surface\": [{\"colorbar\": {\"outlinewidth\": 0, \"ticks\": \"\"}, \"colorscale\": [[0.0, \"#0d0887\"], [0.1111111111111111, \"#46039f\"], [0.2222222222222222, \"#7201a8\"], [0.3333333333333333, \"#9c179e\"], [0.4444444444444444, \"#bd3786\"], [0.5555555555555556, \"#d8576b\"], [0.6666666666666666, \"#ed7953\"], [0.7777777777777778, \"#fb9f3a\"], [0.8888888888888888, \"#fdca26\"], [1.0, \"#f0f921\"]], \"type\": \"surface\"}], \"table\": [{\"cells\": {\"fill\": {\"color\": \"#EBF0F8\"}, \"line\": {\"color\": \"white\"}}, \"header\": {\"fill\": {\"color\": \"#C8D4E3\"}, \"line\": {\"color\": \"white\"}}, \"type\": \"table\"}]}, \"layout\": {\"annotationdefaults\": {\"arrowcolor\": \"#2a3f5f\", \"arrowhead\": 0, \"arrowwidth\": 1}, \"coloraxis\": {\"colorbar\": {\"outlinewidth\": 0, \"ticks\": \"\"}}, \"colorscale\": {\"diverging\": [[0, \"#8e0152\"], [0.1, \"#c51b7d\"], [0.2, \"#de77ae\"], [0.3, \"#f1b6da\"], [0.4, \"#fde0ef\"], [0.5, \"#f7f7f7\"], [0.6, \"#e6f5d0\"], [0.7, \"#b8e186\"], [0.8, \"#7fbc41\"], [0.9, \"#4d9221\"], [1, \"#276419\"]], \"sequential\": [[0.0, \"#0d0887\"], [0.1111111111111111, \"#46039f\"], [0.2222222222222222, \"#7201a8\"], [0.3333333333333333, \"#9c179e\"], [0.4444444444444444, \"#bd3786\"], [0.5555555555555556, \"#d8576b\"], [0.6666666666666666, \"#ed7953\"], [0.7777777777777778, \"#fb9f3a\"], [0.8888888888888888, \"#fdca26\"], [1.0, \"#f0f921\"]], \"sequentialminus\": [[0.0, \"#0d0887\"], [0.1111111111111111, \"#46039f\"], [0.2222222222222222, \"#7201a8\"], [0.3333333333333333, \"#9c179e\"], [0.4444444444444444, \"#bd3786\"], [0.5555555555555556, \"#d8576b\"], [0.6666666666666666, \"#ed7953\"], [0.7777777777777778, \"#fb9f3a\"], [0.8888888888888888, \"#fdca26\"], [1.0, \"#f0f921\"]]}, \"colorway\": [\"#636efa\", \"#EF553B\", \"#00cc96\", \"#ab63fa\", \"#FFA15A\", \"#19d3f3\", \"#FF6692\", \"#B6E880\", \"#FF97FF\", \"#FECB52\"], \"font\": {\"color\": \"#2a3f5f\"}, \"geo\": {\"bgcolor\": \"white\", \"lakecolor\": \"white\", \"landcolor\": \"#E5ECF6\", \"showlakes\": true, \"showland\": true, \"subunitcolor\": \"white\"}, \"hoverlabel\": {\"align\": \"left\"}, \"hovermode\": \"closest\", \"mapbox\": {\"style\": \"light\"}, \"paper_bgcolor\": \"white\", \"plot_bgcolor\": \"#E5ECF6\", \"polar\": {\"angularaxis\": {\"gridcolor\": \"white\", \"linecolor\": \"white\", \"ticks\": \"\"}, \"bgcolor\": \"#E5ECF6\", \"radialaxis\": {\"gridcolor\": \"white\", \"linecolor\": \"white\", \"ticks\": \"\"}}, \"scene\": {\"xaxis\": {\"backgroundcolor\": \"#E5ECF6\", \"gridcolor\": \"white\", \"gridwidth\": 2, \"linecolor\": \"white\", \"showbackground\": true, \"ticks\": \"\", \"zerolinecolor\": \"white\"}, \"yaxis\": {\"backgroundcolor\": \"#E5ECF6\", \"gridcolor\": \"white\", \"gridwidth\": 2, \"linecolor\": \"white\", \"showbackground\": true, \"ticks\": \"\", \"zerolinecolor\": \"white\"}, \"zaxis\": {\"backgroundcolor\": \"#E5ECF6\", \"gridcolor\": \"white\", \"gridwidth\": 2, \"linecolor\": \"white\", \"showbackground\": true, \"ticks\": \"\", \"zerolinecolor\": \"white\"}}, \"shapedefaults\": {\"line\": {\"color\": \"#2a3f5f\"}}, \"ternary\": {\"aaxis\": {\"gridcolor\": \"white\", \"linecolor\": \"white\", \"ticks\": \"\"}, \"baxis\": {\"gridcolor\": \"white\", \"linecolor\": \"white\", \"ticks\": \"\"}, \"bgcolor\": \"#E5ECF6\", \"caxis\": {\"gridcolor\": \"white\", \"linecolor\": \"white\", \"ticks\": \"\"}}, \"title\": {\"x\": 0.05}, \"xaxis\": {\"automargin\": true, \"gridcolor\": \"white\", \"linecolor\": \"white\", \"ticks\": \"\", \"title\": {\"standoff\": 15}, \"zerolinecolor\": \"white\", \"zerolinewidth\": 2}, \"yaxis\": {\"automargin\": true, \"gridcolor\": \"white\", \"linecolor\": \"white\", \"ticks\": \"\", \"title\": {\"standoff\": 15}, \"zerolinecolor\": \"white\", \"zerolinewidth\": 2}}}, \"title\": {\"text\": \"Actual vs Expected Drop Rates for Hall of Fame Chests\"}, \"xaxis\": {\"range\": [1, 16], \"title\": {\"text\": \"Level\"}}, \"yaxis\": {\"title\": {\"text\": \"Frequency\"}}},\n",
              "                        {\"responsive\": true}\n",
              "                    ).then(function(){\n",
              "                            \n",
              "var gd = document.getElementById('b1b06e01-9700-45f2-8817-f25b9b704eb4');\n",
              "var x = new MutationObserver(function (mutations, observer) {{\n",
              "        var display = window.getComputedStyle(gd).display;\n",
              "        if (!display || display === 'none') {{\n",
              "            console.log([gd, 'removed!']);\n",
              "            Plotly.purge(gd);\n",
              "            observer.disconnect();\n",
              "        }}\n",
              "}});\n",
              "\n",
              "// Listen for the removal of the full notebook cells\n",
              "var notebookContainer = gd.closest('#notebook-container');\n",
              "if (notebookContainer) {{\n",
              "    x.observe(notebookContainer, {childList: true});\n",
              "}}\n",
              "\n",
              "// Listen for the clearing of the current output cell\n",
              "var outputEl = gd.closest('.output');\n",
              "if (outputEl) {{\n",
              "    x.observe(outputEl, {childList: true});\n",
              "}}\n",
              "\n",
              "                        })\n",
              "                };\n",
              "                \n",
              "            </script>\n",
              "        </div>\n",
              "</body>\n",
              "</html>"
            ]
          },
          "metadata": {
            "tags": []
          }
        }
      ]
    }
  ]
}