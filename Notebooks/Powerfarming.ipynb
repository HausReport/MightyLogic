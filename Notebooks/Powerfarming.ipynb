{
  "nbformat": 4,
  "nbformat_minor": 0,
  "metadata": {
    "colab": {
      "name": "Powerfarming.ipynb",
      "provenance": [],
      "authorship_tag": "ABX9TyP2rVDkI7t0fDIpsb7OtL8g",
      "include_colab_link": true
    },
    "kernelspec": {
      "name": "python3",
      "display_name": "Python 3"
    },
    "language_info": {
      "name": "python"
    }
  },
  "cells": [
    {
      "cell_type": "markdown",
      "metadata": {
        "id": "view-in-github",
        "colab_type": "text"
      },
      "source": [
        "<a href=\"https://colab.research.google.com/github/HausReport/MightyLogic/blob/master/Notebooks/Powerfarming.ipynb\" target=\"_parent\"><img src=\"https://colab.research.google.com/assets/colab-badge.svg\" alt=\"Open In Colab\"/></a>"
      ]
    },
    {
      "cell_type": "code",
      "metadata": {
        "id": "EfcJFVFnqYSa"
      },
      "source": [
        "import pandas as pd\n",
        "import re\n",
        "import plotly.express as px\n"
      ],
      "execution_count": 49,
      "outputs": []
    },
    {
      "cell_type": "markdown",
      "metadata": {
        "id": "3DFv0D4HdjAM"
      },
      "source": [
        "# Import Rare Heroes data from bot\n",
        "\n",
        "Run the bot command:\n",
        "\n",
        "**!collection r rare export**\n",
        "\n",
        "and paste the output between the triple quotes in the cell below.\n"
      ]
    },
    {
      "cell_type": "code",
      "metadata": {
        "colab": {
          "base_uri": "https://localhost:8080/"
        },
        "id": "TYewwjN5d3gp",
        "outputId": "b18d0e8b-7823-433c-905d-bb1445006c64"
      },
      "source": [
        "test_data = \"\"\"370: Pirate                     Level 1  Reborn 0\n",
        "367: Owl                        Level 5  Reborn 1\n",
        "366: Splintered Soul            Level 14 Reborn 1\n",
        "360: Frozen Moor Guard          Level 8  Reborn 1\n",
        "357: Grim Harvester             Level 8  Reborn 1\n",
        "354: Woodland Hermit            Level 8  Reborn 1\n",
        "351: Mor Lock                   Level 8  Reborn 1\n",
        "348: Crusader                   Level 10 Reborn 0\n",
        "345: Mantis                     Level 10 Reborn 0\n",
        "342: Elf Slayer                 Level 8  Reborn 1\n",
        "339: Fan Dancer                 Level 8  Reborn 1\n",
        "336: Jötunn                     Level 10 Reborn 0\n",
        "333: Visitor                    Level 6  Reborn 0\n",
        "327: Priestess of Equilibrium   Level 2  Reborn 0\n",
        "324: Insatiable Beast           Level 8  Reborn 1\n",
        "321: Furious Sabertooth         Level 8  Reborn 1\n",
        "318: Kunoichi                   Level 8  Reborn 1\n",
        "315: Puppet Mistress            Level 8  Reborn 1\n",
        "312: Dark Acolyte               Level 8  Reborn 1\n",
        "311: Ancient Scorpid            Level 8  Reborn 1\n",
        "308: Immortal Warrior           Level 4  Reborn 1\n",
        "305: Toothy Thuggie             Level 10 Reborn 0\n",
        "302: Moon Child                 Level 8  Reborn 1\n",
        "299: Gravekeeper                Level 1  Reborn 1\n",
        "296: Junk Rat                   Level 1  Reborn 1\n",
        "293: Scarecrow                  Level 10 Reborn 1\n",
        "290: Young Primate              Level 6  Reborn 0\n",
        "287: Nomad                      Level 6  Reborn 0\n",
        "284: Sage Disciple              Level 11 Reborn 1\n",
        "281: Demon Orb                  Level 10 Reborn 0\n",
        "278: Demon Huntress             Level 12 Reborn 1\n",
        "275: Samurai Dog                Level 10 Reborn 1\n",
        "272: Cyclop                     Level 10 Reborn 0\n",
        "263: Igneous Girl               Level 10 Reborn 1\n",
        "251: The Undisputed             Level 8  Reborn 0\n",
        "248: Necromancer                Level 8  Reborn 1\n",
        "244: Scratchy                   Level 8  Reborn 1\n",
        "243: Planty                     Level 10 Reborn 0\n",
        "240: Monk                       Level 10 Reborn 1\n",
        "236: Clever Viper               Level 10 Reborn 1\n",
        "233: Druid                      Level 6  Reborn 0\n",
        "228: Celestial Maiden           Level 10 Reborn 0\n",
        "218: The Aqua Spirit            Level 12 Reborn 2\n",
        "213: Friendly Spirit            Level 10 Reborn 1\n",
        "210: Talking Skull              Level 10 Reborn 1\n",
        "207: Death Whelpling            Level 12 Reborn 1\n",
        "204: Wild Huntress              Level 10 Reborn 1\n",
        "201: Thunder                    Level 10 Reborn 1\n",
        "198: Jester-Killer              Level 10 Reborn 1\n",
        "194: Cultist                    Level 10 Reborn 1\n",
        "191: Rock                       Level 10 Reborn 0\n",
        "188: Wood Elf                   Level 10 Reborn 1\n",
        "185: Valkyrie                   Level 10 Reborn 1\n",
        "184: Flesh Spawn                Level 12 Reborn 1\n",
        "174: Pyromancer                 Level 6  Reborn 1\n",
        "171: Wonder Girl                Level 10 Reborn 0\n",
        "168: Old bones                  Level 10 Reborn 1\n",
        "165: Baby rattle                Level 10 Reborn 0\n",
        "159: Treant                     Level 10 Reborn 1\n",
        "152: Ding Viesel                Level 1  Reborn 1\n",
        "149: Piece of Ice               Level 10 Reborn 0\n",
        "146: Harpy                      Level 10 Reborn 1\n",
        "143: Dream Whelpling            Level 10 Reborn 1\n",
        "140: Wind Snake                 Level 10 Reborn 1\n",
        "137: Skeleton                   Level 6  Reborn 0\n",
        "134: Mummy                      Level 10 Reborn 1\n",
        "131: Dark Warrior               Level 10 Reborn 1\n",
        "128: Berserk                    Level 1  Reborn 0\n",
        "125: Follower                   Level 1  Reborn 0\n",
        "121: Lady of the Warriors       Level 10 Reborn 1\n",
        "117: Voltage Tower              Level 1  Reborn 1\n",
        "111: Squire                     Level 8  Reborn 1\n",
        "110: Naga                       Level 10 Reborn 0\n",
        "107: Bully                      Level 10 Reborn 1\n",
        "101: Cactusito                  Level 10 Reborn 1\n",
        " 97: Bunny                      Level 10 Reborn 1\n",
        " 92: Untouchable                Level 10 Reborn 1\n",
        " 91: Angry Imp                  Level 10 Reborn 1\n",
        " 88: Love Mage                  Level 3  Reborn 1\n",
        " 85: Bowmaster                  Level 1  Reborn 1\n",
        " 84: Bone Hunter                Level 12 Reborn 1\n",
        " 81: Crafter                    Level 11 Reborn 1\n",
        " 80: Minstrel                   Level 6  Reborn 1\n",
        " 79: Soulblade                  Level 7  Reborn 1\n",
        " 78: Orc Master                 Level 10 Reborn 1\n",
        " 77: Dark Tree                  Level 1  Reborn 2\n",
        " 76: Forest Mage                Level 10 Reborn 0\n",
        " 73: Dark Witch                 Level 10 Reborn 1\n",
        " 70: Satyr                      Level 10 Reborn 1\n",
        " 69: Void Stone                 Level 10 Reborn 0\n",
        " 67: Pharaon                    Level 10 Reborn 1\n",
        " 66: Leaf Child                 Level 8  Reborn 1\n",
        " 30: First Aid                  Level 10 Reborn 1\n",
        " 18: Child of Chaos             Level 10 Reborn 1\n",
        " 17: Undead                     Level 10 Reborn 1\n",
        " 15: Chiropteran                Level 11 Reborn 1\n",
        " 14: Gargoyle                   Level 11 Reborn 1\n",
        " 12: Wood Spirit                Level 12 Reborn 1\n",
        " 11: Viking                     Level 10 Reborn 1\n",
        "  9: Totem                      Level 10 Reborn 1\n",
        "  8: Mr. Toad                   Level 10 Reborn 0\n",
        "  6: Priestess                  Level 6  Reborn 2\n",
        "  3: Prophet                    Level 11 Reborn 1\n",
        "\n",
        "\"\"\"\n",
        "\n",
        "#\n",
        "# Convert bot output to comma-delimited text\n",
        "#\n",
        "import re\n",
        "import pandas as pd\n",
        "\n",
        "article = test_data\n",
        "article = re.sub(r'([:][ ])', ',', article)\n",
        "article = re.sub(r'([ ]+Level[ ]+)', ',', article)\n",
        "article = re.sub(r'([ ]+Reborn[ ]+)', ',', article)  # this is comma-delimited text now\n",
        "print(article) #uncomment if you want to paste into a spreadsheet\n",
        "\n",
        "#\n",
        "# Convert comma-delimited text to python list\n",
        "#\n",
        "regex = \"(?P<id>[\\d]+),(?P<name>[\\w\\s]+),(?P<level>[\\d]+),(?P<reborn>[\\d]+)\"\n",
        "pat = re.compile(regex)\n",
        "list = pat.findall(article)\n",
        "#print(list)\n",
        "\n",
        "#\n",
        "# Convert list to dataframe\n",
        "#\n",
        "df = pd.DataFrame(list,columns=['ID','Name','Level','Reborn'])\n",
        "rare_hero_levels = df[\"Level\"]\n",
        "df['Level'] = df['Level'].astype(int)\n",
        "\n",
        "#df"
      ],
      "execution_count": 50,
      "outputs": [
        {
          "output_type": "stream",
          "text": [
            "370,Pirate,1,0\n",
            "367,Owl,5,1\n",
            "366,Splintered Soul,14,1\n",
            "360,Frozen Moor Guard,8,1\n",
            "357,Grim Harvester,8,1\n",
            "354,Woodland Hermit,8,1\n",
            "351,Mor Lock,8,1\n",
            "348,Crusader,10,0\n",
            "345,Mantis,10,0\n",
            "342,Elf Slayer,8,1\n",
            "339,Fan Dancer,8,1\n",
            "336,Jötunn,10,0\n",
            "333,Visitor,6,0\n",
            "327,Priestess of Equilibrium,2,0\n",
            "324,Insatiable Beast,8,1\n",
            "321,Furious Sabertooth,8,1\n",
            "318,Kunoichi,8,1\n",
            "315,Puppet Mistress,8,1\n",
            "312,Dark Acolyte,8,1\n",
            "311,Ancient Scorpid,8,1\n",
            "308,Immortal Warrior,4,1\n",
            "305,Toothy Thuggie,10,0\n",
            "302,Moon Child,8,1\n",
            "299,Gravekeeper,1,1\n",
            "296,Junk Rat,1,1\n",
            "293,Scarecrow,10,1\n",
            "290,Young Primate,6,0\n",
            "287,Nomad,6,0\n",
            "284,Sage Disciple,11,1\n",
            "281,Demon Orb,10,0\n",
            "278,Demon Huntress,12,1\n",
            "275,Samurai Dog,10,1\n",
            "272,Cyclop,10,0\n",
            "263,Igneous Girl,10,1\n",
            "251,The Undisputed,8,0\n",
            "248,Necromancer,8,1\n",
            "244,Scratchy,8,1\n",
            "243,Planty,10,0\n",
            "240,Monk,10,1\n",
            "236,Clever Viper,10,1\n",
            "233,Druid,6,0\n",
            "228,Celestial Maiden,10,0\n",
            "218,The Aqua Spirit,12,2\n",
            "213,Friendly Spirit,10,1\n",
            "210,Talking Skull,10,1\n",
            "207,Death Whelpling,12,1\n",
            "204,Wild Huntress,10,1\n",
            "201,Thunder,10,1\n",
            "198,Jester-Killer,10,1\n",
            "194,Cultist,10,1\n",
            "191,Rock,10,0\n",
            "188,Wood Elf,10,1\n",
            "185,Valkyrie,10,1\n",
            "184,Flesh Spawn,12,1\n",
            "174,Pyromancer,6,1\n",
            "171,Wonder Girl,10,0\n",
            "168,Old bones,10,1\n",
            "165,Baby rattle,10,0\n",
            "159,Treant,10,1\n",
            "152,Ding Viesel,1,1\n",
            "149,Piece of Ice,10,0\n",
            "146,Harpy,10,1\n",
            "143,Dream Whelpling,10,1\n",
            "140,Wind Snake,10,1\n",
            "137,Skeleton,6,0\n",
            "134,Mummy,10,1\n",
            "131,Dark Warrior,10,1\n",
            "128,Berserk,1,0\n",
            "125,Follower,1,0\n",
            "121,Lady of the Warriors,10,1\n",
            "117,Voltage Tower,1,1\n",
            "111,Squire,8,1\n",
            "110,Naga,10,0\n",
            "107,Bully,10,1\n",
            "101,Cactusito,10,1\n",
            " 97,Bunny,10,1\n",
            " 92,Untouchable,10,1\n",
            " 91,Angry Imp,10,1\n",
            " 88,Love Mage,3,1\n",
            " 85,Bowmaster,1,1\n",
            " 84,Bone Hunter,12,1\n",
            " 81,Crafter,11,1\n",
            " 80,Minstrel,6,1\n",
            " 79,Soulblade,7,1\n",
            " 78,Orc Master,10,1\n",
            " 77,Dark Tree,1,2\n",
            " 76,Forest Mage,10,0\n",
            " 73,Dark Witch,10,1\n",
            " 70,Satyr,10,1\n",
            " 69,Void Stone,10,0\n",
            " 67,Pharaon,10,1\n",
            " 66,Leaf Child,8,1\n",
            " 30,First Aid,10,1\n",
            " 18,Child of Chaos,10,1\n",
            " 17,Undead,10,1\n",
            " 15,Chiropteran,11,1\n",
            " 14,Gargoyle,11,1\n",
            " 12,Wood Spirit,12,1\n",
            " 11,Viking,10,1\n",
            "  9,Totem,10,1\n",
            "  8,Mr. Toad,10,0\n",
            "  6,Priestess,6,2\n",
            "  3,Prophet,11,1\n",
            "\n",
            "\n"
          ],
          "name": "stdout"
        }
      ]
    },
    {
      "cell_type": "markdown",
      "metadata": {
        "id": "FDGqdItUd5mK"
      },
      "source": [
        "# Record Rare Chest data below"
      ]
    },
    {
      "cell_type": "code",
      "metadata": {
        "id": "KxUwnOkaqJjJ",
        "colab": {
          "base_uri": "https://localhost:8080/",
          "height": 886
        },
        "outputId": "f0caf105-757f-424f-e19e-3d3e0fa2a9d6"
      },
      "source": [
        "rare_chest_levels = pd.DataFrame(\n",
        "    [12,1,2,10,1,10,10,8,2,10,10,8,10,5,10, 12, 1, 10,1, 10, 1, 10, 10,8,10, 3, 1],\n",
        "    columns=[\"Level\"])\n",
        "rare_journey_rewards_levels = pd.DataFrame([10,1,1,10,8,1,10,1], columns=[\"Level\"])\n",
        "mercenary_summon_levels = pd.DataFrame([14,3,13,10,10], columns=[\"Level\"])\n",
        "rare_chest_levels"
      ],
      "execution_count": 51,
      "outputs": [
        {
          "output_type": "execute_result",
          "data": {
            "text/html": [
              "<div>\n",
              "<style scoped>\n",
              "    .dataframe tbody tr th:only-of-type {\n",
              "        vertical-align: middle;\n",
              "    }\n",
              "\n",
              "    .dataframe tbody tr th {\n",
              "        vertical-align: top;\n",
              "    }\n",
              "\n",
              "    .dataframe thead th {\n",
              "        text-align: right;\n",
              "    }\n",
              "</style>\n",
              "<table border=\"1\" class=\"dataframe\">\n",
              "  <thead>\n",
              "    <tr style=\"text-align: right;\">\n",
              "      <th></th>\n",
              "      <th>Level</th>\n",
              "    </tr>\n",
              "  </thead>\n",
              "  <tbody>\n",
              "    <tr>\n",
              "      <th>0</th>\n",
              "      <td>12</td>\n",
              "    </tr>\n",
              "    <tr>\n",
              "      <th>1</th>\n",
              "      <td>1</td>\n",
              "    </tr>\n",
              "    <tr>\n",
              "      <th>2</th>\n",
              "      <td>2</td>\n",
              "    </tr>\n",
              "    <tr>\n",
              "      <th>3</th>\n",
              "      <td>10</td>\n",
              "    </tr>\n",
              "    <tr>\n",
              "      <th>4</th>\n",
              "      <td>1</td>\n",
              "    </tr>\n",
              "    <tr>\n",
              "      <th>5</th>\n",
              "      <td>10</td>\n",
              "    </tr>\n",
              "    <tr>\n",
              "      <th>6</th>\n",
              "      <td>10</td>\n",
              "    </tr>\n",
              "    <tr>\n",
              "      <th>7</th>\n",
              "      <td>8</td>\n",
              "    </tr>\n",
              "    <tr>\n",
              "      <th>8</th>\n",
              "      <td>2</td>\n",
              "    </tr>\n",
              "    <tr>\n",
              "      <th>9</th>\n",
              "      <td>10</td>\n",
              "    </tr>\n",
              "    <tr>\n",
              "      <th>10</th>\n",
              "      <td>10</td>\n",
              "    </tr>\n",
              "    <tr>\n",
              "      <th>11</th>\n",
              "      <td>8</td>\n",
              "    </tr>\n",
              "    <tr>\n",
              "      <th>12</th>\n",
              "      <td>10</td>\n",
              "    </tr>\n",
              "    <tr>\n",
              "      <th>13</th>\n",
              "      <td>5</td>\n",
              "    </tr>\n",
              "    <tr>\n",
              "      <th>14</th>\n",
              "      <td>10</td>\n",
              "    </tr>\n",
              "    <tr>\n",
              "      <th>15</th>\n",
              "      <td>12</td>\n",
              "    </tr>\n",
              "    <tr>\n",
              "      <th>16</th>\n",
              "      <td>1</td>\n",
              "    </tr>\n",
              "    <tr>\n",
              "      <th>17</th>\n",
              "      <td>10</td>\n",
              "    </tr>\n",
              "    <tr>\n",
              "      <th>18</th>\n",
              "      <td>1</td>\n",
              "    </tr>\n",
              "    <tr>\n",
              "      <th>19</th>\n",
              "      <td>10</td>\n",
              "    </tr>\n",
              "    <tr>\n",
              "      <th>20</th>\n",
              "      <td>1</td>\n",
              "    </tr>\n",
              "    <tr>\n",
              "      <th>21</th>\n",
              "      <td>10</td>\n",
              "    </tr>\n",
              "    <tr>\n",
              "      <th>22</th>\n",
              "      <td>10</td>\n",
              "    </tr>\n",
              "    <tr>\n",
              "      <th>23</th>\n",
              "      <td>8</td>\n",
              "    </tr>\n",
              "    <tr>\n",
              "      <th>24</th>\n",
              "      <td>10</td>\n",
              "    </tr>\n",
              "    <tr>\n",
              "      <th>25</th>\n",
              "      <td>3</td>\n",
              "    </tr>\n",
              "    <tr>\n",
              "      <th>26</th>\n",
              "      <td>1</td>\n",
              "    </tr>\n",
              "  </tbody>\n",
              "</table>\n",
              "</div>"
            ],
            "text/plain": [
              "    Level\n",
              "0      12\n",
              "1       1\n",
              "2       2\n",
              "3      10\n",
              "4       1\n",
              "5      10\n",
              "6      10\n",
              "7       8\n",
              "8       2\n",
              "9      10\n",
              "10     10\n",
              "11      8\n",
              "12     10\n",
              "13      5\n",
              "14     10\n",
              "15     12\n",
              "16      1\n",
              "17     10\n",
              "18      1\n",
              "19     10\n",
              "20      1\n",
              "21     10\n",
              "22     10\n",
              "23      8\n",
              "24     10\n",
              "25      3\n",
              "26      1"
            ]
          },
          "metadata": {
            "tags": []
          },
          "execution_count": 51
        }
      ]
    },
    {
      "cell_type": "markdown",
      "metadata": {
        "id": "uQj5_SFCYOTG"
      },
      "source": [
        "# Analyze the results"
      ]
    },
    {
      "cell_type": "code",
      "metadata": {
        "colab": {
          "base_uri": "https://localhost:8080/",
          "height": 297
        },
        "id": "afNbDuvaqnRH",
        "outputId": "99145efa-ec13-43ef-db9f-a4ed287f0bc2"
      },
      "source": [
        "rare_chest_levels.describe()"
      ],
      "execution_count": 52,
      "outputs": [
        {
          "output_type": "execute_result",
          "data": {
            "text/html": [
              "<div>\n",
              "<style scoped>\n",
              "    .dataframe tbody tr th:only-of-type {\n",
              "        vertical-align: middle;\n",
              "    }\n",
              "\n",
              "    .dataframe tbody tr th {\n",
              "        vertical-align: top;\n",
              "    }\n",
              "\n",
              "    .dataframe thead th {\n",
              "        text-align: right;\n",
              "    }\n",
              "</style>\n",
              "<table border=\"1\" class=\"dataframe\">\n",
              "  <thead>\n",
              "    <tr style=\"text-align: right;\">\n",
              "      <th></th>\n",
              "      <th>Level</th>\n",
              "    </tr>\n",
              "  </thead>\n",
              "  <tbody>\n",
              "    <tr>\n",
              "      <th>count</th>\n",
              "      <td>27.000000</td>\n",
              "    </tr>\n",
              "    <tr>\n",
              "      <th>mean</th>\n",
              "      <td>6.888889</td>\n",
              "    </tr>\n",
              "    <tr>\n",
              "      <th>std</th>\n",
              "      <td>4.144814</td>\n",
              "    </tr>\n",
              "    <tr>\n",
              "      <th>min</th>\n",
              "      <td>1.000000</td>\n",
              "    </tr>\n",
              "    <tr>\n",
              "      <th>25%</th>\n",
              "      <td>2.000000</td>\n",
              "    </tr>\n",
              "    <tr>\n",
              "      <th>50%</th>\n",
              "      <td>10.000000</td>\n",
              "    </tr>\n",
              "    <tr>\n",
              "      <th>75%</th>\n",
              "      <td>10.000000</td>\n",
              "    </tr>\n",
              "    <tr>\n",
              "      <th>max</th>\n",
              "      <td>12.000000</td>\n",
              "    </tr>\n",
              "  </tbody>\n",
              "</table>\n",
              "</div>"
            ],
            "text/plain": [
              "           Level\n",
              "count  27.000000\n",
              "mean    6.888889\n",
              "std     4.144814\n",
              "min     1.000000\n",
              "25%     2.000000\n",
              "50%    10.000000\n",
              "75%    10.000000\n",
              "max    12.000000"
            ]
          },
          "metadata": {
            "tags": []
          },
          "execution_count": 52
        }
      ]
    },
    {
      "cell_type": "code",
      "metadata": {
        "colab": {
          "base_uri": "https://localhost:8080/"
        },
        "id": "VTHrkBS8ez6S",
        "outputId": "289eb8ac-8901-4418-d411-46d2d1e96a7b"
      },
      "source": [
        "#rare_hero_levels.describe()\n",
        "df[\"Level\"].describe()"
      ],
      "execution_count": 53,
      "outputs": [
        {
          "output_type": "execute_result",
          "data": {
            "text/plain": [
              "count    101.000000\n",
              "mean       8.445545\n",
              "std        3.021507\n",
              "min        1.000000\n",
              "25%        8.000000\n",
              "50%       10.000000\n",
              "75%       10.000000\n",
              "max       14.000000\n",
              "Name: Level, dtype: float64"
            ]
          },
          "metadata": {
            "tags": []
          },
          "execution_count": 53
        }
      ]
    },
    {
      "cell_type": "code",
      "metadata": {
        "colab": {
          "base_uri": "https://localhost:8080/",
          "height": 542
        },
        "id": "OegA-f6Rfef6",
        "outputId": "772be7bf-fc9c-42e9-c55a-885ddca0e40d"
      },
      "source": [
        "px.histogram(data_frame=df,x=\"Level\", nbins=16)"
      ],
      "execution_count": 54,
      "outputs": [
        {
          "output_type": "display_data",
          "data": {
            "text/html": [
              "<html>\n",
              "<head><meta charset=\"utf-8\" /></head>\n",
              "<body>\n",
              "    <div>\n",
              "            <script src=\"https://cdnjs.cloudflare.com/ajax/libs/mathjax/2.7.5/MathJax.js?config=TeX-AMS-MML_SVG\"></script><script type=\"text/javascript\">if (window.MathJax) {MathJax.Hub.Config({SVG: {font: \"STIX-Web\"}});}</script>\n",
              "                <script type=\"text/javascript\">window.PlotlyConfig = {MathJaxConfig: 'local'};</script>\n",
              "        <script src=\"https://cdn.plot.ly/plotly-latest.min.js\"></script>    \n",
              "            <div id=\"c527fc4a-7e6c-4284-b39e-5d5b731f5f70\" class=\"plotly-graph-div\" style=\"height:525px; width:100%;\"></div>\n",
              "            <script type=\"text/javascript\">\n",
              "                \n",
              "                    window.PLOTLYENV=window.PLOTLYENV || {};\n",
              "                    \n",
              "                if (document.getElementById(\"c527fc4a-7e6c-4284-b39e-5d5b731f5f70\")) {\n",
              "                    Plotly.newPlot(\n",
              "                        'c527fc4a-7e6c-4284-b39e-5d5b731f5f70',\n",
              "                        [{\"alignmentgroup\": \"True\", \"bingroup\": \"x\", \"hoverlabel\": {\"namelength\": 0}, \"hovertemplate\": \"Level=%{x}<br>count=%{y}\", \"legendgroup\": \"\", \"marker\": {\"color\": \"#636efa\"}, \"name\": \"\", \"nbinsx\": 16, \"offsetgroup\": \"\", \"orientation\": \"v\", \"showlegend\": false, \"type\": \"histogram\", \"x\": [1, 5, 14, 8, 8, 8, 8, 10, 10, 8, 8, 10, 6, 2, 8, 8, 8, 8, 8, 8, 4, 10, 8, 1, 1, 10, 6, 6, 11, 10, 12, 10, 10, 10, 8, 8, 8, 10, 10, 10, 6, 10, 12, 10, 10, 12, 10, 10, 10, 10, 10, 10, 12, 6, 10, 10, 10, 10, 1, 10, 10, 10, 10, 6, 10, 10, 1, 1, 10, 1, 8, 10, 10, 10, 10, 10, 10, 3, 1, 12, 11, 6, 7, 10, 1, 10, 10, 10, 10, 10, 8, 10, 10, 10, 11, 11, 12, 10, 10, 6, 11], \"xaxis\": \"x\", \"yaxis\": \"y\"}],\n",
              "                        {\"barmode\": \"relative\", \"legend\": {\"tracegroupgap\": 0}, \"margin\": {\"t\": 60}, \"template\": {\"data\": {\"bar\": [{\"error_x\": {\"color\": \"#2a3f5f\"}, \"error_y\": {\"color\": \"#2a3f5f\"}, \"marker\": {\"line\": {\"color\": \"#E5ECF6\", \"width\": 0.5}}, \"type\": \"bar\"}], \"barpolar\": [{\"marker\": {\"line\": {\"color\": \"#E5ECF6\", \"width\": 0.5}}, \"type\": \"barpolar\"}], \"carpet\": [{\"aaxis\": {\"endlinecolor\": \"#2a3f5f\", \"gridcolor\": \"white\", \"linecolor\": \"white\", \"minorgridcolor\": \"white\", \"startlinecolor\": \"#2a3f5f\"}, \"baxis\": {\"endlinecolor\": \"#2a3f5f\", \"gridcolor\": \"white\", \"linecolor\": \"white\", \"minorgridcolor\": \"white\", \"startlinecolor\": \"#2a3f5f\"}, \"type\": \"carpet\"}], \"choropleth\": [{\"colorbar\": {\"outlinewidth\": 0, \"ticks\": \"\"}, \"type\": \"choropleth\"}], \"contour\": [{\"colorbar\": {\"outlinewidth\": 0, \"ticks\": \"\"}, \"colorscale\": [[0.0, \"#0d0887\"], [0.1111111111111111, \"#46039f\"], [0.2222222222222222, \"#7201a8\"], [0.3333333333333333, \"#9c179e\"], [0.4444444444444444, \"#bd3786\"], [0.5555555555555556, \"#d8576b\"], [0.6666666666666666, \"#ed7953\"], [0.7777777777777778, \"#fb9f3a\"], [0.8888888888888888, \"#fdca26\"], [1.0, \"#f0f921\"]], \"type\": \"contour\"}], \"contourcarpet\": [{\"colorbar\": {\"outlinewidth\": 0, \"ticks\": \"\"}, \"type\": \"contourcarpet\"}], \"heatmap\": [{\"colorbar\": {\"outlinewidth\": 0, \"ticks\": \"\"}, \"colorscale\": [[0.0, \"#0d0887\"], [0.1111111111111111, \"#46039f\"], [0.2222222222222222, \"#7201a8\"], [0.3333333333333333, \"#9c179e\"], [0.4444444444444444, \"#bd3786\"], [0.5555555555555556, \"#d8576b\"], [0.6666666666666666, \"#ed7953\"], [0.7777777777777778, \"#fb9f3a\"], [0.8888888888888888, \"#fdca26\"], [1.0, \"#f0f921\"]], \"type\": \"heatmap\"}], \"heatmapgl\": [{\"colorbar\": {\"outlinewidth\": 0, \"ticks\": \"\"}, \"colorscale\": [[0.0, \"#0d0887\"], [0.1111111111111111, \"#46039f\"], [0.2222222222222222, \"#7201a8\"], [0.3333333333333333, \"#9c179e\"], [0.4444444444444444, \"#bd3786\"], [0.5555555555555556, \"#d8576b\"], [0.6666666666666666, \"#ed7953\"], [0.7777777777777778, \"#fb9f3a\"], [0.8888888888888888, \"#fdca26\"], [1.0, \"#f0f921\"]], \"type\": \"heatmapgl\"}], \"histogram\": [{\"marker\": {\"colorbar\": {\"outlinewidth\": 0, \"ticks\": \"\"}}, \"type\": \"histogram\"}], \"histogram2d\": [{\"colorbar\": {\"outlinewidth\": 0, \"ticks\": \"\"}, \"colorscale\": [[0.0, \"#0d0887\"], [0.1111111111111111, \"#46039f\"], [0.2222222222222222, \"#7201a8\"], [0.3333333333333333, \"#9c179e\"], [0.4444444444444444, \"#bd3786\"], [0.5555555555555556, \"#d8576b\"], [0.6666666666666666, \"#ed7953\"], [0.7777777777777778, \"#fb9f3a\"], [0.8888888888888888, \"#fdca26\"], [1.0, \"#f0f921\"]], \"type\": \"histogram2d\"}], \"histogram2dcontour\": [{\"colorbar\": {\"outlinewidth\": 0, \"ticks\": \"\"}, \"colorscale\": [[0.0, \"#0d0887\"], [0.1111111111111111, \"#46039f\"], [0.2222222222222222, \"#7201a8\"], [0.3333333333333333, \"#9c179e\"], [0.4444444444444444, \"#bd3786\"], [0.5555555555555556, \"#d8576b\"], [0.6666666666666666, \"#ed7953\"], [0.7777777777777778, \"#fb9f3a\"], [0.8888888888888888, \"#fdca26\"], [1.0, \"#f0f921\"]], \"type\": \"histogram2dcontour\"}], \"mesh3d\": [{\"colorbar\": {\"outlinewidth\": 0, \"ticks\": \"\"}, \"type\": \"mesh3d\"}], \"parcoords\": [{\"line\": {\"colorbar\": {\"outlinewidth\": 0, \"ticks\": \"\"}}, \"type\": \"parcoords\"}], \"pie\": [{\"automargin\": true, \"type\": \"pie\"}], \"scatter\": [{\"marker\": {\"colorbar\": {\"outlinewidth\": 0, \"ticks\": \"\"}}, \"type\": \"scatter\"}], \"scatter3d\": [{\"line\": {\"colorbar\": {\"outlinewidth\": 0, \"ticks\": \"\"}}, \"marker\": {\"colorbar\": {\"outlinewidth\": 0, \"ticks\": \"\"}}, \"type\": \"scatter3d\"}], \"scattercarpet\": [{\"marker\": {\"colorbar\": {\"outlinewidth\": 0, \"ticks\": \"\"}}, \"type\": \"scattercarpet\"}], \"scattergeo\": [{\"marker\": {\"colorbar\": {\"outlinewidth\": 0, \"ticks\": \"\"}}, \"type\": \"scattergeo\"}], \"scattergl\": [{\"marker\": {\"colorbar\": {\"outlinewidth\": 0, \"ticks\": \"\"}}, \"type\": \"scattergl\"}], \"scattermapbox\": [{\"marker\": {\"colorbar\": {\"outlinewidth\": 0, \"ticks\": \"\"}}, \"type\": \"scattermapbox\"}], \"scatterpolar\": [{\"marker\": {\"colorbar\": {\"outlinewidth\": 0, \"ticks\": \"\"}}, \"type\": \"scatterpolar\"}], \"scatterpolargl\": [{\"marker\": {\"colorbar\": {\"outlinewidth\": 0, \"ticks\": \"\"}}, \"type\": \"scatterpolargl\"}], \"scatterternary\": [{\"marker\": {\"colorbar\": {\"outlinewidth\": 0, \"ticks\": \"\"}}, \"type\": \"scatterternary\"}], \"surface\": [{\"colorbar\": {\"outlinewidth\": 0, \"ticks\": \"\"}, \"colorscale\": [[0.0, \"#0d0887\"], [0.1111111111111111, \"#46039f\"], [0.2222222222222222, \"#7201a8\"], [0.3333333333333333, \"#9c179e\"], [0.4444444444444444, \"#bd3786\"], [0.5555555555555556, \"#d8576b\"], [0.6666666666666666, \"#ed7953\"], [0.7777777777777778, \"#fb9f3a\"], [0.8888888888888888, \"#fdca26\"], [1.0, \"#f0f921\"]], \"type\": \"surface\"}], \"table\": [{\"cells\": {\"fill\": {\"color\": \"#EBF0F8\"}, \"line\": {\"color\": \"white\"}}, \"header\": {\"fill\": {\"color\": \"#C8D4E3\"}, \"line\": {\"color\": \"white\"}}, \"type\": \"table\"}]}, \"layout\": {\"annotationdefaults\": {\"arrowcolor\": \"#2a3f5f\", \"arrowhead\": 0, \"arrowwidth\": 1}, \"coloraxis\": {\"colorbar\": {\"outlinewidth\": 0, \"ticks\": \"\"}}, \"colorscale\": {\"diverging\": [[0, \"#8e0152\"], [0.1, \"#c51b7d\"], [0.2, \"#de77ae\"], [0.3, \"#f1b6da\"], [0.4, \"#fde0ef\"], [0.5, \"#f7f7f7\"], [0.6, \"#e6f5d0\"], [0.7, \"#b8e186\"], [0.8, \"#7fbc41\"], [0.9, \"#4d9221\"], [1, \"#276419\"]], \"sequential\": [[0.0, \"#0d0887\"], [0.1111111111111111, \"#46039f\"], [0.2222222222222222, \"#7201a8\"], [0.3333333333333333, \"#9c179e\"], [0.4444444444444444, \"#bd3786\"], [0.5555555555555556, \"#d8576b\"], [0.6666666666666666, \"#ed7953\"], [0.7777777777777778, \"#fb9f3a\"], [0.8888888888888888, \"#fdca26\"], [1.0, \"#f0f921\"]], \"sequentialminus\": [[0.0, \"#0d0887\"], [0.1111111111111111, \"#46039f\"], [0.2222222222222222, \"#7201a8\"], [0.3333333333333333, \"#9c179e\"], [0.4444444444444444, \"#bd3786\"], [0.5555555555555556, \"#d8576b\"], [0.6666666666666666, \"#ed7953\"], [0.7777777777777778, \"#fb9f3a\"], [0.8888888888888888, \"#fdca26\"], [1.0, \"#f0f921\"]]}, \"colorway\": [\"#636efa\", \"#EF553B\", \"#00cc96\", \"#ab63fa\", \"#FFA15A\", \"#19d3f3\", \"#FF6692\", \"#B6E880\", \"#FF97FF\", \"#FECB52\"], \"font\": {\"color\": \"#2a3f5f\"}, \"geo\": {\"bgcolor\": \"white\", \"lakecolor\": \"white\", \"landcolor\": \"#E5ECF6\", \"showlakes\": true, \"showland\": true, \"subunitcolor\": \"white\"}, \"hoverlabel\": {\"align\": \"left\"}, \"hovermode\": \"closest\", \"mapbox\": {\"style\": \"light\"}, \"paper_bgcolor\": \"white\", \"plot_bgcolor\": \"#E5ECF6\", \"polar\": {\"angularaxis\": {\"gridcolor\": \"white\", \"linecolor\": \"white\", \"ticks\": \"\"}, \"bgcolor\": \"#E5ECF6\", \"radialaxis\": {\"gridcolor\": \"white\", \"linecolor\": \"white\", \"ticks\": \"\"}}, \"scene\": {\"xaxis\": {\"backgroundcolor\": \"#E5ECF6\", \"gridcolor\": \"white\", \"gridwidth\": 2, \"linecolor\": \"white\", \"showbackground\": true, \"ticks\": \"\", \"zerolinecolor\": \"white\"}, \"yaxis\": {\"backgroundcolor\": \"#E5ECF6\", \"gridcolor\": \"white\", \"gridwidth\": 2, \"linecolor\": \"white\", \"showbackground\": true, \"ticks\": \"\", \"zerolinecolor\": \"white\"}, \"zaxis\": {\"backgroundcolor\": \"#E5ECF6\", \"gridcolor\": \"white\", \"gridwidth\": 2, \"linecolor\": \"white\", \"showbackground\": true, \"ticks\": \"\", \"zerolinecolor\": \"white\"}}, \"shapedefaults\": {\"line\": {\"color\": \"#2a3f5f\"}}, \"ternary\": {\"aaxis\": {\"gridcolor\": \"white\", \"linecolor\": \"white\", \"ticks\": \"\"}, \"baxis\": {\"gridcolor\": \"white\", \"linecolor\": \"white\", \"ticks\": \"\"}, \"bgcolor\": \"#E5ECF6\", \"caxis\": {\"gridcolor\": \"white\", \"linecolor\": \"white\", \"ticks\": \"\"}}, \"title\": {\"x\": 0.05}, \"xaxis\": {\"automargin\": true, \"gridcolor\": \"white\", \"linecolor\": \"white\", \"ticks\": \"\", \"title\": {\"standoff\": 15}, \"zerolinecolor\": \"white\", \"zerolinewidth\": 2}, \"yaxis\": {\"automargin\": true, \"gridcolor\": \"white\", \"linecolor\": \"white\", \"ticks\": \"\", \"title\": {\"standoff\": 15}, \"zerolinecolor\": \"white\", \"zerolinewidth\": 2}}}, \"xaxis\": {\"anchor\": \"y\", \"domain\": [0.0, 1.0], \"title\": {\"text\": \"Level\"}}, \"yaxis\": {\"anchor\": \"x\", \"domain\": [0.0, 1.0], \"title\": {\"text\": \"count\"}}},\n",
              "                        {\"responsive\": true}\n",
              "                    ).then(function(){\n",
              "                            \n",
              "var gd = document.getElementById('c527fc4a-7e6c-4284-b39e-5d5b731f5f70');\n",
              "var x = new MutationObserver(function (mutations, observer) {{\n",
              "        var display = window.getComputedStyle(gd).display;\n",
              "        if (!display || display === 'none') {{\n",
              "            console.log([gd, 'removed!']);\n",
              "            Plotly.purge(gd);\n",
              "            observer.disconnect();\n",
              "        }}\n",
              "}});\n",
              "\n",
              "// Listen for the removal of the full notebook cells\n",
              "var notebookContainer = gd.closest('#notebook-container');\n",
              "if (notebookContainer) {{\n",
              "    x.observe(notebookContainer, {childList: true});\n",
              "}}\n",
              "\n",
              "// Listen for the clearing of the current output cell\n",
              "var outputEl = gd.closest('.output');\n",
              "if (outputEl) {{\n",
              "    x.observe(outputEl, {childList: true});\n",
              "}}\n",
              "\n",
              "                        })\n",
              "                };\n",
              "                \n",
              "            </script>\n",
              "        </div>\n",
              "</body>\n",
              "</html>"
            ]
          },
          "metadata": {
            "tags": []
          }
        }
      ]
    },
    {
      "cell_type": "code",
      "metadata": {
        "colab": {
          "base_uri": "https://localhost:8080/",
          "height": 542
        },
        "id": "kpsztwPohaW_",
        "outputId": "c610eef8-160b-4fc8-f101-ac3f5f37126d"
      },
      "source": [
        "px.histogram(data_frame=rare_chest_levels,x=\"Level\", nbins=16)"
      ],
      "execution_count": 55,
      "outputs": [
        {
          "output_type": "display_data",
          "data": {
            "text/html": [
              "<html>\n",
              "<head><meta charset=\"utf-8\" /></head>\n",
              "<body>\n",
              "    <div>\n",
              "            <script src=\"https://cdnjs.cloudflare.com/ajax/libs/mathjax/2.7.5/MathJax.js?config=TeX-AMS-MML_SVG\"></script><script type=\"text/javascript\">if (window.MathJax) {MathJax.Hub.Config({SVG: {font: \"STIX-Web\"}});}</script>\n",
              "                <script type=\"text/javascript\">window.PlotlyConfig = {MathJaxConfig: 'local'};</script>\n",
              "        <script src=\"https://cdn.plot.ly/plotly-latest.min.js\"></script>    \n",
              "            <div id=\"e889fee5-9273-4321-830e-896a5988ed9b\" class=\"plotly-graph-div\" style=\"height:525px; width:100%;\"></div>\n",
              "            <script type=\"text/javascript\">\n",
              "                \n",
              "                    window.PLOTLYENV=window.PLOTLYENV || {};\n",
              "                    \n",
              "                if (document.getElementById(\"e889fee5-9273-4321-830e-896a5988ed9b\")) {\n",
              "                    Plotly.newPlot(\n",
              "                        'e889fee5-9273-4321-830e-896a5988ed9b',\n",
              "                        [{\"alignmentgroup\": \"True\", \"bingroup\": \"x\", \"hoverlabel\": {\"namelength\": 0}, \"hovertemplate\": \"Level=%{x}<br>count=%{y}\", \"legendgroup\": \"\", \"marker\": {\"color\": \"#636efa\"}, \"name\": \"\", \"nbinsx\": 16, \"offsetgroup\": \"\", \"orientation\": \"v\", \"showlegend\": false, \"type\": \"histogram\", \"x\": [12, 1, 2, 10, 1, 10, 10, 8, 2, 10, 10, 8, 10, 5, 10, 12, 1, 10, 1, 10, 1, 10, 10, 8, 10, 3, 1], \"xaxis\": \"x\", \"yaxis\": \"y\"}],\n",
              "                        {\"barmode\": \"relative\", \"legend\": {\"tracegroupgap\": 0}, \"margin\": {\"t\": 60}, \"template\": {\"data\": {\"bar\": [{\"error_x\": {\"color\": \"#2a3f5f\"}, \"error_y\": {\"color\": \"#2a3f5f\"}, \"marker\": {\"line\": {\"color\": \"#E5ECF6\", \"width\": 0.5}}, \"type\": \"bar\"}], \"barpolar\": [{\"marker\": {\"line\": {\"color\": \"#E5ECF6\", \"width\": 0.5}}, \"type\": \"barpolar\"}], \"carpet\": [{\"aaxis\": {\"endlinecolor\": \"#2a3f5f\", \"gridcolor\": \"white\", \"linecolor\": \"white\", \"minorgridcolor\": \"white\", \"startlinecolor\": \"#2a3f5f\"}, \"baxis\": {\"endlinecolor\": \"#2a3f5f\", \"gridcolor\": \"white\", \"linecolor\": \"white\", \"minorgridcolor\": \"white\", \"startlinecolor\": \"#2a3f5f\"}, \"type\": \"carpet\"}], \"choropleth\": [{\"colorbar\": {\"outlinewidth\": 0, \"ticks\": \"\"}, \"type\": \"choropleth\"}], \"contour\": [{\"colorbar\": {\"outlinewidth\": 0, \"ticks\": \"\"}, \"colorscale\": [[0.0, \"#0d0887\"], [0.1111111111111111, \"#46039f\"], [0.2222222222222222, \"#7201a8\"], [0.3333333333333333, \"#9c179e\"], [0.4444444444444444, \"#bd3786\"], [0.5555555555555556, \"#d8576b\"], [0.6666666666666666, \"#ed7953\"], [0.7777777777777778, \"#fb9f3a\"], [0.8888888888888888, \"#fdca26\"], [1.0, \"#f0f921\"]], \"type\": \"contour\"}], \"contourcarpet\": [{\"colorbar\": {\"outlinewidth\": 0, \"ticks\": \"\"}, \"type\": \"contourcarpet\"}], \"heatmap\": [{\"colorbar\": {\"outlinewidth\": 0, \"ticks\": \"\"}, \"colorscale\": [[0.0, \"#0d0887\"], [0.1111111111111111, \"#46039f\"], [0.2222222222222222, \"#7201a8\"], [0.3333333333333333, \"#9c179e\"], [0.4444444444444444, \"#bd3786\"], [0.5555555555555556, \"#d8576b\"], [0.6666666666666666, \"#ed7953\"], [0.7777777777777778, \"#fb9f3a\"], [0.8888888888888888, \"#fdca26\"], [1.0, \"#f0f921\"]], \"type\": \"heatmap\"}], \"heatmapgl\": [{\"colorbar\": {\"outlinewidth\": 0, \"ticks\": \"\"}, \"colorscale\": [[0.0, \"#0d0887\"], [0.1111111111111111, \"#46039f\"], [0.2222222222222222, \"#7201a8\"], [0.3333333333333333, \"#9c179e\"], [0.4444444444444444, \"#bd3786\"], [0.5555555555555556, \"#d8576b\"], [0.6666666666666666, \"#ed7953\"], [0.7777777777777778, \"#fb9f3a\"], [0.8888888888888888, \"#fdca26\"], [1.0, \"#f0f921\"]], \"type\": \"heatmapgl\"}], \"histogram\": [{\"marker\": {\"colorbar\": {\"outlinewidth\": 0, \"ticks\": \"\"}}, \"type\": \"histogram\"}], \"histogram2d\": [{\"colorbar\": {\"outlinewidth\": 0, \"ticks\": \"\"}, \"colorscale\": [[0.0, \"#0d0887\"], [0.1111111111111111, \"#46039f\"], [0.2222222222222222, \"#7201a8\"], [0.3333333333333333, \"#9c179e\"], [0.4444444444444444, \"#bd3786\"], [0.5555555555555556, \"#d8576b\"], [0.6666666666666666, \"#ed7953\"], [0.7777777777777778, \"#fb9f3a\"], [0.8888888888888888, \"#fdca26\"], [1.0, \"#f0f921\"]], \"type\": \"histogram2d\"}], \"histogram2dcontour\": [{\"colorbar\": {\"outlinewidth\": 0, \"ticks\": \"\"}, \"colorscale\": [[0.0, \"#0d0887\"], [0.1111111111111111, \"#46039f\"], [0.2222222222222222, \"#7201a8\"], [0.3333333333333333, \"#9c179e\"], [0.4444444444444444, \"#bd3786\"], [0.5555555555555556, \"#d8576b\"], [0.6666666666666666, \"#ed7953\"], [0.7777777777777778, \"#fb9f3a\"], [0.8888888888888888, \"#fdca26\"], [1.0, \"#f0f921\"]], \"type\": \"histogram2dcontour\"}], \"mesh3d\": [{\"colorbar\": {\"outlinewidth\": 0, \"ticks\": \"\"}, \"type\": \"mesh3d\"}], \"parcoords\": [{\"line\": {\"colorbar\": {\"outlinewidth\": 0, \"ticks\": \"\"}}, \"type\": \"parcoords\"}], \"pie\": [{\"automargin\": true, \"type\": \"pie\"}], \"scatter\": [{\"marker\": {\"colorbar\": {\"outlinewidth\": 0, \"ticks\": \"\"}}, \"type\": \"scatter\"}], \"scatter3d\": [{\"line\": {\"colorbar\": {\"outlinewidth\": 0, \"ticks\": \"\"}}, \"marker\": {\"colorbar\": {\"outlinewidth\": 0, \"ticks\": \"\"}}, \"type\": \"scatter3d\"}], \"scattercarpet\": [{\"marker\": {\"colorbar\": {\"outlinewidth\": 0, \"ticks\": \"\"}}, \"type\": \"scattercarpet\"}], \"scattergeo\": [{\"marker\": {\"colorbar\": {\"outlinewidth\": 0, \"ticks\": \"\"}}, \"type\": \"scattergeo\"}], \"scattergl\": [{\"marker\": {\"colorbar\": {\"outlinewidth\": 0, \"ticks\": \"\"}}, \"type\": \"scattergl\"}], \"scattermapbox\": [{\"marker\": {\"colorbar\": {\"outlinewidth\": 0, \"ticks\": \"\"}}, \"type\": \"scattermapbox\"}], \"scatterpolar\": [{\"marker\": {\"colorbar\": {\"outlinewidth\": 0, \"ticks\": \"\"}}, \"type\": \"scatterpolar\"}], \"scatterpolargl\": [{\"marker\": {\"colorbar\": {\"outlinewidth\": 0, \"ticks\": \"\"}}, \"type\": \"scatterpolargl\"}], \"scatterternary\": [{\"marker\": {\"colorbar\": {\"outlinewidth\": 0, \"ticks\": \"\"}}, \"type\": \"scatterternary\"}], \"surface\": [{\"colorbar\": {\"outlinewidth\": 0, \"ticks\": \"\"}, \"colorscale\": [[0.0, \"#0d0887\"], [0.1111111111111111, \"#46039f\"], [0.2222222222222222, \"#7201a8\"], [0.3333333333333333, \"#9c179e\"], [0.4444444444444444, \"#bd3786\"], [0.5555555555555556, \"#d8576b\"], [0.6666666666666666, \"#ed7953\"], [0.7777777777777778, \"#fb9f3a\"], [0.8888888888888888, \"#fdca26\"], [1.0, \"#f0f921\"]], \"type\": \"surface\"}], \"table\": [{\"cells\": {\"fill\": {\"color\": \"#EBF0F8\"}, \"line\": {\"color\": \"white\"}}, \"header\": {\"fill\": {\"color\": \"#C8D4E3\"}, \"line\": {\"color\": \"white\"}}, \"type\": \"table\"}]}, \"layout\": {\"annotationdefaults\": {\"arrowcolor\": \"#2a3f5f\", \"arrowhead\": 0, \"arrowwidth\": 1}, \"coloraxis\": {\"colorbar\": {\"outlinewidth\": 0, \"ticks\": \"\"}}, \"colorscale\": {\"diverging\": [[0, \"#8e0152\"], [0.1, \"#c51b7d\"], [0.2, \"#de77ae\"], [0.3, \"#f1b6da\"], [0.4, \"#fde0ef\"], [0.5, \"#f7f7f7\"], [0.6, \"#e6f5d0\"], [0.7, \"#b8e186\"], [0.8, \"#7fbc41\"], [0.9, \"#4d9221\"], [1, \"#276419\"]], \"sequential\": [[0.0, \"#0d0887\"], [0.1111111111111111, \"#46039f\"], [0.2222222222222222, \"#7201a8\"], [0.3333333333333333, \"#9c179e\"], [0.4444444444444444, \"#bd3786\"], [0.5555555555555556, \"#d8576b\"], [0.6666666666666666, \"#ed7953\"], [0.7777777777777778, \"#fb9f3a\"], [0.8888888888888888, \"#fdca26\"], [1.0, \"#f0f921\"]], \"sequentialminus\": [[0.0, \"#0d0887\"], [0.1111111111111111, \"#46039f\"], [0.2222222222222222, \"#7201a8\"], [0.3333333333333333, \"#9c179e\"], [0.4444444444444444, \"#bd3786\"], [0.5555555555555556, \"#d8576b\"], [0.6666666666666666, \"#ed7953\"], [0.7777777777777778, \"#fb9f3a\"], [0.8888888888888888, \"#fdca26\"], [1.0, \"#f0f921\"]]}, \"colorway\": [\"#636efa\", \"#EF553B\", \"#00cc96\", \"#ab63fa\", \"#FFA15A\", \"#19d3f3\", \"#FF6692\", \"#B6E880\", \"#FF97FF\", \"#FECB52\"], \"font\": {\"color\": \"#2a3f5f\"}, \"geo\": {\"bgcolor\": \"white\", \"lakecolor\": \"white\", \"landcolor\": \"#E5ECF6\", \"showlakes\": true, \"showland\": true, \"subunitcolor\": \"white\"}, \"hoverlabel\": {\"align\": \"left\"}, \"hovermode\": \"closest\", \"mapbox\": {\"style\": \"light\"}, \"paper_bgcolor\": \"white\", \"plot_bgcolor\": \"#E5ECF6\", \"polar\": {\"angularaxis\": {\"gridcolor\": \"white\", \"linecolor\": \"white\", \"ticks\": \"\"}, \"bgcolor\": \"#E5ECF6\", \"radialaxis\": {\"gridcolor\": \"white\", \"linecolor\": \"white\", \"ticks\": \"\"}}, \"scene\": {\"xaxis\": {\"backgroundcolor\": \"#E5ECF6\", \"gridcolor\": \"white\", \"gridwidth\": 2, \"linecolor\": \"white\", \"showbackground\": true, \"ticks\": \"\", \"zerolinecolor\": \"white\"}, \"yaxis\": {\"backgroundcolor\": \"#E5ECF6\", \"gridcolor\": \"white\", \"gridwidth\": 2, \"linecolor\": \"white\", \"showbackground\": true, \"ticks\": \"\", \"zerolinecolor\": \"white\"}, \"zaxis\": {\"backgroundcolor\": \"#E5ECF6\", \"gridcolor\": \"white\", \"gridwidth\": 2, \"linecolor\": \"white\", \"showbackground\": true, \"ticks\": \"\", \"zerolinecolor\": \"white\"}}, \"shapedefaults\": {\"line\": {\"color\": \"#2a3f5f\"}}, \"ternary\": {\"aaxis\": {\"gridcolor\": \"white\", \"linecolor\": \"white\", \"ticks\": \"\"}, \"baxis\": {\"gridcolor\": \"white\", \"linecolor\": \"white\", \"ticks\": \"\"}, \"bgcolor\": \"#E5ECF6\", \"caxis\": {\"gridcolor\": \"white\", \"linecolor\": \"white\", \"ticks\": \"\"}}, \"title\": {\"x\": 0.05}, \"xaxis\": {\"automargin\": true, \"gridcolor\": \"white\", \"linecolor\": \"white\", \"ticks\": \"\", \"title\": {\"standoff\": 15}, \"zerolinecolor\": \"white\", \"zerolinewidth\": 2}, \"yaxis\": {\"automargin\": true, \"gridcolor\": \"white\", \"linecolor\": \"white\", \"ticks\": \"\", \"title\": {\"standoff\": 15}, \"zerolinecolor\": \"white\", \"zerolinewidth\": 2}}}, \"xaxis\": {\"anchor\": \"y\", \"domain\": [0.0, 1.0], \"title\": {\"text\": \"Level\"}}, \"yaxis\": {\"anchor\": \"x\", \"domain\": [0.0, 1.0], \"title\": {\"text\": \"count\"}}},\n",
              "                        {\"responsive\": true}\n",
              "                    ).then(function(){\n",
              "                            \n",
              "var gd = document.getElementById('e889fee5-9273-4321-830e-896a5988ed9b');\n",
              "var x = new MutationObserver(function (mutations, observer) {{\n",
              "        var display = window.getComputedStyle(gd).display;\n",
              "        if (!display || display === 'none') {{\n",
              "            console.log([gd, 'removed!']);\n",
              "            Plotly.purge(gd);\n",
              "            observer.disconnect();\n",
              "        }}\n",
              "}});\n",
              "\n",
              "// Listen for the removal of the full notebook cells\n",
              "var notebookContainer = gd.closest('#notebook-container');\n",
              "if (notebookContainer) {{\n",
              "    x.observe(notebookContainer, {childList: true});\n",
              "}}\n",
              "\n",
              "// Listen for the clearing of the current output cell\n",
              "var outputEl = gd.closest('.output');\n",
              "if (outputEl) {{\n",
              "    x.observe(outputEl, {childList: true});\n",
              "}}\n",
              "\n",
              "                        })\n",
              "                };\n",
              "                \n",
              "            </script>\n",
              "        </div>\n",
              "</body>\n",
              "</html>"
            ]
          },
          "metadata": {
            "tags": []
          }
        }
      ]
    },
    {
      "cell_type": "code",
      "metadata": {
        "colab": {
          "base_uri": "https://localhost:8080/",
          "height": 328
        },
        "id": "Ws6gfW33iDGH",
        "outputId": "17894e77-fb84-449f-d559-033f889e8ba9"
      },
      "source": [
        "power_farmed = df[ df[\"Level\"]==1]\n",
        "power_farmed.sort_values([\"Level\", \"Reborn\",\"Name\"], ascending = (True, True,True))\n"
      ],
      "execution_count": 56,
      "outputs": [
        {
          "output_type": "execute_result",
          "data": {
            "text/html": [
              "<div>\n",
              "<style scoped>\n",
              "    .dataframe tbody tr th:only-of-type {\n",
              "        vertical-align: middle;\n",
              "    }\n",
              "\n",
              "    .dataframe tbody tr th {\n",
              "        vertical-align: top;\n",
              "    }\n",
              "\n",
              "    .dataframe thead th {\n",
              "        text-align: right;\n",
              "    }\n",
              "</style>\n",
              "<table border=\"1\" class=\"dataframe\">\n",
              "  <thead>\n",
              "    <tr style=\"text-align: right;\">\n",
              "      <th></th>\n",
              "      <th>ID</th>\n",
              "      <th>Name</th>\n",
              "      <th>Level</th>\n",
              "      <th>Reborn</th>\n",
              "    </tr>\n",
              "  </thead>\n",
              "  <tbody>\n",
              "    <tr>\n",
              "      <th>66</th>\n",
              "      <td>128</td>\n",
              "      <td>Berserk</td>\n",
              "      <td>1</td>\n",
              "      <td>0</td>\n",
              "    </tr>\n",
              "    <tr>\n",
              "      <th>67</th>\n",
              "      <td>125</td>\n",
              "      <td>Follower</td>\n",
              "      <td>1</td>\n",
              "      <td>0</td>\n",
              "    </tr>\n",
              "    <tr>\n",
              "      <th>0</th>\n",
              "      <td>370</td>\n",
              "      <td>Pirate</td>\n",
              "      <td>1</td>\n",
              "      <td>0</td>\n",
              "    </tr>\n",
              "    <tr>\n",
              "      <th>78</th>\n",
              "      <td>85</td>\n",
              "      <td>Bowmaster</td>\n",
              "      <td>1</td>\n",
              "      <td>1</td>\n",
              "    </tr>\n",
              "    <tr>\n",
              "      <th>58</th>\n",
              "      <td>152</td>\n",
              "      <td>Ding Viesel</td>\n",
              "      <td>1</td>\n",
              "      <td>1</td>\n",
              "    </tr>\n",
              "    <tr>\n",
              "      <th>23</th>\n",
              "      <td>299</td>\n",
              "      <td>Gravekeeper</td>\n",
              "      <td>1</td>\n",
              "      <td>1</td>\n",
              "    </tr>\n",
              "    <tr>\n",
              "      <th>24</th>\n",
              "      <td>296</td>\n",
              "      <td>Junk Rat</td>\n",
              "      <td>1</td>\n",
              "      <td>1</td>\n",
              "    </tr>\n",
              "    <tr>\n",
              "      <th>69</th>\n",
              "      <td>117</td>\n",
              "      <td>Voltage Tower</td>\n",
              "      <td>1</td>\n",
              "      <td>1</td>\n",
              "    </tr>\n",
              "    <tr>\n",
              "      <th>84</th>\n",
              "      <td>77</td>\n",
              "      <td>Dark Tree</td>\n",
              "      <td>1</td>\n",
              "      <td>2</td>\n",
              "    </tr>\n",
              "  </tbody>\n",
              "</table>\n",
              "</div>"
            ],
            "text/plain": [
              "     ID           Name  Level Reborn\n",
              "66  128        Berserk      1      0\n",
              "67  125       Follower      1      0\n",
              "0   370         Pirate      1      0\n",
              "78   85      Bowmaster      1      1\n",
              "58  152    Ding Viesel      1      1\n",
              "23  299    Gravekeeper      1      1\n",
              "24  296       Junk Rat      1      1\n",
              "69  117  Voltage Tower      1      1\n",
              "84   77      Dark Tree      1      2"
            ]
          },
          "metadata": {
            "tags": []
          },
          "execution_count": 56
        }
      ]
    },
    {
      "cell_type": "code",
      "metadata": {
        "colab": {
          "base_uri": "https://localhost:8080/",
          "height": 419
        },
        "id": "WQzJV3RAikLp",
        "outputId": "26adf021-ba37-4baa-f48d-fb21cbc5a6d1"
      },
      "source": [
        "df"
      ],
      "execution_count": 57,
      "outputs": [
        {
          "output_type": "execute_result",
          "data": {
            "text/html": [
              "<div>\n",
              "<style scoped>\n",
              "    .dataframe tbody tr th:only-of-type {\n",
              "        vertical-align: middle;\n",
              "    }\n",
              "\n",
              "    .dataframe tbody tr th {\n",
              "        vertical-align: top;\n",
              "    }\n",
              "\n",
              "    .dataframe thead th {\n",
              "        text-align: right;\n",
              "    }\n",
              "</style>\n",
              "<table border=\"1\" class=\"dataframe\">\n",
              "  <thead>\n",
              "    <tr style=\"text-align: right;\">\n",
              "      <th></th>\n",
              "      <th>ID</th>\n",
              "      <th>Name</th>\n",
              "      <th>Level</th>\n",
              "      <th>Reborn</th>\n",
              "    </tr>\n",
              "  </thead>\n",
              "  <tbody>\n",
              "    <tr>\n",
              "      <th>0</th>\n",
              "      <td>370</td>\n",
              "      <td>Pirate</td>\n",
              "      <td>1</td>\n",
              "      <td>0</td>\n",
              "    </tr>\n",
              "    <tr>\n",
              "      <th>1</th>\n",
              "      <td>367</td>\n",
              "      <td>Owl</td>\n",
              "      <td>5</td>\n",
              "      <td>1</td>\n",
              "    </tr>\n",
              "    <tr>\n",
              "      <th>2</th>\n",
              "      <td>366</td>\n",
              "      <td>Splintered Soul</td>\n",
              "      <td>14</td>\n",
              "      <td>1</td>\n",
              "    </tr>\n",
              "    <tr>\n",
              "      <th>3</th>\n",
              "      <td>360</td>\n",
              "      <td>Frozen Moor Guard</td>\n",
              "      <td>8</td>\n",
              "      <td>1</td>\n",
              "    </tr>\n",
              "    <tr>\n",
              "      <th>4</th>\n",
              "      <td>357</td>\n",
              "      <td>Grim Harvester</td>\n",
              "      <td>8</td>\n",
              "      <td>1</td>\n",
              "    </tr>\n",
              "    <tr>\n",
              "      <th>...</th>\n",
              "      <td>...</td>\n",
              "      <td>...</td>\n",
              "      <td>...</td>\n",
              "      <td>...</td>\n",
              "    </tr>\n",
              "    <tr>\n",
              "      <th>96</th>\n",
              "      <td>12</td>\n",
              "      <td>Wood Spirit</td>\n",
              "      <td>12</td>\n",
              "      <td>1</td>\n",
              "    </tr>\n",
              "    <tr>\n",
              "      <th>97</th>\n",
              "      <td>11</td>\n",
              "      <td>Viking</td>\n",
              "      <td>10</td>\n",
              "      <td>1</td>\n",
              "    </tr>\n",
              "    <tr>\n",
              "      <th>98</th>\n",
              "      <td>9</td>\n",
              "      <td>Totem</td>\n",
              "      <td>10</td>\n",
              "      <td>1</td>\n",
              "    </tr>\n",
              "    <tr>\n",
              "      <th>99</th>\n",
              "      <td>6</td>\n",
              "      <td>Priestess</td>\n",
              "      <td>6</td>\n",
              "      <td>2</td>\n",
              "    </tr>\n",
              "    <tr>\n",
              "      <th>100</th>\n",
              "      <td>3</td>\n",
              "      <td>Prophet</td>\n",
              "      <td>11</td>\n",
              "      <td>1</td>\n",
              "    </tr>\n",
              "  </tbody>\n",
              "</table>\n",
              "<p>101 rows × 4 columns</p>\n",
              "</div>"
            ],
            "text/plain": [
              "      ID               Name  Level Reborn\n",
              "0    370             Pirate      1      0\n",
              "1    367                Owl      5      1\n",
              "2    366    Splintered Soul     14      1\n",
              "3    360  Frozen Moor Guard      8      1\n",
              "4    357     Grim Harvester      8      1\n",
              "..   ...                ...    ...    ...\n",
              "96    12        Wood Spirit     12      1\n",
              "97    11             Viking     10      1\n",
              "98     9              Totem     10      1\n",
              "99     6          Priestess      6      2\n",
              "100    3            Prophet     11      1\n",
              "\n",
              "[101 rows x 4 columns]"
            ]
          },
          "metadata": {
            "tags": []
          },
          "execution_count": 57
        }
      ]
    },
    {
      "cell_type": "code",
      "metadata": {
        "id": "UMDXqLVNbyHI",
        "outputId": "93b5bec3-6efc-418b-d574-a0aaf255b5e5",
        "colab": {
          "base_uri": "https://localhost:8080/"
        }
      },
      "source": [
        "level_1_rare_chests = rare_chest_levels[  rare_chest_levels[\"Level\"]==1].count()[0]\n",
        "rare_chests = rare_chest_levels.count()[0]\n",
        "level_1_percentage = level_1_rare_chests/rare_chests\n",
        "print( f\"Rare chest frequency: {level_1_percentage:.2%}\")"
      ],
      "execution_count": 58,
      "outputs": [
        {
          "output_type": "stream",
          "text": [
            "Rare chest frequency: 22.22%\n"
          ],
          "name": "stdout"
        }
      ]
    },
    {
      "cell_type": "code",
      "metadata": {
        "id": "cvMFxrBGcbbW",
        "outputId": "66195b64-f61a-4b86-b07d-4e568f2378bb",
        "colab": {
          "base_uri": "https://localhost:8080/"
        }
      },
      "source": [
        "level_1_rare_heros = rare_chest_levels[  rare_chest_levels[\"Level\"]==1].count()[0]\n",
        "rare_heros = rare_hero_levels.count()\n",
        "level_1_hero_percentage = level_1_rare_heros/rare_heros\n",
        "print( f\"Rare hero frequency: {level_1_hero_percentage:.2%}\")"
      ],
      "execution_count": 59,
      "outputs": [
        {
          "output_type": "stream",
          "text": [
            "Rare hero frequency: 5.94%\n"
          ],
          "name": "stdout"
        }
      ]
    },
    {
      "cell_type": "code",
      "metadata": {
        "id": "bXBf_Aloc1B9",
        "outputId": "b09c4d9e-fcb5-4441-9e74-f80a89a77857",
        "colab": {
          "base_uri": "https://localhost:8080/"
        }
      },
      "source": [
        "over_performance = level_1_percentage/level_1_hero_percentage\n",
        "print( f\"Level 1 Overperforming by: {over_performance:.2} times\")"
      ],
      "execution_count": 60,
      "outputs": [
        {
          "output_type": "stream",
          "text": [
            "Level 1 Overperforming by: 3.7 times\n"
          ],
          "name": "stdout"
        }
      ]
    },
    {
      "cell_type": "code",
      "metadata": {
        "id": "i7nORB22dF5-",
        "outputId": "50cf8118-5a5e-4875-869a-eaa2caaf3cb8",
        "colab": {
          "base_uri": "https://localhost:8080/"
        }
      },
      "source": [
        "confidence = rare_chests/rare_heros\n",
        "print( f\"Confidence: {confidence:.2%}\")"
      ],
      "execution_count": 61,
      "outputs": [
        {
          "output_type": "stream",
          "text": [
            "Confidence: 26.73%\n"
          ],
          "name": "stdout"
        }
      ]
    }
  ]
}